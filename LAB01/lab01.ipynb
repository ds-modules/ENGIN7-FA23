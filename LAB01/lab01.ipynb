{
 "cells": [
  {
   "cell_type": "code",
   "execution_count": 60,
   "metadata": {
    "deletable": false,
    "editable": false
   },
   "outputs": [],
   "source": [
    "# Initialize Otter\n",
    "import otter\n",
    "grader = otter.Notebook(\"lab01.ipynb\")"
   ]
  },
  {
   "cell_type": "markdown",
   "metadata": {},
   "source": [
    "# E7: Lab Assignment 01\n",
    "##  Due Date: Friday, 1 January 11:59PM\n",
    "You must submit the lab to Gradescope by the due date. You will submit the zip file produced by running the final cell of the assignment.\n",
    "\n",
    "## Autograder\n",
    "For each question, you will have to fill in one or more Python functions. We provide an autograder with a number of test cases that you can use to test your function. Note that the fact that your function works for all test cases thus provided does necessarily guarantee that it will work for all possible test cases relevant to the question. It is your responsibility to test your function thoroughly, to ensure that it will also work in situations not covered by the test cases provided.\n",
    "\n",
    "Run the first cell called \"Initialize Otter\" to import the autograder and submission exporter.\n",
    "\n",
    "## Answer cells\n",
    "Throughout the assignment, replace `...` with your answers. `...` is just a placeholder.\n",
    "\n",
    "You answers must be in the cells marked `# ANSWER CELL`, including your final calculation/code. However, do not perform scratchwork in `# ANSWER CELL`. Add a new cell to perform your scratchwork. Your scratchwork will not be graded and does not need to be included in your submission unless otherwise noted.\n",
    "\n",
    "If you want to read documentation on a Python function, you can type `help()` or `help(function)`."
   ]
  },
  {
   "cell_type": "code",
   "execution_count": 61,
   "metadata": {
    "tags": []
   },
   "outputs": [],
   "source": [
    "# Please run this cell, and do not modify the contents\n",
    "import math\n",
    "import numpy as np\n",
    "import cmath\n",
    "import re\n",
    "import matplotlib.pyplot as plt\n",
    "import matplotlib.image as mpimg\n",
    "import hashlib\n",
    "import ipywidgets as widgets\n",
    "from ipywidgets import FileUpload\n",
    "from IPython.display import display\n",
    "from PIL import Image\n",
    "import os\n",
    "import resources\n",
    "from resources.utils import *\n",
    "\n",
    "def get_hash(num):\n",
    "    \"\"\"Helper function for assessing correctness\"\"\"\n",
    "    return hashlib.md5(str(num).encode()).hexdigest()"
   ]
  },
  {
   "cell_type": "markdown",
   "metadata": {},
   "source": [
    "## Question 1: Using Python as a calculator\n",
    "\n",
    "In this question, we will be exploring how we can use Python as a calculator. "
   ]
  },
  {
   "cell_type": "markdown",
   "metadata": {},
   "source": [
    "**Question 1.0:** Define variables $a = 3, b = -6, c = 4$, and $x = 2$\n",
    "\n",
    "\n"
   ]
  },
  {
   "cell_type": "code",
   "execution_count": 62,
   "metadata": {
    "tags": []
   },
   "outputs": [
    {
     "name": "stdout",
     "output_type": "stream",
     "text": [
      "3 -6 4 2\n"
     ]
    }
   ],
   "source": [
    "# ANSWER CELL\n",
    "a = 3\n",
    "b = -6\n",
    "c = 4\n",
    "x = 2\n",
    "print(a,b,c,x)"
   ]
  },
  {
   "cell_type": "code",
   "execution_count": 63,
   "metadata": {
    "deletable": false,
    "editable": false
   },
   "outputs": [
    {
     "data": {
      "text/html": [
       "<p><strong><pre style='display: inline;'>q1.0</pre></strong> passed! 🙌</p>"
      ],
      "text/plain": [
       "q1.0 results: All test cases passed!"
      ]
     },
     "execution_count": 63,
     "metadata": {},
     "output_type": "execute_result"
    }
   ],
   "source": [
    "grader.check(\"q1.0\")"
   ]
  },
  {
   "cell_type": "markdown",
   "metadata": {},
   "source": [
    "For each of the following mathematical expressions, construct a one-line Python expression that computes the value and assigns it to the provided variable. Your Python expressions should give appropriate values regardless of the values of $a, b, c$, and $x$ (i.e. you should use the variable names instead of their numerical values)."
   ]
  },
  {
   "cell_type": "markdown",
   "metadata": {},
   "source": [
    "**Question 1.1:** $$\\sqrt{a^2+b^2+c^2}$$\n",
    "\n",
    "*Hint:* Take a look at `math`'s `sqrt` function [here](https://docs.python.org/3/library/math.html#power-and-logarithmic-functions)."
   ]
  },
  {
   "cell_type": "code",
   "execution_count": 64,
   "metadata": {
    "tags": []
   },
   "outputs": [
    {
     "data": {
      "text/plain": [
       "7.810249675906654"
      ]
     },
     "execution_count": 64,
     "metadata": {},
     "output_type": "execute_result"
    }
   ],
   "source": [
    "# ANSWER CELL\n",
    "q1_1 = math.sqrt(a**2 + b**2 + c**2)\n",
    "q1_1"
   ]
  },
  {
   "cell_type": "code",
   "execution_count": 65,
   "metadata": {
    "deletable": false,
    "editable": false
   },
   "outputs": [
    {
     "data": {
      "text/html": [
       "<p><strong><pre style='display: inline;'>q1.1</pre></strong> passed! 🌟</p>"
      ],
      "text/plain": [
       "q1.1 results: All test cases passed!"
      ]
     },
     "execution_count": 65,
     "metadata": {},
     "output_type": "execute_result"
    }
   ],
   "source": [
    "grader.check(\"q1.1\")"
   ]
  },
  {
   "cell_type": "markdown",
   "metadata": {},
   "source": [
    "**Question 1.2:** $$\\frac{-b-\\sqrt{b^2-4ac}}{2a}$$\n",
    "\n",
    "*Hint:* Take a look at `cmath`'s `sqrt` function that supports complex numbers [here](https://docs.python.org/3/library/cmath.html)."
   ]
  },
  {
   "cell_type": "code",
   "execution_count": 66,
   "metadata": {
    "tags": []
   },
   "outputs": [
    {
     "data": {
      "text/plain": [
       "(1-0.5773502691896257j)"
      ]
     },
     "execution_count": 66,
     "metadata": {},
     "output_type": "execute_result"
    }
   ],
   "source": [
    "# ANSWER CELL\n",
    "q1_2 = (-b-cmath.sqrt(b**2-4*a*c))/(2*a)\n",
    "q1_2"
   ]
  },
  {
   "cell_type": "code",
   "execution_count": 67,
   "metadata": {
    "deletable": false,
    "editable": false
   },
   "outputs": [
    {
     "data": {
      "text/html": [
       "<p><strong><pre style='display: inline;'>q1.2</pre></strong> passed! 🎉</p>"
      ],
      "text/plain": [
       "q1.2 results: All test cases passed!"
      ]
     },
     "execution_count": 67,
     "metadata": {},
     "output_type": "execute_result"
    }
   ],
   "source": [
    "grader.check(\"q1.2\")"
   ]
  },
  {
   "cell_type": "markdown",
   "metadata": {},
   "source": [
    "**Question 1.3:** $$\\log_{10} \\left(3 \\left|x\\right|+\\frac{c}{5}\\right)$$\n",
    "\n",
    "*Hint:* Take a look at `math`'s logarithmic documentation [here](https://docs.python.org/3/library/math.html#power-and-logarithmic-functions)."
   ]
  },
  {
   "cell_type": "code",
   "execution_count": 68,
   "metadata": {
    "tags": []
   },
   "outputs": [
    {
     "data": {
      "text/plain": [
       "0.8325089127062363"
      ]
     },
     "execution_count": 68,
     "metadata": {},
     "output_type": "execute_result"
    }
   ],
   "source": [
    "# ANSWER CELL\n",
    "q1_3 = math.log(3*abs(x)+c/5,10)\n",
    "q1_3"
   ]
  },
  {
   "cell_type": "code",
   "execution_count": 69,
   "metadata": {
    "deletable": false,
    "editable": false
   },
   "outputs": [
    {
     "data": {
      "text/html": [
       "<p><strong><pre style='display: inline;'>q1.3</pre></strong> passed! 🎉</p>"
      ],
      "text/plain": [
       "q1.3 results: All test cases passed!"
      ]
     },
     "execution_count": 69,
     "metadata": {},
     "output_type": "execute_result"
    }
   ],
   "source": [
    "grader.check(\"q1.3\")"
   ]
  },
  {
   "cell_type": "markdown",
   "metadata": {},
   "source": [
    "**Question 1.4:** $$\\left(ax+\\frac{ab}{c}\\right)^{1/3}$$\n",
    "\n",
    "*Hint:* Take a look at `math`'s `pow` documentation [here](https://docs.python.org/3/library/math.html#power-and-logarithmic-functions) or use a built-in function."
   ]
  },
  {
   "cell_type": "code",
   "execution_count": 70,
   "metadata": {
    "tags": []
   },
   "outputs": [
    {
     "data": {
      "text/plain": [
       "1.1447142425533319"
      ]
     },
     "execution_count": 70,
     "metadata": {},
     "output_type": "execute_result"
    }
   ],
   "source": [
    "# ANSWER CELL\n",
    "q1_4 = (a*x +a*b/c)**(1/3)\n",
    "q1_4"
   ]
  },
  {
   "cell_type": "code",
   "execution_count": 71,
   "metadata": {
    "deletable": false,
    "editable": false
   },
   "outputs": [
    {
     "data": {
      "text/html": [
       "<p><strong><pre style='display: inline;'>q1.4</pre></strong> passed! 🎉</p>"
      ],
      "text/plain": [
       "q1.4 results: All test cases passed!"
      ]
     },
     "execution_count": 71,
     "metadata": {},
     "output_type": "execute_result"
    }
   ],
   "source": [
    "grader.check(\"q1.4\")"
   ]
  },
  {
   "cell_type": "markdown",
   "metadata": {},
   "source": [
    "**Question 1.5:** $$\\left(cos\\left(\\frac{\\sqrt{a}}{3}\\pi\\right)\\right)^2+\\cos\\left(\\left(\\frac{\\sqrt{a}}{3}\\pi\\right)^2\\right)$$\n",
    "\n",
    "*Hint:* Take a look at the `math` modules's helpful functions and constants [here](https://docs.python.org/3/library/math.html)."
   ]
  },
  {
   "cell_type": "code",
   "execution_count": 72,
   "metadata": {
    "tags": []
   },
   "outputs": [
    {
     "data": {
      "text/plain": [
       "-0.931130047024219"
      ]
     },
     "execution_count": 72,
     "metadata": {},
     "output_type": "execute_result"
    }
   ],
   "source": [
    "# ANSWER CELL\n",
    "q1_5 = (math.cos(a**0.5*math.pi/3))**2 + math.cos((math.sqrt(a)*math.pi/3)**2)\n",
    "q1_5"
   ]
  },
  {
   "cell_type": "code",
   "execution_count": 73,
   "metadata": {
    "deletable": false,
    "editable": false
   },
   "outputs": [
    {
     "data": {
      "text/html": [
       "<p><strong><pre style='display: inline;'>q1.5</pre></strong> passed! 🌈</p>"
      ],
      "text/plain": [
       "q1.5 results: All test cases passed!"
      ]
     },
     "execution_count": 73,
     "metadata": {},
     "output_type": "execute_result"
    }
   ],
   "source": [
    "grader.check(\"q1.5\")"
   ]
  },
  {
   "cell_type": "markdown",
   "metadata": {},
   "source": [
    "**Question 1.6:** $$i+e^{\\pi\\sqrt{-1}}$$\n",
    "\n",
    "*Hint:* Since we're dealing with complex numbers, the `cmath` module has some helpful functions. Check them out [here](https://docs.python.org/3/library/math.html).\n",
    "\n",
    "Also, in Python you use the letter `j` to represent $\\sqrt{-1}$."
   ]
  },
  {
   "cell_type": "code",
   "execution_count": 74,
   "metadata": {
    "tags": []
   },
   "outputs": [
    {
     "data": {
      "text/plain": [
       "(-1+1.0000000000000002j)"
      ]
     },
     "execution_count": 74,
     "metadata": {},
     "output_type": "execute_result"
    }
   ],
   "source": [
    "# ANSWER CELL\n",
    "q1_6 = complex(0,1) + np.exp(math.pi*1j)\n",
    "q1_6"
   ]
  },
  {
   "cell_type": "code",
   "execution_count": 75,
   "metadata": {
    "deletable": false,
    "editable": false
   },
   "outputs": [
    {
     "data": {
      "text/html": [
       "<p><strong><pre style='display: inline;'>q1.6</pre></strong> passed! 🚀</p>"
      ],
      "text/plain": [
       "q1.6 results: All test cases passed!"
      ]
     },
     "execution_count": 75,
     "metadata": {},
     "output_type": "execute_result"
    }
   ],
   "source": [
    "grader.check(\"q1.6\")"
   ]
  },
  {
   "cell_type": "markdown",
   "metadata": {},
   "source": [
    "**Question 1.7:** $$\\arccos(\\cos(\\ln(x)))$$\n",
    "\n",
    "*Hint:* Python and Python packages have specific naming conventions for functions that may not match with typical handwritten conventions."
   ]
  },
  {
   "cell_type": "code",
   "execution_count": 76,
   "metadata": {
    "tags": []
   },
   "outputs": [
    {
     "data": {
      "text/plain": [
       "0.6931471805599454"
      ]
     },
     "execution_count": 76,
     "metadata": {},
     "output_type": "execute_result"
    }
   ],
   "source": [
    "# ANSWER CELL\n",
    "q1_7 = math.acos(math.cos(np.log(x)))\n",
    "q1_7"
   ]
  },
  {
   "cell_type": "code",
   "execution_count": 77,
   "metadata": {
    "deletable": false,
    "editable": false
   },
   "outputs": [
    {
     "data": {
      "text/html": [
       "<p><strong><pre style='display: inline;'>q1.7</pre></strong> passed! ✨</p>"
      ],
      "text/plain": [
       "q1.7 results: All test cases passed!"
      ]
     },
     "execution_count": 77,
     "metadata": {},
     "output_type": "execute_result"
    }
   ],
   "source": [
    "grader.check(\"q1.7\")"
   ]
  },
  {
   "cell_type": "markdown",
   "metadata": {},
   "source": [
    "**Question 1.8:** $$\\frac{a+2c}{\\sin\\left(\\dfrac{b+2c}{\\sqrt{a^2+b^2+c^2}}\\right)}$$"
   ]
  },
  {
   "cell_type": "code",
   "execution_count": 78,
   "metadata": {
    "tags": []
   },
   "outputs": [
    {
     "data": {
      "text/plain": [
       "43.42945834082076"
      ]
     },
     "execution_count": 78,
     "metadata": {},
     "output_type": "execute_result"
    }
   ],
   "source": [
    "# ANSWER CELL\n",
    "q1_8 = (a+2*c)/(math.sin((b+2*c)/math.sqrt(a**2+b**2+c**2)))\n",
    "q1_8"
   ]
  },
  {
   "cell_type": "code",
   "execution_count": 79,
   "metadata": {
    "deletable": false,
    "editable": false
   },
   "outputs": [
    {
     "data": {
      "text/html": [
       "<p><strong><pre style='display: inline;'>q1.8</pre></strong> passed! ✨</p>"
      ],
      "text/plain": [
       "q1.8 results: All test cases passed!"
      ]
     },
     "execution_count": 79,
     "metadata": {},
     "output_type": "execute_result"
    }
   ],
   "source": [
    "grader.check(\"q1.8\")"
   ]
  },
  {
   "cell_type": "markdown",
   "metadata": {},
   "source": [
    "## Question 2: Carbon Emissions Data Entry"
   ]
  },
  {
   "cell_type": "markdown",
   "metadata": {},
   "source": [
    "In this question you will look at the 2021 carbon dioxide emissions of China and Qatar. The table below shows the 2021 emissions of carbon dioxide in megatonnes of CO$_2$ and population in millions of people.\n",
    "\n",
    "| Country | Population (millions) | CO$_2$ Emissions (MtCO$_2$) |\n",
    "|---------|-----------------------|-----------------------------|\n",
    "| China   | 1412                  | 11472                       |\n",
    "| Qatar   |  2.7                  | 96                          |\n",
    "| USA     |  332                  | 5007                        |"
   ]
  },
  {
   "cell_type": "markdown",
   "metadata": {},
   "source": [
    "**Question 2.0:**  You will store the population and emissions of each country as separate variables. Since you are comparing three countries, you will have a total of six variables. In the variable names, `pop` is an abbreviation of population. Which naming convention is most appropriate to name our variables?\n",
    "\n",
    "A. pop-China, CO2-China, pop-Qatar, CO2-Qatar, pop-USA, CO2-USA \\\n",
    "B. China_pop , China_CO2 , Qatar_pop, Qatar_CO2, USA_pop, USA_CO2 \\\n",
    "C. China_pop , CO2_China , QatarPop , CO2emissionQatar, UnitedStates_pop, UnitedStates_CO2\n",
    "\n",
    "Answer in the following cell. Your answer should be a string `\"A\"`, `\"B\"`, or `\"C\"`, not the full list of variable names. \\\n",
    "Do not forget the quotes around your answer choice."
   ]
  },
  {
   "cell_type": "code",
   "execution_count": 80,
   "metadata": {
    "tags": []
   },
   "outputs": [
    {
     "data": {
      "text/plain": [
       "'B'"
      ]
     },
     "execution_count": 80,
     "metadata": {},
     "output_type": "execute_result"
    }
   ],
   "source": [
    "# ANSWER CELL\n",
    "q2_0 = \"B\"\n",
    "q2_0"
   ]
  },
  {
   "cell_type": "code",
   "execution_count": 81,
   "metadata": {
    "deletable": false,
    "editable": false
   },
   "outputs": [
    {
     "data": {
      "text/html": [
       "<p><strong><pre style='display: inline;'>q2.0</pre></strong> passed! 🌈</p>"
      ],
      "text/plain": [
       "q2.0 results: All test cases passed!"
      ]
     },
     "execution_count": 81,
     "metadata": {},
     "output_type": "execute_result"
    }
   ],
   "source": [
    "grader.check(\"q2.0\")"
   ]
  },
  {
   "cell_type": "markdown",
   "metadata": {},
   "source": [
    "**Question 2.1:** Create the six population and emission variables using the naming convention from q2_0 and the values from the table below. If the tabular value does not contain a decimal, do not include a decimal in the variable assignment.\n",
    "\n",
    "| Country | Population (millions) | CO$_2$ Emissions (MtCO$_2$)|\n",
    "|---------|-----------------------|---------------------------|\n",
    "| China   | 1412                  | 11472                     |\n",
    "| Qatar   |  2.7                  | 96                        |\n",
    "| USA     | 332                   | 5007                      |\n",
    "\n",
    "*Note:* In the future, we will not store individual values to individual variables like we do here. There are much more useful and efficient ways to store data. But this is just the first lab."
   ]
  },
  {
   "cell_type": "code",
   "execution_count": 82,
   "metadata": {
    "tags": []
   },
   "outputs": [],
   "source": [
    "# ANSWER CELL\n",
    "China_pop = 1412\n",
    "China_CO2 = 11472\n",
    "Qatar_pop = 2.7\n",
    "Qatar_CO2 = 96\n",
    "USA_pop = 332\n",
    "USA_CO2 = 5007"
   ]
  },
  {
   "cell_type": "code",
   "execution_count": 83,
   "metadata": {
    "deletable": false,
    "editable": false
   },
   "outputs": [
    {
     "data": {
      "text/html": [
       "<p><strong><pre style='display: inline;'>q2.1</pre></strong> passed! 🚀</p>"
      ],
      "text/plain": [
       "q2.1 results: All test cases passed!"
      ]
     },
     "execution_count": 83,
     "metadata": {},
     "output_type": "execute_result"
    }
   ],
   "source": [
    "grader.check(\"q2.1\")"
   ]
  },
  {
   "cell_type": "markdown",
   "metadata": {},
   "source": [
    "**Question 2.2:** What is the data type of `Qatar_CO2`? Assign the data type to `q2_2`. Use a function to determine the data type. Do not just type the answer."
   ]
  },
  {
   "cell_type": "code",
   "execution_count": 84,
   "metadata": {
    "tags": []
   },
   "outputs": [
    {
     "data": {
      "text/plain": [
       "int"
      ]
     },
     "execution_count": 84,
     "metadata": {},
     "output_type": "execute_result"
    }
   ],
   "source": [
    "# ANSWER CELL\n",
    "q2_2 = type(Qatar_CO2)\n",
    "q2_2"
   ]
  },
  {
   "cell_type": "code",
   "execution_count": 85,
   "metadata": {
    "deletable": false,
    "editable": false
   },
   "outputs": [
    {
     "data": {
      "text/html": [
       "<p><strong><pre style='display: inline;'>q2.2</pre></strong> passed! 💯</p>"
      ],
      "text/plain": [
       "q2.2 results: All test cases passed!"
      ]
     },
     "execution_count": 85,
     "metadata": {},
     "output_type": "execute_result"
    }
   ],
   "source": [
    "grader.check(\"q2.2\")"
   ]
  },
  {
   "cell_type": "markdown",
   "metadata": {},
   "source": [
    "**Question 2.3:** What is the value of `Qatar_pop` if it is converted to an integer? Assign the new integer value to `q2_3`. Do not overwrite the data type of `Qatar_pop` to integer; only `q2_3` should be an integer."
   ]
  },
  {
   "cell_type": "code",
   "execution_count": 86,
   "metadata": {
    "tags": []
   },
   "outputs": [
    {
     "data": {
      "text/plain": [
       "2"
      ]
     },
     "execution_count": 86,
     "metadata": {},
     "output_type": "execute_result"
    }
   ],
   "source": [
    "# ANSWER CELL\n",
    "q2_3 = int(Qatar_pop)\n",
    "q2_3"
   ]
  },
  {
   "cell_type": "code",
   "execution_count": 87,
   "metadata": {
    "deletable": false,
    "editable": false
   },
   "outputs": [
    {
     "data": {
      "text/html": [
       "<p><strong><pre style='display: inline;'>q2.3</pre></strong> passed! 🚀</p>"
      ],
      "text/plain": [
       "q2.3 results: All test cases passed!"
      ]
     },
     "execution_count": 87,
     "metadata": {},
     "output_type": "execute_result"
    }
   ],
   "source": [
    "grader.check(\"q2.3\")"
   ]
  },
  {
   "cell_type": "markdown",
   "metadata": {},
   "source": [
    "**Question 2.4:** What is the value of `Qatar_pCO2` if it is converted to a float? Assign the new integer value to `q2_4`. Do not overwrite the data type of `Qatar_CO2` to float; only `q2_4` should be a float."
   ]
  },
  {
   "cell_type": "code",
   "execution_count": 88,
   "metadata": {
    "tags": []
   },
   "outputs": [
    {
     "data": {
      "text/plain": [
       "96.0"
      ]
     },
     "execution_count": 88,
     "metadata": {},
     "output_type": "execute_result"
    }
   ],
   "source": [
    "# ANSWER CELL\n",
    "q2_4 = float(Qatar_CO2)\n",
    "q2_4"
   ]
  },
  {
   "cell_type": "code",
   "execution_count": 89,
   "metadata": {
    "deletable": false,
    "editable": false
   },
   "outputs": [
    {
     "data": {
      "text/html": [
       "<p><strong><pre style='display: inline;'>q2.4</pre></strong> passed! 🌈</p>"
      ],
      "text/plain": [
       "q2.4 results: All test cases passed!"
      ]
     },
     "execution_count": 89,
     "metadata": {},
     "output_type": "execute_result"
    }
   ],
   "source": [
    "grader.check(\"q2.4\")"
   ]
  },
  {
   "cell_type": "markdown",
   "metadata": {},
   "source": [
    "## Question 3: Carbon Dioxide Analysis"
   ]
  },
  {
   "cell_type": "markdown",
   "metadata": {},
   "source": [
    "Using the six variables defined in Question 2, **construct logical expressions** to answer the following true/false questions.\n",
    "\n",
    "Your answers should be a logical expression, and the outputs should be boolean values."
   ]
  },
  {
   "cell_type": "markdown",
   "metadata": {},
   "source": [
    "**Question 3.0:** Create three variables of per capita emissions for each country: `USA_per_capita`, `China_per_capita`, `Qatar_per_capita`.\n",
    "\n",
    "$$\\text{per capita emissions } \\big[\\frac{\\text{tonne CO$_2$}}{\\text{person}}\\big] = \\frac{\\text{CO$_2$ emissions [MtCO$_2$]}}{\\text{population [millions]}}$$\n",
    "\n",
    "Do not perform any unit conversions. A megatonne is 10$^6$ tonnes and cancels out with millions (10$^6$) of people."
   ]
  },
  {
   "cell_type": "code",
   "execution_count": 90,
   "metadata": {
    "tags": []
   },
   "outputs": [],
   "source": [
    "# ANSWER CELL\n",
    "USA_per_capita = USA_CO2/USA_pop\n",
    "China_per_capita = China_CO2/China_pop\n",
    "Qatar_per_capita = Qatar_CO2/Qatar_pop"
   ]
  },
  {
   "cell_type": "code",
   "execution_count": 91,
   "metadata": {
    "deletable": false,
    "editable": false
   },
   "outputs": [
    {
     "data": {
      "text/html": [
       "<p><strong><pre style='display: inline;'>q3.0</pre></strong> passed! 🎉</p>"
      ],
      "text/plain": [
       "q3.0 results: All test cases passed!"
      ]
     },
     "execution_count": 91,
     "metadata": {},
     "output_type": "execute_result"
    }
   ],
   "source": [
    "grader.check(\"q3.0\")"
   ]
  },
  {
   "cell_type": "markdown",
   "metadata": {},
   "source": [
    "**Question 3.1:** Did the USA emit more carbon dioxide per capita than China in 2021?"
   ]
  },
  {
   "cell_type": "code",
   "execution_count": 92,
   "metadata": {
    "tags": []
   },
   "outputs": [
    {
     "data": {
      "text/plain": [
       "True"
      ]
     },
     "execution_count": 92,
     "metadata": {},
     "output_type": "execute_result"
    }
   ],
   "source": [
    "# ANSWER CELL\n",
    "q3_1 = USA_per_capita > China_per_capita\n",
    "q3_1"
   ]
  },
  {
   "cell_type": "code",
   "execution_count": 93,
   "metadata": {
    "deletable": false,
    "editable": false
   },
   "outputs": [
    {
     "data": {
      "text/html": [
       "<p><strong><pre style='display: inline;'>q3.1</pre></strong> passed! 💯</p>"
      ],
      "text/plain": [
       "q3.1 results: All test cases passed!"
      ]
     },
     "execution_count": 93,
     "metadata": {},
     "output_type": "execute_result"
    }
   ],
   "source": [
    "grader.check(\"q3.1\")"
   ]
  },
  {
   "cell_type": "markdown",
   "metadata": {},
   "source": [
    "**Question 3.2:** Did the USA emit more carbon dioxide per capita than either China or Qatar emitted in 2021?\n",
    "\n",
    "You should answer this by combining two logical expressions. The first expression, `q3_2a`, should compare China and the USA, and the second expression, `q3_2b`, should compare Qatar and the USA. The final answer should be stored in `q3_2c`."
   ]
  },
  {
   "cell_type": "code",
   "execution_count": 94,
   "metadata": {
    "tags": []
   },
   "outputs": [
    {
     "data": {
      "text/plain": [
       "True"
      ]
     },
     "execution_count": 94,
     "metadata": {},
     "output_type": "execute_result"
    }
   ],
   "source": [
    "# ANSWER CELL\n",
    "q3_2a = USA_per_capita > China_per_capita\n",
    "q3_2b = USA_per_capita > Qatar_per_capita\n",
    "q3_2c = q3_2a or q3_2b\n",
    "q3_2c"
   ]
  },
  {
   "cell_type": "code",
   "execution_count": 95,
   "metadata": {
    "deletable": false,
    "editable": false
   },
   "outputs": [
    {
     "data": {
      "text/html": [
       "<p><strong><pre style='display: inline;'>q3.2</pre></strong> passed! 🌈</p>"
      ],
      "text/plain": [
       "q3.2 results: All test cases passed!"
      ]
     },
     "execution_count": 95,
     "metadata": {},
     "output_type": "execute_result"
    }
   ],
   "source": [
    "grader.check(\"q3.2\")"
   ]
  },
  {
   "cell_type": "markdown",
   "metadata": {},
   "source": [
    "**Question 3.3:** For comparison, in 2021, the global average emissions per capita value was 4.7 tonnes CO$_2$. Do China, Qatar, and the USA all have per capita emissions higher than the global average?\n",
    "\n",
    "You should answer this by combining three logical expressions. The first expression, `q3_3a`, should compare China and the global average, the second expression, `q3_3b`, should compare Qatar and the global average, and the third expression `q3_3c`, should compare the USA and the global average. The final answer, if all three counries have above average emisions, should be stored in `q3_3d`."
   ]
  },
  {
   "cell_type": "code",
   "execution_count": 96,
   "metadata": {
    "tags": []
   },
   "outputs": [
    {
     "data": {
      "text/plain": [
       "True"
      ]
     },
     "execution_count": 96,
     "metadata": {},
     "output_type": "execute_result"
    }
   ],
   "source": [
    "# ANSWER CELL\n",
    "q3_3a = China_per_capita > 4.7\n",
    "q3_3b = Qatar_per_capita > 4.7\n",
    "q3_3c = USA_per_capita > 4.7\n",
    "q3_3d = q3_3a and q3_3b and q3_3c\n",
    "q3_3d"
   ]
  },
  {
   "cell_type": "code",
   "execution_count": 97,
   "metadata": {
    "deletable": false,
    "editable": false
   },
   "outputs": [
    {
     "data": {
      "text/html": [
       "<p><strong><pre style='display: inline;'>q3.3</pre></strong> passed! 🚀</p>"
      ],
      "text/plain": [
       "q3.3 results: All test cases passed!"
      ]
     },
     "execution_count": 97,
     "metadata": {},
     "output_type": "execute_result"
    }
   ],
   "source": [
    "grader.check(\"q3.3\")"
   ]
  },
  {
   "cell_type": "markdown",
   "metadata": {},
   "source": [
    "**Question 3.4:** In 2021, 7.5% of China's CO$_2$ emissions were due to cement production, while 1.7% of Qatar's CO$_2$ emissions were due to cement production. Do China and Qatar have equal per capita CO$_2$ emissions due to cement production?\n",
    "\n",
    "Calculate China's per capita CO$_2$ emissions due to cement production in `q3_4a`. \\\n",
    "Calculate Qatar's per capita CO$_2$ emissions due to cement production in `q3_4b`. \\\n",
    "Provide the final answer in `q3_4c`."
   ]
  },
  {
   "cell_type": "code",
   "execution_count": 98,
   "metadata": {
    "tags": []
   },
   "outputs": [
    {
     "data": {
      "text/plain": [
       "False"
      ]
     },
     "execution_count": 98,
     "metadata": {},
     "output_type": "execute_result"
    }
   ],
   "source": [
    "# ANSWER CELL\n",
    "q3_4a = China_per_capita * 0.075\n",
    "q3_4b = Qatar_per_capita * 0.017\n",
    "q3_4c = q3_4a == q3_4b\n",
    "q3_4c"
   ]
  },
  {
   "cell_type": "code",
   "execution_count": 99,
   "metadata": {
    "deletable": false,
    "editable": false
   },
   "outputs": [
    {
     "data": {
      "text/html": [
       "<p><strong><pre style='display: inline;'>q3.4</pre></strong> passed! 🎉</p>"
      ],
      "text/plain": [
       "q3.4 results: All test cases passed!"
      ]
     },
     "execution_count": 99,
     "metadata": {},
     "output_type": "execute_result"
    }
   ],
   "source": [
    "grader.check(\"q3.4\")"
   ]
  },
  {
   "cell_type": "markdown",
   "metadata": {},
   "source": [
    "**Question 3.5:** In 2021, 15% of China's CO$_2$ emissions were due to oil, while 45% of the USA's CO$_2$ emissions were due to oil. Does China have higher per capita CO$_2$ emissions due to oil than the USA?"
   ]
  },
  {
   "cell_type": "code",
   "execution_count": 100,
   "metadata": {
    "tags": []
   },
   "outputs": [
    {
     "data": {
      "text/plain": [
       "False"
      ]
     },
     "execution_count": 100,
     "metadata": {},
     "output_type": "execute_result"
    }
   ],
   "source": [
    "# ANSWER CELL\n",
    "q3_5 = China_per_capita*0.015 > USA_per_capita*0.045\n",
    "q3_5"
   ]
  },
  {
   "cell_type": "code",
   "execution_count": 101,
   "metadata": {
    "deletable": false,
    "editable": false
   },
   "outputs": [
    {
     "data": {
      "text/html": [
       "<p><strong><pre style='display: inline;'>q3.5</pre></strong> passed! 🙌</p>"
      ],
      "text/plain": [
       "q3.5 results: All test cases passed!"
      ]
     },
     "execution_count": 101,
     "metadata": {},
     "output_type": "execute_result"
    }
   ],
   "source": [
    "grader.check(\"q3.5\")"
   ]
  },
  {
   "cell_type": "code",
   "execution_count": 102,
   "metadata": {
    "scrolled": false,
    "tags": []
   },
   "outputs": [
    {
     "name": "stdout",
     "output_type": "stream",
     "text": [
      "Congratulations on finishing your first lab!\n"
     ]
    },
    {
     "data": {
      "image/png": "[encoded data removed]",
      "text/plain": [
       "<Figure size 640x480 with 1 Axes>"
      ]
     },
     "metadata": {},
     "output_type": "display_data"
    }
   ],
   "source": [
    "%matplotlib inline\n",
    "img = mpimg.imread('resources/animal.jpg')\n",
    "imgplot = plt.imshow(img)\n",
    "imgplot.axes.get_xaxis().set_visible(False)\n",
    "imgplot.axes.get_yaxis().set_visible(False)\n",
    "print(\"Congratulations on finishing your first lab!\")\n",
    "plt.show()"
   ]
  },
  {
   "cell_type": "markdown",
   "metadata": {
    "deletable": false,
    "editable": false
   },
   "source": [
    "---\n",
    "\n",
    "To double-check your work, the cell below will rerun all of the autograder tests."
   ]
  },
  {
   "cell_type": "code",
   "execution_count": 103,
   "metadata": {
    "deletable": false,
    "editable": false
   },
   "outputs": [
    {
     "data": {
      "text/plain": [
       "q1.0 results: All test cases passed!\n",
       "\n",
       "q1.1 results: All test cases passed!\n",
       "\n",
       "q1.2 results: All test cases passed!\n",
       "\n",
       "q1.3 results: All test cases passed!\n",
       "\n",
       "q1.4 results: All test cases passed!\n",
       "\n",
       "q1.5 results: All test cases passed!\n",
       "\n",
       "q1.6 results: All test cases passed!\n",
       "\n",
       "q1.7 results: All test cases passed!\n",
       "\n",
       "q1.8 results: All test cases passed!\n",
       "\n",
       "q2.0 results: All test cases passed!\n",
       "\n",
       "q2.1 results: All test cases passed!\n",
       "\n",
       "q2.2 results: All test cases passed!\n",
       "\n",
       "q2.3 results: All test cases passed!\n",
       "\n",
       "q2.4 results: All test cases passed!\n",
       "\n",
       "q3.0 results: All test cases passed!\n",
       "\n",
       "q3.1 results: All test cases passed!\n",
       "\n",
       "q3.2 results: All test cases passed!\n",
       "\n",
       "q3.3 results: All test cases passed!\n",
       "\n",
       "q3.4 results: All test cases passed!\n",
       "\n",
       "q3.5 results: All test cases passed!"
      ]
     },
     "execution_count": 103,
     "metadata": {},
     "output_type": "execute_result"
    }
   ],
   "source": [
    "grader.check_all()"
   ]
  },
  {
   "cell_type": "markdown",
   "metadata": {
    "deletable": false,
    "editable": false
   },
   "source": [
    "## Submission\n",
    "\n",
    "Make sure you have run all cells in your notebook in order before running the cell below, so that all images/graphs appear in the output. The cell below will generate a zip file for you to submit. **Please save before exporting!**\n",
    "\n",
    "Make sure you submit the .zip file to Gradescope."
   ]
  },
  {
   "cell_type": "code",
   "execution_count": 104,
   "metadata": {
    "deletable": false,
    "editable": false
   },
   "outputs": [
    {
     "data": {
      "text/html": [
       "\n",
       "            <p>Your submission has been exported. Click <a href=\"lab01_2023_07_05T12_36_57_124628.zip\" download=\"lab01_2023_07_05T12_36_57_124628.zip\" target=\"_blank\">here</a>\n",
       "            to download the zip file.</p>\n",
       "            "
      ],
      "text/plain": [
       "<IPython.core.display.HTML object>"
      ]
     },
     "metadata": {},
     "output_type": "display_data"
    }
   ],
   "source": [
    "# Save your notebook first, then run this cell to export your submission.\n",
    "grader.export(pdf=False)"
   ]
  },
  {
   "cell_type": "markdown",
   "metadata": {},
   "source": [
    " "
   ]
  }
 ],
 "metadata": {
  "anaconda-cloud": {},
  "kernelspec": {
   "display_name": "Python 3 (ipykernel)",
   "language": "python",
   "name": "python3"
  },
  "language_info": {
   "codemirror_mode": {
    "name": "ipython",
    "version": 3
   },
   "file_extension": ".py",
   "mimetype": "text/x-python",
   "name": "python",
   "nbconvert_exporter": "python",
   "pygments_lexer": "ipython3",
   "version": "3.9.15"
  },
  "otter": {
   "OK_FORMAT": true,
   "assignment_name": "lab01",
   "tests": {
    "q1.0": {
     "name": "q1.0",
     "points": 1,
     "suites": [
      {
       "cases": [
        {
         "code": ">>> assert get_hash(a) == 'eccbc87e4b5ce2fe28308fd9f2a7baf3'\n>>> assert get_hash(b) == '596a3d04481816330f07e4f97510c28f'\n>>> assert get_hash(c) == 'a87ff679a2f3e71d9181a67b7542122c'\n>>> assert get_hash(x) == 'c81e728d9d4c2f636f067f89cc14862c'\n",
         "hidden": false,
         "locked": false
        }
       ],
       "scored": true,
       "setup": "",
       "teardown": "",
       "type": "doctest"
      }
     ]
    },
    "q1.1": {
     "name": "q1.1",
     "points": 1,
     "suites": [
      {
       "cases": [
        {
         "code": ">>> assert get_hash(round(q1_1, 2)) == '10f8e19d19bf3772687b5457a689fa21'\n",
         "hidden": false,
         "locked": false
        }
       ],
       "scored": true,
       "setup": "",
       "teardown": "",
       "type": "doctest"
      }
     ]
    },
    "q1.2": {
     "name": "q1.2",
     "points": 1,
     "suites": [
      {
       "cases": [
        {
         "code": ">>> assert get_hash(q1_2) == 'eac1be4ceede350c62d93c8212e3e536'\n",
         "hidden": false,
         "locked": false
        }
       ],
       "scored": true,
       "setup": "",
       "teardown": "",
       "type": "doctest"
      }
     ]
    },
    "q1.3": {
     "name": "q1.3",
     "points": 1,
     "suites": [
      {
       "cases": [
        {
         "code": ">>> assert get_hash(round(q1_3, 3)) == '5e295664d633f88870fc93eda8cf42c9'\n",
         "hidden": false,
         "locked": false
        }
       ],
       "scored": true,
       "setup": "",
       "teardown": "",
       "type": "doctest"
      }
     ]
    },
    "q1.4": {
     "name": "q1.4",
     "points": 1,
     "suites": [
      {
       "cases": [
        {
         "code": ">>> assert get_hash(round(q1_4, 3)) == '14a742b8cccaf65017719898cf735d84'\n",
         "hidden": false,
         "locked": false
        }
       ],
       "scored": true,
       "setup": "",
       "teardown": "",
       "type": "doctest"
      }
     ]
    },
    "q1.5": {
     "name": "q1.5",
     "points": 1,
     "suites": [
      {
       "cases": [
        {
         "code": ">>> assert get_hash(round(q1_5, 4)) == '88491693334ee557168464e310349583'\n",
         "hidden": false,
         "locked": false
        }
       ],
       "scored": true,
       "setup": "",
       "teardown": "",
       "type": "doctest"
      }
     ]
    },
    "q1.6": {
     "name": "q1.6",
     "points": 1,
     "suites": [
      {
       "cases": [
        {
         "code": ">>> assert get_hash(round(np.real(q1_6),8)) == 'c54490d3480079138c8c027a87a366e3'\n>>> assert get_hash(round(np.imag(q1_6),8)) == 'e4c2e8edac362acab7123654b9e73432'\n",
         "hidden": false,
         "locked": false
        }
       ],
       "scored": true,
       "setup": "",
       "teardown": "",
       "type": "doctest"
      }
     ]
    },
    "q1.7": {
     "name": "q1.7",
     "points": 1,
     "suites": [
      {
       "cases": [
        {
         "code": ">>> assert get_hash(round(q1_7,4)) == '0eba309c298ed87fa88f4fc121c0d4db'\n",
         "hidden": false,
         "locked": false
        }
       ],
       "scored": true,
       "setup": "",
       "teardown": "",
       "type": "doctest"
      }
     ]
    },
    "q1.8": {
     "name": "q1.8",
     "points": 1,
     "suites": [
      {
       "cases": [
        {
         "code": ">>> assert (get_hash(round(q1_8, 3)) == 'c0857c1de732e77e7f99af3055dda037')\n",
         "hidden": false,
         "locked": false
        }
       ],
       "scored": true,
       "setup": "",
       "teardown": "",
       "type": "doctest"
      }
     ]
    },
    "q2.0": {
     "name": "q2.0",
     "points": 1,
     "suites": [
      {
       "cases": [
        {
         "code": ">>> assert len(q2_0.upper()) == 1 , 'Make sure you have just the letter of your answer choice in quotes'\n>>> assert get_hash(q2_0.upper()) == '9d5ed678fe57bcca610140957afab571'\n",
         "hidden": false,
         "locked": false
        }
       ],
       "scored": true,
       "setup": "",
       "teardown": "",
       "type": "doctest"
      }
     ]
    },
    "q2.1": {
     "name": "q2.1",
     "points": 3,
     "suites": [
      {
       "cases": [
        {
         "code": ">>> var_names = ['China_pop' , 'China_CO2' , 'Qatar_pop' , 'Qatar_CO2' , 'USA_pop' , 'USA_CO2']\n>>> assert all([var_name in globals() for var_name in var_names]), 'Check variable names'\n>>> assert get_hash(China_pop) == '0e4e946668cf2afc4299b462b812caca'\n>>> assert get_hash(China_CO2) == 'b7852f3d3a775b5188139a2c07024397'\n>>> assert get_hash(Qatar_pop) == '23cb05d4a2e5bf28363909d92cd244e2'\n>>> assert get_hash(Qatar_CO2) == '26657d5ff9020d2abefe558796b99584'\n>>> assert get_hash(USA_pop) == 'c042f4db68f23406c6cecf84a7ebb0fe'\n>>> assert get_hash(USA_CO2) == '351869bde8b9d6ad1e3090bd173f600d'\n",
         "hidden": false,
         "locked": false
        }
       ],
       "scored": true,
       "setup": "",
       "teardown": "",
       "type": "doctest"
      }
     ]
    },
    "q2.2": {
     "name": "q2.2",
     "points": 2,
     "suites": [
      {
       "cases": [
        {
         "code": ">>> assert get_hash(type(q2_2)) == '71f335aebe2d722b3351e4c9710a7236' , 'Check which function you used.'\n>>> assert get_hash(q2_2) == '2203e3c2293eb8c9bda5bcd97acbf884' , 'Does the value have a fractional component?'\n",
         "hidden": false,
         "locked": false
        }
       ],
       "scored": true,
       "setup": "",
       "teardown": "",
       "type": "doctest"
      }
     ]
    },
    "q2.3": {
     "name": "q2.3",
     "points": 2,
     "suites": [
      {
       "cases": [
        {
         "code": ">>> assert get_hash(q2_3) == 'c81e728d9d4c2f636f067f89cc14862c'\n>>> assert get_hash(Qatar_pop) == '23cb05d4a2e5bf28363909d92cd244e2' , 'Do not reassign the variable'\n",
         "hidden": false,
         "locked": false
        }
       ],
       "scored": true,
       "setup": "",
       "teardown": "",
       "type": "doctest"
      }
     ]
    },
    "q2.4": {
     "name": "q2.4",
     "points": 2,
     "suites": [
      {
       "cases": [
        {
         "code": ">>> assert get_hash(q2_4) == '2993d6c487b8101c0701534ba325cb91'\n>>> assert get_hash(Qatar_CO2) == '26657d5ff9020d2abefe558796b99584' , 'Do not reassign the variable'\n",
         "hidden": false,
         "locked": false
        }
       ],
       "scored": true,
       "setup": "",
       "teardown": "",
       "type": "doctest"
      }
     ]
    },
    "q3.0": {
     "name": "q3.0",
     "points": 1.5,
     "suites": [
      {
       "cases": [
        {
         "code": ">>> q3_0_vars = ['China_per_capita' , 'Qatar_per_capita' , 'USA_per_capita']\n>>> assert all([var_name in globals() for var_name in q3_0_vars]), 'Check variable names'\n>>> assert get_hash(China_per_capita) == '2e08fabaf262a0fea4da5c818c9894e2' , 'Check variable value'\n>>> assert get_hash(Qatar_per_capita) == '2f56f1561f0c21041643671d4fd9f85a' , 'Check variable value'\n>>> assert get_hash(USA_per_capita) == 'c89b4e5c27b4928beff41e7782689f91' , 'Check variable value'\n",
         "hidden": false,
         "locked": false
        }
       ],
       "scored": true,
       "setup": "",
       "teardown": "",
       "type": "doctest"
      }
     ]
    },
    "q3.1": {
     "name": "q3.1",
     "points": 1.5,
     "suites": [
      {
       "cases": [
        {
         "code": ">>> assert get_hash(q3_1) == 'f827cf462f62848df37c5e1e94a4da74'\n",
         "hidden": false,
         "locked": false
        }
       ],
       "scored": true,
       "setup": "",
       "teardown": "",
       "type": "doctest"
      }
     ]
    },
    "q3.2": {
     "name": "q3.2",
     "points": 1.5,
     "suites": [
      {
       "cases": [
        {
         "code": ">>> assert get_hash(q3_2a) == 'f827cf462f62848df37c5e1e94a4da74'\n>>> assert get_hash(q3_2b) == 'f8320b26d30ab433c5a54546d21f414c'\n>>> assert get_hash(q3_2c) == 'f827cf462f62848df37c5e1e94a4da74'\n",
         "hidden": false,
         "locked": false
        },
        {
         "code": ">>> # ans_cell = [cell for cell in globals()['_ih'] if cell.startswith('# ANSWER CELL\\nq3_2a')][-1]\n>>> # re_ans = r'q3_2[a-z](.*?)\\n'\n>>> # q3_2_components = re.findall(re_ans,ans_cell)\n>>> \n>>> # assert get_hash('USA' in q3_2_components[0]) == 'f827cf462f62848df37c5e1e94a4da74'\n>>> # assert get_hash('China' in q3_2_components[0]) == 'f827cf462f62848df37c5e1e94a4da74'\n>>> # assert get_hash('<' in q3_2_components[0] or '>' in q3_2_components[0]) == 'f827cf462f62848df37c5e1e94a4da74'\n>>> \n>>> # assert get_hash('USA' in q3_2_components[1]) == 'f827cf462f62848df37c5e1e94a4da74'\n>>> # assert get_hash('Qatar' in q3_2_components[1]) == 'f827cf462f62848df37c5e1e94a4da74'\n>>> # assert get_hash('<' in q3_2_components[1] or '>' in q3_2_components[0]) == 'f827cf462f62848df37c5e1e94a4da74'\n>>> \n>>> # assert get_hash('or' in q3_2_components[2]) == 'f827cf462f62848df37c5e1e94a4da74'\n",
         "hidden": false,
         "locked": false
        }
       ],
       "scored": true,
       "setup": "",
       "teardown": "",
       "type": "doctest"
      }
     ]
    },
    "q3.3": {
     "name": "q3.3",
     "points": 1.5,
     "suites": [
      {
       "cases": [
        {
         "code": ">>> assert get_hash(q3_3a) == 'f827cf462f62848df37c5e1e94a4da74'\n>>> assert get_hash(q3_3b) == 'f827cf462f62848df37c5e1e94a4da74'\n>>> assert get_hash(q3_3c) == 'f827cf462f62848df37c5e1e94a4da74'\n>>> assert get_hash(q3_3d) == 'f827cf462f62848df37c5e1e94a4da74'\n",
         "hidden": false,
         "locked": false
        },
        {
         "code": ">>> # ans_cell = [cell for cell in globals()['_ih'] if cell.startswith('# ANSWER CELL\\nq3_3a')][-1]\n>>> # re_ans = r'q3_3[a-z](.*?)\\n'\n>>> # q3_3_components = re.findall(re_ans,ans_cell)\n>>> \n>>> # assert get_hash('China' in q3_3_components[0]) == 'f827cf462f62848df37c5e1e94a4da74'\n>>> # assert get_hash('4.7' in q3_3_components[0]) == 'f827cf462f62848df37c5e1e94a4da74'\n>>> # assert get_hash('<' in q3_3_components[0] or '>' in q3_3_components[0]) == 'f827cf462f62848df37c5e1e94a4da74'\n>>> \n>>> # assert get_hash('Qatar' in q3_3_components[1]) == 'f827cf462f62848df37c5e1e94a4da74'\n>>> # assert get_hash('4.7' in q3_3_components[1]) == 'f827cf462f62848df37c5e1e94a4da74'\n>>> # assert get_hash('<' in q3_3_components[1] or '>' in q3_3_components[1]) == 'f827cf462f62848df37c5e1e94a4da74'\n>>> \n>>> # assert get_hash('USA' in q3_3_components[2]) == 'f827cf462f62848df37c5e1e94a4da74'\n>>> # assert get_hash('4.7' in q3_3_components[2]) == 'f827cf462f62848df37c5e1e94a4da74'\n>>> # assert get_hash('<' in q3_3_components[2] or '>' in q3_3_components[2]) == 'f827cf462f62848df37c5e1e94a4da74'\n>>> \n>>> # assert get_hash('and' in q3_3_components[3] or '&' in q3_3_components[3]) == 'f827cf462f62848df37c5e1e94a4da74'\n",
         "hidden": false,
         "locked": false
        }
       ],
       "scored": true,
       "setup": "",
       "teardown": "",
       "type": "doctest"
      }
     ]
    },
    "q3.4": {
     "name": "q3.4",
     "points": 1.5,
     "suites": [
      {
       "cases": [
        {
         "code": ">>> assert get_hash(round(q3_4a,3)) == '302ddfd6d63bbe5693b96981c129d3e2'\n>>> assert get_hash(round(q3_4b,3)) == '70e3b658922334c673fa2959dbfdfbd6'\n>>> assert get_hash(q3_4c) == 'f8320b26d30ab433c5a54546d21f414c'\n",
         "hidden": false,
         "locked": false
        },
        {
         "code": ">>> # ans_cell = [cell for cell in globals()['_ih'] if cell.startswith('# ANSWER CELL\\nq3_4a')][-1]\n>>> # re_ans = r'q3_4[a-z](.*?)\\n'\n>>> # q3_4_components = re.findall(re_ans,ans_cell)\n>>> \n>>> # assert get_hash('China' in q3_4_components[0]) == 'f827cf462f62848df37c5e1e94a4da74'\n>>> # assert get_hash('.075' in q3_4_components[0]) == 'f827cf462f62848df37c5e1e94a4da74'\n>>> \n>>> # assert get_hash('Qatar' in q3_4_components[1]) == 'f827cf462f62848df37c5e1e94a4da74'\n>>> # assert get_hash('.017' in q3_4_components[1]) == 'f827cf462f62848df37c5e1e94a4da74'\n>>> \n>>> # assert get_hash('==' in q3_4_components[2]) == 'f827cf462f62848df37c5e1e94a4da74'\n",
         "hidden": false,
         "locked": false
        }
       ],
       "scored": true,
       "setup": "",
       "teardown": "",
       "type": "doctest"
      }
     ]
    },
    "q3.5": {
     "name": "q3.5",
     "points": 1.5,
     "suites": [
      {
       "cases": [
        {
         "code": ">>> assert get_hash(q3_5) == 'f8320b26d30ab433c5a54546d21f414c'\n",
         "hidden": false,
         "locked": false
        },
        {
         "code": ">>> # ans_cell = [cell for cell in globals()['_ih'] if cell.startswith('# ANSWER CELL\\nq3_5')][-1]\n>>> # re_ans = r'q3_5(.*?)\\n'\n>>> # q3_5_components = re.findall(re_ans,ans_cell)\n>>> \n>>> # assert get_hash('China' in q3_5_components[0]) == 'f827cf462f62848df37c5e1e94a4da74'\n>>> # assert get_hash('0.15' in q3_5_components[0]) == 'f827cf462f62848df37c5e1e94a4da74'\n>>> # assert get_hash('USA' in q3_5_components[0]) == 'f827cf462f62848df37c5e1e94a4da74'\n>>> # assert get_hash('0.45' in q3_5_components[0]) == 'f827cf462f62848df37c5e1e94a4da74'\n>>> # assert get_hash('<' in q3_5_components[0] or '>' in q3_5_components[0]) == 'f827cf462f62848df37c5e1e94a4da74'\n",
         "hidden": false,
         "locked": false
        }
       ],
       "scored": true,
       "setup": "",
       "teardown": "",
       "type": "doctest"
      }
     ]
    }
   }
  }
 },
 "nbformat": 4,
 "nbformat_minor": 4
}
