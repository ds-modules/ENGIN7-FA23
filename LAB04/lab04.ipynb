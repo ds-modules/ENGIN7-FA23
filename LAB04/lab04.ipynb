{
 "cells": [
  {
   "cell_type": "code",
   "execution_count": null,
   "metadata": {
    "deletable": false,
    "editable": false
   },
   "outputs": [],
   "source": [
    "# Initialize Otter\n",
    "import otter\n",
    "grader = otter.Notebook(\"lab04.ipynb\")"
   ]
  },
  {
   "cell_type": "markdown",
   "metadata": {},
   "source": [
    "# E7: Introduction to Computer Programming for Scientists and Engineers"
   ]
  },
  {
   "cell_type": "markdown",
   "metadata": {},
   "source": [
    "## Lab Assignment 4"
   ]
  },
  {
   "cell_type": "markdown",
   "metadata": {},
   "source": [
    "For each question, you will have to fill in one or more Python functions. We provide an autograder with a number of test cases that you can use to test your function. Note that the fact that your function works for all test cases thus provided does necessarily guarantee that it will work for all possible test cases relevant to the question. It is your responsibility to test your function thoroughly, to ensure that it will also work in situations not covered by the test cases provided\n",
    "\n",
    "## Score Breakdown\n",
    "Question| Points\n",
    "--- | --\n",
    "1 | 5\n",
    "2 | 6\n",
    "3 | 7\n",
    "4 | 7\n",
    "Total | 25"
   ]
  },
  {
   "cell_type": "code",
   "execution_count": null,
   "metadata": {},
   "outputs": [],
   "source": [
    "# Please run this cell, and do not modify the contets\n",
    "import numpy as np\n",
    "import math\n",
    "import hashlib\n",
    "import matplotlib.pyplot as plt\n",
    "def get_hash(num):\n",
    "    \"\"\"Helper function for assessing correctness\"\"\"\n",
    "    return hashlib.md5(str(num).encode()).hexdigest()"
   ]
  },
  {
   "cell_type": "markdown",
   "metadata": {},
   "source": [
    "## Question 1: Interest"
   ]
  },
  {
   "cell_type": "markdown",
   "metadata": {},
   "source": [
    "The interest rate, $r$, on a principal, $P_0$, is a payment for allowing the bank to use an investor's money. Compound interest is accumulated according to the recursive formula $P_n = (1 + r)P_{n-1}$, where $P_n$ is the balance after n compounding periods (e.g. years), and $P_{n-1}$ is the balance after the previous period. The interest rate $r$ is given\n",
    "in decimal, e.g. 0.1, which is 10%. \n",
    "\n",
    "Write a function `mySavingsPlan(P0, rate, goal)` with output `years`. `years` is the number of years it will  require for an investor to reach the investment goal defined by `goal` while investing an original amount `P0` at the annual interest rate, and specified by the variable `rate`. For the purpose of this problem, consider the investment balance to change only once per year (i.e. the output years should be a whole number).\n",
    "\n",
    "*Hint:*"
   ]
  },
  {
   "cell_type": "code",
   "execution_count": null,
   "metadata": {
    "tags": []
   },
   "outputs": [],
   "source": [
    "# ANSWER CELL\n",
    "def mySavingsPlan(p0, rate, goal):\n",
    "    ...\n",
    "    return years"
   ]
  },
  {
   "cell_type": "markdown",
   "metadata": {},
   "source": [
    "Try out your new `mySavingsPlan` function in the cell below for `p0 = 1000` dollars, `rate = 0.05`, and `goal = 10000` dollars! Feel free to try it for other input times.\n",
    "\n",
    "You do not need to store any outputs from the cell below. It is to allow you to test your function."
   ]
  },
  {
   "cell_type": "code",
   "execution_count": null,
   "metadata": {},
   "outputs": [],
   "source": []
  },
  {
   "cell_type": "code",
   "execution_count": null,
   "metadata": {
    "deletable": false,
    "editable": false
   },
   "outputs": [],
   "source": [
    "grader.check(\"q1\")"
   ]
  },
  {
   "cell_type": "markdown",
   "metadata": {},
   "source": [
    "## Question 2: Searching\n",
    "\n",
    "Write a Python function `myMin(P)` with output `value, location`, where `P` is a class double (numeric) array. The output value is the minimum value in the array `P` and location is the index of the minimum value. Note that the minimum\n",
    "value could appear more than once. If this is the case, location should specify the\n",
    "indices of all occurrences of the minimum value. You may NOT use the built-in\n",
    "Python command `min` in your function."
   ]
  },
  {
   "cell_type": "code",
   "execution_count": null,
   "metadata": {
    "jupyter": {
     "outputs_hidden": true
    },
    "tags": []
   },
   "outputs": [],
   "source": [
    "# ANSWER CELL\n",
    "def myMin(P):\n",
    "    \"\"\"\n",
    "    Examples\n",
    "    --------\n",
    "    (1, 6) = myMin([5,4,5,2,6,7,1,8,9])\n",
    "    (2, [0, 4, 7]) = myMin([2,3,5,7,2,4,3,2])\n",
    "    (-7, 3) = myMin([2,-3,5,-7,2,4,3,2])\n",
    "    (-3, [1, 6]) = myMin([2,-3,5,7,2,4,-3,2])\n",
    "    \n",
    "    Parameters\n",
    "    ----------\n",
    "    P: a float array\n",
    "    \n",
    "    Returns\n",
    "    -------\n",
    "    value: min value in P\n",
    "    location: index of min value(s)\n",
    "    \"\"\"\n",
    "    ...\n",
    "    return value, location\n",
    "    "
   ]
  },
  {
   "cell_type": "markdown",
   "metadata": {},
   "source": [
    "Try out your new `myMin` function in the cell below for ` P = [2,-3,5,7,2,4,-3,2]`. Feel free to try it for other input times.\n",
    "\n",
    "You do not need to store any outputs from the cell below. It is to allow you to test your function."
   ]
  },
  {
   "cell_type": "code",
   "execution_count": null,
   "metadata": {},
   "outputs": [],
   "source": []
  },
  {
   "cell_type": "code",
   "execution_count": null,
   "metadata": {
    "deletable": false,
    "editable": false
   },
   "outputs": [],
   "source": [
    "grader.check(\"q2\")"
   ]
  },
  {
   "cell_type": "markdown",
   "metadata": {},
   "source": [
    "## Question 3: Rainfall Totals\n",
    "\n",
    "Design a function that computes the total rainfall at a location using daily rainfall\n",
    "measurements entered by a user. The list may contain the number -999 indicating\n",
    "the end of the data from a given period. There may be negative numbers other than\n",
    "-999 in the list which represent erroneous measurements which should be neglected.\n",
    "Produce the total and average of the non-negative values in the list up to the first -999\n",
    "(if there is a -999 value). \n",
    "\n",
    "Your function `myRainfall(rainData)` should return `rainTot, rainAvg`,\n",
    "where `rainData` is a double array of daily rainfall data, `rainTot` is the total rainfall\n",
    "in the period represented by either the entire array `rainData` or the period from the\n",
    "beginning until the first occurrence of -999. `rainAvg` is the average daily rainfall during\n",
    "this period (not counting days with neglected measurements)."
   ]
  },
  {
   "cell_type": "code",
   "execution_count": null,
   "metadata": {
    "jupyter": {
     "outputs_hidden": true
    },
    "tags": []
   },
   "outputs": [],
   "source": [
    "# ANSWER CELL\n",
    "def myRainfall(rainData):\n",
    "    \"\"\"\n",
    "    Examples \n",
    "    --------\n",
    "    (22, 4.4) = myRainfall([2,4,-5,1,7,-2,8,-999,4,6,4])\n",
    "    (36, 4.0) = myRainfall([2,4,-5,1,7,-2,8,0,4,6,4])\n",
    "    (6, 3.0) = myRainfall([2,4,-999,1,7,-2,8,-999,4,6,4])\n",
    "    (33.4, 4.771428571428571) = myRainfall([2.3,4.1,-5.4,1.0,7.1,-2,8.0,4.9,6,-999])\n",
    "    (0, 0.0) = myRainfall([0,-999,-5,1,7,-2,8,-999,4,6,2])\n",
    "    \n",
    "    Parameters\n",
    "    ----------\n",
    "    rainData: a float array, with positive values, negative values, or -999\n",
    "    \n",
    "    Returns\n",
    "    -------\n",
    "    total rainfall: float, summation of non-negative values until the first occurrence of -999\n",
    "    average rainfall : float, total calculated rainfall over recorded days\n",
    "    \"\"\"\n",
    "    ...\n",
    "    return rainTot, rainTot / float(count_days)"
   ]
  },
  {
   "cell_type": "markdown",
   "metadata": {},
   "source": [
    "Try out your new `myRainfall` function in the cell below for ` rainData = [2,4,-5,1,7,-2,8,-999,4,6,4]`. Feel free to try it for other input values.\n",
    "\n",
    "You do not need to store any outputs from the cell below. It is to allow you to test your function."
   ]
  },
  {
   "cell_type": "code",
   "execution_count": null,
   "metadata": {
    "jupyter": {
     "outputs_hidden": true
    }
   },
   "outputs": [],
   "source": []
  },
  {
   "cell_type": "code",
   "execution_count": null,
   "metadata": {
    "deletable": false,
    "editable": false
   },
   "outputs": [],
   "source": [
    "grader.check(\"q3\")"
   ]
  },
  {
   "cell_type": "markdown",
   "metadata": {},
   "source": [
    "## Question 4: Summation Target"
   ]
  },
  {
   "cell_type": "markdown",
   "metadata": {},
   "source": [
    "Write a function that takes an array of $K$ integers and a single desired value to serve as a target summation. Are there three elements $a, b, c$ in the array such that $a + b + c$ = `sumtarget`? Find all unique triplets in the array which give the sum of the target summation. Note: Each row in the solution should be listed in ascending order and no duplicate rows should be listed.\n",
    "\n",
    "Your function `mySummation(array, sumtarget)` should return `results`, where `results` is an Mx3 double array with all the 1x3 arrays of values that add up to `sumtarget`, `array` is an array of numbers in ascending order, and `sumtarget` is the desired sum of any three elements of `array`.\n",
    "\n",
    "*Hint:* You may find `numpy.vstack` and `numpy.empty` useful for creating your `results` array, check out `numpy.vstack` documentation [here](https://numpy.org/doc/stable/reference/generated/numpy.vstack.html) `numpy.empty` [here](https://numpy.org/doc/stable/reference/generated/numpy.empty.html)."
   ]
  },
  {
   "cell_type": "code",
   "execution_count": null,
   "metadata": {
    "tags": []
   },
   "outputs": [],
   "source": [
    "# ANSWER CELL\n",
    "def mySummation(array, sumtarget):\n",
    "    \"\"\"\n",
    "    Examples\n",
    "    --------\n",
    "    array = [1, 1, 5, 6, 7, 8, 10]\n",
    "    [[1 1 8]] = mySummation(array, 10)\n",
    "        \n",
    "    array = [0, 1, 1, 2, 3, 4]\n",
    "    [[0 1 4],[0 2 3],[1 1 3]] = mySummation(array, 5)\n",
    "        \n",
    "    array = [0, 1, 1, 2, 3, 4]\n",
    "    [] = mySummation(array, 10)\n",
    "    \n",
    "    Parameters\n",
    "    ----------\n",
    "    array: array of numbers in ascending order\n",
    "    sumtarget: desired sum of any three elements of input array\n",
    "    \n",
    "    Returns\n",
    "    -------\n",
    "    results: Mx3 double array with all the unique 1x3 arrays of values that add up to sumtarget \n",
    "    \"\"\"\n",
    "    ...\n",
    "    return results"
   ]
  },
  {
   "cell_type": "markdown",
   "metadata": {},
   "source": [
    "Try out your new `mySavingsPlan` function in the cell below for `array = [0, 1, 1, 2, 3, 4]` and `sumtarget = 10`! Feel free to try it for other input values.\n",
    "\n",
    "You do not need to store any outputs from the cell below. It is to allow you to test your function."
   ]
  },
  {
   "cell_type": "code",
   "execution_count": null,
   "metadata": {},
   "outputs": [],
   "source": []
  },
  {
   "cell_type": "code",
   "execution_count": null,
   "metadata": {
    "deletable": false,
    "editable": false
   },
   "outputs": [],
   "source": [
    "grader.check(\"q4\")"
   ]
  },
  {
   "cell_type": "code",
   "execution_count": null,
   "metadata": {},
   "outputs": [],
   "source": [
    "import matplotlib.image as mpimg\n",
    "img = mpimg.imread('resources/animal.png')\n",
    "imgplot = plt.imshow(img)\n",
    "imgplot.axes.get_xaxis().set_visible(False)\n",
    "imgplot.axes.get_yaxis().set_visible(False)\n",
    "print(\"Congrats on finishing lab 4 on branching!\")\n",
    "plt.show()"
   ]
  },
  {
   "cell_type": "markdown",
   "metadata": {
    "deletable": false,
    "editable": false
   },
   "source": [
    "---\n",
    "\n",
    "To double-check your work, the cell below will rerun all of the autograder tests."
   ]
  },
  {
   "cell_type": "code",
   "execution_count": null,
   "metadata": {
    "deletable": false,
    "editable": false
   },
   "outputs": [],
   "source": [
    "grader.check_all()"
   ]
  },
  {
   "cell_type": "markdown",
   "metadata": {
    "deletable": false,
    "editable": false
   },
   "source": [
    "## Submission\n",
    "\n",
    "Make sure you have run all cells in your notebook in order before running the cell below, so that all images/graphs appear in the output. The cell below will generate a zip file for you to submit. **Please save before exporting!**\n",
    "\n",
    "Make sure you submit the .zip file to Gradescope."
   ]
  },
  {
   "cell_type": "code",
   "execution_count": null,
   "metadata": {
    "deletable": false,
    "editable": false
   },
   "outputs": [],
   "source": [
    "# Save your notebook first, then run this cell to export your submission.\n",
    "grader.export()"
   ]
  },
  {
   "cell_type": "markdown",
   "metadata": {},
   "source": [
    " "
   ]
  }
 ],
 "metadata": {
  "anaconda-cloud": {},
  "kernelspec": {
   "display_name": "Python 3 (ipykernel)",
   "language": "python",
   "name": "python3"
  },
  "language_info": {
   "codemirror_mode": {
    "name": "ipython",
    "version": 3
   },
   "file_extension": ".py",
   "mimetype": "text/x-python",
   "name": "python",
   "nbconvert_exporter": "python",
   "pygments_lexer": "ipython3",
   "version": "3.9.15"
  },
  "otter": {
   "OK_FORMAT": true,
   "assignment_name": "lab04",
   "tests": {
    "q1": {
     "name": "q1",
     "points": 5,
     "suites": [
      {
       "cases": [
        {
         "code": ">>> assert get_hash(mySavingsPlan(2000, 0.15, 10000)) == 'c20ad4d76fe97759aa27a0c99bff6710'\n>>> assert get_hash(mySavingsPlan(4000, 0.10, 300)) == 'cfcd208495d565ef66e7dff9f98764da', \"What if p0 is greater than goal? Are additional years needed for saving?\"\n",
         "hidden": false,
         "locked": false
        },
        {
         "code": ">>> assert get_hash(mySavingsPlan(1000, 0.05, 10000)) == '642e92efb79421734881b53e1e1b18b6'\n",
         "hidden": false,
         "locked": false
        }
       ],
       "scored": true,
       "setup": "",
       "teardown": "",
       "type": "doctest"
      }
     ]
    },
    "q2": {
     "name": "q2",
     "points": 6,
     "suites": [
      {
       "cases": [
        {
         "code": ">>> assert get_hash(myMin([2])[-1]) == 'cfcd208495d565ef66e7dff9f98764da'\n>>> assert get_hash(myMin([38,8,9,77,12,2])) == '6693afa515ec41da1d119faeb81df840'\n",
         "hidden": false,
         "locked": false
        }
       ],
       "scored": true,
       "setup": "",
       "teardown": "",
       "type": "doctest"
      }
     ]
    },
    "q3": {
     "name": "q3",
     "points": 7,
     "suites": [
      {
       "cases": [
        {
         "code": ">>> assert get_hash(myRainfall([2.3,4.1,-5.4,1.0,7.1,-2,8.0,4.9,6,-999])) == 'e0e5d666f240241f3ddcf3af9caf411c'\n",
         "hidden": false,
         "locked": false
        },
        {
         "code": ">>> assert get_hash(myRainfall([2,1.3,-99,33,0.99,-999])[0]) == '652126365f55aa7ccf24e90ed647c3a3'\n>>> assert get_hash(myRainfall([2,1.3,-99,33,0.99,-999])[1]) == 'a311e6b63f7e2eb2e08f75cb9d5c882c'\n",
         "hidden": false,
         "locked": false
        }
       ],
       "scored": true,
       "setup": "",
       "teardown": "",
       "type": "doctest"
      }
     ]
    },
    "q4": {
     "name": "q4",
     "points": 7,
     "suites": [
      {
       "cases": [
        {
         "code": ">>> assert get_hash(mySummation([0, 1, 1, 2, 3, 4],10)) == 'd751713988987e9331980363e24189ce'\n>>> assert get_hash(int(sum(mySummation([0, 0, 2, 4, 6, 8, 14],14)[:,2]))) == '34173cb38f07f89ddbebc2ac9128303f'\n",
         "hidden": false,
         "locked": false
        }
       ],
       "scored": true,
       "setup": "",
       "teardown": "",
       "type": "doctest"
      }
     ]
    }
   }
  }
 },
 "nbformat": 4,
 "nbformat_minor": 4
}
