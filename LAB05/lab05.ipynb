{
 "cells": [
  {
   "cell_type": "code",
   "execution_count": null,
   "metadata": {
    "deletable": false,
    "editable": false
   },
   "outputs": [],
   "source": [
    "# Initialize Otter\n",
    "import otter\n",
    "grader = otter.Notebook(\"lab05.ipynb\")"
   ]
  },
  {
   "cell_type": "markdown",
   "metadata": {},
   "source": [
    "# E7: Lab Assignment 05\n",
    "\n",
    "You must submit the lab to Gradescope by the due date. You will submit the zip file produced by running the final cell of the assignment.\n",
    "\n",
    "## Autograder\n",
    "For each question, you will have to fill in one or more Python functions. We provide an autograder with a number of test cases that you can use to test your function. Note that the fact that your function works for all test cases thus provided does necessarily guarantee that it will work for all possible test cases relevant to the question. It is your responsibility to test your function thoroughly, to ensure that it will also work in situations not covered by the test cases provided.\n",
    "\n",
    "**Run the first cell, Initialize Otter**, to import the autograder and submission exporter.\n",
    "\n",
    "## Answer cells\n",
    "Throughout the assignment, replace `...` with your answers. `...` is just a placeholder.\n",
    "\n",
    "You answers must be in the cells marked `# ANSWER CELL`, including your final calculation/code. However, do not perform scratchwork in `# ANSWER CELL`. Add a new cell to perform your scratchwork. Your scratchwork will not be graded and does not need to be included in your submission unless otherwise noted.\n",
    "\n",
    "If you want to read documentation on a Python function, you can type `help()` or `help(function)`.\n",
    "## Score Breakdown\n",
    "Question| Points\n",
    "--- | --\n",
    "1 | 2\n",
    "2.0 | 1\n",
    "2.1-2.2 | 4\n",
    "3 | 4\n",
    "4.0 - 4.1 | 6\n",
    "5.0 | 3\n",
    "5.1 | 4\n",
    "5.2 | 1\n",
    "Total | 25"
   ]
  },
  {
   "cell_type": "code",
   "execution_count": null,
   "metadata": {
    "jupyter": {
     "outputs_hidden": true
    }
   },
   "outputs": [],
   "source": [
    "# Please run this cell, and do not modify the contents\n",
    "import numpy as np\n",
    "import math as m\n",
    "import heapq\n",
    "import time\n",
    "import matplotlib.pyplot as plt\n",
    "import random\n",
    "from timeit import default_timer as timer\n",
    "np.seterr(all='ignore');\n",
    "\n",
    "import hashlib\n",
    "def get_hash(num):\n",
    "    \"\"\"Helper function for assessing correctness\"\"\"\n",
    "    return hashlib.md5(str(num).encode()).hexdigest()"
   ]
  },
  {
   "cell_type": "markdown",
   "metadata": {},
   "source": [
    "## Question 1: Fibonacci Sequence\n",
    "\n",
    "The Fibonacci Sequence can be defined by the recursive relationship $F_N = F_{N-1}+F_{N-2}$, where the first two numbers of the sequence by convention are $F_1 = 0$ and $F_2 = 1$. The sequence is defined for any positive integer $N$."
   ]
  },
  {
   "cell_type": "markdown",
   "metadata": {},
   "source": [
    "Using **recursion**, write a function `FibRec(N)` with output `F`, that returns the Nth number in the Fibonacci sequence, $F_N$. If the input `N` is not a positive integer (positive meaning $N > 0$, and integer meaning the number has\n",
    "no fractional component), the output `F` should be the string \"N must be a positive integer\".\n",
    "\n",
    "If the class of the input `N` is not `int`, the output `F` should be the string: \"N must be of class int\""
   ]
  },
  {
   "cell_type": "code",
   "execution_count": null,
   "metadata": {
    "jupyter": {
     "outputs_hidden": true
    },
    "tags": []
   },
   "outputs": [],
   "source": [
    "# ANSWER CELL\n",
    "def FibRec(N):\n",
    "    \"\"\"\n",
    "    Examples\n",
    "    --------\n",
    "    89 = FibRec(12)\n",
    "    \n",
    "    'N must be a positive number' = FibRec(-3)\n",
    "    \n",
    "    17711 = FibRec(23)\n",
    "    \n",
    "    'N must be of class int' = FibRec(2.2)\n",
    "\n",
    "    Parameters\n",
    "    ----------\n",
    "    N: Nth number in the Fibonacci sequence\n",
    "    \n",
    "    Returns\n",
    "    -------\n",
    "    F: value of that number\n",
    "    \"\"\"\n",
    "    ...\n",
    "    return F"
   ]
  },
  {
   "cell_type": "markdown",
   "metadata": {},
   "source": [
    "Try out your new `FibRec` function in the cell below for `N = 18`. Feel free to try it for other inputs!\n",
    "\n",
    "You do not need to store any outputs from the cell below. It is to allow you to test your function."
   ]
  },
  {
   "cell_type": "code",
   "execution_count": null,
   "metadata": {},
   "outputs": [],
   "source": []
  },
  {
   "cell_type": "code",
   "execution_count": null,
   "metadata": {
    "deletable": false,
    "editable": false
   },
   "outputs": [],
   "source": [
    "grader.check(\"q1\")"
   ]
  },
  {
   "cell_type": "markdown",
   "metadata": {},
   "source": [
    "## Question 2: Ratio of Fibonacci Sequence\n",
    "The ratio $r = \\frac{F_N}{F_{N-1}}$ of consecutive Fibonacci numbers converges to a limit called the Golden Ratio. You will write a simple function to calculate $r = \\frac{F_N}{F_{N-1}}$ and evaluate errors outputs from this simple function. Then you will use `try` and `except` statements to create a more robust function."
   ]
  },
  {
   "cell_type": "markdown",
   "metadata": {},
   "source": [
    "### Question 2.0: Simple ratio\n",
    "Create a function `simpleFibRatio(N)` that returns `r`, where `r` is the ratio defined above for the values of the Fibonacci Sequence defined by `N`. Use the function `FibRec(N)` from Q1 to calculate the ratio. This function should NOT handle or print error messages."
   ]
  },
  {
   "cell_type": "code",
   "execution_count": null,
   "metadata": {
    "tags": []
   },
   "outputs": [],
   "source": [
    "# ANSWER CELL\n",
    "..."
   ]
  },
  {
   "cell_type": "markdown",
   "metadata": {},
   "source": [
    "Try out your new `simpleFibRatio` function in the cell below for `N = 18`. Feel free to try it for other inputs! How does the function perform for large values of N? (You do not need to submit an answer to this question.)\n",
    "\n",
    "You do not need to store any outputs from the cell below. It is to allow you to test your function."
   ]
  },
  {
   "cell_type": "code",
   "execution_count": null,
   "metadata": {
    "scrolled": true
   },
   "outputs": [],
   "source": []
  },
  {
   "cell_type": "code",
   "execution_count": null,
   "metadata": {
    "deletable": false,
    "editable": false
   },
   "outputs": [],
   "source": [
    "grader.check(\"q2.0\")"
   ]
  },
  {
   "cell_type": "markdown",
   "metadata": {},
   "source": [
    "### Question 2.1: Ratio error for N=2\n",
    "What error type do you get for `simpleFibRatio(N=2)`? Save the error type as a string named `q2_1_error`. Keep the same syntax as appeared in the error message. For instance, if a value error was raised, use the syntax 'ValueError' not 'value error'.\n",
    "\n",
    "Once you determine the error type, create a new function called `midFibRatio` that returns `r` from `simpleFibRatio` if no error occurs, but returns `np.nan` for the error raised by `simpleFibRatio(N=2)`."
   ]
  },
  {
   "cell_type": "code",
   "execution_count": null,
   "metadata": {
    "jupyter": {
     "outputs_hidden": true
    },
    "tags": []
   },
   "outputs": [],
   "source": [
    "# ANSWER CELL\n",
    "q2_1_error = ...\n",
    "def midFibRatio(N):\n",
    "    try:\n",
    "        r = simpleFibRatio(N)\n",
    "    except ...:\n",
    "        ...\n",
    "    return r"
   ]
  },
  {
   "cell_type": "markdown",
   "metadata": {},
   "source": [
    "Try out your new `midFibRatio` function in the cell below for `N = 18`. Feel free to try it for other inputs! Your equation should not print an error for `N=2`.\n",
    "\n",
    "You do not need to store any outputs from the cell below. It is to allow you to test your function."
   ]
  },
  {
   "cell_type": "code",
   "execution_count": null,
   "metadata": {
    "scrolled": true
   },
   "outputs": [],
   "source": []
  },
  {
   "cell_type": "code",
   "execution_count": null,
   "metadata": {
    "deletable": false,
    "editable": false
   },
   "outputs": [],
   "source": [
    "grader.check(\"q2.1\")"
   ]
  },
  {
   "cell_type": "markdown",
   "metadata": {},
   "source": [
    "### Question 2.2: Ratio error for fractions\n",
    "What error type do you get for `simpleFibRatio(N=3.5)` or for any integer less than 2 or non-integer value? (All these inputs should have the same error type.) Save the error type as a string named `q2_2_error`. Keep the same syntax as appeared in the error message. For instance, if a value error was raised, use the syntax 'ValueError' not 'value error'.\n",
    "\n",
    "Once you determine the error type, create a new function called `finalFibRatio` that returns `r` from `simpleFibRatio` if no error occurs, returns `np.nan` for the error raised by `simpleFibRatio(N=2)`, and returns -999 for the error raised by inputting 1, a non-positive, or a fractional number."
   ]
  },
  {
   "cell_type": "code",
   "execution_count": null,
   "metadata": {
    "jupyter": {
     "outputs_hidden": true
    },
    "tags": []
   },
   "outputs": [],
   "source": [
    "# ANSWER CELL\n",
    "q2_2_error = ...\n",
    "def finalFibRatio(N):\n",
    "    \"\"\"\n",
    "    Examples\n",
    "    --------\n",
    "    1.619047619047619 = finalFibRatio(10)\n",
    "    \n",
    "    -999 = finalFibRatio(1)\n",
    "    \n",
    "    nan = finalFibRatio(2)\n",
    "    \n",
    "    1.6180257510729614 = finalFibRatio(15)\n",
    "    \n",
    "    Parameters\n",
    "    ----------\n",
    "    N: Nth Fibonacci number\n",
    "    \n",
    "    Returns\n",
    "    -------\n",
    "    r: ratio of Nth/N-1th Fibonacci numbers\n",
    "    \"\"\"\n",
    "    ...\n",
    "    return r"
   ]
  },
  {
   "cell_type": "markdown",
   "metadata": {},
   "source": [
    "Try out your new `finalFibRatio` function in the cell below for `N = 18`. Feel free to try it for other inputs!\n",
    "\n",
    "You do not need to store any outputs from the cell below. It is to allow you to test your function."
   ]
  },
  {
   "cell_type": "code",
   "execution_count": null,
   "metadata": {
    "scrolled": true
   },
   "outputs": [],
   "source": []
  },
  {
   "cell_type": "code",
   "execution_count": null,
   "metadata": {
    "deletable": false,
    "editable": false
   },
   "outputs": [],
   "source": [
    "grader.check(\"q2.2\")"
   ]
  },
  {
   "cell_type": "markdown",
   "metadata": {},
   "source": [
    "## Question 3: Binary representations of integers\n",
    "\n",
    "There are many ways to represent integers in binary format (i.e. with only zeros and ones). In this problem, we only consider 8-bit representations: each integer will be represented in binary format by a sequence of 8 zeros and/or ones. You will learn and use three different binary representations for integers: \"unsigned representation\", \"sign-magnitude representation\", and \"two's complement representation\". Each of these representations is detailed below."
   ]
  },
  {
   "cell_type": "markdown",
   "metadata": {},
   "source": [
    "In the unsigned representation, each bit represents a power of 2, from $2^0$ (right- most bit) to $2^7$ (left-most bit). For example, the binary representation 00100100 represents the integer $2^2 + 2^5 = 36$, and the binary representation 11101000 represents the integer $2^7+2^6+2^5+2^3 = 232$. Note that negative integers cannot be represented with the unsigned representation.\n",
    "\n",
    "In the signed-magnitude representation, the left-most bit represents the sign of the integer. If the left-most bit is 0, then the integer is positive. If the left-most bit is 1, then the integer is negative. The other bits represent the magnitude of the integer, each bit representing a power of 2, from $2^0$ (right-most bit) to $2^6$ (seventh bit from the right). For example, the binary representation 00100100 still represents the number $2^2 + 2^5 = 36$, while the binary representation 11101000 now represents the number $-(2^6 + 2^5 + 2^3) = -104$. Note that there are two possible binary representations of zero in the sign-magnitude representation (00000000 and 10000000).\n",
    "\n",
    "In the two's complement representation, the left-most bit represents $-2^7$ if it is 1, and 0 if it is 0. The other seven bits are used in the same way as in the unsigned and\n",
    "signed-magnitude representations. For example, the binary representation 00100100 still represents the number 36, while the binary representation 11101000 now represents the\n",
    "number $-2^7 + 2^6 + 2^5 + 2^3 = -24$."
   ]
  },
  {
   "cell_type": "markdown",
   "metadata": {},
   "source": [
    "Write a function `myBinary2Num(binary, representation)` that outputs `result`, where `binary` is a character string of length 8 made of only zeros and ones, and `representation` is the name of the representation used for binary, given as a character string that can take one of the three following values: 'unsigned', 'sign-magnitude' and 'twos complement'.\n",
    "Your function should return in its output argument `result`, the number (in base 10, class double) that is represented by binary using the binary representation specified by `representation`."
   ]
  },
  {
   "cell_type": "code",
   "execution_count": null,
   "metadata": {
    "jupyter": {
     "outputs_hidden": true
    },
    "tags": []
   },
   "outputs": [],
   "source": [
    "# ANSWER CELL\n",
    "def myBinary2Num(binary, representation):\n",
    "    \"\"\"\n",
    "    Examples\n",
    "    --------\n",
    "    200 = myBinary2Num('11001000', 'unsigned')\n",
    "    \n",
    "    -72 = myBinary2Num('11001000', 'sign-magnitude')\n",
    "    \n",
    "    -56 = myBinary2Num('11001000', 'twos complement')\n",
    "    \n",
    "    78 = myBinary2Num('01001110', 'unsigned')\n",
    "    \n",
    "    -78 = myBinary2Num('11001110', 'sign-magnitude')\n",
    "    \n",
    "    -50 = myBinary2Num('11001110', 'twos complement')\n",
    "    \n",
    "    Parameters\n",
    "    ----------\n",
    "    binary: character string of length 8 representing a binary number\n",
    "    representation: name of representation type for binary string\n",
    "    \n",
    "    Returns\n",
    "    -------\n",
    "    result: binary input converted to base 10\n",
    "    \"\"\"\n",
    "    ...\n",
    "    return result"
   ]
  },
  {
   "cell_type": "markdown",
   "metadata": {},
   "source": [
    "Try out your new `myBinary2Num` function in the cell below for `binary = '11001000'` and `representation = 'twos complement'`. Feel free to try it for other inputs!\n",
    "\n",
    "You do not need to store any outputs from the cell below. It is to allow you to test your function."
   ]
  },
  {
   "cell_type": "code",
   "execution_count": null,
   "metadata": {},
   "outputs": [],
   "source": []
  },
  {
   "cell_type": "code",
   "execution_count": null,
   "metadata": {
    "deletable": false,
    "editable": false
   },
   "outputs": [],
   "source": [
    "grader.check(\"q3.0\")"
   ]
  },
  {
   "cell_type": "markdown",
   "metadata": {},
   "source": [
    "## Question 4: Floating Point Numbers\n",
    "\n",
    "### 4.0: Comparing Floating Point Numbers\n",
    "\n",
    "Write a function `myCompareFloats(x, y, tolerance)` that returns a tuple `exact, approx`, where `x`, `y`, and `tolerance` are scalars of class double, and `exact` and `approx` are scalars of class boolean. `exact` should be true (logical 1) if and only if `x == y` evaluates to true in Python. `approx` should be true if and only if the difference between `x` and `y` (in absolute value) is less than or equal to tolerance. In other words, the function's output argument approx indicates whether `x` and `y` are \"approximately equal\", where \"approximately equal\" is quantified by the input argument tolerance. The default value of tolerance should be $1\\times10^{-9}$."
   ]
  },
  {
   "cell_type": "code",
   "execution_count": null,
   "metadata": {
    "jupyter": {
     "outputs_hidden": true
    },
    "tags": []
   },
   "outputs": [],
   "source": [
    "# ANSWER CELL\n",
    "def myCompareFloats(x, y, tolerance=1e-9):\n",
    "    \"\"\"\n",
    "    Examples\n",
    "    --------\n",
    "    (True, True) = myCompareFloats(2+3, 5, 0)\n",
    "    \n",
    "    (False, True) = myCompareFloats(0, 0.001, 1e-2)\n",
    "    \n",
    "    Parameters\n",
    "    ----------\n",
    "    x: scalar float, first element in comparison\n",
    "    y: scalar float, second element in comparison\n",
    "    tolerance: float, default = 1e-9\n",
    "        allowable difference between x and y\n",
    "    \n",
    "    Returns\n",
    "    -------\n",
    "    exact: boolean, if the floats are exactly equal\n",
    "    approx: boolean, if the floats are equal within the tolerance\n",
    "    \"\"\"\n",
    "    ...\n",
    "    return exact, approx"
   ]
  },
  {
   "cell_type": "markdown",
   "metadata": {},
   "source": [
    "Try out your new `myCompareFloats` function in the cell below for `x = 1e-4`, `y=1.5e-4`, and `tolerance = 5e-5`. Feel free to try it for other inputs!\n",
    "\n",
    "You do not need to store any outputs from the cell below. It is to allow you to test your function."
   ]
  },
  {
   "cell_type": "code",
   "execution_count": null,
   "metadata": {},
   "outputs": [],
   "source": []
  },
  {
   "cell_type": "code",
   "execution_count": null,
   "metadata": {
    "deletable": false,
    "editable": false
   },
   "outputs": [],
   "source": [
    "grader.check(\"q4.0\")"
   ]
  },
  {
   "cell_type": "markdown",
   "metadata": {},
   "source": [
    "### 4.1: Binary representation of floating point numbers (IEEE-754)\n",
    "\n",
    "There are multiple ways to represent floating point numbers in binary format (i.e. with only zeros and ones). The Institute of Electrical and Electronics Engineers (IEEE) defined a standard (called IEEE-754) for representing floating point numbers in binary format. IEEE-754 specifies different formats, depending on how many bits (e.g. 16 bits, 32 bits, 64 bits, 128 bits) are used to represent each floating point number. The formats that use 32 bits and 64 bits to represent each number are commonly known as \"single precision\" and \"double precision\", respectively. "
   ]
  },
  {
   "cell_type": "markdown",
   "metadata": {},
   "source": [
    "In Python, you can experiment by defining a variable a that contains the value 1.0 using the statement (`a = np.double(1)`) and then using the function `type` to see the type of the variable.\n",
    "\n",
    "You should see that the class of variable `a` is \"float64\" (a `double` is a double precision number, and a single precision number is 32 bits) and that it occupies 8 bytes = 64 bits of memory. "
   ]
  },
  {
   "cell_type": "code",
   "execution_count": null,
   "metadata": {},
   "outputs": [],
   "source": [
    "type(np.double(1))"
   ]
  },
  {
   "cell_type": "markdown",
   "metadata": {},
   "source": [
    "In this problem, we only consider single precision representations, where each number is represented using 32 bits (i.e. a sequence of 32 zeros and/or ones). We index the bits from left to right: the left-most bit is the 1st bit and the right-most bit is the 32nd bit. In the IEEE-754 standard, the number represented by a sequence of 32 bits can be calculated using the following formula:\n",
    "\n",
    "$$\\begin{align}\n",
    "(-1)^s \\times 2^{e-d} \\times (1+f) && \\text{if} \\; e \\ne 0 \\; \\text{and} \\; e \\ne 255 \\\\\n",
    "(-1)^s \\times 2^{1-d} \\times f && \\text{if} \\; e = 0 \\; \\text{and} \\; f \\ne 0 \\\\\n",
    "0 && \\text{if} \\; e = 0 \\; \\text{and} \\; f = 0 \\\\\n",
    "(-1)^s \\times \\infty && \\text{if} \\; e = 255 \\; \\text{and} \\; f = 0 \\\\\n",
    "NaN \\;(\\text{Not a Number}) && \\text{if} \\; e = 255 \\; \\text{and} \\; f \\ne 0\n",
    "\\end{align}$$\n",
    "\n",
    "- $s$ is the value of the first bit\n",
    "- $d = 127$\n",
    "- $e$ is given by the integer represented by bits 2 through 9, using the unsigned 8-bit integer representation (see Problem 3); and\n",
    "- The value of $f$ is calculated using bits 10 through 32, each bit representing a $negative$ power of 2, from $2^{-1}$ (10th bit) to $2^{-23}$ (32nd bit).\n",
    "\n",
    "Below is a visualization of where $s$, $e$, and $f$ are stored within the binary string:\n",
    "<img src=\"resources/IEEE_754_Single_Floating_Point_Format.png\" style=\"width: 500px;\"/>\n",
    "<center> Figure 1: The memory layout of the IEEE 754 single precision floating number type. Dots indicate the end of each section. Images are from: https://en.wikipedia.org/wiki/Single-precision_floating-point_format</center>"
   ]
  },
  {
   "cell_type": "markdown",
   "metadata": {},
   "source": [
    "Write a function `mySingle2Decimal(binary)` that outputs `result`, where `binary` is a character string of length 32 made of only zeros and ones, and `result` is the floating point number (in base 10, numpy class \"float\") that is represented by\n",
    "binary using the IEEE-754 32-bit single precision binary representation. \n",
    "\n",
    "*Hint:* In Python, use `np.inf` as the infinite value and `np.nan` for quantities which are \"not a number\".\n"
   ]
  },
  {
   "cell_type": "code",
   "execution_count": null,
   "metadata": {
    "jupyter": {
     "outputs_hidden": true
    },
    "tags": []
   },
   "outputs": [],
   "source": [
    "# ANSWER CELL\n",
    "def mySingle2Decimal(binary):\n",
    "    \"\"\"\n",
    "    Examples\n",
    "    --------\n",
    "    1.875 = mySingle2Decimal('00111111111100000000000000000000')\n",
    "    \n",
    "    -0.5 = mySingle2Decimal('10111111000000000000000000000000')\n",
    "    \n",
    "    2.1684046034649503e-19 = mySingle2Decimal('00100000100000000000000000000001')\n",
    "    \n",
    "    -inf = mySingle2Decimal('11111111100000000000000000000000')\n",
    "    \n",
    "    nan = mySingle2Decimal('11111111100000000000000000000001')\n",
    "    \n",
    "    -0.75 = mySingle2Decimal('10111111010000000000000000000000')\n",
    "    \n",
    "    2.1693310457510097e-19 = mySingle2Decimal('00100000100000000000111000000001')\n",
    "    \n",
    "    Parameters\n",
    "    ----------\n",
    "    binary: 32-bit binary string\n",
    "    \n",
    "    Returns\n",
    "    -------\n",
    "    result: floating point number in base 10\n",
    "    \"\"\"\n",
    "    ...\n",
    "    return result"
   ]
  },
  {
   "cell_type": "markdown",
   "metadata": {},
   "source": [
    "Try out your new `mySingle2Decimal` function in the cell below for `'01010101010101010101010101010101'`. Feel free to try it for other inputs!\n",
    "\n",
    "You do not need to store any outputs from the cell below. It is to allow you to test your function."
   ]
  },
  {
   "cell_type": "code",
   "execution_count": null,
   "metadata": {},
   "outputs": [],
   "source": []
  },
  {
   "cell_type": "code",
   "execution_count": null,
   "metadata": {
    "deletable": false,
    "editable": false
   },
   "outputs": [],
   "source": [
    "grader.check(\"q4.1\")"
   ]
  },
  {
   "cell_type": "markdown",
   "metadata": {},
   "source": [
    "## Question 5: Sorting and efficiency of sorting algorithms\n",
    "\n",
    "In this problem, you will write Python functions to sort elements of the periodic table in alphabetical order (in parts a and b) and then compare (in part c) the efficiency of your sorting function against the efficiency of another sorting function that is given to you on bCourses. Note that the grading will not depend on the efficiency of your sorting algorithm, but your function does need to sort the elements properly."
   ]
  },
  {
   "cell_type": "markdown",
   "metadata": {},
   "source": [
    "### 5.0: Compare two elements\n",
    "\n",
    "Write a function `myCompareElements(element1, element2)` that returns `result`, where `element1` and `element2` are the names (as character strings) of two elements of the\n",
    "periodic table (for example: 'Hydrogen', 'Carbon')."
   ]
  },
  {
   "cell_type": "markdown",
   "metadata": {},
   "source": [
    "Your function should return one of the following numbers (Python class \"int\"):\n",
    "- 0 if `element1` and `element2` are the same element.\n",
    "- 1 if the name of `element1` comes before the name of `element2` in alphabetical order.\n",
    "- -1 if the name of `element1` comes after the name of `element2` in alphabetical order.\n",
    "\n",
    "In this assignment, alphabetical ordering is determined by the ASCII codes of the letters\n",
    "making up the names of the elements. A letter with a small ASCII code comes before a\n",
    "letter with a larger ASCII code. Note that in this assignment, the names of the elements\n",
    "will always be given to you with the first letter in upper case and all the other letters in lower\n",
    "case. \n",
    "\n",
    "**Your function `myCompareElements` must not use Python's built-in sorting functions.**\n",
    "\n",
    "Hint: you can compare the alphabetical ordering of two single characters in Python\n",
    "with the logical operators `<`, `>`, and `==`. For example, `'b' < 'a'` will evaluate to `false` (0)."
   ]
  },
  {
   "cell_type": "code",
   "execution_count": null,
   "metadata": {
    "jupyter": {
     "outputs_hidden": true
    },
    "tags": []
   },
   "outputs": [],
   "source": [
    "# ANSWER CELL\n",
    "def myCompareElements(element1, element2):\n",
    "    \"\"\"\n",
    "    Examples\n",
    "    --------\n",
    "    element1, element2 = 'Hydrogen', 'Carbon'\n",
    "    -1 = myCompareElements (element1 , element2)\n",
    "    1 = myCompareElements (element2 , element1)\n",
    "    0 = myCompareElements (element1 , element1)\n",
    "    \n",
    "    element1, element2 = 'Uranium', 'Boron'\n",
    "    -1 = myCompareElements (element1 , element2)\n",
    "    1 = myCompareElements (element2 , element1)\n",
    "    0 = myCompareElements (element1 , element1)\n",
    "    \n",
    "    element1, element2 = 'Plutonium', 'Hydrogen'\n",
    "    -1 = myCompareElements (element1 , element2)\n",
    "    1 = myCompareElements (element2 , element1)\n",
    "    0 = myCompareElements (element1 , element1)\n",
    "    \n",
    "    Parameters\n",
    "    ----------\n",
    "    element1: name of an element in the periodic table\n",
    "    element2: name of an element in the periodic table\n",
    "    \n",
    "    Returns\n",
    "    -------\n",
    "    comparison value\n",
    "    \"\"\"\n",
    "    ..."
   ]
  },
  {
   "cell_type": "markdown",
   "metadata": {},
   "source": [
    "Try out your new `myCompareElements` function in the cell below for `'Berkelium'` and `'Californium'`. Feel free to try it for other inputs!\n",
    "\n",
    "You do not need to store any outputs from the cell below. It is to allow you to test your function."
   ]
  },
  {
   "cell_type": "code",
   "execution_count": null,
   "metadata": {},
   "outputs": [],
   "source": []
  },
  {
   "cell_type": "code",
   "execution_count": null,
   "metadata": {
    "deletable": false,
    "editable": false
   },
   "outputs": [],
   "source": [
    "grader.check(\"q5.0\")"
   ]
  },
  {
   "cell_type": "markdown",
   "metadata": {},
   "source": [
    "### 5.1: Sort a list of elements\n",
    "\n",
    "Write a function `mySortElements(elements)`, where `elements` is a $1 \\times n$ list that represents a list of n elements of the periodic\n",
    "table. Each entry of the list contains the name of an element of the periodic table as a character string. Multiple entries of elements can represent the same element (i.e. there can be duplicate elements in the list).\n",
    "\n",
    "The function should return a $1 \\times n$ list that represents the same list of elements as the one represented by elements but sorted in alphabetical order. If `elements` is an empty list, then sorted should be an empty list. \n",
    "\n",
    "**Your function mySortElements must not use Python's built-in sort**"
   ]
  },
  {
   "cell_type": "markdown",
   "metadata": {},
   "source": [
    "Hints:\n",
    "\n",
    "- You may want to use the function `myCompareElements` which you wrote in part 1 of this problem.\n",
    "- You can find below the description of a sorting algorithm that you can use (it is more simple to implement but less efficient than many other sorting algorithms):\n",
    "\n",
    "1. Create an empty list (e.g. `sorted_list=[]`) that will eventually contain the sorted elements;\n",
    "2. Find the element in the unsorted list that has the lowest rank in alphabetical order. (Hint: your function `myCompareElements` may be useful to achieve this goal);\n",
    "3. Add that element at the end of the sorted list;\n",
    "4. Remove that element from the unsorted list (Use `del elements[i]` to remove the entry with index i from list elements);\n",
    "5. Repeat steps 2 through 5 until the unsorted array is empty."
   ]
  },
  {
   "cell_type": "code",
   "execution_count": null,
   "metadata": {
    "jupyter": {
     "outputs_hidden": true
    },
    "tags": []
   },
   "outputs": [],
   "source": [
    "# ANSWER CELL\n",
    "def mySortElements(elements):\n",
    "    \"\"\"\n",
    "    Examples\n",
    "    --------\n",
    "    elements=['Hydrogen' , 'Carbon' , 'Magnesium' , 'Calcium' , 'Carbon']\n",
    "    ['Calcium', 'Carbon', 'Carbon', 'Hydrogen', 'Magnesium'] = mySortElements(elements)\n",
    "    \n",
    "    elements=['Dubnium','Bohrium','Copernicium','Meitnerium','Roentgenium']\n",
    "    ['Bohrium', 'Copernicium', 'Dubnium', 'Meitnerium', 'Roentgenium'] = mySortElements(elements)\n",
    "    \n",
    "    elements=['Argon','Argon']\n",
    "    ['Argon', 'Argon'] = mySortElements(elements)\n",
    "\n",
    "    Parameters\n",
    "    ---------\n",
    "    elements: 1xn list representing list of n elements of periodic table\n",
    "    \n",
    "    Returns\n",
    "    -------\n",
    "    sorted_list: 1xn list that represents the sorted list\n",
    "    \"\"\"\n",
    "    ...\n",
    "    return sorted_list"
   ]
  },
  {
   "cell_type": "markdown",
   "metadata": {},
   "source": [
    "Try out your new `mySortElements` function in the cell below for `['Chromium' , 'Barium' , 'Silver' , 'Lead' , 'Arsenic', 'Selenium', 'Mercury', 'Cadmium']`. Feel free to try it for other inputs!\n",
    "\n",
    "You do not need to store any outputs from the cell below. It is to allow you to test your function."
   ]
  },
  {
   "cell_type": "code",
   "execution_count": null,
   "metadata": {},
   "outputs": [],
   "source": []
  },
  {
   "cell_type": "code",
   "execution_count": null,
   "metadata": {
    "deletable": false,
    "editable": false
   },
   "outputs": [],
   "source": [
    "grader.check(\"q5.1\")"
   ]
  },
  {
   "cell_type": "markdown",
   "metadata": {},
   "source": [
    "### (Lead up to 5.2) Efficiency of sorting algorithms\n",
    "\n",
    "You must complete part 2 of this problem before you can do this part. Run the pre-made function `CompareSorting` to visualize the differences between th efficiency of your sorting algorithm and the internal Python sorting algorithm. Here, we define efficiency as the time taken by the sorting function to sort a given list of elements. Note that there are many other criteria that should be considered for a more exhaustive characterization of the efficiency of an algorithm (for example RAM usage), but we ignore these in this assignment."
   ]
  },
  {
   "cell_type": "code",
   "execution_count": null,
   "metadata": {
    "jupyter": {
     "outputs_hidden": true
    }
   },
   "outputs": [],
   "source": [
    "def CompareSorting(n):\n",
    "    \"\"\"\n",
    "    Do not edit. Plots the run time of student-made and internal Python sorting algorithms.\n",
    "    \n",
    "    Parameters\n",
    "    ----------\n",
    "    n: int, length of list to sort\n",
    "        Recommend n<5000 for quick plotting\n",
    "     \n",
    "    Returns\n",
    "    -------\n",
    "    None\n",
    "    \n",
    "    Plots\n",
    "    -----\n",
    "    Comparison of sorting algorithms: Wall time (ms) vs. size of list to sort\n",
    "        student: sort time of student-made mySortElements function\n",
    "        internal: sort time of sorted Python function\n",
    "        \n",
    "    \"\"\"\n",
    "    time_student = []\n",
    "    time_internal = []\n",
    "    elems = [random.random() for _ in range(int(n))]\n",
    "    # x_ax = [2**i for i in range(int(m.ceil(m.log(n, 2))))]\n",
    "    x_ax = []\n",
    "    i = n//10\n",
    "    while i < n:\n",
    "        t = time.time()\n",
    "        mySortElements(elems[:i])\n",
    "        time_student.append((time.time() - t)*1000)\n",
    "\n",
    "        t = time.time()\n",
    "        sorted(elems[:i])\n",
    "        time_internal.append((time.time() - t)*1000)\n",
    "\n",
    "        x_ax.append(i)\n",
    "\n",
    "        i += n//10\n",
    "    print('size of list:',x_ax)\n",
    "    with np.printoptions(precision=3,suppress=True):\n",
    "        print('Student algorithm time (ms):',np.array(time_student))\n",
    "        print('Internal algorithm time (ms):',np.array(time_internal))\n",
    "    fig, ax = plt.subplots()\n",
    "    plt.xlabel('Size of list to sort')\n",
    "    plt.ylabel('Wall time taken by sorted alg (ms)')\n",
    "    plt.title('Comparison of sorting algorithms')\n",
    "    ax.plot(x_ax, time_student, label='student')\n",
    "    ax.plot(x_ax, time_internal, label='internal')\n",
    "    handles, labels = ax.get_legend_handles_labels()\n",
    "    ax.legend(handles, labels)\n",
    "    plt.show()\n"
   ]
  },
  {
   "cell_type": "code",
   "execution_count": null,
   "metadata": {},
   "outputs": [],
   "source": [
    "CompareSorting(int(2000))"
   ]
  },
  {
   "cell_type": "markdown",
   "metadata": {},
   "source": [
    "### 5.2: Algorithm Complexity and Big-O Notation\n",
    "\n",
    "In Q5, you created a sorting algorithm and compared your algorithm to the internal Python sorting algorithm. Determine the complexity of each algorithm from the options below, expressed in \"Big-O\" notation. Examine the wall time array outputs and graph above and select from options A-E.\n",
    "\n",
    "Your answer should be a string with the letter of your answer choice: `'A'`, `'B'`, etc.\n",
    "\n",
    "Choices (same list of choices for both algorithms):\n",
    "\n",
    "(A) $\\mathcal{O}(n^c)$, where c is a constant greater than 1.\n",
    "\n",
    "(B) $\\mathcal{O}(c^n)$, where c is a constant other than 1.\n",
    "\n",
    "(C) $\\mathcal{O}(Cn)$, where C is a constant other than 1.\n",
    "\n",
    "(D) $\\mathcal{O}(log(n))$\n",
    "\n",
    "(E) $\\mathcal{O}(n)$"
   ]
  },
  {
   "cell_type": "code",
   "execution_count": null,
   "metadata": {
    "jupyter": {
     "outputs_hidden": true
    },
    "tags": []
   },
   "outputs": [],
   "source": [
    "# ANSWER CELL\n",
    "q5_student_order = ...\n",
    "q5_internal_order = ..."
   ]
  },
  {
   "cell_type": "code",
   "execution_count": null,
   "metadata": {
    "deletable": false,
    "editable": false
   },
   "outputs": [],
   "source": [
    "grader.check(\"q5.2\")"
   ]
  },
  {
   "cell_type": "code",
   "execution_count": null,
   "metadata": {},
   "outputs": [],
   "source": [
    "import matplotlib.image as mpimg\n",
    "img = mpimg.imread('resources/animal.jpg')\n",
    "imgplot = plt.imshow(img)\n",
    "imgplot.axes.get_xaxis().set_visible(False)\n",
    "imgplot.axes.get_yaxis().set_visible(False)\n",
    "print(\"Congrats on finishing lab 4!\")\n",
    "plt.show()"
   ]
  },
  {
   "cell_type": "markdown",
   "metadata": {
    "deletable": false,
    "editable": false
   },
   "source": [
    "---\n",
    "\n",
    "To double-check your work, the cell below will rerun all of the autograder tests."
   ]
  },
  {
   "cell_type": "code",
   "execution_count": null,
   "metadata": {
    "deletable": false,
    "editable": false
   },
   "outputs": [],
   "source": [
    "grader.check_all()"
   ]
  },
  {
   "cell_type": "markdown",
   "metadata": {
    "deletable": false,
    "editable": false
   },
   "source": [
    "## Submission\n",
    "\n",
    "Make sure you have run all cells in your notebook in order before running the cell below, so that all images/graphs appear in the output. The cell below will generate a zip file for you to submit. **Please save before exporting!**\n",
    "\n",
    "Make sure you submit the .zip file to Gradescope."
   ]
  },
  {
   "cell_type": "code",
   "execution_count": null,
   "metadata": {
    "deletable": false,
    "editable": false
   },
   "outputs": [],
   "source": [
    "# Save your notebook first, then run this cell to export your submission.\n",
    "grader.export(pdf=False)"
   ]
  },
  {
   "cell_type": "markdown",
   "metadata": {},
   "source": [
    " "
   ]
  }
 ],
 "metadata": {
  "anaconda-cloud": {},
  "kernelspec": {
   "display_name": "Python 3 (ipykernel)",
   "language": "python",
   "name": "python3"
  },
  "language_info": {
   "codemirror_mode": {
    "name": "ipython",
    "version": 3
   },
   "file_extension": ".py",
   "mimetype": "text/x-python",
   "name": "python",
   "nbconvert_exporter": "python",
   "pygments_lexer": "ipython3",
   "version": "3.9.15"
  },
  "otter": {
   "OK_FORMAT": true,
   "assignment_name": "lab03",
   "tests": {
    "q1": {
     "name": "q1",
     "points": 2,
     "suites": [
      {
       "cases": [
        {
         "code": ">>> assert get_hash(FibRec(25)) == '4f91efe6bc8cdfee8fd8a1a486a14f26'\n>>> assert get_hash(FibRec(16)) == '00ac8ed3b4327bdd4ebbebcb2ba10a00'\n",
         "hidden": false,
         "locked": false
        },
        {
         "code": ">>> assert get_hash(FibRec(0)) == '9a9354cd3a930071a9e8707b5cb29ea5', 'Check phrasing for size of N requirement'\n>>> assert get_hash(FibRec(1.5)) == 'da0989a2b9b5d791c3416f14ab0e1456', 'Check phrasing for data type requirement'\n",
         "hidden": false,
         "locked": false
        }
       ],
       "scored": true,
       "setup": "",
       "teardown": "",
       "type": "doctest"
      }
     ]
    },
    "q2.0": {
     "name": "q2.0",
     "points": 1,
     "suites": [
      {
       "cases": [
        {
         "code": ">>> assert get_hash(round(simpleFibRatio(29),5)) == '57662aaff0603ba873d19444ae440a49'\n>>> assert get_hash(round(simpleFibRatio(3),5)) == 'e4c2e8edac362acab7123654b9e73432'\n",
         "hidden": false,
         "locked": false
        }
       ],
       "scored": true,
       "setup": "",
       "teardown": "",
       "type": "doctest"
      }
     ]
    },
    "q2.1": {
     "name": "q2.1",
     "points": 2,
     "suites": [
      {
       "cases": [
        {
         "code": ">>> assert get_hash(q2_1_error) == 'f640f11555bbb1a83c1302a574bb7f42' , 'Check error type or syntax'\n>>> assert get_hash(round(midFibRatio(3),5)) == 'e4c2e8edac362acab7123654b9e73432'\n>>> assert get_hash(round(midFibRatio(18),5)) == '57662aaff0603ba873d19444ae440a49'\n",
         "hidden": false,
         "locked": false
        },
        {
         "code": ">>> assert get_hash(round(midFibRatio(2),5)) == 'a3d2de7675556553a5f08e4c88d2c228'\n",
         "hidden": false,
         "locked": false
        }
       ],
       "scored": true,
       "setup": "",
       "teardown": "",
       "type": "doctest"
      }
     ]
    },
    "q2.2": {
     "name": "q2.2",
     "points": 2,
     "suites": [
      {
       "cases": [
        {
         "code": ">>> assert get_hash(q2_2_error) == '137bf8cff2d59f0883c600f9524b3eed' , 'Check error type or syntax'\n>>> assert get_hash(round(finalFibRatio(3),5)) == 'e4c2e8edac362acab7123654b9e73432'\n>>> assert get_hash(round(finalFibRatio(18),5)) == '57662aaff0603ba873d19444ae440a49'\n",
         "hidden": false,
         "locked": false
        },
        {
         "code": ">>> assert get_hash(round(finalFibRatio(2),5)) == 'a3d2de7675556553a5f08e4c88d2c228'\n>>> assert get_hash(finalFibRatio(-1)) == 'dc9a0d67a31dae74f0ae340fc5ebbddb'\n>>> assert get_hash(finalFibRatio(1)) == 'dc9a0d67a31dae74f0ae340fc5ebbddb'\n>>> assert get_hash(finalFibRatio(12.4)) == 'dc9a0d67a31dae74f0ae340fc5ebbddb'\n",
         "hidden": false,
         "locked": false
        }
       ],
       "scored": true,
       "setup": "",
       "teardown": "",
       "type": "doctest"
      }
     ]
    },
    "q3.0": {
     "name": "q3.0",
     "points": 4,
     "suites": [
      {
       "cases": [
        {
         "code": ">>> assert get_hash(int(myBinary2Num(binary='10000001',representation='unsigned'))) == 'd1f491a404d6854880943e5c3cd9ca25'\n>>> assert get_hash(int(myBinary2Num(binary='01111110',representation='unsigned'))) == '069059b7ef840f0c74a814ec9237b6ec'\n>>> assert get_hash(int(myBinary2Num(binary='01010101',representation='unsigned'))) == '3ef815416f775098fe977004015c6193'\n>>> assert get_hash(int(myBinary2Num(binary='10101010',representation='unsigned'))) == '149e9677a5989fd342ae44213df68868'\n",
         "hidden": false,
         "locked": false
        },
        {
         "code": ">>> assert get_hash(int(myBinary2Num(binary='10000001',representation='sign-magnitude'))) == '6bb61e3b7bce0931da574d19d1d82c88'\n>>> assert get_hash(int(myBinary2Num(binary='01111110',representation='sign-magnitude'))) == '069059b7ef840f0c74a814ec9237b6ec'\n>>> assert get_hash(int(myBinary2Num(binary='01010101',representation='sign-magnitude'))) == '3ef815416f775098fe977004015c6193'\n>>> assert get_hash(int(myBinary2Num(binary='10101010',representation='sign-magnitude'))) == '8dfcb89fd8620e3e7fb6a03a53f307dc'\n",
         "hidden": false,
         "locked": false
        },
        {
         "code": ">>> assert get_hash(int(myBinary2Num(binary='10000001',representation='twos complement'))) == '21b1992fa1b053b03c6b149ef2d9a8a8'\n>>> assert get_hash(int(myBinary2Num(binary='01111110',representation='twos complement'))) == '069059b7ef840f0c74a814ec9237b6ec'\n>>> assert get_hash(int(myBinary2Num(binary='01010101',representation='twos complement'))) == '3ef815416f775098fe977004015c6193'\n>>> assert get_hash(int(myBinary2Num(binary='10101010',representation='twos complement'))) == 'aa21e5886910db5cf181502a9dabc5ac'\n",
         "hidden": false,
         "locked": false
        }
       ],
       "scored": true,
       "setup": "",
       "teardown": "",
       "type": "doctest"
      }
     ]
    },
    "q4.0": {
     "name": "q4.0",
     "points": 3,
     "suites": [
      {
       "cases": [
        {
         "code": ">>> # Tests formatting\n>>> assert get_hash(type(myCompareFloats(0,0,0))) == '22b3afce62075c7012f8e5041adfee16'\n>>> assert get_hash(type(myCompareFloats(0,0,0)[0])) == '781f5f2052cfb496fa73d70ea1fbdaa8'\n>>> assert get_hash(type(myCompareFloats(0,0,0)[1])) == '781f5f2052cfb496fa73d70ea1fbdaa8'\n",
         "hidden": false,
         "locked": false
        },
        {
         "code": ">>> # Tests basic cases\n>>> assert get_hash(myCompareFloats(x=1,y=1,tolerance=1e-3)[0]) == 'f827cf462f62848df37c5e1e94a4da74'\n>>> assert get_hash(myCompareFloats(x=1,y=1,tolerance=1e-3)[1]) == 'f827cf462f62848df37c5e1e94a4da74'\n>>> assert get_hash(myCompareFloats(x=1,y=2,tolerance=1e-3)[0]) == 'f8320b26d30ab433c5a54546d21f414c'\n>>> assert get_hash(myCompareFloats(x=1,y=2,tolerance=1e-3)[1]) == 'f8320b26d30ab433c5a54546d21f414c'\n",
         "hidden": false,
         "locked": false
        },
        {
         "code": ">>> # Tests default values and variable names\n>>> assert get_hash(myCompareFloats(1e-8,1.1e-8)[1]) == 'f827cf462f62848df37c5e1e94a4da74'\n>>> assert get_hash(myCompareFloats(tolerance=1e-7,x=2e-6,y=2.01e-6)[0]) == 'f8320b26d30ab433c5a54546d21f414c'\n>>> assert get_hash(myCompareFloats(tolerance=1e-7,x=2e-6,y=2.01e-6)[1]) == 'f827cf462f62848df37c5e1e94a4da74'\n",
         "hidden": false,
         "locked": false
        }
       ],
       "scored": true,
       "setup": "",
       "teardown": "",
       "type": "doctest"
      }
     ]
    },
    "q4.1": {
     "name": "q4.1",
     "points": 3,
     "suites": [
      {
       "cases": [
        {
         "code": ">>> assert get_hash(round(mySingle2Decimal('101111100001010101011101011001010'),15)) == '23739091b887b8f9fc4c9fe4e02436b2' ,\\\n...     'Check when e!=0 and e!=255'\n",
         "hidden": false,
         "locked": false
        },
        {
         "code": ">>> assert get_hash(m.floor(m.log10(mySingle2Decimal('000000000111010101011101011001010')))) == 'b217be6af5b5001b3936b8e52095cc93' ,\\\n...     'Check order of magnitude when e=0 and f!=0'\n>>> assert get_hash(round(mySingle2Decimal('000000000111010101011101011001010')\\\n...     /10**(m.floor(m.log10(mySingle2Decimal('000000000111010101011101011001010')))),15)) == '678c1ce283c6ffd2588c31c49d565873' ,\\\n...     'Check value when e=0 and f!=0'\n>>> assert get_hash(mySingle2Decimal('10000000000000000000000000000000')) == 'cfcd208495d565ef66e7dff9f98764da' ,\\\n...     'Check when e=0 and f=0'\n",
         "hidden": false,
         "locked": false
        },
        {
         "code": ">>> assert get_hash(mySingle2Decimal('11111111100000000000000000000000')) == '9c41dab8e025b5db402b00cface5d381' ,\\\n...     'Check when e=255 and f=0'\n>>> assert get_hash(mySingle2Decimal('11111111100000000000000000000001')) == 'a3d2de7675556553a5f08e4c88d2c228' ,\\\n...     'Check when e=255 and f!=0'\n",
         "hidden": false,
         "locked": false
        }
       ],
       "scored": true,
       "setup": "",
       "teardown": "",
       "type": "doctest"
      }
     ]
    },
    "q5.0": {
     "name": "q5.0",
     "points": 3,
     "suites": [
      {
       "cases": [
        {
         "code": ">>> # Test formatting\n>>> assert get_hash(type(myCompareElements('Berkelium','Californium'))) == '2203e3c2293eb8c9bda5bcd97acbf884'\n",
         "hidden": false,
         "locked": false
        },
        {
         "code": ">>> # Test different elements\n>>> assert get_hash(myCompareElements('Plutonium','Neptunium')) == '6bb61e3b7bce0931da574d19d1d82c88'\n>>> assert get_hash(myCompareElements('Neptunium','Plutonium')) == 'c4ca4238a0b923820dcc509a6f75849b'\n",
         "hidden": false,
         "locked": false
        },
        {
         "code": ">>> # Test same elements\n>>> assert get_hash(myCompareElements('Xenon','Xenon')) == 'cfcd208495d565ef66e7dff9f98764da'\n>>> assert get_hash(myCompareElements('','')) == 'cfcd208495d565ef66e7dff9f98764da'\n",
         "hidden": false,
         "locked": false
        }
       ],
       "scored": true,
       "setup": "",
       "teardown": "",
       "type": "doctest"
      }
     ]
    },
    "q5.1": {
     "name": "q5.1",
     "points": 4,
     "suites": [
      {
       "cases": [
        {
         "code": ">>> # Test formatting\n>>> assert get_hash(type(mySortElements(['Kyber','Sodium','Magnesium','Aluminum']))) == '425ed5b515f0a67c6316f0ec499f86bf' , 'Check output type'\n>>> assert get_hash(len(mySortElements(['Neon','Sodium','Magnesium','Kryptonite']))) == 'a87ff679a2f3e71d9181a67b7542122c' , 'Check for duplicates or truncation.'\n>>> assert get_hash(mySortElements(['Einsteinium'])[-1]) == '2bd0f4445ce21046d907148e97396eef'\n",
         "hidden": false,
         "locked": false
        },
        {
         "code": ">>> # Test base case\n>>> assert get_hash(mySortElements(['Ruthenium','Molybdenum','Unobtainium','Rhodium','Palladium'])[0]) == '299c5b5cab10efac7b04ce3b42daac06'\n>>> assert get_hash(mySortElements(['Ruthenium','Coaxium','Technetium','Rhodium','Palladium'])[-1]) == '40d57ae7e4a58a1d0a5da44f699f1cde'\n",
         "hidden": false,
         "locked": false
        },
        {
         "code": ">>> # Test duplicates and single item list\n>>> assert get_hash(mySortElements(['Vibranium','Curium','Curium','Curium'])[0]) == 'eb82aadeecbc5f38c0ea2cf02217f244'\n>>> assert get_hash(mySortElements(['Vibranium','Curium','Curium','Curium'])[2]) == 'eb82aadeecbc5f38c0ea2cf02217f244'\n>>> assert get_hash(len(mySortElements([]))) == 'cfcd208495d565ef66e7dff9f98764da' , 'What happens if provided an empty list?'\n",
         "hidden": false,
         "locked": false
        }
       ],
       "scored": true,
       "setup": "",
       "teardown": "",
       "type": "doctest"
      }
     ]
    },
    "q5.2": {
     "name": "q5.2",
     "points": 1,
     "suites": [
      {
       "cases": [
        {
         "code": ">>> assert get_hash(q5_student_order) == '7fc56270e7a70fa81a5935b72eacbe29' , 'Is your algorithm recursive? Does it have nested loops?'\n",
         "hidden": false,
         "locked": false
        },
        {
         "code": ">>> assert get_hash(q5_internal_order) == '0d61f8370cad1d412f80b84d143e1257' , 'Check output values'\n",
         "hidden": false,
         "locked": false
        }
       ],
       "scored": true,
       "setup": "",
       "teardown": "",
       "type": "doctest"
      }
     ]
    }
   }
  }
 },
 "nbformat": 4,
 "nbformat_minor": 4
}
