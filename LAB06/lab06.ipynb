{
 "cells": [
  {
   "cell_type": "code",
   "execution_count": null,
   "metadata": {
    "deletable": false,
    "editable": false
   },
   "outputs": [],
   "source": [
    "# Initialize Otter\n",
    "import otter\n",
    "grader = otter.Notebook(\"lab06.ipynb\")"
   ]
  },
  {
   "cell_type": "markdown",
   "metadata": {},
   "source": [
    "# E7: Lab Assignment 06\n",
    "\n",
    "You must submit the lab to Gradescope by the due date. You will submit the zip file produced by running the final cell of the assignment.\n",
    "\n",
    "## Autograder\n",
    "For each question, you will have to fill in one or more Python functions. We provide an autograder with a number of test cases that you can use to test your function. Note that the fact that your function works for all test cases thus provided does necessarily guarantee that it will work for all possible test cases relevant to the question. It is your responsibility to test your function thoroughly, to ensure that it will also work in situations not covered by the test cases provided.\n",
    "\n",
    "**Run the first cell, Initialize Otter**, to import the autograder and submission exporter.\n",
    "\n",
    "## Answer cells\n",
    "Throughout the assignment, replace `...` with your answers. `...` is just a placeholder.\n",
    "\n",
    "You answers must be in the cells marked `# ANSWER CELL`, including your final calculation/code. However, do not perform scratchwork in `# ANSWER CELL`. Add a new cell to perform your scratchwork. Your scratchwork will not be graded and does not need to be included in your submission unless otherwise noted.\n",
    "\n",
    "If you want to read documentation on a Python function, you can type `help()` or `help(function)`.\n",
    "## Score Breakdown\n",
    "Question | Points\n",
    "--|--\n",
    "1.0 | 5\n",
    "1.1 | 4\n",
    "2 | 8\n",
    "3 | 8"
   ]
  },
  {
   "cell_type": "code",
   "execution_count": null,
   "metadata": {},
   "outputs": [],
   "source": [
    "# Please run this cell, and do not modify the contents\n",
    "import math\n",
    "import numpy as np\n",
    "import matplotlib\n",
    "import matplotlib.pyplot as plt\n",
    "from mpl_toolkits.mplot3d import Axes3D\n",
    "import pandas as pd\n",
    "np.seterr(all='ignore');"
   ]
  },
  {
   "cell_type": "markdown",
   "metadata": {},
   "source": [
    "## Question 1: 3D Surface Plots and Subplots\n",
    "The purpose of this problem is to introduce you to three dimensional plots and subplots.\n",
    "Imagine we have a function as follows:\n",
    "\n",
    "$$ z(x,y) = \\frac{-y\\cos(x)}{\\exp(\\cos(x)^2 + \\sin(y)^2)} $$"
   ]
  },
  {
   "cell_type": "markdown",
   "metadata": {},
   "source": [
    "<!-- BEGIN QUESTION -->\n",
    "\n",
    "### Question 1.0: 3D surface plot\n",
    "First, you will plot the mathematical function above in three dimensions across the\n",
    "following domain for the independent variables $x$ and $y$:\n",
    "\n",
    "$$ x,y \\in [-5, 5]$$"
   ]
  },
  {
   "cell_type": "markdown",
   "metadata": {},
   "source": [
    "You will need to create a discrete set of values for x and y at which Python will evaluate the function z(x, y). For this problem, you should assume a step size of 0.1 between these discrete values. \n",
    "\n",
    "Look into the Python`matplotlib.pyplot` function `meshgrid` to create the underlying `x, y` grid. \n",
    "\n",
    "Compute z, then use `surf` to make your three dimensional figure.\n",
    "\n",
    "You do not need to write a function for this problem. Instead, type all of your code for this question in the same script file as the code for the other questions (except for the function{see the end of the document for details). For your figure, define the axes and title as follows:\n",
    "\n",
    "1. Set the x-axis to the text `X Axis` with a font size of 16\n",
    "2. Set the y-axis to the text `Y Axis` with a font size of 16\n",
    "3. Set the z-axis to the text `Z Axis` with a font size of 16\n",
    "4. Set the title to the text `E7 - Lab 6 - Question 1` with a font size of 20\n",
    "5. Add a colorbar to your figure.\n",
    "\n",
    "When you are finished, your figure should look like Figure 1. You can experiment with the shading command and change your colormap if you like. "
   ]
  },
  {
   "cell_type": "markdown",
   "metadata": {},
   "source": [
    "<img src=\"resources/E7_Lab6_1.png\" style=\"width: 500px;\"/>\n",
    "<center>*Figure 1: 3-D Surface plot*</center>"
   ]
  },
  {
   "cell_type": "code",
   "execution_count": null,
   "metadata": {
    "tags": []
   },
   "outputs": [],
   "source": [
    "# ANSWER CELL\n",
    "\n",
    "# Create x- and y-ranges\n",
    "...\n",
    "\n",
    "# Create combined x and y grid\n",
    "...\n",
    "\n",
    "# Calculate z = f(x,y)\n",
    "...\n",
    "\n",
    "# Create 3D figure with zoom/aspect parameters\n",
    "...\n",
    "\n",
    "# Add plot to figure\n",
    "...\n",
    "\n",
    "#Add colorbar to figure\n",
    "...\n",
    "\n",
    "# Add labels with formatting\n",
    "...\n",
    "\n",
    "# Show the plot\n",
    "...\n"
   ]
  },
  {
   "cell_type": "markdown",
   "metadata": {},
   "source": [
    "<!-- END QUESTION -->\n",
    "\n",
    "<!-- BEGIN QUESTION -->\n",
    "\n",
    "### Question 1.1: Subplots\n",
    "Next, you will look at two dimensional \"slices\" of the function. The slices we are interested in analyzing are the following:\n",
    "\n",
    "1. The slice on the `x = 0` plane\n",
    "2. The slice on the `y = 0.5` plane\n",
    "    \n",
    "Keep in mind that these slices are two dimensional, not three dimensional. For example, a slice at $x = 0$ means that the equation above is evaluated at $z(0, y)$. Similar observations can be made about the slice $y = 0.5$."
   ]
  },
  {
   "cell_type": "markdown",
   "metadata": {},
   "source": [
    "You should plot both two dimensional slices on the same figure. To do this, make use of subplots - a feature in Python that allows you to break a figure down into smaller, individual axes that can contain different plots. Type `?plt.subplots` in a cell to learn more about how subplots work. You will be making a $1 \\times 2$ subplot.\n",
    "\n",
    "The left-hand-side subplot should contain the two dimensional plot of the $x = 0$ slice and contain the following axis/title labels:\n",
    "\n",
    "1. Set the x-axis to the text Y Axis with a font size of 16\n",
    "2. Set the y-axis to the text Z Axis with a font size of 16\n",
    "3. Set the title to the text Slice at X = 0 with a font size of 20\n",
    "\n",
    "The right-hand-side subplot should contain the two dimensional plot of the $y = 0.5$ slice and contain the following axis/title labels:\n",
    "\n",
    "1. Set the x-axis to the text X Axis with a font size of 16\n",
    "2. Set the y-axis to the text Z Axis with a font size of 16\n",
    "3. Set the title to the text Slice at Y = 0.5 with a font size of 20\n",
    "\n",
    "Turn on the background grid for both subplots so your figure looks like Figure 3. Note that both of plots shown are on a single Python figure window. This is the functionality that subplot provides. Visually compare the subplots to the 3D plot you plotted earlier and try to find where these slices exist within the 3D figure."
   ]
  },
  {
   "cell_type": "markdown",
   "metadata": {},
   "source": [
    "<img src=\"resources/E7_Lab6_3.jpg\" style=\"width: 500px;\"/>\n",
    "<center>*Figure 2: 2-D line plots of (1) Z axis versus the Y Axis, Slice at X = 0; (2) Z Axis versus the X Axis, Slice at Y = 0.5*</center>"
   ]
  },
  {
   "cell_type": "code",
   "execution_count": null,
   "metadata": {
    "tags": []
   },
   "outputs": [],
   "source": [
    "# ANSWER CELL\n",
    "\n",
    "# Get slice for first plot\n",
    "...\n",
    "\n",
    "# Get slice for second plot\n",
    "...\n",
    "\n",
    "# Create empty figure\n",
    "...\n",
    "\n",
    "# Add subplot axis to figure\n",
    "...\n",
    "\n",
    "# Plot first slice in the subplot\n",
    "...\n",
    "\n",
    "# Plotting parameters specific to the first subplot\n",
    "...\n",
    "\n",
    "# Add subplot axis to figure\n",
    "...\n",
    "\n",
    "# Plot second slice in the subplot\n",
    "...\n",
    "\n",
    "# Plotting parameters specific to the second subplot\n",
    "...\n",
    "\n",
    "# Show plot\n",
    "..."
   ]
  },
  {
   "cell_type": "markdown",
   "metadata": {},
   "source": [
    "<!-- END QUESTION -->\n",
    "\n",
    "<!-- BEGIN QUESTION -->\n",
    "\n",
    "## Question 2: X-Y Plots: Bay Area Sports Teams\n",
    "\n",
    "In the Bay Area, there are two professional baseball teams (San Francisco Giants and Oakland Athletics), two professional football teams (San Francisco 49ers and Oakland/Las Vegas Raiders), one professional hockey team (San Jose Sharks), and one professional basketball team (Golden State Warriors). In this problem, you will be asked to write a function, `BayAreaTeams(*args)`, which creates a plot showing the winning percentages of some combination of the six aforementioned sports teams throughout the years. The winning percentage of a sports team for any given year is calculated as:\n",
    "\n",
    "$$ \\text{Winning Percentage} = (\\frac{\\text{Games Won}}{\\text{Games Played}}) \\times 100 $$"
   ]
  },
  {
   "cell_type": "markdown",
   "metadata": {},
   "source": [
    "The winning percentage is calculated based on games for a single year. Thus, a new winning percentage is calculated for each year.\n",
    "\n",
    "This function does not return any output variables to the workspace when called. The sole intention of this function is to produce a plot - not to output any variables. Note that there is one input argument in the function declaration line: `*args`. `*args` represents \"variable arguments\" and is used when the number of input arguments to a function is not\n",
    "always the same. In other words, `*args` is used when there are several acceptable inputs (arguments) to a function, but the function does not require every input to be present for any given call to the function itself. "
   ]
  },
  {
   "cell_type": "markdown",
   "metadata": {},
   "source": [
    "In this case, the function can take up to 6 arguments. Acceptable inputs for the function `BayAreaTeams` are the following character arrays: 'Raiders', 'Niners', 'Warriors', 'Giants', 'Athletics','Sharks'.\n",
    "\n",
    "You should design your function so that these inputs are case insensitive. For instance, let's say you want to plot the winning percentages of only the Oakland/Las Vegas Raiders and the San Francisco 49ers on the same figure. To do this, you would call the function as follows: `BayAreaTeams('Raiders', 'Niners')` Note that we did not use the other four acceptable arguments. This is the functionality that `*args` provides."
   ]
  },
  {
   "cell_type": "markdown",
   "metadata": {},
   "source": [
    "The data file `BayAreaSports.csv` provides the data needed for this question. It has five columns: \n",
    "- `'Team_code'` is a number representing each team with Athletics=0, Giants=1, Niners=2, Raiders=3, Sharks=4, and Warriors=5. Hint: consider using a dictionary to connect the team name and team code.\n",
    "- `'Wins'` is the number of games the team won that year.\n",
    "- `'Games'` is the number of games the team played that year.\n",
    "- `'Year'` is the year the sports season started in.\n",
    "- `'Champion?'` is whether the team won the championship that season/year with 1 for a win and 0 for a loss.\n",
    "\n",
    "Your function should perform the following tasks:"
   ]
  },
  {
   "cell_type": "markdown",
   "metadata": {},
   "source": [
    "1. Load the file `BayAreaSports.csv`\n",
    "2. Plot the winning percentage as a function of years for as many of the six teams as requested by the function call on a single figure.\n",
    "\n",
    "Your plot should have the following features:\n",
    "- For each team requested, circular markers should be used with lines connecting the circular markers. The line thickness should be set to 2.\n",
    "- Grid lines should be shown on the figure (see help grid to learn about this command).\n",
    "- If no input is provided, the function should not return a figure and instead display the output: `Please enter at least one professional Bay Area sports team.`\n",
    "- If an input is provided that is not one of the acceptable six inputs mentioned above, the function should not return a figure and instead display the text: `Please enter only 'Raiders', 'Niners', 'Warriors', 'Giants', 'Athletics',\n",
    "or 'Sharks'.`\n",
    "- The x-axis of the figure should be labeled `Years` with a font size of 20.\n",
    "- The y-axis of the figure should be labeled `Winning Percentage` with a font size of 20 and should be limited to values from 0 to 100.\n",
    "- The figure should be given a title `Comparison of Bay Area Professional Sports Teams` with a font size of 20.\n",
    "-  A legend should be provided that contains an entry for each team requested. The legend should be in the upper right-hand corner of the figure and not overlap any of the data.\n",
    "-  Use team-specific colors for your plots. Python allows you to plot lines with very specific line/marker colors by using RGB values. To make your figure more festive, refer to the table below when assigning line/marker colors for the six teams.\n",
    "-  Plot the championship-year winning percentages on top of the data already plotted on your figure for each team requested. This championship data should be plotted as gold pentagrams (5-point stars) with a marker size of 20. The RGB array for gold is `[1, .843, 0]`. These \"gold stars\" should not be connected with lines - plot only the markers on top of the pre-existing data.\n",
    "\n",
    "\n",
    "| Team | Line Color | Marker Color |\n",
    "|------|------------|--------------|\n",
    "| Raiders   | [0, 0, 0]             | [0.737, 0.769, 0.788] |\n",
    "| Niners    | [0.784, 0, 0.126]     | [0.753, 0.6, 0.302]   |\n",
    "| Giants    | [0, 0, 0]             | [1, 0.302, 0]         |\n",
    "| Athletics | [0.016, 0.290, 0.235] | [0.988, 0.729, 0.204] |\n",
    "| Warriors  | [0.004, 0.275, 0.678] | [0.973, 0.773, 0.212] |\n",
    "| Sharks    | [0.075, 0, 0.028]     | [0.04, 0.467, 0.541]  |"
   ]
  },
  {
   "cell_type": "markdown",
   "metadata": {},
   "source": [
    "Test case: if you want to compare the Oakland/Las Vegas Raiders and the San Francisco 49ers (using the function declaration above), your figure should look like Figure 2 below, except now the data goes through 2022. After completing the function, include the following code in your script:\n",
    "\n",
    "```\n",
    "BayAreaTeams ('Raiders' , 'Niners' ) # show Raiders / 49ers comparison\n",
    "BayAreaTeams ('Athletics' , 'Giants' ) # show A's / Giants comparison\n",
    "BayAreaTeams ('Warriors' , 'Sharks' ) # show Warriors / Sharks comparison\n",
    "```"
   ]
  },
  {
   "cell_type": "markdown",
   "metadata": {},
   "source": [
    "<img src=\"resources/E7_Lab6_1.jpg\" style=\"width: 700px;\"/>\n",
    "<center>*Figure 3: Plot comparing the win percentages over the years of the Raiders and Niners*</center>"
   ]
  },
  {
   "cell_type": "code",
   "execution_count": null,
   "metadata": {
    "scrolled": false,
    "tags": []
   },
   "outputs": [],
   "source": [
    "# ANSWER CELL\n",
    "...\n"
   ]
  },
  {
   "cell_type": "code",
   "execution_count": null,
   "metadata": {
    "tags": []
   },
   "outputs": [],
   "source": [
    "# ANSWER CELL\n",
    "..."
   ]
  },
  {
   "cell_type": "markdown",
   "metadata": {},
   "source": [
    "<!-- END QUESTION -->\n",
    "\n",
    "<!-- BEGIN QUESTION -->\n",
    "\n",
    "## Question 3: Contour & Vector Plotting: Aquifer Simulation\n",
    "\n",
    "Groundwater is an important resource which provides water for municipal, agricultural, and industrial needs. Contamination from a variety of sources can diminish the quality of groundwater supplies, causing health problems for people who drink it or other problems, depending on the use. Modeling the motion of contaminants can allow us to use groundwater resources while preventing exposure to toxic contaminants. Modeling contaminant migration in groundwater requires computing groundwater velocity, which can be controlled by various soil properties, such as permeability. Permeability is a measure of how conductive a soil is to flow, and can vary by orders of magnitude over relatively short distances. (You can\n",
    "imagine that the permeability of sand will be much greater than that of clay, allowing water to flow through sand with significantly greater velocity.) In this question you will visually demonstrate the relationship between soil permeability, $k$, and groundwater velocity, $v$,.\n",
    "\n",
    "The file `K.csv` contains values of permeability for an aquifer, which was simulated using geostatistical methods. The files `vx.csv` and `vy.csv` contain $x$ components and $y$ components of velocity, respectively, throughout the same aquifer, obtained using numerical methods. All of the files contain data on a 50 x 50 grid, with each grid cell representing a 10m x 10m area."
   ]
  },
  {
   "cell_type": "markdown",
   "metadata": {},
   "source": [
    "In this question you will:\n",
    "1. Load the three data files named above using `pd.read_csv` (be careful with the headers). Hint: Adjust `pd.read_csv` to start at appropriate point in data file.\n",
    "2. Show the spatial distribution of permeability using a filled contour plot (use the `contourf` matplotlib command).\n",
    "3. Display the spatial variability of groundwater velocity by plotting velocity vectors on the same plot as the filled contour plot. Use `quiver` to help you with the velocity plot.\n",
    "4. Often when analyzing data, transformations of the data can be a helpful tool for seeing the data in a new perspective and visualizing different trends. For instance, taking the logarithm of a dataset can take emphasis away from extreme values and more simply show overall variability. On a new figure, show a filled contour plot of the natural logarithm of permeability.\n",
    "5. Ensure that your plots are presentable (adjust the colorbar, shape and colors of the arrows, legend, title, axis as needed). Create a title and axis labels that make the content of your plots easy to understand on their own (without needed accompanying text). Note the axis values and ensure they match the appropriate field measurements. Hint: You need to convert your axis to adequately match the field scale measurements."
   ]
  },
  {
   "cell_type": "code",
   "execution_count": null,
   "metadata": {
    "tags": []
   },
   "outputs": [],
   "source": [
    "# ANSWER CELL\n",
    "..."
   ]
  },
  {
   "cell_type": "markdown",
   "metadata": {},
   "source": [
    "<!-- END QUESTION -->\n",
    "\n"
   ]
  },
  {
   "cell_type": "code",
   "execution_count": null,
   "metadata": {
    "jupyter": {
     "outputs_hidden": true
    }
   },
   "outputs": [],
   "source": [
    "import matplotlib.image as mpimg\n",
    "img = mpimg.imread('resources/animal.png')\n",
    "imgplot = plt.imshow(img)\n",
    "imgplot.axes.get_xaxis().set_visible(False)\n",
    "imgplot.axes.get_yaxis().set_visible(False)\n",
    "print(\"Congrats on finishing lab 6!\")\n",
    "plt.show()"
   ]
  },
  {
   "cell_type": "markdown",
   "metadata": {
    "deletable": false,
    "editable": false
   },
   "source": [
    "## Submission\n",
    "\n",
    "Make sure you have run all cells in your notebook in order before running the cell below, so that all images/graphs appear in the output. The cell below will generate a zip file for you to submit. **Please save before exporting!**\n",
    "\n",
    "Make sure you submit the .zip file to Gradescope."
   ]
  },
  {
   "cell_type": "code",
   "execution_count": null,
   "metadata": {
    "deletable": false,
    "editable": false
   },
   "outputs": [],
   "source": [
    "# Save your notebook first, then run this cell to export your submission.\n",
    "grader.export()"
   ]
  },
  {
   "cell_type": "markdown",
   "metadata": {},
   "source": [
    " "
   ]
  }
 ],
 "metadata": {
  "kernelspec": {
   "display_name": "Python 3 (ipykernel)",
   "language": "python",
   "name": "python3"
  },
  "language_info": {
   "codemirror_mode": {
    "name": "ipython",
    "version": 3
   },
   "file_extension": ".py",
   "mimetype": "text/x-python",
   "name": "python",
   "nbconvert_exporter": "python",
   "pygments_lexer": "ipython3",
   "version": "3.9.15"
  },
  "otter": {
   "OK_FORMAT": true,
   "assignment_name": "lab06",
   "tests": {}
  }
 },
 "nbformat": 4,
 "nbformat_minor": 4
}
