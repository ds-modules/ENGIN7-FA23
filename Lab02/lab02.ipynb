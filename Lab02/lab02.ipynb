{
 "cells": [
  {
   "cell_type": "code",
   "execution_count": null,
   "metadata": {
    "deletable": false,
    "editable": false
   },
   "outputs": [],
   "source": [
    "# Initialize Otter\n",
    "import otter\n",
    "grader = otter.Notebook(\"lab02.ipynb\")"
   ]
  },
  {
   "cell_type": "markdown",
   "metadata": {},
   "source": [
    "# E7: Introduction to Computer Programming for Scientists and Engineers"
   ]
  },
  {
   "cell_type": "markdown",
   "metadata": {},
   "source": [
    "## Lab Assignment 2"
   ]
  },
  {
   "cell_type": "markdown",
   "metadata": {},
   "source": [
    "For each question, you will have to fill in one or more Python functions. We provide an autograder with a number of test cases that you can use to test your function. Note that the fact that your function works for all test cases thus provided does necessarily guarantee\n",
    "that it will work for all possible test cases relevant to the question. It is your responsibility\n",
    "to test your function thoroughly, to ensure that it will also work in situations not covered\n",
    "by the test cases provided"
   ]
  },
  {
   "cell_type": "code",
   "execution_count": null,
   "metadata": {
    "tags": []
   },
   "outputs": [],
   "source": [
    "# Please run this cell, and do not modify the contets\n",
    "import math\n",
    "import numpy as np\n",
    "import matplotlib.pyplot as plt\n",
    "#plt.style.use('fivethirtyeight')\n",
    "#plt.rcParams[\"figure.figsize\"] = (20,7)\n",
    "%matplotlib inline\n",
    "\n",
    "import hashlib\n",
    "def get_hash(num):\n",
    "    \"\"\"Helper function for assessing correctness\"\"\"\n",
    "    return hashlib.md5(str(num).encode()).hexdigest()"
   ]
  },
  {
   "cell_type": "markdown",
   "metadata": {},
   "source": [
    "## Question 1\n",
    "\n",
    "Write a Python function that calculates the roots of a quadratic equation $ax^2+bx+\n",
    "c = 0$ of unknown $x$, using the quadratic formula below. \n",
    "\n",
    "$$x = \\frac{-b\\pm \\sqrt{b^2-4ac}}{2a}$$"
   ]
  },
  {
   "cell_type": "markdown",
   "metadata": {},
   "source": [
    "The function output should be a two element tuple. The first element, `elem_1` ,should be the root computed by setting the $\\pm$ to $+$, and the second element, `elem_2` ,should be the root computed by setting the $\\pm$ to $-$. You may assume $b2 - 4ac \\ge 0$."
   ]
  },
  {
   "cell_type": "code",
   "execution_count": null,
   "metadata": {
    "tags": []
   },
   "outputs": [],
   "source": [
    "def solve_quadratic(a, b, c):\n",
    "    \"\"\"\n",
    "    Arguments\n",
    "    ---------\n",
    "    a : coefficient of x**2\n",
    "    b : coefficient of x\n",
    "    c : constant\n",
    "    \n",
    "    Returns\n",
    "    -------\n",
    "    elem_1 : larger root of quadratic equation\n",
    "    elem_2 : smaller root of quadratic equation\n",
    "    \"\"\"\n",
    "    discriminant = ...\n",
    "    elem_1 = ...\n",
    "    elem_2 = ...\n",
    "    return elem_1, elem_2 "
   ]
  },
  {
   "cell_type": "code",
   "execution_count": null,
   "metadata": {
    "tags": []
   },
   "outputs": [],
   "source": [
    "solve_quadratic(6,-17,12)"
   ]
  },
  {
   "cell_type": "code",
   "execution_count": null,
   "metadata": {
    "deletable": false,
    "editable": false
   },
   "outputs": [],
   "source": [
    "grader.check(\"q1\")"
   ]
  },
  {
   "cell_type": "markdown",
   "metadata": {},
   "source": [
    "## Question 2.0\n",
    "\n",
    "Carbon dating is a method for determining the age of an object containing the radioisotope carbon-14. Since carbon-14 is subject to radioactive decay, the number of carbon-14 atoms in a sample will decay over time according to the following exponential decay law:\n",
    "\n",
    "$$ N(t) = N_0 e^{-\\lambda t} $$\n",
    "\n",
    "where $N_0$ is the number of atoms of the isotope in the original sample, $N(t)$ is the remaining number of atoms after a time $t$, $\\lambda$ is the expoential decay constant and $t$ is the time.\n",
    "\n",
    "Write a function that calculates the remaining fraction of carbon-14 in a sample after a certain amount of time (in years). The remaining fraction is defined as the ratio of the number of atoms at the present time ($N(t)$) to the initial number of atoms ($N_0$). You can re-arrange the decay formula above to find an expression for this ratio.\n",
    "\n",
    "Assume $\\lambda = 0.00012097 \\: \\text{years}^{-1}$."
   ]
  },
  {
   "cell_type": "code",
   "execution_count": null,
   "metadata": {
    "tags": []
   },
   "outputs": [],
   "source": [
    "def c14_dating(time):\n",
    "    ratio = ...\n",
    "    return ratio"
   ]
  },
  {
   "cell_type": "code",
   "execution_count": null,
   "metadata": {
    "tags": []
   },
   "outputs": [],
   "source": [
    "c14_dating(10000)"
   ]
  },
  {
   "cell_type": "code",
   "execution_count": null,
   "metadata": {
    "deletable": false,
    "editable": false
   },
   "outputs": [],
   "source": [
    "grader.check(\"q2.0\")"
   ]
  },
  {
   "cell_type": "markdown",
   "metadata": {},
   "source": [
    "## Question 2.1\n",
    "\n",
    "Now create a more general version of the function in Q2.0 and name the new function `exp_decay`. This new function will perform the same calculation as `c14_dating` but include a default argument for $\\lambda$, the expoential decay constant. Call the argument for $\\lambda$ `decay_constant`. Set the default value for `decay_constant` equal to the exponential decay constant for c-14.\n",
    "\n",
    "Write your function in the cell below (that contains the ellipsis `...`).\n",
    "\n",
    "Your function should be in the form:\n",
    "``` PYTHON\n",
    "def exp_decay(...):\n",
    "    ratio = ...\n",
    "    return ratio\n",
    "```"
   ]
  },
  {
   "cell_type": "code",
   "execution_count": null,
   "metadata": {
    "tags": []
   },
   "outputs": [],
   "source": [
    "..."
   ]
  },
  {
   "cell_type": "code",
   "execution_count": null,
   "metadata": {
    "tags": []
   },
   "outputs": [],
   "source": [
    "exp_decay(10000)"
   ]
  },
  {
   "cell_type": "code",
   "execution_count": null,
   "metadata": {
    "deletable": false,
    "editable": false
   },
   "outputs": [],
   "source": [
    "grader.check(\"q2.1\")"
   ]
  },
  {
   "cell_type": "markdown",
   "metadata": {},
   "source": [
    "## Question 3.0\n",
    "\n",
    "Write a Python function that computes the Euclidean distances between two sets of points. The x-coordinate for the first point will be stored in a column vector `X_1`, the y-coordinate for the first point in `Y_1`, the x-coordinate for the second point will be stored in a column vector `X_2`, the y-coordinate for the second point in `Y_2`. Note that, for a single pair of points, $(x_1, y_1)$ and $(x_2, y_2)$, the\n",
    "Euclidean distance can be obtained from the distance formula:\n",
    "\n",
    "$$ \\text{Euclidean distance} = \\sqrt{(x_1-x_2)^2 + (y_1-y_2)^2} $$"
   ]
  },
  {
   "cell_type": "code",
   "execution_count": null,
   "metadata": {
    "tags": []
   },
   "outputs": [],
   "source": [
    "def euclidean_distance(x1, y1, x2, y2):\n",
    "    \"\"\"\n",
    "    Arguments\n",
    "    ---------\n",
    "    x1 : The x-coordinates for the first set of points\n",
    "    y1 : The y-coordinates for the first set of points\n",
    "    x2 : The x-coordinates for the second set of points\n",
    "    y2 : The y-coordinates for the second set of points\n",
    "    \n",
    "    Returns\n",
    "    -------\n",
    "    distance : Euclidean distance between points\n",
    "    \"\"\"\n",
    "    x = ...\n",
    "    y = ...\n",
    "    distance = ...\n",
    "    return distance"
   ]
  },
  {
   "cell_type": "code",
   "execution_count": null,
   "metadata": {
    "tags": []
   },
   "outputs": [],
   "source": [
    "euclidean_distance(4,5,3,7)"
   ]
  },
  {
   "cell_type": "code",
   "execution_count": null,
   "metadata": {
    "deletable": false,
    "editable": false
   },
   "outputs": [],
   "source": [
    "grader.check(\"q3.0\")"
   ]
  },
  {
   "cell_type": "markdown",
   "metadata": {},
   "source": [
    "## Question 3.1\n",
    "\n",
    "Now that you have written a function to calculate the Euclidean distance between two points, recreate the function using default arguments of 0 for all inputs. Name your function `euclidean_distance_with_defaults`. The arguments should still be named `x1`, `y1`, `x2`, `y2`. Your function\n",
    "\n",
    "Write your function in the cell below (that contains the ellipsis `...`).\n",
    "\n",
    "Your function should be in the form:\n",
    "``` PYTHON\n",
    "def euclidean_distance_with_defaults(...):\n",
    "    x = ...\n",
    "    y = ...\n",
    "    distance = ...\n",
    "    return distance\n",
    "```"
   ]
  },
  {
   "cell_type": "code",
   "execution_count": null,
   "metadata": {
    "tags": []
   },
   "outputs": [],
   "source": [
    "..."
   ]
  },
  {
   "cell_type": "code",
   "execution_count": null,
   "metadata": {
    "tags": []
   },
   "outputs": [],
   "source": [
    "euclidean_distance_with_defaults(1,1)"
   ]
  },
  {
   "cell_type": "code",
   "execution_count": null,
   "metadata": {
    "deletable": false,
    "editable": false
   },
   "outputs": [],
   "source": [
    "grader.check(\"q3.1\")"
   ]
  },
  {
   "cell_type": "markdown",
   "metadata": {},
   "source": [
    "## Question 4\n",
    "\n",
    "A ball is launched in the air with initial velocity $v_o$ from an initial position of coordinates $(x_0, y_0)$ as illustrated below: \n",
    "\n",
    "<center> <img src=\"resources/E7_Lab2_1.jpg\" style=\"width: 300px;\"/> </center>\n",
    "<center> Figure 1: Ball launching at angle $\\theta$ from the x-axis with inital velocity $v_0$ </center>\n",
    "\n",
    "The ball is launched at an angle $\\theta$ (expressed in degrees) from the x-axis. The\n",
    "equations describing the motion (i.e. the position of the ball $(x(t), y(t)$) as a function\n",
    "of time $t$) of the ball are:\n",
    "\n",
    "$$ x(t) = x_0 + v_0 t \\cos(\\theta) $$\n",
    "$$ y(t) = y_0 + v_0 t \\sin(\\theta) - \\frac{1}{2}gt^2 $$\n",
    "\n",
    "where $g$ is the gravitational acceleration ($g = 9.81 m / s^2$). Since $\\theta$ is given in degrees,\n",
    "you will want to convert it first into radians before using the `sin` or `cos` functions."
   ]
  },
  {
   "cell_type": "markdown",
   "metadata": {},
   "source": [
    "**Question 4.1:** Write a function that calculates the time at which the ball reaches the ground.\n",
    "\n",
    "Note that when the ball hits the ground, $y = 0$. Also, before writing your code,\n",
    "don't forget to use pen and paper to manipulate the equation(s) above and get a\n",
    "mathematical expression for time."
   ]
  },
  {
   "cell_type": "code",
   "execution_count": null,
   "metadata": {
    "tags": []
   },
   "outputs": [],
   "source": [
    "# run this cell to create a global variable g, but make sure you don't have any other global variables also named g\n",
    "g = 9.81"
   ]
  },
  {
   "cell_type": "code",
   "execution_count": null,
   "metadata": {
    "tags": []
   },
   "outputs": [],
   "source": [
    "def proj_time(y0, v0, theta):\n",
    "    b = ...\n",
    "    time = ...\n",
    "    return time"
   ]
  },
  {
   "cell_type": "code",
   "execution_count": null,
   "metadata": {
    "tags": []
   },
   "outputs": [],
   "source": [
    "proj_time(0, 15, 40)"
   ]
  },
  {
   "cell_type": "code",
   "execution_count": null,
   "metadata": {
    "deletable": false,
    "editable": false
   },
   "outputs": [],
   "source": [
    "grader.check(\"q4.1\")"
   ]
  },
  {
   "cell_type": "markdown",
   "metadata": {},
   "source": [
    "**Question 4.2:** Write a function that calculates the horizontal distance traveled by the ball before\n",
    "it reaches the ground. You can use the function `proj_time` and the equations of\n",
    "motion."
   ]
  },
  {
   "cell_type": "code",
   "execution_count": null,
   "metadata": {
    "tags": []
   },
   "outputs": [],
   "source": [
    "def proj_distance(y0, v0, theta):\n",
    "    time = ...\n",
    "    dist = ...\n",
    "    return dist"
   ]
  },
  {
   "cell_type": "code",
   "execution_count": null,
   "metadata": {
    "deletable": false,
    "editable": false
   },
   "outputs": [],
   "source": [
    "grader.check(\"q4.2\")"
   ]
  },
  {
   "cell_type": "code",
   "execution_count": null,
   "metadata": {
    "tags": []
   },
   "outputs": [],
   "source": [
    "import matplotlib.image as mpimg\n",
    "img = mpimg.imread('resources/animal.png')\n",
    "imgplot = plt.imshow(img)\n",
    "imgplot.axes.get_xaxis().set_visible(False)\n",
    "imgplot.axes.get_yaxis().set_visible(False)\n",
    "print(\"Congrats on finishing lab 2!\")\n",
    "plt.show()"
   ]
  },
  {
   "cell_type": "markdown",
   "metadata": {
    "deletable": false,
    "editable": false
   },
   "source": [
    "---\n",
    "\n",
    "To double-check your work, the cell below will rerun all of the autograder tests."
   ]
  },
  {
   "cell_type": "code",
   "execution_count": null,
   "metadata": {
    "deletable": false,
    "editable": false
   },
   "outputs": [],
   "source": [
    "grader.check_all()"
   ]
  },
  {
   "cell_type": "markdown",
   "metadata": {
    "deletable": false,
    "editable": false
   },
   "source": [
    "## Submission\n",
    "\n",
    "Make sure you have run all cells in your notebook in order before running the cell below, so that all images/graphs appear in the output. The cell below will generate a zip file for you to submit. **Please save before exporting!**\n",
    "\n",
    "Make sure you submit the .zip file to Gradescope."
   ]
  },
  {
   "cell_type": "code",
   "execution_count": null,
   "metadata": {
    "deletable": false,
    "editable": false
   },
   "outputs": [],
   "source": [
    "# Save your notebook first, then run this cell to export your submission.\n",
    "grader.export()"
   ]
  },
  {
   "cell_type": "markdown",
   "metadata": {},
   "source": [
    " "
   ]
  }
 ],
 "metadata": {
  "anaconda-cloud": {},
  "kernelspec": {
   "display_name": "Python 3 (ipykernel)",
   "language": "python",
   "name": "python3"
  },
  "language_info": {
   "codemirror_mode": {
    "name": "ipython",
    "version": 3
   },
   "file_extension": ".py",
   "mimetype": "text/x-python",
   "name": "python",
   "nbconvert_exporter": "python",
   "pygments_lexer": "ipython3",
   "version": "3.9.15"
  },
  "otter": {
   "OK_FORMAT": true,
   "assignment_name": "lab02",
   "tests": {
    "q1": {
     "name": "q1",
     "points": 2,
     "suites": [
      {
       "cases": [
        {
         "code": ">>> assert get_hash(solve_quadratic(1, -7, 10)) == '5bb72c37ab645d2a79a1b1d0a32a17de'\n>>> assert get_hash(solve_quadratic(5, -23, 2)) == '582fa9d143bfec5b7bfba577d5839f89'\n",
         "hidden": false,
         "locked": false
        }
       ],
       "scored": true,
       "setup": "",
       "teardown": "",
       "type": "doctest"
      }
     ]
    },
    "q2.0": {
     "name": "q2.0",
     "points": 2,
     "suites": [
      {
       "cases": [
        {
         "code": ">>> assert get_hash(c14_dating(10000)) == 'e5c2554f72f6c2498e4446e2da5a9508'\n>>> assert get_hash(c14_dating(5730)) == '6d1a992c65604247a78a358d7ae42f0a'\n",
         "hidden": false,
         "locked": false
        }
       ],
       "scored": true,
       "setup": "",
       "teardown": "",
       "type": "doctest"
      }
     ]
    },
    "q2.1": {
     "name": "q2.1",
     "points": 2,
     "suites": [
      {
       "cases": [
        {
         "code": ">>> assert get_hash(exp_decay(10000,decay_constant=0.005)) == '66233a3eb22ff7c0c4e62df274cc5258'\n>>> assert get_hash(exp_decay(5700,decay_constant=0.0005)) == '2bf78b853f1afdbfaf5b82123363ec06'\n>>> assert get_hash(exp_decay(6000)) == '0cf1764baab2d028cd7a71aacd24b5ac' , 'check defult argument'\n",
         "hidden": false,
         "locked": false
        }
       ],
       "scored": true,
       "setup": "",
       "teardown": "",
       "type": "doctest"
      }
     ]
    },
    "q3.0": {
     "name": "q3.0",
     "points": 2,
     "suites": [
      {
       "cases": [
        {
         "code": ">>> assert get_hash(euclidean_distance(6,3,3,7)) == '336669dbe720233ed5577ddf81b653d3'\n>>> assert get_hash(euclidean_distance(5.5,3.1,8.7,2.7)) == 'e704209f3a5cbd59f3c54004b9eb96e2'\n",
         "hidden": false,
         "locked": false
        }
       ],
       "scored": true,
       "setup": "",
       "teardown": "",
       "type": "doctest"
      }
     ]
    },
    "q3.1": {
     "name": "q3.1",
     "points": 2,
     "suites": [
      {
       "cases": [
        {
         "code": ">>> assert get_hash(euclidean_distance_with_defaults()) == get_hash(euclidean_distance_with_defaults(0,0,0,0))\n>>> assert get_hash(euclidean_distance_with_defaults(y2=5,y1=4,x2=1,x1=3)) == '8c14832b68cbad6cd2cd54ee0a29d42f'\n>>> assert get_hash(euclidean_distance_with_defaults(x2=4.5,y1=3.9)) == 'f34c28133868a9adf9b1dbe7277c5eb7'\n",
         "hidden": false,
         "locked": false
        }
       ],
       "scored": true,
       "setup": "",
       "teardown": "",
       "type": "doctest"
      }
     ]
    },
    "q4.1": {
     "name": "q4.1",
     "points": 1,
     "suites": [
      {
       "cases": [
        {
         "code": ">>> g = 9.81\n>>> assert get_hash(proj_time(0, 15, 40)) == '085a4d0b759822dd9066e0f3eebe96b5'\n",
         "hidden": false,
         "locked": false
        }
       ],
       "scored": true,
       "setup": "",
       "teardown": "",
       "type": "doctest"
      }
     ]
    },
    "q4.2": {
     "name": "q4.2",
     "points": 1,
     "suites": [
      {
       "cases": [
        {
         "code": ">>> assert get_hash(proj_distance(0, 15, 40)) == '901c8912f3bd90f4c881badd02f571cb'\n",
         "hidden": false,
         "locked": false
        }
       ],
       "scored": true,
       "setup": "",
       "teardown": "",
       "type": "doctest"
      }
     ]
    }
   }
  }
 },
 "nbformat": 4,
 "nbformat_minor": 4
}
