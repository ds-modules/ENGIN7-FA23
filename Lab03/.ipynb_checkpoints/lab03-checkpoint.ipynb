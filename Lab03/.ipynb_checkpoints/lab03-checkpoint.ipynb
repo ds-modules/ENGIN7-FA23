{
 "cells": [
  {
   "cell_type": "code",
   "execution_count": 1,
   "metadata": {
    "deletable": false,
    "editable": false
   },
   "outputs": [],
   "source": [
    "# Initialize Otter\n",
    "import otter\n",
    "grader = otter.Notebook(\"lab03.ipynb\")"
   ]
  },
  {
   "cell_type": "markdown",
   "metadata": {},
   "source": [
    "# E7: Introduction to Computer Programming for Scientists and Engineers"
   ]
  },
  {
   "cell_type": "markdown",
   "metadata": {},
   "source": [
    "## Lab Assignment 3"
   ]
  },
  {
   "cell_type": "markdown",
   "metadata": {},
   "source": [
    "For each question, you will have to fill in one or more Python functions. We provide an autograder with a number of test cases that you can use to test your function. Note that the fact that your function works for all test cases thus provided does necessarily guarantee that it will work for all possible test cases relevant to the question. It is your responsibility to test your function thoroughly, to ensure that it will also work in situations not covered by the test cases provided.\n",
    "\n",
    "## Score Breakdown\n",
    "Question  | Points\n",
    ":---      | --:\n",
    "1.0 – 1.3 | 4.0\n",
    "2.0 – 2.1 | 4.0\n",
    "3.0 – 3.8 | 9.0\n",
    "4         | 4.0\n",
    "5.0 | 3.0\n",
    "5.1 | 1.0\n",
    "Total | 25.0"
   ]
  },
  {
   "cell_type": "code",
   "execution_count": 2,
   "metadata": {
    "tags": []
   },
   "outputs": [],
   "source": [
    "# Please run this cell, and do not modify the contents\n",
    "import numpy as np\n",
    "import math\n",
    "import matplotlib.pyplot as plt\n",
    "import re\n",
    "np.seterr(all='ignore');\n",
    "import hashlib\n",
    "def get_hash(num):\n",
    "    \"\"\"Helper function for assessing correctness\"\"\"\n",
    "    return hashlib.md5(str(num).encode()).hexdigest()"
   ]
  },
  {
   "cell_type": "markdown",
   "metadata": {},
   "source": [
    "## Introduction\n",
    "For this lab assignment, you will analyze water storage of three reservoirs in California from Jan-Dec 2022. First, you will clean and manipulate the data and then, you will calculate basic statistics for each reservoir.\n",
    "\n",
    "### Background\n",
    "The three reservoirs you will analyze are Lake Oroville, Shasta Lake, and Hetch Hetchy Reservoir. Shasta Lake and Lake Oroville are the largest and second-largest reservoirs in California, providing flood-control, hydropower, and water storage for the state. Shasta Lake is a key reservoir within the federal government's Central Valley Project. Similarly, Lake Oroville is a major reservoir in the state government's California State Water Project. Hetch Hetchy reservoir is within Yosemite National Park and provides water to the City of San Francisco and other counties in the San Francisco Bay Area.\n",
    "\n",
    "### Data\n",
    "We will read a text file that includes the monthly storage volumes for each reservoir, taken from January through December 2022, in units of acre-feet. We will provide you with the command to read the file, but in the future, you will learn how to read text files and other file types. In the code cell below, we are reading a text file and saving its values as `reservoir_data`. Run the cell below and do not modify its contents."
   ]
  },
  {
   "cell_type": "code",
   "execution_count": 3,
   "metadata": {},
   "outputs": [
    {
     "name": "stdout",
     "output_type": "stream",
     "text": [
      "[[1642000. 1621000.  294800.]\n",
      " [1655000. 1690000.  310000.]\n",
      " [1676000. 1735000.  295800.]\n",
      " [1917000. 1808000.  330700.]\n",
      " [1908000. 1815000.  360300.]\n",
      " [1721000. 1777000.  355900.]\n",
      " [1453000. 1683000.  330800.]\n",
      " [1311000. 1590000.  305100.]\n",
      " [1230000. 1515000.  281700.]\n",
      " [1102824. 1414226.  261680.]\n",
      " [ 964420. 1398822.  246236.]\n",
      " [1273042. 1523676.  254350.]]\n"
     ]
    }
   ],
   "source": [
    "# Please run this cell, and do not modify the contents\n",
    "reservoir_data = np.loadtxt('resources/res_vals_int.csv',delimiter='\\t')\n",
    "print(reservoir_data)"
   ]
  },
  {
   "cell_type": "markdown",
   "metadata": {},
   "source": [
    "The 12 rows correspond to the monthly storage volumes and the three columns correspond to the three reservoirs in the following order:\n",
    "1. Lake Oroville\n",
    "2. Shasta Lake\n",
    "3. Hetch Hetchy reservoir"
   ]
  },
  {
   "cell_type": "markdown",
   "metadata": {},
   "source": [
    "## Question 1.0\n",
    "\n",
    "Create a list `reservoir_names` that includs the following two elements: `'Lake Oroville'` and `'Shasta'` (in the same order as listed here)."
   ]
  },
  {
   "cell_type": "code",
   "execution_count": 31,
   "metadata": {
    "jupyter": {
     "outputs_hidden": true
    },
    "tags": []
   },
   "outputs": [],
   "source": [
    "# ANSWER CELL\n",
    "reservoir_names = ['Lake Oroville','Shasta']"
   ]
  },
  {
   "cell_type": "code",
   "execution_count": 32,
   "metadata": {},
   "outputs": [],
   "source": [
    "# Do not edit this cell. This exists for grading purposes.\n",
    "q1_0 = reservoir_names.copy()"
   ]
  },
  {
   "cell_type": "code",
   "execution_count": 33,
   "metadata": {
    "deletable": false,
    "editable": false
   },
   "outputs": [
    {
     "data": {
      "text/html": [
       "<p><strong><pre style='display: inline;'>q1.0</pre></strong> passed! 🍀</p>"
      ],
      "text/plain": [
       "q1.0 results: All test cases passed!"
      ]
     },
     "execution_count": 33,
     "metadata": {},
     "output_type": "execute_result"
    }
   ],
   "source": [
    "grader.check(\"q1.0\")"
   ]
  },
  {
   "cell_type": "markdown",
   "metadata": {},
   "source": [
    "## Question 1.1\n",
    "\n",
    "In the list `reservoir_names`, Shasta Lake is listed as just `Shasta`. Change the value from `Shasta` to `Shasta Lake`. Do not create a new variable."
   ]
  },
  {
   "cell_type": "code",
   "execution_count": 34,
   "metadata": {
    "jupyter": {
     "outputs_hidden": true
    },
    "tags": []
   },
   "outputs": [],
   "source": [
    "# ANSWER CELL\n",
    "reservoir_names[-1] = 'Shasta Lake'"
   ]
  },
  {
   "cell_type": "code",
   "execution_count": 35,
   "metadata": {},
   "outputs": [],
   "source": [
    "# Do not edit this cell. This exists for grading purposes.\n",
    "q1_1 = reservoir_names.copy()"
   ]
  },
  {
   "cell_type": "code",
   "execution_count": 36,
   "metadata": {
    "deletable": false,
    "editable": false
   },
   "outputs": [
    {
     "data": {
      "text/html": [
       "<p><strong><pre style='display: inline;'>q1.1</pre></strong> passed! 🙌</p>"
      ],
      "text/plain": [
       "q1.1 results: All test cases passed!"
      ]
     },
     "execution_count": 36,
     "metadata": {},
     "output_type": "execute_result"
    }
   ],
   "source": [
    "grader.check(\"q1.1\")"
   ]
  },
  {
   "cell_type": "markdown",
   "metadata": {},
   "source": [
    "## Question 1.2\n",
    "Our list `reservoir_names` only has two entries! We are missing the third entry `Hetch Hetchy Reservoir`. Add `Hetch Hetchy Reservoir` to the end of the `reservoir_names` list. Do not redefine the list. Use appropriate list methods that allow you to add an entry at the end."
   ]
  },
  {
   "cell_type": "code",
   "execution_count": 37,
   "metadata": {
    "jupyter": {
     "outputs_hidden": true
    },
    "tags": []
   },
   "outputs": [],
   "source": [
    "# ANSWER CELL\n",
    "reservoir_names.append('Hetch Hetchy Reservoir')"
   ]
  },
  {
   "cell_type": "code",
   "execution_count": 38,
   "metadata": {},
   "outputs": [],
   "source": [
    "# Do not edit this cell. This exists for grading purposes.\n",
    "q1_2 = reservoir_names.copy()"
   ]
  },
  {
   "cell_type": "code",
   "execution_count": 39,
   "metadata": {
    "deletable": false,
    "editable": false
   },
   "outputs": [
    {
     "data": {
      "text/html": [
       "<p><strong><pre style='display: inline;'>q1.2</pre></strong> passed! 🍀</p>"
      ],
      "text/plain": [
       "q1.2 results: All test cases passed!"
      ]
     },
     "execution_count": 39,
     "metadata": {},
     "output_type": "execute_result"
    }
   ],
   "source": [
    "grader.check(\"q1.2\")"
   ]
  },
  {
   "cell_type": "markdown",
   "metadata": {},
   "source": [
    "## Question 1.3\n",
    "Now that you have the correct values in `reservoir_names`, check to see if certain reservoirs are in your list. Check if \"Pardee Reservoir\" is in the list of reservoirs using list methods. Write your boolean statement and assign it to `q1_3`.\n",
    "\n",
    "*Note:* Pardee Reservoir is a major reservoir for East Bay Municipal Utility District."
   ]
  },
  {
   "cell_type": "code",
   "execution_count": 44,
   "metadata": {
    "jupyter": {
     "outputs_hidden": true
    },
    "tags": []
   },
   "outputs": [
    {
     "data": {
      "text/plain": [
       "False"
      ]
     },
     "execution_count": 44,
     "metadata": {},
     "output_type": "execute_result"
    }
   ],
   "source": [
    "# ANSWER CELL\n",
    "q1_3 = 'Padee Reservoir' in reservoir_names\n",
    "q1_3"
   ]
  },
  {
   "cell_type": "code",
   "execution_count": 45,
   "metadata": {
    "deletable": false,
    "editable": false
   },
   "outputs": [
    {
     "data": {
      "text/html": [
       "<p><strong><pre style='display: inline;'>q1.3</pre></strong> passed! 🌟</p>"
      ],
      "text/plain": [
       "q1.3 results: All test cases passed!"
      ]
     },
     "execution_count": 45,
     "metadata": {},
     "output_type": "execute_result"
    }
   ],
   "source": [
    "grader.check(\"q1.3\")"
   ]
  },
  {
   "cell_type": "markdown",
   "metadata": {},
   "source": [
    "## Question 2\n",
    "In this question, you will create a range of numbers 1-12 to represent the rows within the `reservoir_data` array (i.e., the months Jan - Dec)."
   ]
  },
  {
   "cell_type": "markdown",
   "metadata": {},
   "source": [
    "## Question 2.0\n",
    "Create range of integers from 1 to 12, inclusive, using the `range` function. Store the range of numbers as `months_range`."
   ]
  },
  {
   "cell_type": "code",
   "execution_count": 49,
   "metadata": {
    "tags": []
   },
   "outputs": [],
   "source": [
    "# ANSWER CELL\n",
    "months_range = range(1,13)"
   ]
  },
  {
   "cell_type": "code",
   "execution_count": 50,
   "metadata": {
    "deletable": false,
    "editable": false
   },
   "outputs": [
    {
     "data": {
      "text/html": [
       "<p><strong><pre style='display: inline;'>q2.0</pre></strong> passed! 🎉</p>"
      ],
      "text/plain": [
       "q2.0 results: All test cases passed!"
      ]
     },
     "execution_count": 50,
     "metadata": {},
     "output_type": "execute_result"
    }
   ],
   "source": [
    "grader.check(\"q2.0\")"
   ]
  },
  {
   "cell_type": "markdown",
   "metadata": {},
   "source": [
    "## Question 2.1\n",
    "Convert `months_range` to a numpy array and to a list. Store the values as `months_nparray` and `months_list` respectively. The variables `months_nparray` and `months_list` should contain the integers 1 through 12, just like `months_range`."
   ]
  },
  {
   "cell_type": "code",
   "execution_count": 51,
   "metadata": {
    "tags": []
   },
   "outputs": [
    {
     "name": "stdout",
     "output_type": "stream",
     "text": [
      "[ 1  2  3  4  5  6  7  8  9 10 11 12] [1, 2, 3, 4, 5, 6, 7, 8, 9, 10, 11, 12]\n"
     ]
    }
   ],
   "source": [
    "# ANSWER CELL\n",
    "months_nparray = np.array(months_range)\n",
    "months_list = list(months_range)\n",
    "print(months_nparray , months_list)"
   ]
  },
  {
   "cell_type": "code",
   "execution_count": 52,
   "metadata": {
    "deletable": false,
    "editable": false
   },
   "outputs": [
    {
     "data": {
      "text/html": [
       "<p><strong><pre style='display: inline;'>q2.1</pre></strong> passed! ✨</p>"
      ],
      "text/plain": [
       "q2.1 results: All test cases passed!"
      ]
     },
     "execution_count": 52,
     "metadata": {},
     "output_type": "execute_result"
    }
   ],
   "source": [
    "grader.check(\"q2.1\")"
   ]
  },
  {
   "cell_type": "markdown",
   "metadata": {},
   "source": [
    "## Question 3\n",
    "Now you will start to analyze the reservoir data. For this question, do not edit `reservoir_data`. Refer to the instructions at the beginning of the assignment on which column of the data corresponds to which reservoir."
   ]
  },
  {
   "cell_type": "markdown",
   "metadata": {},
   "source": [
    "## Question 3.0\n",
    "First, slice the array to select the column of data corresponding to Lake Oroville.\n",
    "\n",
    "Store the sliced data as `OrovilleData`."
   ]
  },
  {
   "cell_type": "code",
   "execution_count": 65,
   "metadata": {
    "tags": []
   },
   "outputs": [
    {
     "data": {
      "text/plain": [
       "array([1642000., 1655000., 1676000., 1917000., 1908000., 1721000.,\n",
       "       1453000., 1311000., 1230000., 1102824.,  964420., 1273042.])"
      ]
     },
     "execution_count": 65,
     "metadata": {},
     "output_type": "execute_result"
    }
   ],
   "source": [
    "# ANSWER CELL\n",
    "OrovilleData = reservoir_data[:,0]\n",
    "OrovilleData"
   ]
  },
  {
   "cell_type": "code",
   "execution_count": 66,
   "metadata": {
    "deletable": false,
    "editable": false
   },
   "outputs": [
    {
     "data": {
      "text/html": [
       "<p><strong><pre style='display: inline;'>q3.0</pre></strong> passed! 🙌</p>"
      ],
      "text/plain": [
       "q3.0 results: All test cases passed!"
      ]
     },
     "execution_count": 66,
     "metadata": {},
     "output_type": "execute_result"
    }
   ],
   "source": [
    "grader.check(\"q3.0\")"
   ]
  },
  {
   "cell_type": "markdown",
   "metadata": {},
   "source": [
    "## Question 3.1\n",
    "Slice the array to select the winter storage volumes for Hetch Hetchy Reservoir. For this question, use January, February, and March as the winter months.\n",
    "\n",
    "Store the sliced data as `WinterHetchHetchy`."
   ]
  },
  {
   "cell_type": "code",
   "execution_count": 71,
   "metadata": {
    "tags": []
   },
   "outputs": [
    {
     "data": {
      "text/plain": [
       "array([294800., 310000., 295800.])"
      ]
     },
     "execution_count": 71,
     "metadata": {},
     "output_type": "execute_result"
    }
   ],
   "source": [
    "# ANSWER CELL\n",
    "WinterHetchHetchy = reservoir_data[0:3,2]\n",
    "WinterHetchHetchy"
   ]
  },
  {
   "cell_type": "code",
   "execution_count": 72,
   "metadata": {
    "deletable": false,
    "editable": false
   },
   "outputs": [
    {
     "data": {
      "text/html": [
       "<p><strong><pre style='display: inline;'>q3.1</pre></strong> passed! 🌈</p>"
      ],
      "text/plain": [
       "q3.1 results: All test cases passed!"
      ]
     },
     "execution_count": 72,
     "metadata": {},
     "output_type": "execute_result"
    }
   ],
   "source": [
    "grader.check(\"q3.1\")"
   ]
  },
  {
   "cell_type": "markdown",
   "metadata": {},
   "source": [
    "## Question 3.2\n",
    "Slice the array to select the storage volumes for the evens months (February, April, ..., October, and December) for Lake Oroville and Hetch Hetchy Reservoir only.\n",
    "\n",
    "Store the sliced data as `EvenMonths`."
   ]
  },
  {
   "cell_type": "code",
   "execution_count": 76,
   "metadata": {
    "tags": []
   },
   "outputs": [
    {
     "data": {
      "text/plain": [
       "array([[1655000.,  310000.],\n",
       "       [1917000.,  330700.],\n",
       "       [1721000.,  355900.],\n",
       "       [1311000.,  305100.],\n",
       "       [1102824.,  261680.],\n",
       "       [1273042.,  254350.]])"
      ]
     },
     "execution_count": 76,
     "metadata": {},
     "output_type": "execute_result"
    }
   ],
   "source": [
    "# ANSWER CELL\n",
    "EvenMonths = reservoir_data[1::2,[0,2]]\n",
    "EvenMonths"
   ]
  },
  {
   "cell_type": "code",
   "execution_count": 77,
   "metadata": {
    "deletable": false,
    "editable": false
   },
   "outputs": [
    {
     "data": {
      "text/html": [
       "<p><strong><pre style='display: inline;'>q3.2</pre></strong> passed! 🌈</p>"
      ],
      "text/plain": [
       "q3.2 results: All test cases passed!"
      ]
     },
     "execution_count": 77,
     "metadata": {},
     "output_type": "execute_result"
    }
   ],
   "source": [
    "grader.check(\"q3.2\")"
   ]
  },
  {
   "cell_type": "markdown",
   "metadata": {},
   "source": [
    "## Question 3.3\n",
    "For each month, how much more water was stored in Lake Oroville than in Hetch Hetchy? Report your answer in thousand acre-feet (TAF).\n",
    "\n",
    "Store the differences in thousand acre-feet as `Diff`.\n",
    "\n",
    "*Hint*: Your answer should be an array which includes the storage difference for each month. This can be achieved using arithmetic operations on slices of the array. Divide by 1000 to convert from acre-feet to TAF."
   ]
  },
  {
   "cell_type": "code",
   "execution_count": 82,
   "metadata": {
    "tags": []
   },
   "outputs": [],
   "source": [
    "# ANSWER CELL\n",
    "Diff = (reservoir_data[:,0] - reservoir_data[:,2])/1000"
   ]
  },
  {
   "cell_type": "code",
   "execution_count": 83,
   "metadata": {
    "deletable": false,
    "editable": false
   },
   "outputs": [
    {
     "data": {
      "text/html": [
       "<p><strong><pre style='display: inline;'>q3.3</pre></strong> passed! 🌟</p>"
      ],
      "text/plain": [
       "q3.3 results: All test cases passed!"
      ]
     },
     "execution_count": 83,
     "metadata": {},
     "output_type": "execute_result"
    }
   ],
   "source": [
    "grader.check(\"q3.3\")"
   ]
  },
  {
   "cell_type": "markdown",
   "metadata": {},
   "source": [
    "## Question 3.4\n",
    "Find the mean storage volume for Summer (July through September) for Shasta Lake. California receives very little rainfall in the summer months (July through September), so reservoir storage during these months is of particular interest.\n",
    "\n",
    "Store the mean value as `SummerMeanStorage`.\n",
    "\n",
    "*Hint*: Slice the data to the months and reservoir of interest, then calculate the mean of the sliced array."
   ]
  },
  {
   "cell_type": "code",
   "execution_count": 102,
   "metadata": {
    "tags": []
   },
   "outputs": [
    {
     "data": {
      "text/plain": [
       "1596000.0"
      ]
     },
     "execution_count": 102,
     "metadata": {},
     "output_type": "execute_result"
    }
   ],
   "source": [
    "# ANSWER CELL\n",
    "SummerMeanStorage = np.mean(reservoir_data[6:9,1])\n",
    "SummerMeanStorage"
   ]
  },
  {
   "cell_type": "code",
   "execution_count": 87,
   "metadata": {
    "deletable": false,
    "editable": false
   },
   "outputs": [
    {
     "data": {
      "text/html": [
       "<p><strong><pre style='display: inline;'>q3.4</pre></strong> passed! 🌈</p>"
      ],
      "text/plain": [
       "q3.4 results: All test cases passed!"
      ]
     },
     "execution_count": 87,
     "metadata": {},
     "output_type": "execute_result"
    }
   ],
   "source": [
    "grader.check(\"q3.4\")"
   ]
  },
  {
   "cell_type": "markdown",
   "metadata": {},
   "source": [
    "## Question 3.5\n",
    "Check if the the mean value you computed above, `SummerMeanStorage`, exists in `reservoir_data`. Write your boolean statement and assign it to `q3_5`."
   ]
  },
  {
   "cell_type": "code",
   "execution_count": 90,
   "metadata": {
    "tags": []
   },
   "outputs": [
    {
     "data": {
      "text/plain": [
       "False"
      ]
     },
     "execution_count": 90,
     "metadata": {},
     "output_type": "execute_result"
    }
   ],
   "source": [
    "# ANSWER CELL\n",
    "q3_5 = SummerMeanStorage in reservoir_data\n",
    "q3_5"
   ]
  },
  {
   "cell_type": "code",
   "execution_count": 91,
   "metadata": {
    "deletable": false,
    "editable": false
   },
   "outputs": [
    {
     "data": {
      "text/html": [
       "<p><strong><pre style='display: inline;'>q3.5</pre></strong> passed! 🎉</p>"
      ],
      "text/plain": [
       "q3.5 results: All test cases passed!"
      ]
     },
     "execution_count": 91,
     "metadata": {},
     "output_type": "execute_result"
    }
   ],
   "source": [
    "grader.check(\"q3.5\")"
   ]
  },
  {
   "cell_type": "markdown",
   "metadata": {},
   "source": [
    "## Question 3.6\n",
    "For each month, did the storage volume in **Lake Oroville and Shasta Lake** exceed `SummerMeanStorage`?\n",
    "\n",
    "You should answer this by creating a logical expression using the array `reservoir_data`. The output should be another array that includes `True` or `False` for each month, depending on whether each month had storages higher than `SummerMeanStorage` for both Lake Oroville and Shasta Lake. This should be stored in `q3_6`."
   ]
  },
  {
   "cell_type": "code",
   "execution_count": 107,
   "metadata": {
    "tags": []
   },
   "outputs": [
    {
     "data": {
      "text/plain": [
       "array([ True,  True,  True,  True,  True,  True, False, False, False,\n",
       "       False, False, False])"
      ]
     },
     "execution_count": 107,
     "metadata": {},
     "output_type": "execute_result"
    }
   ],
   "source": [
    "# ANSWER CELL\n",
    "q3_6 = (reservoir_data[:,0] > SummerMeanStorage) & (reservoir_data[:,1] > SummerMeanStorage)\n",
    "q3_6"
   ]
  },
  {
   "cell_type": "code",
   "execution_count": 108,
   "metadata": {
    "deletable": false,
    "editable": false
   },
   "outputs": [
    {
     "data": {
      "text/html": [
       "<p><strong><pre style='display: inline;'>q3.6</pre></strong> passed! 🌟</p>"
      ],
      "text/plain": [
       "q3.6 results: All test cases passed!"
      ]
     },
     "execution_count": 108,
     "metadata": {},
     "output_type": "execute_result"
    }
   ],
   "source": [
    "grader.check(\"q3.6\")"
   ]
  },
  {
   "cell_type": "markdown",
   "metadata": {},
   "source": [
    "## Question 3.7\n",
    "For how many months did the storage volume in **Lake Oroville and Shasta Lake** exceed `SummerMeanStorage`?\n",
    "\n",
    "Store the value as `q3_7`.\n",
    "\n",
    "*Hint:* True is equivalent to 1 and False is equivalent to 0. So, you can take the sum of the logical array from the previous question to find the total number of months for which the logical expression is True."
   ]
  },
  {
   "cell_type": "code",
   "execution_count": 109,
   "metadata": {
    "tags": []
   },
   "outputs": [],
   "source": [
    "# ANSWER CELL\n",
    "q3_7 = sum(q3_6)"
   ]
  },
  {
   "cell_type": "code",
   "execution_count": 110,
   "metadata": {
    "deletable": false,
    "editable": false
   },
   "outputs": [
    {
     "data": {
      "text/html": [
       "<p><strong><pre style='display: inline;'>q3.7</pre></strong> passed! 🍀</p>"
      ],
      "text/plain": [
       "q3.7 results: All test cases passed!"
      ]
     },
     "execution_count": 110,
     "metadata": {},
     "output_type": "execute_result"
    }
   ],
   "source": [
    "grader.check(\"q3.7\")"
   ]
  },
  {
   "cell_type": "markdown",
   "metadata": {},
   "source": [
    "## Question 3.8\n",
    "We would like to convert the data in `reservoir_data` from acre-feet to $m^3$. 1 acre-feet is equal to 1233.48 $m^3$.\n",
    "\n",
    "Store the value as `reservoir_data_m3`."
   ]
  },
  {
   "cell_type": "code",
   "execution_count": 113,
   "metadata": {
    "tags": []
   },
   "outputs": [],
   "source": [
    "# ANSWER CELL\n",
    "reservoir_data_m3 = reservoir_data*1233.48"
   ]
  },
  {
   "cell_type": "code",
   "execution_count": 114,
   "metadata": {
    "deletable": false,
    "editable": false
   },
   "outputs": [
    {
     "data": {
      "text/html": [
       "<p><strong><pre style='display: inline;'>q3.8</pre></strong> passed! ✨</p>"
      ],
      "text/plain": [
       "q3.8 results: All test cases passed!"
      ]
     },
     "execution_count": 114,
     "metadata": {},
     "output_type": "execute_result"
    }
   ],
   "source": [
    "grader.check(\"q3.8\")"
   ]
  },
  {
   "cell_type": "markdown",
   "metadata": {},
   "source": [
    "## Question 4\n",
    "Write a function called `ReservoirInfo` which takes information about reservoir storage as the inputs and outputs a statement: ‘In [Month Name], [Reservoir Name] held [Volume] acre-feet of water.’ where the words in brackets are the name of the input month, reservoir name, and storage volume, respectively. The function arguments should be:\n",
    "\n",
    "* `name`: reservoir's name as a string, exactly as it appears in `reservoir_names`\n",
    "* `month`: integer representing the month number, where 1 corresponds to January, 2 corresponds to February, etc.\n",
    "\n",
    "You should call the function arguments `name` and `month`. An example function call and its output are:\n",
    "\n",
    "```\n",
    ">>>ReservoirInfo(name = 'Lake Oroville', month = 1)\n",
    "'In January, Lake Oroville held 1642000 acre-feet of water.'\n",
    "```\n",
    "\n",
    "Important notes:\n",
    "* Your function should **return** the statement\n",
    "* [Month Name] should be the full month name of the input number. You may find the [`calendar.month_name[number]`](https://docs.python.org/3/library/calendar.html#calendar.month_name) attribute helpful. To use it, you have to import the module `calendar` first.\n",
    "* [Volume] should be obtained from `reservoir_data` based on the corresponding input month and reservoir name. You may find the list `index()` method helpful (returns the index of the specified element in the list). Note that [Volume] should be an **integer** and not float."
   ]
  },
  {
   "cell_type": "code",
   "execution_count": 145,
   "metadata": {
    "tags": []
   },
   "outputs": [],
   "source": [
    "# ANSWER CELL\n",
    "import calendar as cal\n",
    "def ReservoirInfo(name,month):\n",
    "    name_index = reservoir_names.index(name)\n",
    "    month_index = month-1\n",
    "    month_name = cal.month_name[month]\n",
    "    return 'In {month}, {lake} held {storage} acre-feet of water.'.format(month = month_name,\\\n",
    "                                                                         lake = name, \\\n",
    "                                                                         storage = int(reservoir_data[month_index,name_index]))"
   ]
  },
  {
   "cell_type": "code",
   "execution_count": 146,
   "metadata": {},
   "outputs": [
    {
     "data": {
      "text/plain": [
       "'In January, Lake Oroville held 1642000 acre-feet of water.'"
      ]
     },
     "execution_count": 146,
     "metadata": {},
     "output_type": "execute_result"
    }
   ],
   "source": [
    "ReservoirInfo('Lake Oroville',1)"
   ]
  },
  {
   "cell_type": "code",
   "execution_count": 147,
   "metadata": {
    "deletable": false,
    "editable": false
   },
   "outputs": [
    {
     "data": {
      "text/html": [
       "<p><strong><pre style='display: inline;'>q4</pre></strong> passed! 🌟</p>"
      ],
      "text/plain": [
       "q4 results: All test cases passed!"
      ]
     },
     "execution_count": 147,
     "metadata": {},
     "output_type": "execute_result"
    }
   ],
   "source": [
    "grader.check(\"q4\")"
   ]
  },
  {
   "cell_type": "markdown",
   "metadata": {},
   "source": [
    "## Question 5.0\n",
    "Finally for this assignment, you will define the input data and title string for a pre-made plotting function called `plot_storage`. The `plot_storage` function has two arguments:\n",
    "* `name`: reservoir's name as a string, exactly as it appears in `reservoir_names`\n",
    "* `data` is an array containing the storage data of the reservoir `name` (for only one reservoir)\n",
    "\n",
    "Inside the function `plot_storage`, define `title_string` as a format string to have the reservoir name input, `name`, followed by \"storage in 2022\". For example, a graph of Lake Oroville should have the title \"Lake Oroville storage in 2022\". The variable `title_string` should automatically update based on the input `name`. Be careful with your string formatting. Any small modification, such as extra space or character, will result in a failed test.\n",
    "\n",
    "Additionally, inside the function `plot_storage`, define `x_label` and `y_label` as format strings for the axes labels of your plot. Your labels should include the correct units \"month\" and \"acre-feet\". Be careful with your string formatting. Any misspelling will result in a failed test.\n",
    "\n",
    "Once you have updated the missing statements in `plot_storage`, you will plot Hetch Hetchy data using the `plot_storage` function.\n",
    "Define `name_input` as the value from the `reservoir_names` list corresponding to Hetch Hetchy. \n",
    "Define `data_input` as an array slice from `reservoir_data` corresponding to Hetch Hetchy storage data.\n",
    "\n",
    "Finally, call the function `plot_storage` and pass the parameters `name_input` and `data_input`. Assign the function call to `q5_0`.\n",
    "\n",
    "*Note:* This question relies on the completion of Q1.2 and Q2.0."
   ]
  },
  {
   "cell_type": "code",
   "execution_count": 150,
   "metadata": {
    "tags": []
   },
   "outputs": [
    {
     "data": {
      "image/png": "[encoded data removed]",
      "text/plain": [
       "<Figure size 640x480 with 1 Axes>"
      ]
     },
     "metadata": {},
     "output_type": "display_data"
    }
   ],
   "source": [
    "# ANSWER CELL\n",
    "def plot_storage(name, data):\n",
    "    title_string = '{lake} storage in 2022'.format(lake = name)\n",
    "    x_label = 'Time, month'\n",
    "    y_label = 'Storage, acre-feet'\n",
    "    \n",
    "    # Do not edit the function code below this line.\n",
    "    plt.plot(months_range, data)\n",
    "    plt.xlabel(x_label)\n",
    "    plt.ylabel(y_label)\n",
    "    plt.title(title_string)\n",
    "    plt.show()\n",
    "    return title_string , x_label , y_label\n",
    "\n",
    "name_input = reservoir_names[2]\n",
    "data_input = reservoir_data[:,2]\n",
    "\n",
    "# Run the below code, do not edit\n",
    "q5_0 = plot_storage(name_input, data_input)"
   ]
  },
  {
   "cell_type": "code",
   "execution_count": 151,
   "metadata": {
    "deletable": false,
    "editable": false
   },
   "outputs": [
    {
     "data": {
      "text/html": [
       "<p><strong><pre style='display: inline;'>q5.0</pre></strong> passed! 🎉</p>"
      ],
      "text/plain": [
       "q5.0 results: All test cases passed!"
      ]
     },
     "execution_count": 151,
     "metadata": {},
     "output_type": "execute_result"
    }
   ],
   "source": [
    "grader.check(\"q5.0\")"
   ]
  },
  {
   "cell_type": "markdown",
   "metadata": {},
   "source": [
    "## Question 5.1\n",
    "In Q5.0, all three outputs from the `plot_storage` function were saved as a single variable called `q5_0`. \n",
    "\n",
    "Evaluate the type of `q5_0` and save the type as `q5_1a`.\\\n",
    "Evaluate the length of `q5_0` and save the length as `q5_1b`."
   ]
  },
  {
   "cell_type": "code",
   "execution_count": 152,
   "metadata": {
    "tags": []
   },
   "outputs": [
    {
     "name": "stdout",
     "output_type": "stream",
     "text": [
      "Type: <class 'tuple'> \n",
      "Length: 3\n"
     ]
    }
   ],
   "source": [
    "# ANSWER CELL\n",
    "q5_1a = type(q5_0)\n",
    "q5_1b = len(q5_0)\n",
    "print(f'Type: {q5_1a} \\nLength: {q5_1b}')"
   ]
  },
  {
   "cell_type": "code",
   "execution_count": 155,
   "metadata": {
    "deletable": false,
    "editable": false
   },
   "outputs": [
    {
     "data": {
      "text/html": [
       "<p><strong><pre style='display: inline;'>q5.1</pre></strong> passed! 🙌</p>"
      ],
      "text/plain": [
       "q5.1 results: All test cases passed!"
      ]
     },
     "execution_count": 155,
     "metadata": {},
     "output_type": "execute_result"
    }
   ],
   "source": [
    "grader.check(\"q5.1\")"
   ]
  },
  {
   "cell_type": "code",
   "execution_count": 156,
   "metadata": {},
   "outputs": [
    {
     "name": "stdout",
     "output_type": "stream",
     "text": [
      "Congrats on finishing lab 3!\n"
     ]
    },
    {
     "data": {
      "image/png": "[encoded data removed]",
      "text/plain": [
       "<Figure size 640x480 with 1 Axes>"
      ]
     },
     "metadata": {},
     "output_type": "display_data"
    }
   ],
   "source": [
    "import matplotlib.image as mpimg\n",
    "img = mpimg.imread('resources/animal.jpg')\n",
    "imgplot = plt.imshow(img)\n",
    "imgplot.axes.get_xaxis().set_visible(False)\n",
    "imgplot.axes.get_yaxis().set_visible(False)\n",
    "print(\"Congrats on finishing lab 3!\")\n",
    "plt.show()"
   ]
  },
  {
   "cell_type": "markdown",
   "metadata": {
    "deletable": false,
    "editable": false
   },
   "source": [
    "---\n",
    "\n",
    "To double-check your work, the cell below will rerun all of the autograder tests."
   ]
  },
  {
   "cell_type": "code",
   "execution_count": 157,
   "metadata": {
    "deletable": false,
    "editable": false
   },
   "outputs": [
    {
     "data": {
      "text/plain": [
       "q1.0 results: All test cases passed!\n",
       "\n",
       "q1.1 results: All test cases passed!\n",
       "\n",
       "q1.2 results: All test cases passed!\n",
       "\n",
       "q1.3 results: All test cases passed!\n",
       "\n",
       "q2.0 results: All test cases passed!\n",
       "\n",
       "q2.1 results: All test cases passed!\n",
       "\n",
       "q3.0 results: All test cases passed!\n",
       "\n",
       "q3.1 results: All test cases passed!\n",
       "\n",
       "q3.2 results: All test cases passed!\n",
       "\n",
       "q3.3 results: All test cases passed!\n",
       "\n",
       "q3.4 results: All test cases passed!\n",
       "\n",
       "q3.5 results: All test cases passed!\n",
       "\n",
       "q3.6 results: All test cases passed!\n",
       "\n",
       "q3.7 results: All test cases passed!\n",
       "\n",
       "q3.8 results: All test cases passed!\n",
       "\n",
       "q4 results: All test cases passed!\n",
       "\n",
       "q5.0 results: All test cases passed!\n",
       "\n",
       "q5.1 results: All test cases passed!"
      ]
     },
     "execution_count": 157,
     "metadata": {},
     "output_type": "execute_result"
    }
   ],
   "source": [
    "grader.check_all()"
   ]
  },
  {
   "cell_type": "markdown",
   "metadata": {
    "deletable": false,
    "editable": false
   },
   "source": [
    "## Submission\n",
    "\n",
    "Make sure you have run all cells in your notebook in order before running the cell below, so that all images/graphs appear in the output. The cell below will generate a zip file for you to submit. **Please save before exporting!**\n",
    "\n",
    "Make sure you submit the .zip file to Gradescope."
   ]
  },
  {
   "cell_type": "code",
   "execution_count": null,
   "metadata": {
    "deletable": false,
    "editable": false
   },
   "outputs": [],
   "source": [
    "# Save your notebook first, then run this cell to export your submission.\n",
    "grader.export(pdf=False)"
   ]
  },
  {
   "cell_type": "markdown",
   "metadata": {},
   "source": [
    " "
   ]
  }
 ],
 "metadata": {
  "anaconda-cloud": {},
  "kernelspec": {
   "display_name": "Python 3 (ipykernel)",
   "language": "python",
   "name": "python3"
  },
  "language_info": {
   "codemirror_mode": {
    "name": "ipython",
    "version": 3
   },
   "file_extension": ".py",
   "mimetype": "text/x-python",
   "name": "python",
   "nbconvert_exporter": "python",
   "pygments_lexer": "ipython3",
   "version": "3.9.15"
  },
  "otter": {
   "OK_FORMAT": true,
   "assignment_name": "lab03",
   "tests": {
    "q1.0": {
     "name": "q1.0",
     "points": 1,
     "suites": [
      {
       "cases": [
        {
         "code": ">>> assert get_hash(len(q1_0)) == 'c81e728d9d4c2f636f067f89cc14862c' , 'You should only have two values (for now).'\n>>> assert get_hash(q1_0[0]) == 'b947db2fb4b5855984587a0d4fabf896' , 'Check value of Lake Oroville entry'\n>>> assert get_hash(q1_0[1]) == '36d4e7e1bfd840adcaede22706f227f9' , 'Check value of Shasta Lake entry'\n>>> assert get_hash(type(q1_0)) == '425ed5b515f0a67c6316f0ec499f86bf', 'Check data type of reservoir_names'\n",
         "hidden": false,
         "locked": false
        }
       ],
       "scored": true,
       "setup": "",
       "teardown": "",
       "type": "doctest"
      }
     ]
    },
    "q1.1": {
     "name": "q1.1",
     "points": 1,
     "suites": [
      {
       "cases": [
        {
         "code": ">>> assert get_hash(len(q1_1)) == 'c81e728d9d4c2f636f067f89cc14862c' , 'You should still only have two values.'\n>>> assert get_hash(q1_1[0]) == 'b947db2fb4b5855984587a0d4fabf896' , 'Do not edit the Lake Oroville entry'\n>>> assert get_hash(q1_1[1]) =='dd7d39986c5d807a0248838b12acc7f3' , 'Check value of Shasta Lake entry'\n",
         "hidden": false,
         "locked": false
        }
       ],
       "scored": true,
       "setup": "",
       "teardown": "",
       "type": "doctest"
      }
     ]
    },
    "q1.2": {
     "name": "q1.2",
     "points": 1,
     "suites": [
      {
       "cases": [
        {
         "code": ">>> assert get_hash(len(q1_2)) == 'eccbc87e4b5ce2fe28308fd9f2a7baf3' , 'Check length of list'\n>>> assert get_hash(q1_2[-1].upper()) == 'e5bb3ed8fc109fa9f05b0d538a30edf8' , 'Check value Hetch Hetchy entry'\n>>> assert get_hash(q1_2[-1]) == 'f87798ca0a0f836f16995cc5c7955c2a' , 'Check value Hetch Hetchy entry'\n",
         "hidden": false,
         "locked": false
        }
       ],
       "scored": true,
       "setup": "",
       "teardown": "",
       "type": "doctest"
      }
     ]
    },
    "q1.3": {
     "name": "q1.3",
     "points": 1,
     "suites": [
      {
       "cases": [
        {
         "code": ">>> assert get_hash(q1_3) == 'f8320b26d30ab433c5a54546d21f414c'\n",
         "hidden": false,
         "locked": false
        }
       ],
       "scored": true,
       "setup": "",
       "teardown": "",
       "type": "doctest"
      }
     ]
    },
    "q2.0": {
     "name": "q2.0",
     "points": 2,
     "suites": [
      {
       "cases": [
        {
         "code": ">>> assert get_hash(months_range) == '5319bc85f3a29d6cd7b6b65df958ae78'\n>>> assert get_hash(months_range[0]) == 'c4ca4238a0b923820dcc509a6f75849b' , 'Check start value'\n>>> assert get_hash(months_range[-1]) == 'c20ad4d76fe97759aa27a0c99bff6710' , 'Check end value'\n>>> assert get_hash(sum(months_range)) == '35f4a8d465e6e1edc05f3d8ab658c551' , 'Check step size'\n",
         "hidden": false,
         "locked": false
        }
       ],
       "scored": true,
       "setup": "",
       "teardown": "",
       "type": "doctest"
      }
     ]
    },
    "q2.1": {
     "name": "q2.1",
     "points": 2,
     "suites": [
      {
       "cases": [
        {
         "code": ">>> assert get_hash(type(months_nparray)) == '30b39aca73d0815f5ca1a06af1412947'\n>>> assert get_hash(len(months_nparray)) == 'c20ad4d76fe97759aa27a0c99bff6710'\n>>> assert get_hash(sum(months_nparray)) == '35f4a8d465e6e1edc05f3d8ab658c551'\n",
         "hidden": false,
         "locked": false
        },
        {
         "code": ">>> assert get_hash(type(months_list)) == '425ed5b515f0a67c6316f0ec499f86bf'\n>>> assert get_hash(len(months_list)) == 'c20ad4d76fe97759aa27a0c99bff6710'\n>>> assert get_hash(sum(months_list)) == '35f4a8d465e6e1edc05f3d8ab658c551'\n",
         "hidden": false,
         "locked": false
        }
       ],
       "scored": true,
       "setup": "",
       "teardown": "",
       "type": "doctest"
      }
     ]
    },
    "q3.0": {
     "name": "q3.0",
     "points": 1,
     "suites": [
      {
       "cases": [
        {
         "code": ">>> assert get_hash(len(OrovilleData)) == 'c20ad4d76fe97759aa27a0c99bff6710' , 'Check length of selection'\n>>> assert get_hash(int(sum(OrovilleData))) == '97c2a51b4ddc77196fa563cd72957c1e' , 'Check which column corresponds to Lake Oroville'\n>>> assert get_hash(OrovilleData.astype(int)) == 'd57f3682934eebd41c73b68817c6592d'\n",
         "hidden": false,
         "locked": false
        }
       ],
       "scored": true,
       "setup": "",
       "teardown": "",
       "type": "doctest"
      }
     ]
    },
    "q3.1": {
     "name": "q3.1",
     "points": 1,
     "suites": [
      {
       "cases": [
        {
         "code": ">>> assert get_hash(len(WinterHetchHetchy)) == 'eccbc87e4b5ce2fe28308fd9f2a7baf3' , 'Check length of selection'\n>>> assert get_hash(int(sum(WinterHetchHetchy))) == '50037bd6578a3e4db86ac430e190f7cb' , 'Check which column corresponds to Lake Oroville'\n>>> assert get_hash(WinterHetchHetchy.astype(int)) == '7b67ebf4e3d0d34b2c62dba86b620e1b'\n",
         "hidden": false,
         "locked": false
        }
       ],
       "scored": true,
       "setup": "",
       "teardown": "",
       "type": "doctest"
      }
     ]
    },
    "q3.2": {
     "name": "q3.2",
     "points": 1,
     "suites": [
      {
       "cases": [
        {
         "code": ">>> assert get_hash(len(EvenMonths)) == '1679091c5a880faf6fb5e6087eb1b2dc' , 'Check length of selection'\n>>> assert get_hash(EvenMonths.shape) == 'e186b2fc415e1b6085ca473fcc974c66' , 'Check slice selection'\n>>> assert get_hash(EvenMonths.astype(int)) == 'b2f43e102ce4fe6ac1033f199ea9cd4b'\n",
         "hidden": false,
         "locked": false
        }
       ],
       "scored": true,
       "setup": "",
       "teardown": "",
       "type": "doctest"
      }
     ]
    },
    "q3.3": {
     "name": "q3.3",
     "points": 1,
     "suites": [
      {
       "cases": [
        {
         "code": ">>> assert get_hash(len(Diff)) == 'c20ad4d76fe97759aa27a0c99bff6710'\n>>> assert get_hash(Diff.shape) == '3f30626b8bdbdc8366257c053839456f'\n>>> assert get_hash(sum(Diff)) == '4a3dd518aa065cd57d5d5acfeb1ff6da'\n>>> assert get_hash(Diff) == 'bde6ec575d6f776bfcb4df36f0e64c28'\n",
         "hidden": false,
         "locked": false
        }
       ],
       "scored": true,
       "setup": "",
       "teardown": "",
       "type": "doctest"
      }
     ]
    },
    "q3.4": {
     "name": "q3.4",
     "points": 1,
     "suites": [
      {
       "cases": [
        {
         "code": ">>> assert get_hash(round(SummerMeanStorage)) == '118df32ac7db6de47c75d4ac84e6af2e' , 'Check mean calculation'\n",
         "hidden": false,
         "locked": false
        }
       ],
       "scored": true,
       "setup": "",
       "teardown": "",
       "type": "doctest"
      }
     ]
    },
    "q3.5": {
     "name": "q3.5",
     "points": 1,
     "suites": [
      {
       "cases": [
        {
         "code": ">>> assert get_hash(q3_5) == 'f8320b26d30ab433c5a54546d21f414c'\n",
         "hidden": false,
         "locked": false
        }
       ],
       "scored": true,
       "setup": "",
       "teardown": "",
       "type": "doctest"
      }
     ]
    },
    "q3.6": {
     "name": "q3.6",
     "points": 1,
     "suites": [
      {
       "cases": [
        {
         "code": ">>> assert get_hash(len(q3_6)) == 'c20ad4d76fe97759aa27a0c99bff6710'\n>>> assert get_hash(q3_6.shape) == '3f30626b8bdbdc8366257c053839456f'\n>>> assert get_hash(q3_6) == '453afeb97740796e13cd9c391a6c9c86'\n",
         "hidden": false,
         "locked": false
        }
       ],
       "scored": true,
       "setup": "",
       "teardown": "",
       "type": "doctest"
      }
     ]
    },
    "q3.7": {
     "name": "q3.7",
     "points": 1,
     "suites": [
      {
       "cases": [
        {
         "code": ">>> assert get_hash(q3_7) == '1679091c5a880faf6fb5e6087eb1b2dc'\n",
         "hidden": false,
         "locked": false
        }
       ],
       "scored": true,
       "setup": "",
       "teardown": "",
       "type": "doctest"
      }
     ]
    },
    "q3.8": {
     "name": "q3.8",
     "points": 1,
     "suites": [
      {
       "cases": [
        {
         "code": ">>> assert get_hash(len(reservoir_data_m3)) == 'c20ad4d76fe97759aa27a0c99bff6710'\n>>> assert get_hash(reservoir_data_m3.shape) == '52658b9c1506282ca4f20ade14e21d99'\n>>> assert get_hash(reservoir_data_m3.astype(int)) == 'dc0b8fe95b9cb8a9b53140593a64d969'\n",
         "hidden": false,
         "locked": false
        }
       ],
       "scored": true,
       "setup": "",
       "teardown": "",
       "type": "doctest"
      }
     ]
    },
    "q4": {
     "name": "q4",
     "points": 4,
     "suites": [
      {
       "cases": [
        {
         "code": ">>> import calendar\n>>> assert get_hash(len(ReservoirInfo(name=reservoir_names[2],month=2))) == '735b90b4568125ed6c3f678819b6e058' , 'Check spacing and data type'\n",
         "hidden": false,
         "locked": false
        },
        {
         "code": ">>> assert get_hash(\"HELD\" in ReservoirInfo(name=reservoir_names[1],month=5).upper()) == 'f827cf462f62848df37c5e1e94a4da74', 'Check wording'\n>>> assert get_hash(\"WATER\" in ReservoirInfo(name=reservoir_names[1],month=5).upper()) == 'f827cf462f62848df37c5e1e94a4da74', 'Check wording'\n",
         "hidden": false,
         "locked": false
        },
        {
         "code": ">>> assert get_hash(\"1621000\" in ReservoirInfo(name=reservoir_names[1],month=1)) == 'f827cf462f62848df37c5e1e94a4da74', 'Check value'\n",
         "hidden": false,
         "locked": false
        }
       ],
       "scored": true,
       "setup": "",
       "teardown": "",
       "type": "doctest"
      }
     ]
    },
    "q5.0": {
     "name": "q5.0",
     "points": 3,
     "suites": [
      {
       "cases": [
        {
         "code": ">>> assert get_hash(name_input) == 'f87798ca0a0f836f16995cc5c7955c2a'\n>>> assert get_hash(q5_0[0]) == '75cbfe9a1d825c40fd979cc5614764aa' , 'Check title string'\n>>> assert get_hash(\"MONTH\" in q5_0[1].upper()) == 'f827cf462f62848df37c5e1e94a4da74' , 'Check x-label'\n>>> # Uses regex search to look for acre feet. Any character allowed between acre and feet. Case insensitive.\n>>> assert re.search(r'ACRE.FEET',q5_0[2].upper()) , 'Check y-label'\n>>> assert get_hash(data_input.astype(int)) == 'ac3c5f2b1ab399ae627808b2459456ca'\n",
         "hidden": false,
         "locked": false
        }
       ],
       "scored": true,
       "setup": "",
       "teardown": "",
       "type": "doctest"
      }
     ]
    },
    "q5.1": {
     "name": "q5.1",
     "points": 1,
     "suites": [
      {
       "cases": [
        {
         "code": ">>> assert get_hash(q5_1a) == '22b3afce62075c7012f8e5041adfee16'\n>>> assert get_hash(q5_1b) == 'eccbc87e4b5ce2fe28308fd9f2a7baf3'\n",
         "hidden": false,
         "locked": false
        }
       ],
       "scored": true,
       "setup": "",
       "teardown": "",
       "type": "doctest"
      }
     ]
    }
   }
  }
 },
 "nbformat": 4,
 "nbformat_minor": 4
}
