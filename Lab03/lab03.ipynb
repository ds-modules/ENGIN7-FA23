{
 "cells": [
  {
   "cell_type": "code",
   "execution_count": null,
   "metadata": {
    "deletable": false,
    "editable": false
   },
   "outputs": [],
   "source": [
    "# Initialize Otter\n",
    "import otter\n",
    "grader = otter.Notebook(\"lab03.ipynb\")"
   ]
  },
  {
   "cell_type": "markdown",
   "metadata": {},
   "source": [
    "# E7: Introduction to Computer Programming for Scientists and Engineers"
   ]
  },
  {
   "cell_type": "markdown",
   "metadata": {},
   "source": [
    "## Lab Assignment 3"
   ]
  },
  {
   "cell_type": "markdown",
   "metadata": {},
   "source": [
    "For each question, you will have to fill in one or more Python functions. We provide an autograder with a number of test cases that you can use to test your function. Note that the fact that your function works for all test cases thus provided does necessarily guarantee that it will work for all possible test cases relevant to the question. It is your responsibility to test your function thoroughly, to ensure that it will also work in situations not covered by the test cases provided.\n",
    "\n",
    "## Score Breakdown\n",
    "Question| Points\n",
    "--- | --\n",
    "  1 | 1\n",
    "2.0 - 2.1 | 2\n",
    "3.0 - 3.1 | 4\n",
    "4.0 - 4.3 | 4\n",
    "5 | 3\n",
    "6.0 | 5\n",
    "6.1 | 1\n",
    "Total | 20"
   ]
  },
  {
   "cell_type": "code",
   "execution_count": null,
   "metadata": {
    "tags": []
   },
   "outputs": [],
   "source": [
    "# Please run this cell, and do not modify the contents\n",
    "import numpy as np\n",
    "import math\n",
    "import matplotlib.pyplot as plt\n",
    "import re\n",
    "np.seterr(all='ignore');\n",
    "import hashlib\n",
    "def get_hash(num):\n",
    "    \"\"\"Helper function for assessing correctness\"\"\"\n",
    "    return hashlib.md5(str(num).encode()).hexdigest()"
   ]
  },
  {
   "cell_type": "markdown",
   "metadata": {},
   "source": [
    "## Introduction\n",
    "For this lab assignment, you will analyze water storage of three reservoirs in California from Jan-Dec 2022. You will clean and manipulate the data in questions 1-4. Then you will calculate basic statistics for each reservoir in questions 5 and 6.\n",
    "\n",
    "### Background\n",
    "The three reservoirs you will analyze are Lake Oroville, Shasta Lake, and Hetch Hetchy Reservoir. Shasta Lake and Lake Oroville are the largest and second-largest reservoirs in California, providing flood-control, hydropower, and water storage for the state. Shasta Lake is a key reservoir within the federal government's Central Valley Project. Similarly, Lake Oroville is a major reservoir in the state government's California State Water Project. Hetch Hetchy reservoir is within Yosemite National Park and provides water to the City of San Francisco and other counties in the San Francisco Bay Area.\n",
    "\n",
    "### Data\n",
    "We will read a text file that includes the monthly storage volumes for each reservoir, taken from January through December 2022, in units of acre-feet. We will provide you with the command to read the file, but in the future, you will learn how to read text files and other file types. In the code cell below, we are reading a text file and saving its values as `reservoir_data`. Run the cell below and do not modify its contents."
   ]
  },
  {
   "cell_type": "code",
   "execution_count": null,
   "metadata": {},
   "outputs": [],
   "source": [
    "# Please run this cell, and do not modify the contents\n",
    "reservoir_data = np.loadtxt('resources/res_vals_int.csv',delimiter='\\t')\n",
    "print(reservoir_data)"
   ]
  },
  {
   "cell_type": "markdown",
   "metadata": {},
   "source": [
    "The 12 rows correspond to the monthly storage volumes and the three columns correspond to the three reservoirs in the following order:\n",
    "1. Lake Oroville\n",
    "2. Shasta Lake\n",
    "3. Hetch Hetchy reservoir\n",
    "\n",
    "In the `reservoir_names` list, you have the names of each reservoir as they appear in the `reservoir_data` array, but with some missing/incomplete entires. In this assignment, you will manipulate the `reservoir_names` list to match your data. For now, run the code cell below without modifying its contents."
   ]
  },
  {
   "cell_type": "code",
   "execution_count": null,
   "metadata": {},
   "outputs": [],
   "source": [
    "# Please run this cell, and do not modify the contents\n",
    "reservoir_names = ['Lake Oroville','Shasta']\n",
    "print(reservoir_names)"
   ]
  },
  {
   "cell_type": "markdown",
   "metadata": {},
   "source": [
    "## Question 1\n",
    "In the list `reservoir_names`, Shasta Lake is listed as just `Shasta`. Change the value from `Shasta` to `Shasta Lake` in the list. Do not create a new variable."
   ]
  },
  {
   "cell_type": "code",
   "execution_count": null,
   "metadata": {
    "jupyter": {
     "outputs_hidden": true
    },
    "tags": []
   },
   "outputs": [],
   "source": [
    "# ANSWER CELL\n",
    "...\n",
    "reservoir_names"
   ]
  },
  {
   "cell_type": "code",
   "execution_count": null,
   "metadata": {
    "deletable": false,
    "editable": false
   },
   "outputs": [],
   "source": [
    "grader.check(\"q1\")"
   ]
  },
  {
   "cell_type": "markdown",
   "metadata": {},
   "source": [
    "## Question 2.0\n",
    "Our list `reservoir_names` only has two entries! We are missing the third entry `Hetch Hetchy Reservoir`. Add `Hetch Hetchy Reservoir` to the end of the `reservoir_names` list. Do not redefine the list. Use appropriate list methods that allow you to add an entry at the end."
   ]
  },
  {
   "cell_type": "code",
   "execution_count": null,
   "metadata": {
    "jupyter": {
     "outputs_hidden": true
    },
    "tags": []
   },
   "outputs": [],
   "source": [
    "# ANSWER CELL\n",
    "...\n",
    "reservoir_names"
   ]
  },
  {
   "cell_type": "code",
   "execution_count": null,
   "metadata": {
    "deletable": false,
    "editable": false
   },
   "outputs": [],
   "source": [
    "grader.check(\"q2.0\")"
   ]
  },
  {
   "cell_type": "markdown",
   "metadata": {},
   "source": [
    "## Question 2.1\n",
    "Now that you have the correct values in `reservoir_names`, check to see if certain reservoirs are in your list. Check if \"Pardee Reservoir\" is in the list of reservoirs using list methods. Write your boolean statement in `q2_1`.\n",
    "\n",
    "*Note:* Pardee Reservoir is a major reservoir for East Bay Municipal Utility District."
   ]
  },
  {
   "cell_type": "code",
   "execution_count": null,
   "metadata": {
    "jupyter": {
     "outputs_hidden": true
    },
    "tags": []
   },
   "outputs": [],
   "source": [
    "# ANSWER CELL\n",
    "q2_1 = ..."
   ]
  },
  {
   "cell_type": "code",
   "execution_count": null,
   "metadata": {
    "deletable": false,
    "editable": false
   },
   "outputs": [],
   "source": [
    "grader.check(\"q2.1\")"
   ]
  },
  {
   "cell_type": "markdown",
   "metadata": {},
   "source": [
    "## Question 3\n",
    "In this question, you will create a range of numbers 1-12 to represent the rows within the `reservoir_data` array (i.e., the months Jan - Dec)."
   ]
  },
  {
   "cell_type": "markdown",
   "metadata": {},
   "source": [
    "## Question 3.0\n",
    "Create range of integers from 1 to 12, inclusive, using the `range` function. Store the range of numbers as `months_range`."
   ]
  },
  {
   "cell_type": "code",
   "execution_count": null,
   "metadata": {
    "tags": []
   },
   "outputs": [],
   "source": [
    "# ANSWER CELL\n",
    "..."
   ]
  },
  {
   "cell_type": "code",
   "execution_count": null,
   "metadata": {
    "deletable": false,
    "editable": false
   },
   "outputs": [],
   "source": [
    "grader.check(\"q3.0\")"
   ]
  },
  {
   "cell_type": "markdown",
   "metadata": {},
   "source": [
    "## Question 3.1\n",
    "Convert `months_range` to a numpy array and to a list. Store the values as `months_nparray` and `months_list` respectively. The variables `months_nparray` and `months_list` should contain the integers 1 through 12, just like `months_range`."
   ]
  },
  {
   "cell_type": "code",
   "execution_count": null,
   "metadata": {
    "tags": []
   },
   "outputs": [],
   "source": [
    "# ANSWER CELL\n",
    "months_nparray = ...\n",
    "months_list = ...\n",
    "print(months_nparray , months_list)"
   ]
  },
  {
   "cell_type": "code",
   "execution_count": null,
   "metadata": {
    "deletable": false,
    "editable": false
   },
   "outputs": [],
   "source": [
    "grader.check(\"q3.1\")"
   ]
  },
  {
   "cell_type": "markdown",
   "metadata": {},
   "source": [
    "## Question 4\n",
    "Now you will start to analyze the reservoir data. For this question, do not edit `reservoir_data`. Refer to the instructions at the beginning of the assignment on which column of the data corresponds to which reservoir."
   ]
  },
  {
   "cell_type": "markdown",
   "metadata": {},
   "source": [
    "## Question 4.0\n",
    "First, slice the array to select the column of data of Lake Oroville.\n",
    "\n",
    "Store the sliced data as `OrovilleData`."
   ]
  },
  {
   "cell_type": "code",
   "execution_count": null,
   "metadata": {
    "tags": []
   },
   "outputs": [],
   "source": [
    "# ANSWER CELL\n",
    "..."
   ]
  },
  {
   "cell_type": "code",
   "execution_count": null,
   "metadata": {
    "deletable": false,
    "editable": false
   },
   "outputs": [],
   "source": [
    "grader.check(\"q4.0\")"
   ]
  },
  {
   "cell_type": "markdown",
   "metadata": {},
   "source": [
    "## Question 4.1\n",
    "Slice the array to select the winter storage volumes for Hetch Hetchy Reservoir. For this question, use January, February, and March as the winter months.\n",
    "\n",
    "Store the sliced data as `WinterHetchHetchy`."
   ]
  },
  {
   "cell_type": "code",
   "execution_count": null,
   "metadata": {
    "tags": []
   },
   "outputs": [],
   "source": [
    "# ANSWER CELL\n",
    "..."
   ]
  },
  {
   "cell_type": "code",
   "execution_count": null,
   "metadata": {
    "deletable": false,
    "editable": false
   },
   "outputs": [],
   "source": [
    "grader.check(\"q4.1\")"
   ]
  },
  {
   "cell_type": "markdown",
   "metadata": {},
   "source": [
    "## Question 4.2\n",
    "Find the mean storage volume for Summer (July through September) for each reservoir. California receives very little rainfall in the summer months (July through September), so reservoir storage during these months is of particular interest.\n",
    "\n",
    "Store the mean values as an array called `SummerMeanStorage`.\n",
    "\n",
    "*Hint*: Slice the data to the months of interest, then calculate the mean across the appropriate axis."
   ]
  },
  {
   "cell_type": "code",
   "execution_count": null,
   "metadata": {
    "tags": []
   },
   "outputs": [],
   "source": [
    "# ANSWER CELL\n",
    "..."
   ]
  },
  {
   "cell_type": "code",
   "execution_count": null,
   "metadata": {
    "deletable": false,
    "editable": false
   },
   "outputs": [],
   "source": [
    "grader.check(\"q4.2\")"
   ]
  },
  {
   "cell_type": "markdown",
   "metadata": {},
   "source": [
    "## Question 4.3\n",
    "How much more water was stored in Lake Oroville than in Hetch Hetchy in the month of April? Report your answer in thousand acre-feet (TAF).\n",
    "\n",
    "Store the difference in thousand acre-feet as `DiffApril`.\n",
    "\n",
    "*Hint*: Divide by 1000 to convert from acre-feet to TAF."
   ]
  },
  {
   "cell_type": "code",
   "execution_count": null,
   "metadata": {
    "tags": []
   },
   "outputs": [],
   "source": [
    "# ANSWER CELL\n",
    "..."
   ]
  },
  {
   "cell_type": "code",
   "execution_count": null,
   "metadata": {
    "deletable": false,
    "editable": false
   },
   "outputs": [],
   "source": [
    "grader.check(\"q4.3\")"
   ]
  },
  {
   "cell_type": "markdown",
   "metadata": {},
   "source": [
    "## Question 5\n",
    "Write a function called `ReservoirInfo` which takes information about reservoir storage as the inputs and outputs a statement: ‘In [Month], [Name] held [Volume] acre-feet of water.’ where the words in brackets are the input month, reservoir name, and storage volume, respectively. An example output for would be: ‘In January, Lake Oroville held 1642000 acre-feet of water.’\n",
    "\n",
    "Your input variables should be called `name` , `month`, and `volume`. You may have your inputs in any order.\n",
    "\n",
    "Your function should return, but not print, your statement."
   ]
  },
  {
   "cell_type": "code",
   "execution_count": null,
   "metadata": {
    "tags": []
   },
   "outputs": [],
   "source": [
    "# ANSWER CELL\n",
    "..."
   ]
  },
  {
   "cell_type": "code",
   "execution_count": null,
   "metadata": {
    "deletable": false,
    "editable": false
   },
   "outputs": [],
   "source": [
    "grader.check(\"q5\")"
   ]
  },
  {
   "cell_type": "markdown",
   "metadata": {},
   "source": [
    "## Question 6.0\n",
    "Finally for this assignment, you will define the input data and title string for a pre-made plotting function called `plot_reservoir_storage`. The `plot_reservoir_storage` function has two inputs:\n",
    "- `res_name` is the reservoir's name as a string\n",
    "- `res_data` is the storage data of the reservoir (for only one reservoir)\n",
    "\n",
    "For this question, define `title_string` as a format string to have the `res_name` input followed by \"storage in 2022\". For example, a graph of Lake Oroville should have the title \"Lake Oroville storage in 2022\". The variable `title_string` should automatically update based on the input `res_name`. Be careful with your string formatting. Any small modification, such as extra space or character, will result in a failed test.\n",
    "\n",
    "Additionally, define `x_label` and `y_label` as format strings for the axis labels of your plot. Your labels should include the correct units \"month\" and \"acre-feet\". Be careful with your string formatting. Any misspelling will result in a failed test.\n",
    "\n",
    "You will plot Hetch Hetchy data using the `plot_reservoir_storage` function.\n",
    "Define `name_input` as the value from the `reservoir_names` list corresponding to Hetch Hetchy. \n",
    "Define `data_input` as an array slice from `reservoir_data` corresponding to Hetch Hetchy storage data.\n",
    "\n",
    "Finally, call the function `plot_reservoir_storage` and pass the inputs `name_input` and `data_input`. Assign the function call to `q6_0`.\n",
    "\n",
    "*Note:* This question relies on the completion of Q2.0 and Q3.0."
   ]
  },
  {
   "cell_type": "code",
   "execution_count": null,
   "metadata": {
    "tags": []
   },
   "outputs": [],
   "source": [
    "# ANSWER CELL\n",
    "def plot_reservoir_storage(res_name,res_data):\n",
    "    title_string = ...\n",
    "    x_label = ...\n",
    "    y_label = ...\n",
    "    \n",
    "    # Do not edit the function code below this line.\n",
    "    plt.plot(months_range,res_data)\n",
    "    plt.xlabel(x_label)\n",
    "    plt.ylabel(y_label)\n",
    "    plt.title(title_string)\n",
    "    plt.show()\n",
    "    return title_string , x_label , y_label\n",
    "\n",
    "name_input = ...\n",
    "data_input = ...\n",
    "\n",
    "# Run the below code, do not edit\n",
    "q6_0 = ..."
   ]
  },
  {
   "cell_type": "code",
   "execution_count": null,
   "metadata": {
    "deletable": false,
    "editable": false
   },
   "outputs": [],
   "source": [
    "grader.check(\"q6.0\")"
   ]
  },
  {
   "cell_type": "markdown",
   "metadata": {},
   "source": [
    "## Question 6.1\n",
    "In Q6.0, all three outputs from the `plot_reservoir_storage` function were saved as a single variable called `q6_0`. \n",
    "\n",
    "Evaluate the type of `q6_0` and save the type as `q6_1a`.\\\n",
    "Evaluate the length of `q6_0` and save the length as `q6_1b`."
   ]
  },
  {
   "cell_type": "code",
   "execution_count": null,
   "metadata": {
    "tags": []
   },
   "outputs": [],
   "source": [
    "# ANSWER CELL\n",
    "q6_1a = ...\n",
    "q6_1b = ...\n",
    "print(f'Type: {q6_1a} \\nLength: {q6_1b}')"
   ]
  },
  {
   "cell_type": "code",
   "execution_count": null,
   "metadata": {
    "deletable": false,
    "editable": false
   },
   "outputs": [],
   "source": [
    "grader.check(\"q6.1\")"
   ]
  },
  {
   "cell_type": "code",
   "execution_count": null,
   "metadata": {},
   "outputs": [],
   "source": [
    "import matplotlib.image as mpimg\n",
    "img = mpimg.imread('resources/animal.jpg')\n",
    "imgplot = plt.imshow(img)\n",
    "imgplot.axes.get_xaxis().set_visible(False)\n",
    "imgplot.axes.get_yaxis().set_visible(False)\n",
    "print(\"Congrats on finishing lab 3!\")\n",
    "plt.show()"
   ]
  },
  {
   "cell_type": "markdown",
   "metadata": {
    "deletable": false,
    "editable": false
   },
   "source": [
    "---\n",
    "\n",
    "To double-check your work, the cell below will rerun all of the autograder tests."
   ]
  },
  {
   "cell_type": "code",
   "execution_count": null,
   "metadata": {
    "deletable": false,
    "editable": false
   },
   "outputs": [],
   "source": [
    "grader.check_all()"
   ]
  },
  {
   "cell_type": "markdown",
   "metadata": {
    "deletable": false,
    "editable": false
   },
   "source": [
    "## Submission\n",
    "\n",
    "Make sure you have run all cells in your notebook in order before running the cell below, so that all images/graphs appear in the output. The cell below will generate a zip file for you to submit. **Please save before exporting!**\n",
    "\n",
    "Make sure you submit the .zip file to Gradescope."
   ]
  },
  {
   "cell_type": "code",
   "execution_count": null,
   "metadata": {
    "deletable": false,
    "editable": false
   },
   "outputs": [],
   "source": [
    "# Save your notebook first, then run this cell to export your submission.\n",
    "grader.export(pdf=False)"
   ]
  },
  {
   "cell_type": "markdown",
   "metadata": {},
   "source": [
    " "
   ]
  }
 ],
 "metadata": {
  "anaconda-cloud": {},
  "kernelspec": {
   "display_name": "Python 3 (ipykernel)",
   "language": "python",
   "name": "python3"
  },
  "language_info": {
   "codemirror_mode": {
    "name": "ipython",
    "version": 3
   },
   "file_extension": ".py",
   "mimetype": "text/x-python",
   "name": "python",
   "nbconvert_exporter": "python",
   "pygments_lexer": "ipython3",
   "version": "3.9.15"
  },
  "otter": {
   "OK_FORMAT": true,
   "assignment_name": "lab03",
   "tests": {
    "q1": {
     "name": "q1",
     "points": 1,
     "suites": [
      {
       "cases": [
        {
         "code": ">>> assert get_hash(len(reservoir_names)) == 'c81e728d9d4c2f636f067f89cc14862c' , 'You should only have two values (for now).'\n>>> assert get_hash(reservoir_names[0]) == 'b947db2fb4b5855984587a0d4fabf896' , 'Do not edit the Lake Oroville entry'\n>>> assert get_hash(reservoir_names[1].upper()) =='5f3b912d347dbbe2de8a9db5c1226e44' , 'Check value of Shasta Lake entry'\n",
         "hidden": false,
         "locked": false
        }
       ],
       "scored": true,
       "setup": "",
       "teardown": "",
       "type": "doctest"
      }
     ]
    },
    "q2.0": {
     "name": "q2.0",
     "points": 1,
     "suites": [
      {
       "cases": [
        {
         "code": ">>> assert get_hash(len(reservoir_names)) == 'eccbc87e4b5ce2fe28308fd9f2a7baf3' , 'Check length of list'\n>>> assert get_hash(reservoir_names[-1].upper()) == 'e5bb3ed8fc109fa9f05b0d538a30edf8' , 'Check value Hetch Hetchy entry'\n",
         "hidden": false,
         "locked": false
        }
       ],
       "scored": true,
       "setup": "",
       "teardown": "",
       "type": "doctest"
      }
     ]
    },
    "q2.1": {
     "name": "q2.1",
     "points": 1,
     "suites": [
      {
       "cases": [
        {
         "code": ">>> assert get_hash(q2_1) == 'f8320b26d30ab433c5a54546d21f414c'\n",
         "hidden": false,
         "locked": false
        }
       ],
       "scored": true,
       "setup": "",
       "teardown": "",
       "type": "doctest"
      }
     ]
    },
    "q3.0": {
     "name": "q3.0",
     "points": 2,
     "suites": [
      {
       "cases": [
        {
         "code": ">>> assert get_hash(months_range) == '5319bc85f3a29d6cd7b6b65df958ae78'\n>>> assert get_hash(months_range[0]) == 'c4ca4238a0b923820dcc509a6f75849b' , 'Check start value'\n>>> assert get_hash(months_range[-1]) == 'c20ad4d76fe97759aa27a0c99bff6710' , 'Check end value'\n>>> assert get_hash(sum(months_range)) == '35f4a8d465e6e1edc05f3d8ab658c551' , 'Check step size'\n",
         "hidden": false,
         "locked": false
        }
       ],
       "scored": true,
       "setup": "",
       "teardown": "",
       "type": "doctest"
      }
     ]
    },
    "q3.1": {
     "name": "q3.1",
     "points": 2,
     "suites": [
      {
       "cases": [
        {
         "code": ">>> assert get_hash(type(months_nparray)) == '30b39aca73d0815f5ca1a06af1412947'\n>>> assert get_hash(len(months_nparray)) == 'c20ad4d76fe97759aa27a0c99bff6710'\n>>> assert get_hash(sum(months_nparray)) == '35f4a8d465e6e1edc05f3d8ab658c551'\n",
         "hidden": false,
         "locked": false
        },
        {
         "code": ">>> assert get_hash(type(months_list)) == '425ed5b515f0a67c6316f0ec499f86bf'\n>>> assert get_hash(len(months_list)) == 'c20ad4d76fe97759aa27a0c99bff6710'\n>>> assert get_hash(sum(months_list)) == '35f4a8d465e6e1edc05f3d8ab658c551'\n",
         "hidden": false,
         "locked": false
        }
       ],
       "scored": true,
       "setup": "",
       "teardown": "",
       "type": "doctest"
      }
     ]
    },
    "q4.0": {
     "name": "q4.0",
     "points": 1,
     "suites": [
      {
       "cases": [
        {
         "code": ">>> assert get_hash(len(OrovilleData)) == 'c20ad4d76fe97759aa27a0c99bff6710' , 'Check length of selection'\n>>> assert get_hash(int(sum(OrovilleData))) == '97c2a51b4ddc77196fa563cd72957c1e' , 'Check which column corresponds to Lake Oroville'\n>>> assert get_hash(OrovilleData.astype(int)) == 'd57f3682934eebd41c73b68817c6592d'\n",
         "hidden": false,
         "locked": false
        }
       ],
       "scored": true,
       "setup": "",
       "teardown": "",
       "type": "doctest"
      }
     ]
    },
    "q4.1": {
     "name": "q4.1",
     "points": 1,
     "suites": [
      {
       "cases": [
        {
         "code": ">>> assert get_hash(len(WinterHetchHetchy)) == 'eccbc87e4b5ce2fe28308fd9f2a7baf3' , 'Check length of selection'\n>>> assert get_hash(int(sum(WinterHetchHetchy))) == '50037bd6578a3e4db86ac430e190f7cb' , 'Check which column corresponds to Lake Oroville'\n>>> assert get_hash(WinterHetchHetchy.astype(int)) == '7b67ebf4e3d0d34b2c62dba86b620e1b'\n",
         "hidden": false,
         "locked": false
        }
       ],
       "scored": true,
       "setup": "",
       "teardown": "",
       "type": "doctest"
      }
     ]
    },
    "q4.2": {
     "name": "q4.2",
     "points": 1,
     "suites": [
      {
       "cases": [
        {
         "code": ">>> assert get_hash(len(SummerMeanStorage)) == 'eccbc87e4b5ce2fe28308fd9f2a7baf3' , 'Check length of selection'\n>>> assert get_hash(round(sum(SummerMeanStorage),-2)) == 'd704e6175c0f8f1ea3d701b0b6d07b88' , 'Check slice selection'\n>>> assert get_hash(round(SummerMeanStorage[1],-2)) == '71f214fd332f17d09f2f72f4dbbd29ec' , 'Check mean calculation'\n",
         "hidden": false,
         "locked": false
        }
       ],
       "scored": true,
       "setup": "",
       "teardown": "",
       "type": "doctest"
      }
     ]
    },
    "q4.3": {
     "name": "q4.3",
     "points": 1,
     "suites": [
      {
       "cases": [
        {
         "code": ">>> assert get_hash(round(DiffApril)) == '8f19793b2671094e63a15ab883d50137'\n",
         "hidden": false,
         "locked": false
        }
       ],
       "scored": true,
       "setup": "",
       "teardown": "",
       "type": "doctest"
      }
     ]
    },
    "q5": {
     "name": "q5",
     "points": 3,
     "suites": [
      {
       "cases": [
        {
         "code": ">>> assert get_hash(len(ReservoirInfo(name=reservoir_names[2],month='February',volume=reservoir_data[1,2]))) == '735b90b4568125ed6c3f678819b6e058' , 'Check spacing and data type'\n",
         "hidden": false,
         "locked": false
        },
        {
         "code": ">>> assert get_hash('FAKEMONTH' in ReservoirInfo(name='PLACEHOLDER',month='FAKEMONTH',volume=0)) == 'f827cf462f62848df37c5e1e94a4da74'\n>>> assert get_hash('PLACEHOLDER' in ReservoirInfo(name='PLACEHOLDER',month='FAKEMONTH',volume=0)) == 'f827cf462f62848df37c5e1e94a4da74'\n>>> assert get_hash('0' in ReservoirInfo(name='PLACEHOLDER',month='FAKEMONTH',volume=0)) == 'f827cf462f62848df37c5e1e94a4da74'\n",
         "hidden": false,
         "locked": false
        }
       ],
       "scored": true,
       "setup": "",
       "teardown": "",
       "type": "doctest"
      }
     ]
    },
    "q6.0": {
     "name": "q6.0",
     "points": 5,
     "suites": [
      {
       "cases": [
        {
         "code": ">>> assert get_hash(name_input) == 'f87798ca0a0f836f16995cc5c7955c2a'\n>>> assert get_hash(q6_0[0]) == '75cbfe9a1d825c40fd979cc5614764aa' , 'Check title string'\n>>> assert get_hash(\"MONTH\" in q6_0[1].upper()) == 'f827cf462f62848df37c5e1e94a4da74' , 'Check x-label'\n>>> # Uses regex search to look for acre feet. Any character allowed between acre and feet. Case insensitive.\n>>> assert re.search(r'ACRE.FEET',q6_0[2].upper()) , 'Check y-label'\n>>> assert get_hash(data_input.astype(int)) == 'ac3c5f2b1ab399ae627808b2459456ca'\n",
         "hidden": false,
         "locked": false
        }
       ],
       "scored": true,
       "setup": "",
       "teardown": "",
       "type": "doctest"
      }
     ]
    },
    "q6.1": {
     "name": "q6.1",
     "points": 1,
     "suites": [
      {
       "cases": [
        {
         "code": ">>> assert get_hash(q6_1a) == '22b3afce62075c7012f8e5041adfee16'\n>>> assert get_hash(q6_1b) == 'eccbc87e4b5ce2fe28308fd9f2a7baf3'\n",
         "hidden": false,
         "locked": false
        }
       ],
       "scored": true,
       "setup": "",
       "teardown": "",
       "type": "doctest"
      }
     ]
    }
   }
  }
 },
 "nbformat": 4,
 "nbformat_minor": 4
}
