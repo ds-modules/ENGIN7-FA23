{
 "cells": [
  {
   "cell_type": "code",
   "execution_count": null,
   "metadata": {
    "deletable": false,
    "editable": false
   },
   "outputs": [],
   "source": [
    "# Initialize Otter\n",
    "import otter\n",
    "grader = otter.Notebook(\"lab03_redo.ipynb\")"
   ]
  },
  {
   "cell_type": "markdown",
   "metadata": {},
   "source": [
    "# E7: Introduction to Computer Programming for Scientists and Engineers"
   ]
  },
  {
   "cell_type": "markdown",
   "metadata": {},
   "source": [
    "## Lab Assignment 3"
   ]
  },
  {
   "cell_type": "markdown",
   "metadata": {},
   "source": [
    "For each question, you will have to fill in one or more Python functions. We provide an autograder with a number of test cases that you can use to test your function. Note that the fact that your function works for all test cases thus provided does necessarily guarantee that it will work for all possible test cases relevant to the question. It is your responsibility to test your function thoroughly, to ensure that it will also work in situations not covered by the test cases provided.\n",
    "\n",
    "## Score Breakdown\n",
    "Question| Points\n",
    "--- | --\n",
    "  1 | 1\n",
    "2.0 | 1\n",
    "2.1 | 1\n",
    "3.0 | 1\n",
    "3.1 | 2\n",
    "3.2 | 2\n",
    "  4 | 3\n",
    "5.0 | 1\n",
    "5.1 | 8\n",
    "  6 | 5\n",
    "Total | 10 | 25"
   ]
  },
  {
   "cell_type": "code",
   "execution_count": null,
   "metadata": {
    "tags": []
   },
   "outputs": [],
   "source": [
    "# Please run this cell, and do not modify the contents\n",
    "import numpy as np\n",
    "import math\n",
    "import matplotlib.pyplot as plt\n",
    "np.seterr(all='ignore');\n",
    "import hashlib\n",
    "def get_hash(num):\n",
    "    \"\"\"Helper function for assessing correctness\"\"\"\n",
    "    return hashlib.md5(str(num).encode()).hexdigest()"
   ]
  },
  {
   "cell_type": "markdown",
   "metadata": {},
   "source": [
    "## Introduction\n",
    "For this lab assignment, you will analyze water storage of three reservoirs in California from Jan-Dec 2022. You will clean and manipulate the data in questions 1-4. Then you will calculate basic statistics for each reservoir in questions 5 and 6.\n",
    "\n",
    "### Background\n",
    "The three reservoirs you will analyze are Lake Oroville, Shasta Lake, and Hetch Hetchy Reservoir. Shasta Lake and Lake Oroville are the largest and second-largest reservoirs in California, providing flood-control and water storage for the state. Shasta Lake is a key reservoir within the federal government's Central Valley Project. Similarly, Lake Oroville is a major reservoir in the the state government's California State Water Project. Hetch Hetchy reservoir is within Yosemite National Park and provides water to the City of San Francisco and other counties in the San Francisco Bay Area.\n",
    "\n",
    "### Data\n",
    "In the `reservoir_data_original` array, you have 12 reservoir storage values for each reservoir, taken monthly from January through December 2022, in units of acre-feet. The three columns of the `reservoir_data_original` array are Lake Oroville, Shasta Lake, and Hetch Hetchy reservoir, in this order. In this assignment, you will manipulate the data before analyzing each time series.\n",
    "\n",
    "In the `reservoir_names` list, you have the names of each reservoir as they appear in the `reservoir_data_original` array. In this assignmen, you will manipulate the `reservoir_names` list to match your data."
   ]
  },
  {
   "cell_type": "code",
   "execution_count": null,
   "metadata": {},
   "outputs": [],
   "source": [
    "# Please run this cell, and do not modify the contents\n",
    "reservoir_names = ['Lake Oroville','Shasta']\n",
    "reservoir_data_original = np.loadtxt('resources/res_vals_str.csv',delimiter='\\t',dtype=str)"
   ]
  },
  {
   "cell_type": "markdown",
   "metadata": {},
   "source": [
    "## Question 1\n",
    "`reservoir_names` lists Shasta Lake as just `Shasta`.In the list `reservoir_names`, change the value of the `Shasta` item to `Shasta Lake`. Do not create a new variable."
   ]
  },
  {
   "cell_type": "code",
   "execution_count": null,
   "metadata": {
    "jupyter": {
     "outputs_hidden": true
    },
    "tags": []
   },
   "outputs": [],
   "source": []
  },
  {
   "cell_type": "code",
   "execution_count": null,
   "metadata": {
    "deletable": false,
    "editable": false
   },
   "outputs": [],
   "source": [
    "grader.check(\"q1\")"
   ]
  },
  {
   "cell_type": "markdown",
   "metadata": {},
   "source": [
    "## Question 2.0\n",
    "Our list `reservoir_names` only has two entries! We are missing the third entry `Hetch Hetchy Reservoir`. Add `Hetch Hetchy Reservoir` to the end of the `reservoir_names` list."
   ]
  },
  {
   "cell_type": "code",
   "execution_count": null,
   "metadata": {
    "jupyter": {
     "outputs_hidden": true
    },
    "tags": []
   },
   "outputs": [],
   "source": [
    "reservoir_names"
   ]
  },
  {
   "cell_type": "code",
   "execution_count": null,
   "metadata": {
    "deletable": false,
    "editable": false
   },
   "outputs": [],
   "source": [
    "grader.check(\"q2.0\")"
   ]
  },
  {
   "cell_type": "markdown",
   "metadata": {},
   "source": [
    "## Question 2.1\n",
    "Now that you have the correct values in `reservoir_names`, check to see if certain reservoirs are in your list. Check if \"Pardee Reservoir\" is in the list of reservoirs using list methods. Write your boolean statement in `q2_1`.\n",
    "\n",
    "*Note:* Pardee Reservoir is a major reservoir for East Bay Municipal Utility District."
   ]
  },
  {
   "cell_type": "code",
   "execution_count": null,
   "metadata": {
    "jupyter": {
     "outputs_hidden": true
    },
    "tags": []
   },
   "outputs": [],
   "source": [
    "q2_1 = ..."
   ]
  },
  {
   "cell_type": "code",
   "execution_count": null,
   "metadata": {
    "deletable": false,
    "editable": false
   },
   "outputs": [],
   "source": [
    "grader.check(\"q2.1\")"
   ]
  },
  {
   "cell_type": "markdown",
   "metadata": {},
   "source": [
    "## Question 3\n",
    "In this question, you will create a range of numbers 1-12 to represent rows the rows within the `reservoir_data` array (aka the months Jan - Dec)."
   ]
  },
  {
   "cell_type": "markdown",
   "metadata": {},
   "source": [
    "## Question 3.0\n",
    "Create range of integers from 1 to 12, inclusive, using the `range` function. Store the range of numbers as `months_range`."
   ]
  },
  {
   "cell_type": "code",
   "execution_count": null,
   "metadata": {
    "tags": []
   },
   "outputs": [],
   "source": [
    "months_range = ...\n",
    "months_range"
   ]
  },
  {
   "cell_type": "code",
   "execution_count": null,
   "metadata": {
    "deletable": false,
    "editable": false
   },
   "outputs": [],
   "source": [
    "grader.check(\"q3.0\")"
   ]
  },
  {
   "cell_type": "markdown",
   "metadata": {},
   "source": [
    "## Question 3.1\n",
    "Convert `months_range` to a numpy array and to a list. Store the values as `months_nparray` and `months_list` respectively. The variables `months_nparray` and `months_list` should contain the integers 1 through 12, just like `months_range`."
   ]
  },
  {
   "cell_type": "code",
   "execution_count": null,
   "metadata": {
    "tags": []
   },
   "outputs": [],
   "source": [
    "months_nparray = ...\n",
    "months_list = ...\n",
    "print(months_nparray , months_list)"
   ]
  },
  {
   "cell_type": "code",
   "execution_count": null,
   "metadata": {
    "deletable": false,
    "editable": false
   },
   "outputs": [],
   "source": [
    "grader.check(\"q3.1\")"
   ]
  },
  {
   "cell_type": "markdown",
   "metadata": {},
   "source": [
    "## Question 3.2\n",
    "Now you have three versions of the numbers 1-12: `months_range`, `months_nparray`, and `months_list`. Use the function `getsizeof` to find the size of each of the three variables. Store the size in bytes of `months_range`, `months_nparray`, and `months_list` in `size_of_range`, `size_of_nparray`, and `size_of_list` respectively.\n",
    "\n",
    "*Hint:* Check out the documentation for `sys.getsizeof` [here](https://docs.python.org/3/library/sys.html#sys.getsizeof)."
   ]
  },
  {
   "cell_type": "code",
   "execution_count": null,
   "metadata": {
    "tags": []
   },
   "outputs": [],
   "source": [
    "from sys import getsizeof"
   ]
  },
  {
   "cell_type": "code",
   "execution_count": null,
   "metadata": {
    "tags": []
   },
   "outputs": [],
   "source": [
    "size_of_range = ...\n",
    "size_of_nparray = ...\n",
    "size_of_list = ...\n",
    "print(size_of_range , size_of_nparray , size_of_list)"
   ]
  },
  {
   "cell_type": "code",
   "execution_count": null,
   "metadata": {
    "deletable": false,
    "editable": false
   },
   "outputs": [],
   "source": [
    "grader.check(\"q3.2\")"
   ]
  },
  {
   "cell_type": "markdown",
   "metadata": {},
   "source": [
    "## Question 4\n",
    "Now look at the `reservoir_data_original` array. Unfortunately, the entries are all strings!"
   ]
  },
  {
   "cell_type": "code",
   "execution_count": null,
   "metadata": {},
   "outputs": [],
   "source": [
    "print(reservoir_data_original)"
   ]
  },
  {
   "cell_type": "markdown",
   "metadata": {},
   "source": [
    "Create a function called `str2int_function` to convert a single string entry to an integer. The input to this function should be a string, and the output should be an integer.\n",
    "\n",
    "Once you create the `str2int_function` function, pre-made code will apply your function to each value in the `reservoir_data_original` array and save the new array as `reservoir_data`.\n",
    "\n",
    "*Note:* There is a blank `str2int_function` function with placeholder inputs and outputs, so your code does not break if you run the notebook while empty.\n",
    "\n",
    "*Hint:* `int()` can convert a string of numbers to integer, but cannot handle commas in the string."
   ]
  },
  {
   "cell_type": "code",
   "execution_count": null,
   "metadata": {
    "tags": []
   },
   "outputs": [],
   "source": [
    "def str2int_function(placeholder):\n",
    "    ...\n",
    "    return placeholder\n",
    "\n",
    "# Run the below code, do not edit\n",
    "reservoir_data = np.vectorize(str2int_function)(reservoir_data_original)\n",
    "reservoir_data"
   ]
  },
  {
   "cell_type": "code",
   "execution_count": null,
   "metadata": {
    "deletable": false,
    "editable": false
   },
   "outputs": [],
   "source": [
    "grader.check(\"q4\")"
   ]
  },
  {
   "cell_type": "markdown",
   "metadata": {},
   "source": [
    "## Question 5.0\n",
    "Now that you have changed `reservoir_data` to numbers, you will start to analyze the reservoir data. First, slice the array to select the column of data of Lake Oroville. Do not edit `reservoir_data`.\n",
    "\n",
    "Store the sliced data as `Oroville_data`."
   ]
  },
  {
   "cell_type": "code",
   "execution_count": null,
   "metadata": {
    "tags": []
   },
   "outputs": [],
   "source": [
    "Oroville_data = ...\n",
    "Oroville_data"
   ]
  },
  {
   "cell_type": "code",
   "execution_count": null,
   "metadata": {
    "deletable": false,
    "editable": false
   },
   "outputs": [],
   "source": [
    "grader.check(\"q5.0\")"
   ]
  },
  {
   "cell_type": "markdown",
   "metadata": {},
   "source": [
    "## Question 5.1\n",
    "Fill in the `reservoir_change` function to print out the mean reservoir storage value, as well as January's and December's storage values.\n",
    "\n",
    "The input to the `reservoir_change` function is a column of data from one reservoir location (such as `Oroville_data`). The outputs are the mean storage value, a string describing January's storage value, and a string describing December's storage value.\n",
    "\n",
    "You will create the formatted strings to display January's storage value in `jan_storage_string` and to display December's storage value in `dec_storage_string`. The strings you create should meet the following criteria:\n",
    "- Contain the correct storage value\n",
    "- Have the units \"AF\" (for acre-feet) after the value\n",
    "- Have the phrase \"January reservoir storage\" or \"December reservoir storage\" before the value.\n",
    "\n",
    "*Hint:* January is the first value in the input array, and December is the last value."
   ]
  },
  {
   "cell_type": "code",
   "execution_count": null,
   "metadata": {
    "tags": []
   },
   "outputs": [],
   "source": [
    "def reservoir_change(location_data):\n",
    "    mean_storage = ...\n",
    "    print('Mean reservoir storage:',int(mean_storage),' AF')\n",
    "    jan_storage_string = ...\n",
    "    print(jan_storage_string)\n",
    "    dec_storage_string = ...\n",
    "    print(dec_storage_string)\n",
    "    return mean_storage , jan_storage_string , dec_storage_string\n",
    "\n",
    "# Run the below code, do not edit\n",
    "oroville_stats = reservoir_change(Oroville_data)"
   ]
  },
  {
   "cell_type": "code",
   "execution_count": null,
   "metadata": {
    "deletable": false,
    "editable": false
   },
   "outputs": [],
   "source": [
    "grader.check(\"q5.1\")"
   ]
  },
  {
   "cell_type": "markdown",
   "metadata": {},
   "source": [
    "## Question 5.2\n",
    "In Q5.1, all three outputs from the `reservoir_change` function were saved as a single variable called `oroville_stats`. \n",
    "\n",
    "Evaluate the type of `oroville_change` and save the type as `q5_2a`.\\\n",
    "Evaluate the length of `oroville_change` and save the length as `q5_2b`."
   ]
  },
  {
   "cell_type": "code",
   "execution_count": null,
   "metadata": {
    "tags": []
   },
   "outputs": [],
   "source": [
    "q5_2a = ...\n",
    "q5_2b = ...\n",
    "print(q5_2a , q5_2b)"
   ]
  },
  {
   "cell_type": "code",
   "execution_count": null,
   "metadata": {
    "deletable": false,
    "editable": false
   },
   "outputs": [],
   "source": [
    "grader.check(\"q5.2\")"
   ]
  },
  {
   "cell_type": "markdown",
   "metadata": {},
   "source": [
    "## Question 6\n",
    "Finally for this assignment, you will define the input data and title string for a pre-made plotting function called `plot_reservoir_storage`. The `plot_reservoir_storage` function has two inputs:\n",
    "- `res_name` is the reservoir's name as a string\n",
    "- `res_data` is the storage data of a single reservoir.\n",
    "\n",
    "For this question, define `title_string` to have the `res_name` input followed by \"storage in 2022\". For example, a graph of Lake Oroville should have the title \"Lake Oroville storage in 2022\".\n",
    "\n",
    "You will plot Hetch Hetchy data using the `plot_reservoir_storage` function and will define the inputs into the function. Define `name_input` as the value from the `reservoir_names` list for Hetch Hetchy. And define `data_input` as an array slice from `reservoir_data` corresponding to Hetch Hetchy.\n",
    "\n",
    "*Note:* This question relies on the completion of Q2.0, Q3.0, and Q4."
   ]
  },
  {
   "cell_type": "code",
   "execution_count": null,
   "metadata": {
    "tags": []
   },
   "outputs": [],
   "source": [
    "def plot_reservoir_storage(res_name,res_data):\n",
    "    title_string = ...\n",
    "    \n",
    "    # Do not edit the function code below this line.\n",
    "    plt.plot(months_range,res_data)\n",
    "    plt.xlabel('Month')\n",
    "    plt.ylabel('Reservoir storage (acre-feet)')\n",
    "    plt.title(title_string)\n",
    "    plt.show()\n",
    "    return title_string\n",
    "name_input = ...\n",
    "data_input = ...\n",
    "\n",
    "# Run the below code, do not edit\n",
    "q6 = plot_reservoir_storage(name_input,data_input)"
   ]
  },
  {
   "cell_type": "code",
   "execution_count": null,
   "metadata": {
    "deletable": false,
    "editable": false
   },
   "outputs": [],
   "source": [
    "grader.check(\"q6\")"
   ]
  },
  {
   "cell_type": "code",
   "execution_count": null,
   "metadata": {},
   "outputs": [],
   "source": [
    "import matplotlib.image as mpimg\n",
    "img = mpimg.imread('resources/animal.jpg')\n",
    "imgplot = plt.imshow(img)\n",
    "imgplot.axes.get_xaxis().set_visible(False)\n",
    "imgplot.axes.get_yaxis().set_visible(False)\n",
    "print(\"Congrats on finishing lab 3!\")\n",
    "plt.show()"
   ]
  },
  {
   "cell_type": "markdown",
   "metadata": {
    "deletable": false,
    "editable": false
   },
   "source": [
    "---\n",
    "\n",
    "To double-check your work, the cell below will rerun all of the autograder tests."
   ]
  },
  {
   "cell_type": "code",
   "execution_count": null,
   "metadata": {
    "deletable": false,
    "editable": false
   },
   "outputs": [],
   "source": [
    "grader.check_all()"
   ]
  },
  {
   "cell_type": "markdown",
   "metadata": {
    "deletable": false,
    "editable": false
   },
   "source": [
    "## Submission\n",
    "\n",
    "Make sure you have run all cells in your notebook in order before running the cell below, so that all images/graphs appear in the output. The cell below will generate a zip file for you to submit. **Please save before exporting!**\n",
    "\n",
    "Make sure you submit the .zip file to Gradescope."
   ]
  },
  {
   "cell_type": "code",
   "execution_count": null,
   "metadata": {
    "deletable": false,
    "editable": false
   },
   "outputs": [],
   "source": [
    "# Save your notebook first, then run this cell to export your submission.\n",
    "grader.export(pdf=False)"
   ]
  },
  {
   "cell_type": "markdown",
   "metadata": {},
   "source": [
    " "
   ]
  }
 ],
 "metadata": {
  "anaconda-cloud": {},
  "kernelspec": {
   "display_name": "Python 3 (ipykernel)",
   "language": "python",
   "name": "python3"
  },
  "language_info": {
   "codemirror_mode": {
    "name": "ipython",
    "version": 3
   },
   "file_extension": ".py",
   "mimetype": "text/x-python",
   "name": "python",
   "nbconvert_exporter": "python",
   "pygments_lexer": "ipython3",
   "version": "3.9.15"
  },
  "otter": {
   "OK_FORMAT": true,
   "assignment_name": "lab03",
   "tests": {
    "q1": {
     "name": "q1",
     "points": 1,
     "suites": [
      {
       "cases": [
        {
         "code": ">>> assert get_hash(len(reservoir_names)) == 'c81e728d9d4c2f636f067f89cc14862c' , 'You should only have two values (for now).'\n>>> assert get_hash(reservoir_names[0]) == 'b947db2fb4b5855984587a0d4fabf896' , 'Do not edit the Lake Oroville entry'\n>>> assert get_hash(reservoir_names[1].upper()) =='5f3b912d347dbbe2de8a9db5c1226e44' , 'Check value of Shasta Lake entry'\n",
         "hidden": false,
         "locked": false
        }
       ],
       "scored": true,
       "setup": "",
       "teardown": "",
       "type": "doctest"
      }
     ]
    },
    "q2.0": {
     "name": "q2.0",
     "points": 1,
     "suites": [
      {
       "cases": [
        {
         "code": ">>> assert get_hash(len(reservoir_names)) == 'eccbc87e4b5ce2fe28308fd9f2a7baf3' , 'Check length of list'\n>>> assert get_hash(reservoir_names[-1].upper()) == 'e5bb3ed8fc109fa9f05b0d538a30edf8' , 'Check value Hetch Hetchy entry'\n",
         "hidden": false,
         "locked": false
        }
       ],
       "scored": true,
       "setup": "",
       "teardown": "",
       "type": "doctest"
      }
     ]
    },
    "q2.1": {
     "name": "q2.1",
     "points": 1,
     "suites": [
      {
       "cases": [
        {
         "code": ">>> assert get_hash(q2_1) == 'f8320b26d30ab433c5a54546d21f414c'\n",
         "hidden": false,
         "locked": false
        }
       ],
       "scored": true,
       "setup": "",
       "teardown": "",
       "type": "doctest"
      }
     ]
    },
    "q3.0": {
     "name": "q3.0",
     "points": 1,
     "suites": [
      {
       "cases": [
        {
         "code": ">>> assert get_hash(months_range) == '5319bc85f3a29d6cd7b6b65df958ae78'\n>>> assert get_hash(months_range[0]) == 'c4ca4238a0b923820dcc509a6f75849b' , 'Check start value'\n>>> assert get_hash(months_range[-1]) == 'c20ad4d76fe97759aa27a0c99bff6710' , 'Check end value'\n>>> assert get_hash(sum(months_range)) == '35f4a8d465e6e1edc05f3d8ab658c551' , 'Check step size'\n",
         "hidden": false,
         "locked": false
        }
       ],
       "scored": true,
       "setup": "",
       "teardown": "",
       "type": "doctest"
      }
     ]
    },
    "q3.1": {
     "name": "q3.1",
     "points": 2,
     "suites": [
      {
       "cases": [
        {
         "code": ">>> assert get_hash(type(months_nparray)) == '30b39aca73d0815f5ca1a06af1412947'\n>>> assert get_hash(len(months_nparray)) == 'c20ad4d76fe97759aa27a0c99bff6710'\n>>> assert get_hash(sum(months_nparray)) == '35f4a8d465e6e1edc05f3d8ab658c551'\n",
         "hidden": false,
         "locked": false
        },
        {
         "code": ">>> assert get_hash(type(months_list)) == '425ed5b515f0a67c6316f0ec499f86bf'\n>>> assert get_hash(len(months_list)) == 'c20ad4d76fe97759aa27a0c99bff6710'\n>>> assert get_hash(sum(months_list)) == '35f4a8d465e6e1edc05f3d8ab658c551'\n",
         "hidden": false,
         "locked": false
        }
       ],
       "scored": true,
       "setup": "",
       "teardown": "",
       "type": "doctest"
      }
     ]
    },
    "q3.2": {
     "name": "q3.2",
     "points": 2,
     "suites": [
      {
       "cases": [
        {
         "code": ">>> assert get_hash(size_of_range) == '642e92efb79421734881b53e1e1b18b6'\n>>> assert get_hash(size_of_nparray) == '3644a684f98ea8fe223c713b77189a77'\n>>> assert get_hash(size_of_list) == '37a749d808e46495a8da1e5352d03cae'\n",
         "hidden": false,
         "locked": false
        }
       ],
       "scored": true,
       "setup": "",
       "teardown": "",
       "type": "doctest"
      }
     ]
    },
    "q4": {
     "name": "q4",
     "points": 3,
     "suites": [
      {
       "cases": [
        {
         "code": ">>> assert get_hash(reservoir_data.size) == '19ca14e7ea6328a42e0eb13d585e4c22' , 'Check shape of array'\n>>> assert get_hash(sum(sum(reservoir_data))) == 'f7a4bd529c2762d35ea70706a2b804eb' , 'Check values of array'\n>>> assert get_hash(reservoir_data) == 'a312845f72761ce35271d3b4b168c6c1'\n>>> assert get_hash(reservoir_data.dtype) == 'ff9b3f96d37353c528517bc3656a00a8' , 'Check dtype of array'\n",
         "hidden": false,
         "locked": false
        }
       ],
       "scored": true,
       "setup": "",
       "teardown": "",
       "type": "doctest"
      }
     ]
    },
    "q5.0": {
     "name": "q5.0",
     "points": 1,
     "suites": [
      {
       "cases": [
        {
         "code": ">>> assert get_hash(len(Oroville_data)) == 'c20ad4d76fe97759aa27a0c99bff6710' , 'Check length of selection'\n>>> assert get_hash(sum(Oroville_data)) == '97c2a51b4ddc77196fa563cd72957c1e' , 'Check which column corresponds to Lake Oroville'\n>>> assert get_hash(Oroville_data) == 'd57f3682934eebd41c73b68817c6592d'\n",
         "hidden": false,
         "locked": false
        }
       ],
       "scored": true,
       "setup": "",
       "teardown": "",
       "type": "doctest"
      }
     ]
    },
    "q5.1": {
     "name": "q5.1",
     "points": 8,
     "suites": [
      {
       "cases": [
        {
         "code": ">>> assert get_hash(int(oroville_stats[0])) == '940e9e08f28abe5dbb1a1518cd1210c9' , 'Check mean calculation or input values'\n",
         "hidden": false,
         "locked": false
        },
        {
         "code": ">>> assert get_hash('January reservoir storage' in oroville_stats[1]) == 'f827cf462f62848df37c5e1e94a4da74' , 'Check January string'\n>>> assert get_hash('1642000' in oroville_stats[1]) == 'f827cf462f62848df37c5e1e94a4da74' , 'Check January value'\n>>> assert get_hash('AF' in oroville_stats[1]) == 'f827cf462f62848df37c5e1e94a4da74' , 'Check January string'\n",
         "hidden": false,
         "locked": false
        },
        {
         "code": ">>> assert get_hash('December reservoir storage' in oroville_stats[2]) == 'f827cf462f62848df37c5e1e94a4da74' , 'Check December string'\n>>> assert get_hash('1273042' in oroville_stats[2]) == 'f827cf462f62848df37c5e1e94a4da74' , 'Check December value'\n>>> assert get_hash('AF' in oroville_stats[2]) == 'f827cf462f62848df37c5e1e94a4da74' , 'Check December string'\n",
         "hidden": false,
         "locked": false
        },
        {
         "code": ">>> assert get_hash(int(reservoir_change(reservoir_data[:,1])[0])) == '65035f8862f37a3103cfee9f3930692d' , 'Check reproducibility'\nMean reservoir storage: 1630893  AF\nJanuary reservoir storage: 1621000 AF\nDecember reservoir storage: 1523676 AF\n",
         "hidden": false,
         "locked": false
        }
       ],
       "scored": true,
       "setup": "",
       "teardown": "",
       "type": "doctest"
      }
     ]
    },
    "q5.2": {
     "name": "q5.2",
     "points": 1,
     "suites": [
      {
       "cases": [
        {
         "code": ">>> assert get_hash(q5_2a) == '22b3afce62075c7012f8e5041adfee16'\n>>> assert get_hash(q5_2b) == 'eccbc87e4b5ce2fe28308fd9f2a7baf3'\n",
         "hidden": false,
         "locked": false
        }
       ],
       "scored": true,
       "setup": "",
       "teardown": "",
       "type": "doctest"
      }
     ]
    },
    "q6": {
     "name": "q6",
     "points": 5,
     "suites": [
      {
       "cases": [
        {
         "code": ">>> assert get_hash(name_input) == 'f87798ca0a0f836f16995cc5c7955c2a'\n>>> assert get_hash(q6) == '75cbfe9a1d825c40fd979cc5614764aa'\n>>> assert get_hash(data_input) == 'ac3c5f2b1ab399ae627808b2459456ca'\n",
         "hidden": false,
         "locked": false
        }
       ],
       "scored": true,
       "setup": "",
       "teardown": "",
       "type": "doctest"
      }
     ]
    }
   }
  }
 },
 "nbformat": 4,
 "nbformat_minor": 4
}
