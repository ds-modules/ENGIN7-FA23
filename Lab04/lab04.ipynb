{
 "cells": [
  {
   "cell_type": "code",
   "execution_count": null,
   "metadata": {
    "deletable": false,
    "editable": false
   },
   "outputs": [],
   "source": [
    "# Initialize Otter\n",
    "import otter\n",
    "grader = otter.Notebook(\"lab04.ipynb\")"
   ]
  },
  {
   "cell_type": "markdown",
   "metadata": {},
   "source": [
    "# E7: Introduction to Computer Programming for Scientists and Engineers"
   ]
  },
  {
   "cell_type": "markdown",
   "metadata": {},
   "source": [
    "## Lab Assignment 4"
   ]
  },
  {
   "cell_type": "markdown",
   "metadata": {},
   "source": [
    "For each question, you will have to fill in one or more Python functions. We provide an autograder with a number of test cases that you can use to test your function. Note that the fact that your function works for all test cases thus provided does necessarily guarantee that it will work for all possible test cases relevant to the question. It is your responsibility to test your function thoroughly, to ensure that it will also work in situations not covered by the test cases provided\n",
    "\n",
    "## Score Breakdown\n",
    "Question| Points\n",
    "--- | --\n",
    "1 | 5.0\n",
    "2 | 4.0\n",
    "3 | 4.0\n",
    "4 | 4.0\n",
    "5 | 4.0\n",
    "6 | 4.0\n",
    "Total | 25.0"
   ]
  },
  {
   "cell_type": "code",
   "execution_count": null,
   "metadata": {},
   "outputs": [],
   "source": [
    "# Please run this cell, and do not modify the contets\n",
    "import numpy as np\n",
    "import math\n",
    "import hashlib\n",
    "import matplotlib.pyplot as plt\n",
    "def get_hash(num):\n",
    "    \"\"\"Helper function for assessing correctness\"\"\"\n",
    "    return hashlib.md5(str(num).encode()).hexdigest()"
   ]
  },
  {
   "cell_type": "markdown",
   "metadata": {},
   "source": [
    "## Question 1: Interest"
   ]
  },
  {
   "cell_type": "markdown",
   "metadata": {},
   "source": [
    "The interest rate, $r$, on a principal investment, $P_0$, is a payment for allowing the bank to use an investor's money. Compound interest is accumulated according to the formula $P_n = (1 + r)P_{n-1}$, where $P_n$ is the balance after $n$ compounding periods (in our case years), and $P_{n-1}$ is the balance after the previous period. The interest rate $r$ is given\n",
    "in decimal, e.g. 0.1, which is 10%. The objective is to determine the number of years required to reach an investment goal based on an initial investment $P_0$ and an interest rate $r$.\n",
    "\n",
    "You will need to complete the function below, `mySavingsPlan(P0, r, goal)`, which returns `years`, the number of years required to reach an investment goal. Assume that interest is paid out in one payment at the end of a given year. The output `years` should be a whole number.\n",
    "\n",
    "Complete the function below to solve the investment problem using a while loop. There are hints to guide you on what is missing on each line."
   ]
  },
  {
   "cell_type": "code",
   "execution_count": null,
   "metadata": {
    "tags": []
   },
   "outputs": [],
   "source": [
    "# ANSWER CELL\n",
    "def mySavingsPlan(P0, r, goal):\n",
    "    \"\"\"Return number of years required to reach an investment goal based on an initial investment P0 and an interest rate r.\n",
    "    >>> mySavingsPlan(1000, 0.05, 10000)\n",
    "    48\n",
    "    >>> mySavingsPlan(1000, 0.10, 10000)\n",
    "    25\n",
    "    >>> mySavingsPlan(1000, 0.05, 1000000)\n",
    "    142\n",
    "    \"\"\"\n",
    "    # Initialize number of years required to reach investment goal\n",
    "    years = ...\n",
    "    \n",
    "    # Initialize amount of money in the current period\n",
    "    money = ...\n",
    "    \n",
    "    # Add logical expression that should be checked each time you iterate through the loop\n",
    "    while ...\n",
    "        \n",
    "        # Update amount of money in the next period\n",
    "        money = ...\n",
    "        \n",
    "        # Update number of years required to reach investment goal\n",
    "        years = ...\n",
    "\n",
    "    return years"
   ]
  },
  {
   "cell_type": "markdown",
   "metadata": {},
   "source": [
    "Try out your new `mySavingsPlan()` function in the cell below for `P0 = 1000` dollars, `r = 0.05`, and `goal = 10000` dollars. Feel free to try it for other inputs.\n",
    "\n",
    "You do not need to store any outputs from the cell below. This is just to allow you to test your function."
   ]
  },
  {
   "cell_type": "code",
   "execution_count": null,
   "metadata": {},
   "outputs": [],
   "source": []
  },
  {
   "cell_type": "code",
   "execution_count": null,
   "metadata": {
    "deletable": false,
    "editable": false
   },
   "outputs": [],
   "source": [
    "grader.check(\"q1\")"
   ]
  },
  {
   "cell_type": "markdown",
   "metadata": {},
   "source": [
    "## Question 2: Sum Digits"
   ]
  },
  {
   "cell_type": "markdown",
   "metadata": {},
   "source": [
    "Write a function `mySum(n)` that takes a non-negative integer (`n`) and returns the sum of its digits (`digit_sum`) as an integer. If `n` is negative and/or non-integer, the function should return \"Invalid Input.\" Be careful with your string formatting. Minor differences will result in a failed test.\n",
    "\n",
    "Note that if `n` has a decimal point but without any fractional component (e.g., 10.0 and 10.), then `n` should be treated as an integer.\n",
    "\n",
    "*Hint:* Strings are iterable.\n",
    "\n",
    "```\n",
    "Examples:\n",
    "\n",
    ">>> mySum(10) # 1 + 0 = 1\n",
    "1\n",
    "\n",
    ">>> mySum(4224) # 4 + 2 + 2 + 4 = 12\n",
    "12\n",
    "\n",
    ">>> mySum(1234567890)\n",
    "45\n",
    "\n",
    ">>> mySum(-10)\n",
    "'Invalid Input.'\n",
    "\n",
    ">>> mySum(10.1)\n",
    "'Invalid Input.'\n",
    "\n",
    ">>> mySum(10.0) # 1 + 0 = 1\n",
    "1\n",
    "\n",
    ">>> a = mySum(123) # make sure that you are using return rather than print\n",
    ">>> a\n",
    "6\n",
    "```"
   ]
  },
  {
   "cell_type": "code",
   "execution_count": null,
   "metadata": {
    "tags": []
   },
   "outputs": [],
   "source": [
    "# ANSWER CELL\n",
    "..."
   ]
  },
  {
   "cell_type": "markdown",
   "metadata": {},
   "source": [
    "Try out your new `mySum()` function in the cell below for `n = 20050`. Feel free to try it for other inputs.\n",
    "\n",
    "You do not need to store any outputs from the cell below. This is just to allow you to test your function."
   ]
  },
  {
   "cell_type": "code",
   "execution_count": null,
   "metadata": {},
   "outputs": [],
   "source": []
  },
  {
   "cell_type": "code",
   "execution_count": null,
   "metadata": {
    "deletable": false,
    "editable": false
   },
   "outputs": [],
   "source": [
    "grader.check(\"q2\")"
   ]
  },
  {
   "cell_type": "markdown",
   "metadata": {},
   "source": [
    "## Question 3: Hailstone"
   ]
  },
  {
   "cell_type": "markdown",
   "metadata": {},
   "source": [
    "Douglas Hofstadter's Pulitzer-prize-winning book, Gödel, Escher, Bach, poses the following mathematical puzzle.\n",
    "\n",
    "1. Pick a positive integer `n` as the start.\n",
    "1. If `n` is even, divide it by 2.\n",
    "2. If `n` is odd, multiply it by 3 and add 1.\n",
    "3. Continue this process until `n` is 1.\n",
    "\n",
    "The number `n` will travel up and down but eventually end at 1 (at least for all numbers that have ever been tried -- nobody has ever proved that the sequence will terminate). Analogously, a hailstone travels up and down in the atmosphere before eventually landing on earth.\n",
    "\n",
    "This sequence of values of `n` is often called a Hailstone sequence. Write a function `hailstone(n)` that takes a positive integer (`n`) and returns a list of the hailstone sequence starting at `n` (`sequence`) and the number of steps in the sequence (`steps`). The first returned object should be `sequence` and the second returned object should be `steps`.\n",
    "\n",
    "If `n` is non-positive and/or non-integer, the function should return \"Invalid Input.\" Be careful with your string formatting. Minor differences will result in a failed test. \n",
    "\n",
    "Note that if `n == 1` initially, then the sequence is one step long.\n",
    "\n",
    "```\n",
    "Examples:\n",
    "\n",
    ">>> hailstone(10)\n",
    "([10, 5, 16, 8, 4, 2, 1], 7)\n",
    "\n",
    ">>> hailstone(1)\n",
    "([1], 1)\n",
    "\n",
    ">>> hailstone(9)\n",
    "([9, 28, 14, 7, 22, 11, 34, 17, 52, 26, 13, 40, 20, 10, 5, 16, 8, 4, 2, 1], 20)\n",
    "\n",
    ">>> hailstone(0)\n",
    "'Invalid Input.'\n",
    "```"
   ]
  },
  {
   "cell_type": "code",
   "execution_count": null,
   "metadata": {
    "tags": []
   },
   "outputs": [],
   "source": [
    "# ANSWER CELL\n",
    "..."
   ]
  },
  {
   "cell_type": "markdown",
   "metadata": {},
   "source": [
    "Try out your new `hailstone()` function in the cell below for `n = 25`. Feel free to try it for other inputs.\n",
    "\n",
    "You do not need to store any outputs from the cell below. This is just to allow you to test your function."
   ]
  },
  {
   "cell_type": "code",
   "execution_count": null,
   "metadata": {},
   "outputs": [],
   "source": []
  },
  {
   "cell_type": "code",
   "execution_count": null,
   "metadata": {
    "deletable": false,
    "editable": false
   },
   "outputs": [],
   "source": [
    "grader.check(\"q3\")"
   ]
  },
  {
   "cell_type": "markdown",
   "metadata": {},
   "source": [
    "## Question 4: Minimum Searching"
   ]
  },
  {
   "cell_type": "markdown",
   "metadata": {},
   "source": [
    "Write a function `myMin(P)` that takes a numeric sequence (list, tuple, NumPy array) (`P`) and returns the minimum value in `P` (`value`) and the index(ex) of the minimum value (`loc`), where `loc` should be a list. Note that the minimum value could appear more than once. If this is the case, `loc` should specify the indexes of all occurrences of the minimum value. **You may NOT use the built-in Python function `min()` in your function.**\n",
    "\n",
    "The first returned object should be `value` and the second returned object should be `loc`.\n",
    "\n",
    "```\n",
    "Examples:\n",
    "\n",
    ">>> myMin([5, 4, 5, 2, 6, 7, 1, 8, 9])\n",
    "(1, [6])\n",
    "\n",
    ">>> myMin([2, 3, 5, 7, 2, 4, 3, 2])\n",
    "(2, [0, 4, 7])\n",
    "\n",
    ">>> myMin([2, -3, 5, -7, 2, 4, 3, 2])\n",
    "(-7, [3])\n",
    "\n",
    ">>> myMin([2, -3, 5, 7, 2, 4, -3, 2])\n",
    "(-3, [1, 6])\n",
    "```"
   ]
  },
  {
   "cell_type": "code",
   "execution_count": null,
   "metadata": {
    "jupyter": {
     "outputs_hidden": true
    },
    "tags": []
   },
   "outputs": [],
   "source": [
    "# ANSWER CELL\n",
    "..."
   ]
  },
  {
   "cell_type": "markdown",
   "metadata": {},
   "source": [
    "Try out your new `myMin()` function in the cell below for ` P = [2, -3, 5, 7, 2, 4, -3, 2]`. Feel free to try it for other inputs.\n",
    "\n",
    "You do not need to store any outputs from the cell below. This is just to allow you to test your function."
   ]
  },
  {
   "cell_type": "code",
   "execution_count": null,
   "metadata": {},
   "outputs": [],
   "source": []
  },
  {
   "cell_type": "code",
   "execution_count": null,
   "metadata": {
    "deletable": false,
    "editable": false
   },
   "outputs": [],
   "source": [
    "grader.check(\"q4\")"
   ]
  },
  {
   "cell_type": "markdown",
   "metadata": {},
   "source": [
    "## Question 5: Rainfall Totals"
   ]
  },
  {
   "cell_type": "markdown",
   "metadata": {},
   "source": [
    "Write a function `myRainfall(rainData)` that takes a numeric sequence (list, tuple, NumPy array) of daily rainfall measurements (`rainData`) and returns the total rainfall (`rainTot`) and the average daily rainfall (`rainAvg`) over a period of interest.\n",
    "\n",
    "The argument `rainData` may contain the number -999 indicating the end of the data from a given period. We are interested in computing the total and average daily rainfall over the first period only (everything after the first -999 should be ignored). There may be negative numbers other than -999 in`rainData`, which represent erroneous measurements and should be neglected.\n",
    "\n",
    "Your function `myRainfall(rainData)` should return `rainTot` and `rainAvg`, which are the total and average of the non-negative values in either the entire input `rainData` or the period from the beginning until the first occurrence of -999. Note that `rainAvg` is the average daily rainfall during this period (not counting days with neglected measurements). The first returned object should be `rainTot` and the second returned object should be `rainAvg`.\n",
    "\n",
    "```\n",
    "Examples:\n",
    "\n",
    ">>> myRainfall([2, 4, -5, 1, 7, -2, 8, -999, 4, 6, 4])\n",
    "(22, 4.4)\n",
    "\n",
    ">>> myRainfall([2, 4, -5, 1, 7, -2, 8, 0, 4, 6, 4])\n",
    "(36, 4.0)\n",
    "\n",
    ">>> myRainfall([2, 4, -999, 1, 7, -2, 8, -999, 4, 6, 4])\n",
    "(6, 3.0)\n",
    "\n",
    ">>> myRainfall([0, -999, -5, 1, 7, -2, 8, -999, 4, 6, 2])\n",
    "(0, 0.0)\n",
    "```"
   ]
  },
  {
   "cell_type": "code",
   "execution_count": null,
   "metadata": {
    "jupyter": {
     "outputs_hidden": true
    },
    "tags": []
   },
   "outputs": [],
   "source": [
    "# ANSWER CELL\n",
    "..."
   ]
  },
  {
   "cell_type": "markdown",
   "metadata": {},
   "source": [
    "Try out your new `myRainfall()` function in the cell below for ` rainData = [2.3, 4.1, -5.4, 1.0, 7.1, -2, 8, 0, 4.9, 6, -999]`. Feel free to try it for other inputs.\n",
    "\n",
    "You do not need to store any outputs from the cell below. This is just to allow you to test your function."
   ]
  },
  {
   "cell_type": "code",
   "execution_count": null,
   "metadata": {
    "jupyter": {
     "outputs_hidden": true
    }
   },
   "outputs": [],
   "source": []
  },
  {
   "cell_type": "code",
   "execution_count": null,
   "metadata": {
    "deletable": false,
    "editable": false
   },
   "outputs": [],
   "source": [
    "grader.check(\"q5\")"
   ]
  },
  {
   "cell_type": "markdown",
   "metadata": {},
   "source": [
    "## Question 6: Summation Target"
   ]
  },
  {
   "cell_type": "markdown",
   "metadata": {},
   "source": [
    "Write a function that takes a list of numbers (`myList`) and a single desired value to serve as a target summation (`sumTarget`). Your function needs to find all unique three elements $a, b, c$ in `myList` such that $a + b + c$ = `sumTarget`. \n",
    "\n",
    "Your function `mySummation(myList, sumTarget)` should return `results`, where `results` is a NumPy array with shape (M, 3), where each row includes unique three elements $a, b, c$ in `myList` that add up to `sumTarget`. \n",
    "\n",
    "Constraints:\n",
    "* In `results`, the three elements $a, b, c$ within each row should be sorted in ascending order. \n",
    "* The order of the unique triplets (i.e., order of rows) does not matter.\n",
    "* No duplicate rows should be present in `results` (each row should be unique).\n",
    "* If no three elements add up to `sumTarget`, the function should return an empty array: `[]`.\n",
    "* Within each row, the same element cannot be selected more than once, unless it appears in `myList` more than once (i.e., selecting elements is done without replacement).\n",
    "\n",
    "*Hint:* You may find [`numpy.vstack()`](https://numpy.org/doc/stable/reference/generated/numpy.vstack.html) and [`numpy.empty()`](https://numpy.org/doc/stable/reference/generated/numpy.empty.html) useful for creating your `results` array.\n",
    "\n",
    "\n",
    "```\n",
    "Examples:\n",
    "\n",
    ">>> mySummation([1, 1, 5, 6, 7, 8, 10], 10)\n",
    "array([[1., 1., 8.]])\n",
    "\n",
    ">>> mySummation([0, 1, 1, 2, 3, 4], 5)\n",
    "array([[0., 1., 4.],\n",
    "       [0., 2., 3.],\n",
    "       [1., 1., 3.]])\n",
    "       \n",
    ">>> mySummation([0, 1, 1, 2, 3, 4], 10)\n",
    "array([], dtype=float64)\n",
    "\n",
    ">>> mySummation([0.1, 0.5, -1, 2, 4, 3.3], -0.4)\n",
    "array([[-1. ,  0.1,  0.5]])\n",
    "```"
   ]
  },
  {
   "cell_type": "code",
   "execution_count": null,
   "metadata": {
    "tags": []
   },
   "outputs": [],
   "source": [
    "# ANSWER CELL\n",
    "..."
   ]
  },
  {
   "cell_type": "markdown",
   "metadata": {},
   "source": [
    "Try out your new `mySummation()` function in the cell below for `array = [0, 1, 1, 2, 3, 4]` and `sumTarget = 8`. Feel free to try it for other inputs.\n",
    "\n",
    "You do not need to store any outputs from the cell below. This is just to allow you to test your function."
   ]
  },
  {
   "cell_type": "code",
   "execution_count": null,
   "metadata": {},
   "outputs": [],
   "source": []
  },
  {
   "cell_type": "code",
   "execution_count": null,
   "metadata": {
    "deletable": false,
    "editable": false
   },
   "outputs": [],
   "source": [
    "grader.check(\"q6\")"
   ]
  },
  {
   "cell_type": "code",
   "execution_count": null,
   "metadata": {},
   "outputs": [],
   "source": [
    "import matplotlib.image as mpimg\n",
    "img = mpimg.imread('resources/animal.png')\n",
    "imgplot = plt.imshow(img)\n",
    "imgplot.axes.get_xaxis().set_visible(False)\n",
    "imgplot.axes.get_yaxis().set_visible(False)\n",
    "print(\"Congrats on finishing lab 4 on branching and iteration!\")\n",
    "plt.show()"
   ]
  },
  {
   "cell_type": "markdown",
   "metadata": {
    "deletable": false,
    "editable": false
   },
   "source": [
    "---\n",
    "\n",
    "To double-check your work, the cell below will rerun all of the autograder tests."
   ]
  },
  {
   "cell_type": "code",
   "execution_count": null,
   "metadata": {
    "deletable": false,
    "editable": false
   },
   "outputs": [],
   "source": [
    "grader.check_all()"
   ]
  },
  {
   "cell_type": "markdown",
   "metadata": {
    "deletable": false,
    "editable": false
   },
   "source": [
    "## Submission\n",
    "\n",
    "Make sure you have run all cells in your notebook in order before running the cell below, so that all images/graphs appear in the output. The cell below will generate a zip file for you to submit. **Please save before exporting!**\n",
    "\n",
    "Make sure you submit the .zip file to Gradescope."
   ]
  },
  {
   "cell_type": "code",
   "execution_count": null,
   "metadata": {
    "deletable": false,
    "editable": false
   },
   "outputs": [],
   "source": [
    "# Save your notebook first, then run this cell to export your submission.\n",
    "grader.export()"
   ]
  },
  {
   "cell_type": "markdown",
   "metadata": {},
   "source": [
    " "
   ]
  }
 ],
 "metadata": {
  "anaconda-cloud": {},
  "kernelspec": {
   "display_name": "Python 3 (ipykernel)",
   "language": "python",
   "name": "python3"
  },
  "language_info": {
   "codemirror_mode": {
    "name": "ipython",
    "version": 3
   },
   "file_extension": ".py",
   "mimetype": "text/x-python",
   "name": "python",
   "nbconvert_exporter": "python",
   "pygments_lexer": "ipython3",
   "version": "3.9.15"
  },
  "otter": {
   "OK_FORMAT": true,
   "assignment_name": "lab04",
   "tests": {
    "q1": {
     "name": "q1",
     "points": 5,
     "suites": [
      {
       "cases": [
        {
         "code": ">>> assert get_hash(type(mySavingsPlan(1000, 0.05, 10000))) == '2203e3c2293eb8c9bda5bcd97acbf884'\n",
         "hidden": false,
         "locked": false
        },
        {
         "code": ">>> assert get_hash(mySavingsPlan(1000, 0.05, 10000)) == '642e92efb79421734881b53e1e1b18b6'\n",
         "hidden": false,
         "locked": false
        },
        {
         "code": ">>> assert get_hash(mySavingsPlan(2000, 0.15, 10000)) == 'c20ad4d76fe97759aa27a0c99bff6710'\n>>> assert get_hash(mySavingsPlan(4000, 0.10, 300)) == 'cfcd208495d565ef66e7dff9f98764da', \"What if p0 is greater than goal? Are additional years needed for saving?\"\n",
         "hidden": false,
         "locked": false
        }
       ],
       "scored": true,
       "setup": "",
       "teardown": "",
       "type": "doctest"
      }
     ]
    },
    "q2": {
     "name": "q2",
     "points": 4,
     "suites": [
      {
       "cases": [
        {
         "code": ">>> # Test for valid input without 0\n>>> assert get_hash(mySum(14927421)) == '34173cb38f07f89ddbebc2ac9128303f'\n>>> assert get_hash(mySum(1371)) == 'c20ad4d76fe97759aa27a0c99bff6710'\n>>> assert get_hash(mySum(629)) == '70efdf2ec9b086079795c442636b55fb'\n",
         "hidden": false,
         "locked": false
        },
        {
         "code": ">>> # Test for valid input with 0\n>>> assert get_hash(mySum(104927421)) == '34173cb38f07f89ddbebc2ac9128303f', \"What if n has 0?\"\n>>> assert get_hash(mySum(13710)) == 'c20ad4d76fe97759aa27a0c99bff6710', \"What if n has 0?\"\n>>> assert get_hash(mySum(60020090)) == '70efdf2ec9b086079795c442636b55fb', \"What if n has 0?\"\n",
         "hidden": false,
         "locked": false
        },
        {
         "code": ">>> # Test for non-integer (use .upper() to avoid failed test due to upper/lower case)\n>>> assert get_hash(mySum(0.1).upper()) == 'f461246234e2789f34f339b35945c15f', \"What if n is non-integer?\"\n>>> assert get_hash(mySum(10.1).upper()) == 'f461246234e2789f34f339b35945c15f', \"What if n is non-integer?\"\n>>> assert get_hash(mySum(10.00000001).upper()) == 'f461246234e2789f34f339b35945c15f', \"What if n is non-integer?\"\n>>> assert get_hash(mySum(10.9).upper()) == 'f461246234e2789f34f339b35945c15f', \"What if n is non-integer?\"\n>>> \n>>> # Test for negative values (use .upper() to avoid failed test due to upper/lower case)\n>>> assert get_hash(mySum(-1).upper()) == 'f461246234e2789f34f339b35945c15f', \"What if n is negative?\"\n>>> assert get_hash(mySum(-99).upper()) == 'f461246234e2789f34f339b35945c15f', \"What if n is negative?\"\n>>> assert get_hash(mySum(-0.1).upper()) == 'f461246234e2789f34f339b35945c15f', \"What if n is negative?\"\n",
         "hidden": false,
         "locked": false
        },
        {
         "code": ">>> # Test for floats with decimal point but no fractional component\n>>> assert get_hash(mySum(1.0)) == 'c4ca4238a0b923820dcc509a6f75849b', \"What if n has decimal point but no fractional component?\"\n>>> assert get_hash(mySum(916372.0)) == '33e75ff09dd601bbe69f351039152189', \"What if n has decimal point but no fractional component?\"\n>>> assert get_hash(mySum(763617.)) == '34173cb38f07f89ddbebc2ac9128303f', \"What if n has decimal point but no fractional component?\"\n>>> assert get_hash(mySum(7636170.)) == '34173cb38f07f89ddbebc2ac9128303f', \"What if n has decimal point but no fractional component?\"\n>>> assert get_hash(mySum(0763617.)) == '34173cb38f07f89ddbebc2ac9128303f', \"What if n has decimal point but no fractional component?\"\n",
         "hidden": false,
         "locked": false
        }
       ],
       "scored": true,
       "setup": "",
       "teardown": "",
       "type": "doctest"
      }
     ]
    },
    "q3": {
     "name": "q3",
     "points": 4,
     "suites": [
      {
       "cases": [
        {
         "code": ">>> # Check data types\n>>> assert get_hash(type(hailstone(4))) == '22b3afce62075c7012f8e5041adfee16' , 'Check output structure'\n>>> assert get_hash(type(hailstone(4)[0])) == '425ed5b515f0a67c6316f0ec499f86bf' , 'Check sequence output type'\n",
         "hidden": false,
         "locked": false
        },
        {
         "code": ">>> # Check sequence values\n>>> assert get_hash(sum(hailstone(13)[0])) == '07e1cd7dca89a1678042477183b7ac3f'\n>>> assert get_hash(len(hailstone(13)[0])) == 'd3d9446802a44259755d38e6d163e820'\n",
         "hidden": false,
         "locked": false
        },
        {
         "code": ">>> # Check step count\n>>> assert get_hash(hailstone(17)[1]) == 'c51ce410c124a10e0db5e4b97fc2af39'\n>>> assert get_hash(len(hailstone(17)[0])) == 'c51ce410c124a10e0db5e4b97fc2af39'\n",
         "hidden": false,
         "locked": false
        },
        {
         "code": ">>> # Check error message\n>>> assert get_hash(hailstone(-1)) == '8c6d2200d4c0872505aa1486759ec9f6' , 'Check exact formatting on error message'\n>>> assert get_hash(hailstone(0)) == '8c6d2200d4c0872505aa1486759ec9f6' , 'Check exact formatting on error message'\n>>> assert get_hash(hailstone(8.1)) == '8c6d2200d4c0872505aa1486759ec9f6' , 'Check exact formatting on error message'\n",
         "hidden": false,
         "locked": false
        }
       ],
       "scored": true,
       "setup": "",
       "teardown": "",
       "type": "doctest"
      }
     ]
    },
    "q4": {
     "name": "q4",
     "points": 4,
     "suites": [
      {
       "cases": [
        {
         "code": ">>> # Check basic output structure and data type\n>>> assert get_hash(type(myMin([99,2,43,3]))) == '22b3afce62075c7012f8e5041adfee16' , 'Check output structure'\n>>> assert get_hash(type(myMin([99,2,43,3])[0])) == '2203e3c2293eb8c9bda5bcd97acbf884' , 'Check position of minimum'\n",
         "hidden": false,
         "locked": false
        },
        {
         "code": ">>> # Check data type with minimum occurring multiple times\n>>> assert get_hash(type(myMin([99,2,2,43,3])[1])) == '425ed5b515f0a67c6316f0ec499f86bf' , 'What if value occurs multiple times?'\n",
         "hidden": false,
         "locked": false
        },
        {
         "code": ">>> # Check values for base cases\n>>> assert get_hash(myMin([2])[-1]) == '8d5162ca104fa7e79fe80fd92bb657fb'\n>>> assert get_hash(myMin([38,8,9,77,12,2])) == '71dbb38d4185ebdf8d854e0e186307c2'\n",
         "hidden": false,
         "locked": false
        },
        {
         "code": ">>> # Check values for minimum occurring multiple times\n>>> assert get_hash(sum(myMin([82,4,9,77,12,2,2,2])[-1])) == '6f4922f45568161a8cdf4ad2299f6d23'\n",
         "hidden": false,
         "locked": false
        }
       ],
       "scored": true,
       "setup": "",
       "teardown": "",
       "type": "doctest"
      }
     ]
    },
    "q5": {
     "name": "q5",
     "points": 4,
     "suites": [
      {
       "cases": [
        {
         "code": ">>> # Check output data type and structure\n>>> assert get_hash(type(myRainfall([2.3,4.1,-5.4,1.0,7.1]))) == '22b3afce62075c7012f8e5041adfee16'\n>>> assert get_hash(len(myRainfall([2.3,4.1,-5.4,1.0,7.1]))) == 'c81e728d9d4c2f636f067f89cc14862c'\n",
         "hidden": false,
         "locked": false
        },
        {
         "code": ">>> # Check base case\n>>> assert get_hash(myRainfall([2.3,4.1,-5.4,1.0,7.1,-2,8.0,4.9,6])) == 'e0e5d666f240241f3ddcf3af9caf411c'\n",
         "hidden": false,
         "locked": false
        },
        {
         "code": ">>> # Check full case\n>>> assert get_hash(myRainfall([2.3,4.1,-5.4,1.0,7.1,-2,8.0,4.9,6,-999])) == 'e0e5d666f240241f3ddcf3af9caf411c'\n",
         "hidden": false,
         "locked": false
        },
        {
         "code": ">>> assert get_hash(myRainfall([2,1.3,-99,33,0.99,-999])[0]) == '652126365f55aa7ccf24e90ed647c3a3'\n>>> assert get_hash(myRainfall([2,1.3,-99,33,0.99,-999])[1]) == 'a311e6b63f7e2eb2e08f75cb9d5c882c'\n",
         "hidden": false,
         "locked": false
        }
       ],
       "scored": true,
       "setup": "",
       "teardown": "",
       "type": "doctest"
      }
     ]
    },
    "q6": {
     "name": "q6",
     "points": 4,
     "suites": [
      {
       "cases": [
        {
         "code": ">>> # Check data structure\n>>> assert get_hash(type(mySummation([1, 1, 5, 6, 7, 8, 10],10))) == '30b39aca73d0815f5ca1a06af1412947' , 'Check output type'\n>>> assert get_hash(mySummation([1, 1, 5, 6, 7, 8, 10],10).shape) == '0f6c6ad8083308c6c59c917667b3fa2f' , 'Check output shape'\n",
         "hidden": false,
         "locked": false
        },
        {
         "code": ">>> # Check base case\n>>> assert get_hash(mySummation([2,3,4,5,6],12).shape) == '590392f0cb88f1eb89930f4de5e9eaaa'\n>>> assert get_hash(int(sum(mySummation([2,3,4,5,6],12)[:,2]))) == '6512bd43d9caa6e02c990b0a82652dca'\n",
         "hidden": false,
         "locked": false
        },
        {
         "code": ">>> # Check full cases\n>>> assert get_hash(mySummation([0, 1, 1, 2, 3, 4],10)) == 'd751713988987e9331980363e24189ce'\n>>> assert get_hash(int(sum(mySummation([0, 0, 2, 4, 6, 8, 14],14)[:,2]))) == '34173cb38f07f89ddbebc2ac9128303f'\n",
         "hidden": false,
         "locked": false
        }
       ],
       "scored": true,
       "setup": "",
       "teardown": "",
       "type": "doctest"
      }
     ]
    }
   }
  }
 },
 "nbformat": 4,
 "nbformat_minor": 4
}
