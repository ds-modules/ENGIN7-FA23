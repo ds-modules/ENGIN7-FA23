{
 "cells": [
  {
   "cell_type": "code",
   "execution_count": null,
   "metadata": {
    "deletable": false,
    "editable": false
   },
   "outputs": [],
   "source": [
    "# Initialize Otter\n",
    "import otter\n",
    "grader = otter.Notebook(\"lab6.ipynb\")"
   ]
  },
  {
   "cell_type": "markdown",
   "metadata": {},
   "source": [
    "# E7: Lab Assignment 06\n",
    "\n",
    "You must submit the lab to Gradescope by the due date. You will submit the zip file produced by running the final cell of the assignment.\n",
    "\n",
    "## About this Lab\n",
    "The objective of this assignment is to familiarize you with plotting as well as reading and writing data.\n",
    "\n",
    "## Autograder\n",
    "You will be provided with some test cases (i.e., sample input data) and associated answers (i.e., expected outputs) that you can use to help check your code. The provided test cases are not exhaustive, and it is your responsibility to ensure that your code works in general, not just for a few supplied test cases. We may use additional hidden test cases in grading your lab assignments.\n",
    "\n",
    "**Run the first cell, Initialize Otter**, to import the autograder and submission exporter.\n",
    "\n",
    "## Answer cells\n",
    "Throughout the assignment, replace `...` with your answers. We use `...` as a placeholder and theses should be deleted and replaced with your answers.\n",
    "\n",
    "Your answers must be in the cells marked `# ANSWER CELL`, including your final calculation/code. However, do not perform scratchwork in `# ANSWER CELL`. Add a new cell to perform your scratchwork. Your scratchwork will not be graded and does not need to be included in your submission unless otherwise noted.\n",
    "\n",
    "To read the documentation on a Python function, you can type `help()` and add the function name between parentheses.\n",
    "\n",
    "## Score Breakdown\n",
    "Question| Points\n",
    "--- | --\n",
    "1 | 5.0\n",
    "2 | 5.0\n",
    "3 | 5.0\n",
    "4 | 5.0\n",
    "5 | 5.0\n",
    "Total | 25.0\n",
    "\n",
    "**Run the cell below**, to import the required modules."
   ]
  },
  {
   "cell_type": "code",
   "execution_count": null,
   "metadata": {},
   "outputs": [],
   "source": [
    "# Please run this cell, and do not modify the contents\n",
    "import math\n",
    "import numpy as np\n",
    "import cartopy.crs as ccrs\n",
    "import cartopy.feature as cfeature\n",
    "import matplotlib.pyplot as plt\n",
    "from mpl_toolkits.mplot3d import Axes3D\n",
    "import pandas as pd\n",
    "np.seterr(all='ignore');\n",
    "\n",
    "import hashlib\n",
    "def get_hash(num):\n",
    "    \"\"\"Helper function for assessing correctness\"\"\"\n",
    "    return hashlib.md5(str(num).encode()).hexdigest()"
   ]
  },
  {
   "cell_type": "markdown",
   "metadata": {
    "deletable": false,
    "editable": false
   },
   "source": [
    "## Question 1: Heated Copper Bar\n",
    "\n",
    "In this problem you will examine the heat distribution in a one-dimensioanl copper bar over time using the heat equation. In particular, you will create a visual representation of the temeprature at different points along the bar as time progresses.\n",
    "\n",
    "You are given a one-dimensional copper bar shown in Figure 1 with a fixed length $l$ and known initial temperature distribution $f(x)$. The two ends are maintained at a constant temperature of 0&deg;C.  The heat equation describes how the temperature at any point along the bar changes over time due to the flow of heat within the material. The heat equation in one dimension is given by\n",
    "\n",
    "\\begin{equation}\n",
    "\\dfrac{\\partial }{\\partial t}u(x,t) = \\alpha \\dfrac{\\partial^2 }{\\partial x^2}u(x,t),\n",
    "\\end{equation}\n",
    "\n",
    "where $u(x,t)$ is the temperature at position $x \\in (0,l)$ at time $t > 0$ and $\\alpha$ is the thermal diffusivity (a known constant).\n",
    "\n",
    "\n",
    "<img src='resources/rod.png' width=500/>\n",
    "\n",
    "<center>Figure 1: 1D bar with homogeneous boundary conditions.</center>\n",
    "\n",
    "\n",
    "Consider a copper bar has the following physical properties:\n",
    "* length $l = 100\\,\\mathrm{cm}$\n",
    "* constant mass density $\\rho = 8.92 \\,\\mathrm{g/cm^3}$\n",
    "* specific heat capacity $c  = 0.092 \\,\\mathrm{cal/( g\\,^\\circ C)}$\n",
    "* thermal conductivity $k = 0.95 \\, \\mathrm{cal/(cm\\,sec\\,^{\\circ}C})$\n",
    "\n",
    "The thermal diffusivity is related to these physical properties through the equation $$\\alpha = \\dfrac{k}{c \\rho}$$\n",
    "Finally, assume the bar is heated to an initial temperature of\n",
    "\\begin{equation}\n",
    "u(x,0) = f(x) = 100 \\sin\\left(\\frac{3\\pi x}{l}\\right),  \\label{eq:u0}\\tag{1}\n",
    "\\end{equation}\n",
    "where $x$ is the horizontal coordinate along the bar. \n",
    "The temperature distribution at time $t$ under these conditions is then given by\n",
    "\n",
    "\\begin{equation}\n",
    "u(x,t) = u(x,0) \\exp\\left(-\\lambda^2 t\\right),  \\label{eq:uxt}\\tag{2}\n",
    "\\end{equation}\n",
    "where we've defined\n",
    "$$\\lambda^2 = \\alpha\\left(\\dfrac{3\\pi}{l}\\right)^2$$\n",
    "\n",
    "### Question 1.0\n",
    "\n",
    "Create a function `u0(x)` that takes in:\n",
    "* `x`: `float` or `np.ndarray`\n",
    "     * coordinates along the bar, $x \\in (0,l)$\n",
    "\n",
    "and returns the intital temperature distribution shown in Eq.$\\eqref{eq:u0}$ at each point in `x`.\n",
    "\n",
    "Create a function `u(x,t)` that takes in:\n",
    "* `x`: `float` or `np.ndarray` \n",
    "    * coordinates along the bar, $x \\in (0,l)$ \n",
    "* `t`:  `float` \n",
    "    * time,  $ t > 0$ \n",
    "    \n",
    "\n",
    "and returns the temperature distribution at time `t` shown in Eq.$\\eqref{eq:uxt}$ at each point in `x`."
   ]
  },
  {
   "cell_type": "code",
   "execution_count": null,
   "metadata": {
    "tags": []
   },
   "outputs": [],
   "source": [
    "# ANSWER CELL\n",
    "\n",
    "# Bar length\n",
    "L = ...\n",
    "\n",
    "# Density gm/cm3\n",
    "rho = ...\n",
    "\n",
    "# Specific heat\n",
    "c = ...\n",
    "\n",
    "# Thermal conductivity\n",
    "k = ...\n",
    "\n",
    "# Initial temperature distribution function u0(x)\n",
    "\n",
    "# Temperature distribution function  u(x,t)"
   ]
  },
  {
   "cell_type": "code",
   "execution_count": null,
   "metadata": {
    "deletable": false,
    "editable": false
   },
   "outputs": [],
   "source": [
    "grader.check(\"q1.0\")"
   ]
  },
  {
   "cell_type": "markdown",
   "metadata": {
    "deletable": false,
    "editable": false
   },
   "source": [
    "### Question 1.1\n",
    "\n",
    "Create a \n",
    "Then, create a figure stored in `fig_1` and perform the following tasks on the same figure:\n",
    "* Plot the temperature distribution at time $t = 0\\,\\mathrm{s}$ with a blue (`b`) solid (`-`) line . \n",
    "* Plot the temperature distribution at time $t = 50\\,\\mathrm{s}$ with a red (`r`) dashed (`--`) line. \n",
    "* Plot the temperature distribution at time $t = 150\\,\\mathrm{s}$ with a green (`g`) dash-dotted (`-.`) line. \n",
    "* Set the figure title to  \"Question 1\" with a font size of 16.\n",
    "* Set the x-axis label to \"x, cm\" with a font size of 14. Note the spacing.\n",
    "* Set the y-axis label to \"Temperature, degrees Celsius\" with a font size of 14. Note the spacing.\n",
    "* Set the x-axis limits to (0,100).\n",
    "* Set the y-axis limits to (-120,120).\n",
    "* Add a legend to the figure. The labels should respectively be \"t = 0s\", \"t = 50s\" and \"t = 100s\". Note the spacing.\n",
    "* Add a grid to the figure.\n",
    "\n",
    "When you are finished, your figure should look like Figure 2. Feel free to experiment with plotting options that have not been explicitly specified.\n",
    "\n",
    "<img src='resources/q1.jpeg' width = 700/>\n",
    "\n",
    "\n",
    "<center>Figure 2: Question 1 plot.</center>"
   ]
  },
  {
   "cell_type": "code",
   "execution_count": null,
   "metadata": {
    "scrolled": false,
    "tags": []
   },
   "outputs": [],
   "source": [
    "# ANSWER CELL\n",
    "\n",
    "# Do not modify this line for grading purposes\n",
    "import matplotlib.pyplot as plt\n",
    "\n",
    "# Create figure \n",
    "fig_1 = ...\n",
    "\n",
    "# X grid \n",
    "x = ...\n",
    "\n",
    "# Plot u(x,t) vs. x for different t values\n",
    "\n",
    "# Add figure title\n",
    "\n",
    "# Add axes labels\n",
    "\n",
    "# Specify axis limits\n",
    "\n",
    "# Add legend\n",
    "\n",
    "# Add gridlines\n",
    "\n",
    "plt.show()"
   ]
  },
  {
   "cell_type": "code",
   "execution_count": null,
   "metadata": {
    "deletable": false,
    "editable": false
   },
   "outputs": [],
   "source": [
    "grader.check(\"q1.1\")"
   ]
  },
  {
   "cell_type": "markdown",
   "metadata": {
    "deletable": false,
    "editable": false
   },
   "source": [
    "## Question 2: Vibrating Membrane \n",
    "In this problem you will examine the natural modes of vibration of a rectangular membrane of length $a$ and width $b$, fixed along all four edges. Vibrating membranes are commonly encountered in various fields such as structural engineering, mechanical engineering and acoustics. Understanding their mode shapes is crucial for analyzing their behavior and resonance frequencies.\n",
    "\n",
    "Assuming the membrane obeys the two-dimenional wave equation, the amplitude of the $(m,n)$ natural mode of vibration is given by:\n",
    "\n",
    "$$f\\left(x,y,a,b\\,; m,n\\right) = \\sin\\left(\\frac{m \\pi}{a}x\\right)\\sin\\left(\\frac{n \\pi}{b}y\\right) \\label{eq:modeshape}\\tag{3}$$\n",
    "for positive integer parameters $m, n = 1,2,3,\\dots$.\n",
    "\n",
    "### Question 2.0\n",
    "\n",
    "Write a function `mode_shape(x,y,a,b,m,n)` which takes in:\n",
    "* `x`: `float` or `np.ndarray`\n",
    "     * $x$ coordinates along the membrane, $x \\in (0,a)$\n",
    "* `y`: `float` or `np.ndarray`\n",
    "     * $y$ coordinates along the membrane, $y \\in (0,b)$\n",
    "* `a`: `float`\n",
    "     * length of membrane, $a > 0$\n",
    "* `b`: `float`\n",
    "     * width of membrane, $b > 0$\n",
    "* `m`: `int`\n",
    "     * mode index along x, $m = 1,2,3,\\dots$\n",
    "* `n`: `int`\n",
    "     * mode index along y, $n = 1,2,3,\\dots$\n",
    "\n",
    "and returns the mode amplitude $f\\left(x,y,a,b\\,; m,n\\right)$ shown in Eq.$\\eqref{eq:modeshape}$ at each point in `x`.\n",
    "computes the amplitude of vibration for a square membrane of unit width ($a=b=1$) at"
   ]
  },
  {
   "cell_type": "code",
   "execution_count": null,
   "metadata": {
    "tags": []
   },
   "outputs": [],
   "source": [
    "# ANSWER CELL"
   ]
  },
  {
   "cell_type": "code",
   "execution_count": null,
   "metadata": {
    "deletable": false,
    "editable": false
   },
   "outputs": [],
   "source": [
    "grader.check(\"q2.0\")"
   ]
  },
  {
   "cell_type": "markdown",
   "metadata": {
    "deletable": false,
    "editable": false
   },
   "source": [
    "### Question 2.1\n",
    "\n",
    "We are now ready to visualize the membrane's natural modes of vibration. To this end, first create a two-dimensional grid of 1000 equally spaced points in each direction. The documentation of `meshgrid` and `plot_surface` may be helpful.\n",
    "\n",
    "Then, create a figure stored in `fig_2` and perform the following tasks on the same figure:\n",
    "* Make a surface plot of the natural mode shape for $a = m = 3$ and $b= n = 2$. \n",
    "* Set the surface colormap to `plasma`\n",
    "* Set the figure title to  \"Natural mode shape for m = 3, n = 2\".\n",
    "* Set the x-axis label to \"X\".\n",
    "* Set the y-axis label to \"Y\".\n",
    "* Set the y-axis label to \"Z\".\n",
    "\n",
    "\n",
    "When you are finished, your figure should look like Figure 2. Feel free to experiment with plotting options that have not been explicitly specified.\n",
    "\n",
    "<img src=\"resources/q2_1.png\" width=450/>\n",
    "\n",
    "<center>Figure 3: Question 2.1 plot.</center>"
   ]
  },
  {
   "cell_type": "code",
   "execution_count": null,
   "metadata": {
    "tags": []
   },
   "outputs": [],
   "source": [
    "# ANSWER CELL\n",
    "# Do not modify this line for grading purposes\n",
    "import matplotlib.pyplot as plt\n",
    "\n",
    "# Length\n",
    "a = ...\n",
    "# Width\n",
    "b = ...\n",
    "# Parameter m\n",
    "m = ...\n",
    "# Parameter n\n",
    "n = ...\n",
    "\n",
    "# Create x- and y-ranges\n",
    "x = ...\n",
    "y = ...\n",
    "\n",
    "# Create combined x and y grid\n",
    "X,Y = ...\n",
    "\n",
    "# Create plot\n",
    "..."
   ]
  },
  {
   "cell_type": "code",
   "execution_count": null,
   "metadata": {
    "deletable": false,
    "editable": false
   },
   "outputs": [],
   "source": [
    "grader.check(\"q2.1\")"
   ]
  },
  {
   "cell_type": "markdown",
   "metadata": {
    "deletable": false,
    "editable": false
   },
   "source": [
    "<!-- BEGIN QUESTION -->\n",
    "\n",
    "### Question 2.2\n",
    "\n",
    "To this end, first create a two-dimensional grid of 1000 equally spaced points in each direction.\n",
    "\n",
    "Now, create a figure stored in `fig_3` and using the same grid as Question 2.1 perform the following tasks on the same figure:\n",
    "* Create a 2x2 subplots layout and plot the membrane mode shape for $a = b = 1$. The subplot in the $m$-th row and $n$-th column should contain the mode shape for the respective $m$ and $n$ values. For example, the subplot in the lower left (row 2, column 1) should contain the plot for $m = 2$ and $n =1$.\n",
    "* For each plot do the following:\n",
    "    * Set the surface colormap to `coolwarm`\n",
    "    * Set the subplot title \"m = {m}, n = {n}\" where you insert the appropriate value in the braces. See Figure 4 for reference. Set the title font size to 16.\n",
    "    * Set the x-axis label to \"X\".\n",
    "    * Set the y-axis label to \"Y\".\n",
    "    * Set the y-axis label to \"Z\".\n",
    "\n",
    "\n",
    "When you are finished, your figure should look like Figure 4. Feel free to experiment with plotting options that have not been explicitly specified.\n",
    "\n",
    "\n",
    "<img src=\"resources/q2_2.png\" width = 600/>\n",
    "\n",
    "\n",
    "<center>Figure 4: Question 2.2 plot.</center>"
   ]
  },
  {
   "cell_type": "code",
   "execution_count": null,
   "metadata": {
    "scrolled": false,
    "tags": []
   },
   "outputs": [],
   "source": [
    "# Create x- and y-ranges\n",
    "x = ...\n",
    "y = ...\n",
    "\n",
    "# Create combined x and y grid\n",
    "X,Y = ...\n",
    "\n",
    "# Create 3D figure subplots\n",
    "fig_3, axs = ...\n",
    "\n",
    "#\n",
    "\n",
    "# Add figure title\n",
    "...\n",
    "\n",
    "plt.show()"
   ]
  },
  {
   "cell_type": "markdown",
   "metadata": {
    "deletable": false,
    "editable": false
   },
   "source": [
    "<!-- END QUESTION -->\n",
    "\n",
    "## Question 3: Potential flow around a circular cylinder\n",
    " \n",
    "Potential flow around a circular cylinder is a classical problem in fluid dynamics. It inovles the flow of an inviscid, incompressible fluid around circular cylinder transverse to the flow. Far from the cylinder, the flow is unidirectional and uniform with a constant velocity $U$ in the x-direction. The flow has no vorticity and thus the velocity field is irrotational which allows for closed-form analytical solutions for quantities of interest.\n",
    "\n",
    "<img src=\"resources/flow.gif\" width=500/>\n",
    "\n",
    "<center>Figure 5: Potential flow around a circular cylinder.</center>\n",
    "\n",
    "### Question 3.0\n",
    "\n",
    "First, we'll determine and visualize the pressure field. Let the coordinate system be centered on the cicular cylinder with radius $R$. The solution for the (gauge) pressure field $p$ in polar coordinates is then \n",
    "$$ p = \\frac{1}{2} \\rho U^2 \\left( 2 \\frac{R^2}{r^2}\\cos\\left(2\\theta\\right) - \\frac{R^4}{r^4}\\right) \\label{eq:pressure}\\tag{4} $$ \n",
    "Another quantity of interest is the so-called *stream function* $\\psi$. It can be used to plot streamlines, which represent the trajectories of particles in a steady flow. The stream function for this problem is\n",
    "$$\\psi  = U\\left(r-{\\frac {R^{2}}{r}}\\right)\\sin \\theta \\label{eq:stream}\\tag{5} $$\n",
    "Finally, we are also interested in the *velocity potential* $\\phi$. We'll use it to plot equipotential lines along which the fludi has uniform velocity. The velocity potential for this problem is\n",
    "$$ \\phi = Ur\\left(1+{\\frac {R^{2}}{r^{2}}}\\right)\\cos \\theta  \\label{eq:velpotential}\\tag{6} $$\n",
    "\n",
    "Let the cylinder radius be $R = 1$ and the far field fluid velocity be $U = 1000$. You are tasked with computing the three quantities described above on a uniform two-dimensional **polar** grid. The polar coordinates are the radius $r$ and angle $\\theta$. The grid should have 1000 equally spaced points in the radial direction from $R$ to $10R$ and 1000 equally spaced points in the angula direction from $0$ to $2\\pi$."
   ]
  },
  {
   "cell_type": "code",
   "execution_count": null,
   "metadata": {
    "tags": []
   },
   "outputs": [],
   "source": [
    "# Fluid velocity away from the cylinder\n",
    "U = ...\n",
    "\n",
    "# Cylinder radius\n",
    "R = ...\n",
    "\n",
    "# Create r and theta 1D grids\n",
    "theta = ...\n",
    "rr = ...\n",
    "\n",
    "# Create meshgrid in two dimensions\n",
    "...\n",
    "\n",
    "# Compute pressure around the cylinder, Equation 4\n",
    "pressure = ...\n",
    "\n",
    "# Compute stream function, Equation 5\n",
    "stream = ...\n",
    "\n",
    "# Compute velocity potential , Equation 6\n",
    "velocity_potential = ..."
   ]
  },
  {
   "cell_type": "code",
   "execution_count": null,
   "metadata": {
    "deletable": false,
    "editable": false
   },
   "outputs": [],
   "source": [
    "grader.check(\"q3.0\")"
   ]
  },
  {
   "cell_type": "markdown",
   "metadata": {
    "deletable": false,
    "editable": false
   },
   "source": [
    "<!-- BEGIN QUESTION -->\n",
    "\n",
    "### Question 3.1\n",
    "\n",
    "Now, we will plot the pressure, streamlines and velocty equipotential lines. First, we'll need to convert the 2D polar grid to Cartesian coordinates. The relatonship between polar and Cartesian coordiantes is\n",
    "\\begin{align}\n",
    "x &= r \\cos{\\theta} \\\\\n",
    "y &= r \\sin{\\theta}\n",
    "\\end{align}\n",
    "\n",
    "After you convert the grid, create a figure stored in `fig_4` and perform the following tasks on the same figure:\n",
    "* Make a filled contour plot (`contourf`) of the pressure field. Set the number of levels to 50 and the colormap to `jet`.\n",
    "* Add a colorbar of the pressure field plot to the figure. The colorbar should have only two ticks - at the minimum and maximum value which occurs in the plot and the labels should respectively be \"Low\" and \"High\".\n",
    "* Make a contour plot (`contour`) of the streamlines. Set the number of levels to 50, the line width to 0.8 and the line color to black (`k`).\n",
    "* Make a contour plot (`contour`) of the streamlines. Set the number of levels to 50, the line width to 0.8 and the line color to white (`w`).\n",
    "* Set the title to \"Pressure field\" with font size 14.\n",
    "* Set the x-axis label to \"x\" with font size 12.\n",
    "* Set the y-axis label to \"y\" with font size 12.\n",
    "* Set the x-axis limits to (-5,5).\n",
    "* Set the y-axis limits to (-5,5).\n",
    "* Remove the ticks from the x and y axes.\n",
    "\n",
    "*Hint:* The `negative_linestyle` may be useful for the `contour` plots.\n",
    "\n",
    "\n",
    "When you are finished, your figure should look like Figure 4. Feel free to experiment with plotting options that have not been explicitly specified.\n",
    "\n",
    "\n",
    "<img src=\"resources/q3_1.png\" width = 600/>\n",
    "\n",
    "\n",
    "<center>Figure 6: Question 3.1 plot.</center>"
   ]
  },
  {
   "cell_type": "code",
   "execution_count": null,
   "metadata": {
    "tags": []
   },
   "outputs": [],
   "source": [
    "# Convert polar to cartesian coordinates\n",
    "X, Y = ...\n",
    "\n",
    "# Create empty figure\n",
    "fig_4 = ...\n",
    "\n",
    "# Plot circle/cylinder, do not modify\n",
    "th =  np.linspace(0,2*np.pi,100)  \n",
    "xunit = np.cos(th)\n",
    "yunit = np.sin(th)\n",
    "h = plt.plot(xunit, yunit,'-k')\n",
    "\n",
    "# Pressure plot\n",
    "contour = ...\n",
    "# Create colorbar\n",
    "cbar = ...\n",
    "...\n",
    "\n",
    "# Streamline contour plot\n",
    "...\n",
    "# Velocity equipotential lines contour plot\n",
    "...\n",
    "\n",
    "# Set title\n",
    "...\n",
    "# Set axes labels\n",
    "...\n",
    "...\n",
    "# Set axes ticks\n",
    "...\n",
    "...\n",
    "# Set axes limits \n",
    "...\n",
    "...\n",
    "plt.show()"
   ]
  },
  {
   "cell_type": "markdown",
   "metadata": {
    "deletable": false,
    "editable": false
   },
   "source": [
    "<!-- END QUESTION -->\n",
    "\n",
    "<!-- BEGIN QUESTION -->\n",
    "\n",
    "### Question 3.2\n",
    "\n",
    "Finally, we will plot the fluid velocity magnitude and vector field around the cylinder. The velocty vector components in polar coordiantes read\n",
    "\n",
    "$$v_{r}={\\frac {\\partial \\phi }{\\partial r}}=U\\left(1-{\\frac {R^{2}}{r^{2}}}\\right)\\cos \\theta$$\n",
    "\n",
    "$$v_{\\theta }={\\frac {1}{r}}{\\frac {\\partial \\phi }{\\partial \\theta }}=-U\\left(1+{\\frac {R^{2}}{r^{2}}}\\right)\\sin \\theta $$\n",
    "\n",
    "Compute these quantities on the 2D polar grid from Question 3.0 and do not modify the code which converts them to the Cartesian components $v_x$ and $v_y$. The magnitude of a 2D vector $\\vec{v}$ with components $v_x$ and $v_y$ is defined as:\n",
    "$$ ||\\vec{v}|| = \\sqrt{v_x^2 + v_y^2}$$\n",
    "\n",
    "When you are done, create a figure stored in `fig_5` and perform the following tasks on the same figure:\n",
    "* Make a filled contour plot (`contourf`) of the velocty magnitude. Set the number of levels to 30 and the colormap to `jet`.\n",
    "* Add a colorbar of the pressure field plot to the figure. The colorbar should have only two ticks - at the minimum and maximum value which occurs in the plot and the labels should respectively be \"Low\" and \"High\".\n",
    "* Make a vector plot (`quiver`) of the velocity field. Becasue the grid is so dense, plot a vector only at every 25th point (*Hint:* Use step slicing). Set the scale factor to 20000.\n",
    "* Set the title to \"Velocity field\" with font size 14.\n",
    "* Set the x-axis label to \"x\" with font size 12.\n",
    "* Set the y-axis label to \"y\" with font size 12.\n",
    "* Set the x-axis limits to (-3,3).\n",
    "* Set the y-axis limits to (-3,3).\n",
    "* Remove the ticks from the x and y axes.\n",
    "\n",
    "*Hint:* The `negative_linestyle` may be useful for the `contour` plots.\n",
    "\n",
    "\n",
    "When you are finished, your figure should look like Figure 7. Feel free to experiment with plotting options that have not been explicitly specified.\n",
    "\n",
    "\n",
    "<img src=\"resources/q3_2.png\" width = 600/>\n",
    "\n",
    "\n",
    "<center>Figure 7: Question 3.2 plot.</center>\n",
    "\n"
   ]
  },
  {
   "cell_type": "code",
   "execution_count": null,
   "metadata": {
    "tags": []
   },
   "outputs": [],
   "source": [
    "\n",
    "# Velocity in polar coordinates\n",
    "vr = ...\n",
    "vt = ...\n",
    "\n",
    "# Velocity in cartesian coordinates, do not modify\n",
    "vx = vr*np.cos(t) - vt*np.sin(t)\n",
    "vy = vr*np.sin(t) + vt*np.cos(t)\n",
    "\n",
    "# Create empty figure\n",
    "fig_5 = ...\n",
    "\n",
    "# Plot circle/cylinder, do not modify\n",
    "th =  np.linspace(0,2*np.pi,100)  \n",
    "xunit = np.cos(th)\n",
    "yunit = np.sin(th)\n",
    "h = plt.plot(xunit, yunit,'-k')\n",
    "\n",
    "# Compute velocity magnitude\n",
    "v_mag = ...\n",
    "\n",
    "# Velocity magnitude filled contour plot\n",
    "cf = ...\n",
    "                  \n",
    "# Add velocity magnitude colorbar\n",
    "cbar = ...\n",
    "...\n",
    "                  \n",
    "# Velocity vector field quiver plot\n",
    "step = ...\n",
    "quiv = ...\n",
    "\n",
    "# Set title\n",
    "...\n",
    "# Set axes labels\n",
    "...\n",
    "...\n",
    "# Set axes ticks\n",
    "...\n",
    "...\n",
    "# Set axes limits \n",
    "...\n",
    "...\n",
    "\n",
    "plt.show()"
   ]
  },
  {
   "cell_type": "markdown",
   "metadata": {
    "deletable": false,
    "editable": false
   },
   "source": [
    "<!-- END QUESTION -->\n",
    "\n",
    "## Question 4: Wind over North America\n",
    "\n",
    "In this problem you will examine and visualize a sample dataset of air currents over North America. "
   ]
  },
  {
   "cell_type": "markdown",
   "metadata": {
    "deletable": false,
    "editable": false
   },
   "source": [
    "### Question 4.0\n",
    "\n",
    "The `resources` folder contains the following data files on a 35 x 41 grid:\n",
    "\n",
    "* `wind_x.csv`: $x$ coordinates (longitude) \n",
    "* `wind_y.csv`: $y$ coordinates (latitude) \n",
    "* `wind_u.csv`: $x$ components of velocity\n",
    "* `wind_v.csv`: $y$ components of velocity\n",
    "\n",
    "First, read the data files listed above using `pd.read_csv()` and convert them to NumPy arrays.\n",
    "\n",
    "*Hint:* Be careful with the `header` argument."
   ]
  },
  {
   "cell_type": "code",
   "execution_count": null,
   "metadata": {
    "tags": []
   },
   "outputs": [],
   "source": [
    "# ANSWER CELL\n",
    "\n",
    "# Do not modify this line for grading purposes\n",
    "import pandas as pd\n",
    "\n",
    "# Read wind_x data\n",
    "wind_x = ...\n",
    "# Read wind_y data\n",
    "wind_y = ...\n",
    "# Read wind_u data\n",
    "wind_u = ...\n",
    "# Read wind_v data\n",
    "wind_v = ..."
   ]
  },
  {
   "cell_type": "code",
   "execution_count": null,
   "metadata": {
    "deletable": false,
    "editable": false
   },
   "outputs": [],
   "source": [
    "grader.check(\"q4.0\")"
   ]
  },
  {
   "cell_type": "markdown",
   "metadata": {
    "deletable": false,
    "editable": false
   },
   "source": [
    "### Question 4.1\n",
    "\n",
    "Compute the magnitude of the wind velocity at each grid point and write it to `resources/wind_mag.csv` using `pd.DataFrame.to_csv()`. Make sure to preserve the shape of the wind velocity arrays.\n",
    "\n",
    "The magnitude of a 2D vector $\\vec{v}$ with components $v_x$ and $v_y$ is defined as:\n",
    "$$ ||\\vec{v}|| = \\sqrt{v_x^2 + v_y^2}$$\n",
    "\n",
    "*Hint:* Be careful with the `header` and `index` arguments."
   ]
  },
  {
   "cell_type": "code",
   "execution_count": null,
   "metadata": {
    "tags": []
   },
   "outputs": [],
   "source": [
    "# ANSWER CELL\n",
    "\n",
    "# Compute magnitude of wind velocity on the grid\n",
    "wind_mag = ...\n",
    "\n",
    "# Write the wind magnitude data to a csv file"
   ]
  },
  {
   "cell_type": "code",
   "execution_count": null,
   "metadata": {
    "deletable": false,
    "editable": false
   },
   "outputs": [],
   "source": [
    "grader.check(\"q4.1\")"
   ]
  },
  {
   "cell_type": "markdown",
   "metadata": {
    "deletable": false,
    "editable": false
   },
   "source": [
    "<!-- BEGIN QUESTION -->\n",
    "\n",
    "### Question 4.2\n",
    "\n",
    "Now, we'll plot the wind data overlaid on a map of North America. To this end, we will use the `cartopy` package (refer to [Chapter 12.3](https://pythonnumericalmethods.berkeley.edu/notebooks/chapter12.03-Working-with-Maps.html) of the course textbook).\n",
    "\n",
    "After you've familiarized yourself with the `cartopy` package, create a figure stored in `fig_6` and perform the following tasks on the same figure:\n",
    "* Make a filled contour plot (`contourf`) of the velocty magnitude. Set the number of levels to 20.\n",
    "* Add a colorbar of the contour plot to the figure. Set the scale (`shrink`) factor to an appropriate value.\n",
    "* Add grid lines to the figure with transparency (`alpha`) of 0.5. The gird lines should also be dotted (`:`) and black (`k`). Also, draw longitude and latitude tick labels only on the bottom and right sides. Refer to the [documentation](https://scitools.org.uk/cartopy/docs/latest/gallery/gridlines_and_labels/gridliner.html). \n",
    "* Set the title to \"Wind velocity magnitude\".\n",
    "* Set the x-axis label to \"Longitude\".\n",
    "* Set the y-axis label to \"Latitude\".\n",
    "* Set the x-axis limits to the minimum and maximum values in wind_x.csv.\n",
    "* Set the y-axis limits to the minimum and maximum values in wind_y.csv.\n",
    " \n",
    "When you are finished, your figure should look like Figure 8. Feel free to experiment with plotting options that have not been explicitly specified.\n",
    "\n",
    "\n",
    "<img src=\"resources/q4_2.png\" width = 600/>\n",
    "\n",
    "\n",
    "<center>Figure 8: Question 4.2 plot.</center>"
   ]
  },
  {
   "cell_type": "code",
   "execution_count": null,
   "metadata": {
    "tags": []
   },
   "outputs": [],
   "source": [
    "# ANSWER CELL\n",
    "\n",
    "# Create figure\n",
    "fig_6 = ...\n",
    "\n",
    "# Create axes using Plate Carrée projection\n",
    "ax = ...\n",
    "\n",
    "# Add coastilines\n",
    "...\n",
    "\n",
    "# Create wind magnitude filled contour plot\n",
    "\n",
    "# Create colorbar\n",
    "...\n",
    "\n",
    "# Set limits/extent of plot\n",
    "...\n",
    "\n",
    "# Add grid lines\n",
    "gl = ...\n",
    "\n",
    "# Set title\n",
    "...\n",
    "\n",
    "# Set axes labels\n",
    "...\n",
    "...\n",
    "\n",
    "plt.show()"
   ]
  },
  {
   "cell_type": "markdown",
   "metadata": {
    "deletable": false,
    "editable": false
   },
   "source": [
    "<!-- END QUESTION -->\n",
    "\n",
    "<!-- BEGIN QUESTION -->\n",
    "\n",
    "### Question 4.3\n",
    "\n",
    "Lastly, we'll plot the wind vector field using `quiver`. Create a figure stored in `fig_7` and perform the following tasks on the same figure:\n",
    "* Make a vector plot (`quiver`) of the velocty field. Use the `wind_mag` array as the colormapping of the arrows.\n",
    "* Add a colorbar of the contour plot to the figure. Set the scale (`shrink`) factor to 0.7 and the title to \"Magnitude\"\n",
    "* Add grid lines to the figure with transparency (`alpha`) of 0.5. The gird lines should also be dotted (`:`) and black (`k`). Also, draw longitude and latitude tick labels only on the bottom and right sides. Refer to the [documentation](https://scitools.org.uk/cartopy/docs/latest/gallery/gridlines_and_labels/gridliner.html). \n",
    "* Set the title to \"Wind velocity field\".\n",
    "* Set the x-axis label to \"Longitude\".\n",
    "* Set the y-axis label to \"Latitude\".\n",
    "* Set the x-axis limits to the minimum and maximum values in wind_x.csv.\n",
    "* Set the y-axis limits to the minimum and maximum values in wind_y.csv.\n",
    " \n",
    "When you are finished, your figure should look like Figure 9. Feel free to experiment with plotting options that have not been explicitly specified.\n",
    "\n",
    "\n",
    "<img src=\"resources/q4_3.png\" width = 600/>\n",
    "\n",
    "\n",
    "<center>Figure 9: Question 4.3 plot.</center>\n",
    "\n",
    "Finally, plot the wind vector field. using the function `quiver`"
   ]
  },
  {
   "cell_type": "code",
   "execution_count": null,
   "metadata": {
    "tags": []
   },
   "outputs": [],
   "source": [
    "#ANSWER CELL\n",
    "\n",
    "# Create figure\n",
    "fig_7 = ...\n",
    "\n",
    "# Create axes using Plate Carrée projection\n",
    "ax = ...\n",
    "\n",
    "# Add coastilines\n",
    "...\n",
    "\n",
    "# Create wind magnitude filled contour plot\n",
    "# Create colorbar\n",
    "...\n",
    "# Set limits/extent of plot\n",
    "...\n",
    "\n",
    "# Add grid lines\n",
    "gl = ...\n",
    "\n",
    "# Set title\n",
    "...\n",
    "\n",
    "# Set axes labels\n",
    "...\n",
    "...\n",
    "\n",
    "plt.show()"
   ]
  },
  {
   "cell_type": "markdown",
   "metadata": {
    "deletable": false,
    "editable": false
   },
   "source": [
    "<!-- END QUESTION -->\n",
    "\n",
    "<!-- BEGIN QUESTION -->\n",
    "\n",
    "## Problem 5: Earthquakes\n",
    "\n",
    "\n",
    "In this problem you will visualize earthquake data for the continental United States in 2022.\n",
    "### Question 5.0\n",
    "\n",
    "\n",
    "The `resources/earthquakes_2022.csv` file contains data about earthquakes with magnitude above 2.5 in the continental United States during 2022. The data includes:\n",
    "\n",
    "* `latitude`: decimal degrees latitude\n",
    "* `longitude`: decimal degrees longitude\n",
    "* `mag`: the magnitude of the event\n",
    "\n",
    "First, read the data using `pd.read_csv` and examine it. Then, create a figure stored in `fig_8` and perform the following tasks on the same figure:\n",
    "* Make a histogram `hist` with 6 bins in the range (2,8). Set the bin edge color to black (`'k'`).\n",
    "* Set the title to \"Continental US earthquakes in 2022\".\n",
    "* Set the x-axis label to \"Magnitude\".\n",
    "* Set the y-axis label to \"Frequency\".\n",
    "* Label the histogram bars with the count in each bin.\n",
    " \n",
    "When you are finished, your figure should look like Figure 10. Feel free to experiment with plotting options that have not been explicitly specified.\n",
    "\n",
    "<img src=\"resources/q5_0.png\" width = 500/>\n",
    "\n",
    "<center>Figure 10: Question 5.0 plot.</center>"
   ]
  },
  {
   "cell_type": "code",
   "execution_count": null,
   "metadata": {
    "tags": []
   },
   "outputs": [],
   "source": [
    "#ANSWER CELL\n",
    "\n",
    "# Read data\n",
    "df = ...\n",
    "\n",
    "# Create figure\n",
    "fig_8 = ...\n",
    "ax = ...\n",
    "\n",
    "# Plot histogram\n",
    "...\n",
    " \n",
    "# Set title and  labels\n",
    "...\n",
    "\n",
    "# Add bar labels\n",
    "...\n",
    "    ...\n",
    "    \n",
    "plt.show()"
   ]
  },
  {
   "cell_type": "markdown",
   "metadata": {
    "deletable": false,
    "editable": false
   },
   "source": [
    "<!-- END QUESTION -->\n",
    "\n",
    "<!-- BEGIN QUESTION -->\n",
    "\n",
    "### Question 5.1\n",
    "\n",
    "We will now zoom in on the state of California and the surrounding area. Create a figure stored in `fig_9` and perform the following tasks on the same figure:\n",
    "* Make a scatter plot (`scatter`) of the earthquake location and use the magnitude data for the colormapping. Set the transparency (`alpha`) of the markers to 0.5. \n",
    "* Add a colorbar to the figure. Set the scale (`shrink`) factor to an appropriate value and set the label to 'Magnitude'.\n",
    "* Add grid lines to the figure with transparency (`alpha`) of 0.5. The gird lines should also be dotted (`:`) and black (`k`). Also, draw longitude and latitude tick labels only on the bottom and right sides. Refer to the [documentation](https://scitools.org.uk/cartopy/docs/latest/gallery/gridlines_and_labels/gridliner.html). \n",
    "* Set the title to \"CA area earthquakes in 2022\".\n",
    "* Set the x-axis label to \"Longitude\".\n",
    "* Set the y-axis label to \"Latitude\".\n",
    "* To create a rough bounding box around California:\n",
    "    * set the x-axis limits to (-126,-114).\n",
    "    * set the y-axis limits to (32,42).\n",
    " \n",
    "When you are finished, your figure should look like Figure 11. Feel free to experiment with plotting options that have not been explicitly specified.\n",
    "\n",
    "\n",
    "<img src=\"resources/q5_1.png\" width = 600/>\n",
    "\n",
    "\n",
    "<center>Figure 11: Question 5.1 plot.</center>"
   ]
  },
  {
   "cell_type": "code",
   "execution_count": null,
   "metadata": {
    "scrolled": false,
    "tags": []
   },
   "outputs": [],
   "source": [
    "# ANSWER CELL\n",
    "\n",
    "# Create figure\n",
    "fig_9 = ...\n",
    "\n",
    "# Create axes using Plate Carrée projection\n",
    "ax = ...\n",
    "\n",
    "# Add coastilines\n",
    "...\n",
    "\n",
    "# Scatter plot of earthquakes\n",
    "\n",
    "# Create colorbar\n",
    "...\n",
    "\n",
    "# Set axes extent/limits    \n",
    "...\n",
    "\n",
    "# Add grid lines\n",
    "\n",
    "# Set title\n",
    "...\n",
    "\n",
    "# Set axes labels\n",
    "...\n",
    "...\n",
    "\n",
    "plt.show()"
   ]
  },
  {
   "cell_type": "markdown",
   "metadata": {
    "deletable": false,
    "editable": false
   },
   "source": [
    "<!-- END QUESTION -->\n",
    "\n",
    "### You're done with this Lab!\n",
    "\n",
    "**Important submission information:** After completing the assignment, click on the Save icon from the Tool Bar &nbsp;<i class=\"fa fa-save\" style=\"font-size:16px;\"></i>&nbsp;. After saving your notebook, **run the cell with** `grader.check_all()` and confirm that you pass the same tests as in the notebook. Then, **run the final cell** `grader.export()` and click the link to download the zip file. Then, go to Gradescope and submit the zip file to the corresponding assignment. \n",
    "\n",
    "**Once you have submitted, stay on the Gradescope page to confirm that you pass the same tests as in the notebook.**"
   ]
  },
  {
   "cell_type": "code",
   "execution_count": null,
   "metadata": {},
   "outputs": [],
   "source": [
    "import matplotlib.image as mpimg\n",
    "img = mpimg.imread('resources/animal.png')\n",
    "imgplot = plt.imshow(img)\n",
    "imgplot.axes.get_xaxis().set_visible(False)\n",
    "imgplot.axes.get_yaxis().set_visible(False)\n",
    "print(\"Congrats on finishing Lab 6!\")\n",
    "plt.show()"
   ]
  },
  {
   "cell_type": "markdown",
   "metadata": {
    "deletable": false,
    "editable": false
   },
   "source": [
    "---\n",
    "\n",
    "To double-check your work, the cell below will rerun all of the autograder tests."
   ]
  },
  {
   "cell_type": "code",
   "execution_count": null,
   "metadata": {
    "deletable": false,
    "editable": false
   },
   "outputs": [],
   "source": [
    "grader.check_all()"
   ]
  },
  {
   "cell_type": "markdown",
   "metadata": {
    "deletable": false,
    "editable": false
   },
   "source": [
    "## Submission\n",
    "\n",
    "Make sure you have run all cells in your notebook in order before running the cell below, so that all images/graphs appear in the output. The cell below will generate a zip file for you to submit. **Please save before exporting!**\n",
    "\n",
    "Make sure you submit the .zip file to Gradescope."
   ]
  },
  {
   "cell_type": "code",
   "execution_count": null,
   "metadata": {
    "deletable": false,
    "editable": false
   },
   "outputs": [],
   "source": [
    "# Save your notebook first, then run this cell to export your submission.\n",
    "grader.export(pdf=False)"
   ]
  },
  {
   "cell_type": "markdown",
   "metadata": {},
   "source": [
    " "
   ]
  }
 ],
 "metadata": {
  "kernelspec": {
   "display_name": "Python 3 (ipykernel)",
   "language": "python",
   "name": "python3"
  },
  "language_info": {
   "codemirror_mode": {
    "name": "ipython",
    "version": 3
   },
   "file_extension": ".py",
   "mimetype": "text/x-python",
   "name": "python",
   "nbconvert_exporter": "python",
   "pygments_lexer": "ipython3",
   "version": "3.9.15"
  },
  "otter": {
   "OK_FORMAT": true,
   "assignment_name": "lab6",
   "tests": {
    "q1.0": {
     "name": "q1.0",
     "points": 1,
     "suites": [
      {
       "cases": [
        {
         "code": ">>> assert np.isclose(u0(0),0,rtol = 1e-3)\n>>> assert np.isclose(u0(10),80.90169943749473,rtol = 1e-3)\n>>> assert np.isclose(u0(60),-58.778525229247336,rtol = 1e-3)\n>>> assert np.isclose(u0(100),0,rtol = 1e-3)\n",
         "hidden": false,
         "locked": false
        },
        {
         "code": ">>> assert np.isclose(u(0,100),0,rtol = 1e-3)\n>>> assert np.isclose(u(10,10),72.99612859396403,rtol = 1e-3)\n>>> assert np.isclose(u(60,30),-43.17628127422244,rtol = 1e-3)\n>>> assert np.isclose(u(100,100),0,rtol = 1e-3)\n",
         "hidden": false,
         "locked": false
        }
       ],
       "scored": true,
       "setup": "",
       "teardown": "",
       "type": "doctest"
      }
     ]
    },
    "q1.1": {
     "name": "q1.1",
     "points": 4,
     "suites": [
      {
       "cases": [
        {
         "code": ">>> # Check linestyles\n>>> assert fig_1.axes[0].get_lines()[0]._linestyle == '-'\n>>> assert fig_1.axes[0].get_lines()[1]._linestyle == '--'\n>>> assert fig_1.axes[0].get_lines()[2]._linestyle == '-.'\n>>> \n>>> # Check line colors\n>>> assert fig_1.axes[0].get_lines()[0]._color == 'b'\n>>> assert fig_1.axes[0].get_lines()[1]._color == 'r'\n>>> assert fig_1.axes[0].get_lines()[2]._color == 'g'\n>>> \n>>> # Check line labels\n>>> assert fig_1.axes[0].get_lines()[0]._label == 't = 0s'\n>>> assert fig_1.axes[0].get_lines()[1]._label == 't = 50s'\n>>> assert fig_1.axes[0].get_lines()[2]._label == 't = 150s'\n>>> \n>>> # Check xlabel and fontsize\n>>> assert fig_1.axes[0].get_xlabel() == 'x, cm', 'Check the x-axis label.'\n>>> assert fig_1.axes[0].xaxis.label.get_fontsize() == 14, 'Check the x-axis label fontsize.'\n>>> \n>>> # Check ylabel and fontsize\n>>> assert fig_1.axes[0].get_ylabel() == 'Temperature, degrees Celsius', 'Check the y-axis label.'\n>>> assert fig_1.axes[0].yaxis.label.get_fontsize() == 14, 'Check the y-axis label fontsize.'\n>>> \n>>> # Check title and fontsize\n>>> assert fig_1.axes[0].get_title() == 'Question 1', 'Check the title label.'\n>>> assert fig_1.axes[0].title.get_fontsize() == 16, 'Check the title label fontsize.'\n>>> \n>>> # Check legend is added\n>>> assert type(fig_1.axes[0].get_legend()) != type(None), 'Make sure to add a legend.'\n>>> \n>>> # Check xlim and ylim\n>>> assert fig_1.axes[0].get_xlim() == (0.0, 100.0), 'Check the x-axis limits.'\n>>> assert fig_1.axes[0].get_ylim() == (-120.0, 120.0), 'Check the y-axis limits.'\n",
         "hidden": false,
         "locked": false
        }
       ],
       "scored": true,
       "setup": "",
       "teardown": "",
       "type": "doctest"
      }
     ]
    },
    "q2.0": {
     "name": "q2.0",
     "points": 1,
     "suites": [
      {
       "cases": [
        {
         "code": ">>> assert np.isclose(mode_shape(0.2,0.6,1,1,1,1),0.5590169943749475,rtol = 1e-3)\n>>> assert np.isclose(mode_shape(0.23,0.7,1,1,3,4),0.486145764016177,rtol = 1e-3)\n>>> assert np.isclose(mode_shape(0.3,0.3,1,1,8,1),0.7694208842938134,rtol = 1e-3)\n>>> assert np.isclose(mode_shape(0.7,0.8,1,1,5,5),0,rtol = 1e-3)\n",
         "hidden": false,
         "locked": false
        }
       ],
       "scored": true,
       "setup": "",
       "teardown": "",
       "type": "doctest"
      }
     ]
    },
    "q2.1": {
     "name": "q2.1",
     "points": 2,
     "suites": [
      {
       "cases": [
        {
         "code": ">>> # Check xlabel and fontsize\n>>> assert fig_2.axes[0].get_xlabel() == 'X', 'Check the x-axis label.'\n>>> \n>>> # Check ylabel and fontsize\n>>> assert fig_2.axes[0].get_ylabel() == 'Y', 'Check the y-axis label.'\n>>> \n>>> # Check zlabel and fontsize\n>>> assert fig_2.axes[0].get_zlabel() == 'Z', 'Check the z-axis label.'\n>>> \n>>> # Check title and fontsize\n>>> assert fig_2.axes[0].get_title() == 'Natural mode shape for m = 3, n = 2', 'Check the title label.'\n>>> plt.close(\"all\")\n",
         "hidden": false,
         "locked": false
        }
       ],
       "scored": true,
       "setup": "",
       "teardown": "",
       "type": "doctest"
      }
     ]
    },
    "q3.0": {
     "name": "q3.0",
     "points": 1,
     "suites": [
      {
       "cases": [
        {
         "code": ">>> assert np.isclose(sum(theta), 3141.592653589793,rtol = 1e-2), 'Check theta 1D grid'\n>>> assert np.isclose(sum(rr), 5500.000000000001,rtol = 1e-2), 'Check r 1D grid'\n>>> assert np.isclose(sum(sum(t)), 3141592.6535897925,rtol = 1e-2), 'Check r 2D grid'\n>>> assert np.isclose(sum(sum(r)), 5500000.000000001,rtol = 1e-2), 'Check theta 2D grid'\n>>> assert np.isclose(sum(sum(pressure)), -37265.23985116976,rtol = 1e-2), 'Check pressure 2D grid'\n>>> assert np.isclose(sum(sum(stream)), 6.086685410137981e-08,rtol = 1e-2), 'Check stream 2D grid'\n>>> assert np.isclose(sum(sum(velocity_potential)), 5756137.688560322,rtol = 1e-2), 'Check velocity_potential 2D grid'\n",
         "hidden": false,
         "locked": false
        }
       ],
       "scored": true,
       "setup": "",
       "teardown": "",
       "type": "doctest"
      }
     ]
    },
    "q4.0": {
     "name": "q4.0",
     "points": 1,
     "suites": [
      {
       "cases": [
        {
         "code": ">>> assert isinstance(wind_x, np.ndarray), 'Make sure to convert the wind_x data to a numpy array.'\n>>> assert isinstance(wind_y, np.ndarray), 'Make sure to convert the wind_y data to a numpy array.'\n>>> assert isinstance(wind_u, np.ndarray), 'Make sure to convert the wind_u data to a numpy array.'\n>>> assert isinstance(wind_v, np.ndarray), 'Make sure to convert the wind_v data to a numpy array.'\n>>> \n>>> assert int(sum(sum(wind_x))) == -146719, 'Make sure the wind_x is stored in X.'\n>>> assert int(sum(sum(wind_y))) == 55606, 'Make sure the wind_y is stored in Y.'\n>>> assert int(sum(sum(wind_u))) == 25314, 'Make sure the wind_u is stored in U.'\n>>> assert int(sum(sum(wind_v))) == 607, 'Make sure the wind_v is stored in V.'\n",
         "hidden": false,
         "locked": false
        }
       ],
       "scored": true,
       "setup": "",
       "teardown": "",
       "type": "doctest"
      }
     ]
    },
    "q4.1": {
     "name": "q4.1",
     "points": 1,
     "suites": [
      {
       "cases": [
        {
         "code": ">>> import pandas as pd\n>>> q4_1 = pd.read_csv('resources/wind_mag.csv',header=None).sum().sum()\n>>> assert np.isclose(sum(sum(wind_mag)),27813.329567459838,rtol = 1e-2), 'Check the wind magnitude computation.' \n>>> #assert np.isclose(pd.read_csv('resources/wind_mag.csv',header=None).sum().sum(),27813.329567459838,rtol = 1e-2), 'Check the write to csv command.'\n>>> assert np.isclose(q4_1,27813.329567459838,rtol = 1e-2), 'Check the write to csv command.'\n",
         "hidden": false,
         "locked": false
        }
       ],
       "scored": true,
       "setup": "",
       "teardown": "",
       "type": "doctest"
      }
     ]
    }
   }
  }
 },
 "nbformat": 4,
 "nbformat_minor": 2
}
