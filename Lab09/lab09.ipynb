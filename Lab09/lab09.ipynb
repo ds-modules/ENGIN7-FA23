{
 "cells": [
  {
   "cell_type": "raw",
   "id": "7a1cae3b",
   "metadata": {},
   "source": [
    "# ASSIGNMENT CONFIG\n",
    "solutions_pdf: false\n",
    "name: lab09\n",
    "files:\n",
    "    - resources\n",
    "generate: \n",
    "    pdf: false\n",
    "    filtering: true\n",
    "    pagebreaks: true\n",
    "check_all_cell: true\n",
    "export_cell: \n",
    "    instructions: \"Make sure you submit the .zip file to Gradescope.\"\n",
    "    run_tests: false\n",
    "    pdf: false"
   ]
  },
  {
   "cell_type": "markdown",
   "id": "2e4a4ccd",
   "metadata": {},
   "source": [
    "# E7: Lab Assignment 09\n",
    "\n",
    "You must submit the lab to Gradescope by the due date. You will submit the zip file produced by running the final cell of the assignment.\n",
    "\n",
    "## About this Lab\n",
    "The objective of this assignment is to familiarize you with numerical series and root finding methods.\n",
    "\n",
    "## Autograder\n",
    "You will be provided with some test cases (i.e., sample input data) and associated answers (i.e., expected outputs) that you can use to help check your code. The provided test cases are not exhaustive, and it is your responsibility to ensure that your code works in general, not just for a few supplied test cases. We may use additional hidden test cases in grading your lab assignments.\n",
    "\n",
    "**Run the first cell, Initialize Otter**, to import the autograder and submission exporter.\n",
    "\n",
    "## Answer cells\n",
    "Throughout the assignment, replace `...` with your answers. We use `...` as a placeholder and these should be deleted and replaced with your answers.\n",
    "\n",
    "Your answers must be in the cells marked `# ANSWER CELL`, including your final calculation/code. However, do not perform scratchwork in `# ANSWER CELL`. Add a new cell to perform your scratchwork. Your scratchwork will not be graded and does not need to be included in your submission unless otherwise noted.\n",
    "\n",
    "To read the documentation on a Python function, you can type `help()` and add the function name between parentheses.\n",
    "\n",
    "## Score Breakdown\n",
    "Question| Points\n",
    "--- | --\n",
    "1 | 8.0\n",
    "2 | 3.0\n",
    "3 | 6.0\n",
    "4 | 4.0\n",
    "5 | 4.0\n",
    "Total | 25.0\n",
    "\n",
    "**Run the cell below**, to import the required modules."
   ]
  },
  {
   "cell_type": "code",
   "execution_count": 183,
   "id": "bf2cd14f",
   "metadata": {},
   "outputs": [],
   "source": [
    "# Please run this cell, and do not modify the contents\n",
    "import numpy as np\n",
    "import math\n",
    "import matplotlib.pyplot as plt\n",
    "import random\n",
    "import scipy\n",
    "from scipy.optimize import fsolve\n",
    "np.seterr(all='ignore');\n",
    "\n",
    "import hashlib\n",
    "def get_hash(num):\n",
    "    \"\"\"Helper function for assessing correctness\"\"\"\n",
    "    return hashlib.md5(str(num).encode()).hexdigest()"
   ]
  },
  {
   "cell_type": "markdown",
   "id": "876552ba",
   "metadata": {},
   "source": [
    "## Question 1: Writing your own trigonometric function\n",
    "\n",
    "There is no direct way to calculate generic trigonometric functions, even on a computer. In order to find the solution to a given trigonometric function, computers instead use a high accuracy estimate. In this problem, you will implement your own trigonometric function using a Taylor series expansion. Computers actually use the CORDIC algorithm to implement trigonometric functions, logarithms and other floating-point arithemtic operations. You can find more about it [here](https://en.wikipedia.org/wiki/CORDIC) but it is not required for this assignment. "
   ]
  },
  {
   "cell_type": "raw",
   "id": "9b432bdc",
   "metadata": {},
   "source": [
    "# BEGIN QUESTION\n",
    "name: q1_0\n",
    "points: 1"
   ]
  },
  {
   "cell_type": "markdown",
   "id": "18f32bed",
   "metadata": {},
   "source": [
    "### Question 1.0: Taylor series for sine\n",
    "\n",
    "The Taylor series expansion about zero for sine (with input in radians) is\n",
    "\n",
    "$$\\sin(x) \\approx x - x^3/3! + x^5/5! - x^7/7! + \\dots + (-1)^{(n-1)}\\frac{x^{(2n-1)}}{(2n-1)!}$$\n",
    "\n",
    "or in summation notation\n",
    "\n",
    "$$\\sin(x) \\approx \\sum_{n=1}^N (-1)^{(n-1)}\\frac{x^{(2n-1)}}{(2n-1)!}$$\n",
    "\n",
    "For this problem, we will consider the $N^{th}$ Taylor expansion of sine to be the sum of the first $N$ terms of this series. The approximation above becomes exact as $N$ approaches infinity.\n",
    "\n",
    "Write a function `mySin(X,N)` which computes sine at every radian value in `X` which may be a scalar float or a `np.ndarray` of floats using the $N^{th}$ Taylor expansion for sine. The input `N` is a scalar integer greater than 0. The output should be of the same type and size as `X`.\n",
    "\n",
    "Once you are done, try out your new `mySin(X,N)` function for the examples below and make sure it produces the correct output. Assign the result to `q1_0`.\n",
    "\n",
    "\n",
    "```PYTHON\n",
    "Examples: \n",
    "\n",
    ">>> mySin(np.pi/2, 1)\n",
    "1.5707963267948966\n",
    "\n",
    ">>> mySin(np.pi/2, 5)\n",
    "1.000003542584286\n",
    "\n",
    ">>> mySin(np.linspace(0,np.pi,3), 7)\n",
    "array([0.00000000e+00, 1.00000000e+00, 2.11425676e-05])\n",
    "\n",
    ">>> mySin(np.linspace(0,5*np.pi,6),10)\n",
    "array([ 0.00000000e+00, -5.28919613e-10, -1.04818280e-03, -4.78057566e+00,\n",
    "       -1.78979741e+03, -1.69520866e+05])\n",
    "\n",
    ">>> mySin(np.array([[np.pi/6, np.pi/4],[np.pi/3, np.pi/2]]), 10)\n",
    "array([[0.5       , 0.70710678],\n",
    "       [0.8660254 , 1.        ]])\n",
    "```"
   ]
  },
  {
   "cell_type": "raw",
   "id": "adfe161d",
   "metadata": {},
   "source": [
    "# BEGIN SOLUTION"
   ]
  },
  {
   "cell_type": "code",
   "execution_count": 184,
   "id": "38fd06aa",
   "metadata": {},
   "outputs": [],
   "source": [
    "# ANSWER CELL\n",
    "# BEGIN SOLUTION\n",
    "def mySin(X, N):\n",
    "    \"\"\"\n",
    "    Computes the Nth Taylor expansion of sine for inputs in X\n",
    "    X: numpy array (float), radians\n",
    "    N: Nth degree of a sine Taylor Series expansion\n",
    "    Output: Double same size as X\n",
    "    \"\"\"\n",
    "    sinSeries = np.zeros_like(X)\n",
    "    for i in range(1, N+1):\n",
    "        sinSeries = sinSeries + ((-1)**(i-1) * (np.power(X,(2*i-1)))) / math.factorial(2*i-1)\n",
    "        \n",
    "    return sinSeries\n",
    "\n",
    "## Alternative solution\n",
    "#  mySin = lambda X,N: sum([((-1)**(i-1)*(np.power(X,(2*i-1))))/math.factorial(2*i-1) for i in range(1, N+1)])\n",
    "\n",
    "# END SOLUTION"
   ]
  },
  {
   "cell_type": "code",
   "execution_count": 185,
   "id": "4c94c5ba",
   "metadata": {},
   "outputs": [
    {
     "data": {
      "text/plain": [
       "array([[0.5       , 0.70710678],\n",
       "       [0.8660254 , 1.        ]])"
      ]
     },
     "execution_count": 185,
     "metadata": {},
     "output_type": "execute_result"
    }
   ],
   "source": [
    "# TEST YOUR FUNCTION HERE\n",
    "q1_0 = mySin(np.array([[np.pi/6, np.pi/4],[np.pi/3, np.pi/2]]), 10)  # SOLUTION\n",
    "q1_0"
   ]
  },
  {
   "cell_type": "raw",
   "id": "71c47a40",
   "metadata": {},
   "source": [
    "# END SOLUTION"
   ]
  },
  {
   "cell_type": "raw",
   "id": "76a431b3",
   "metadata": {},
   "source": [
    "# BEGIN TESTS"
   ]
  },
  {
   "cell_type": "code",
   "execution_count": 186,
   "id": "5a1702e0",
   "metadata": {},
   "outputs": [],
   "source": [
    "# Check students tested the function (type is not ellipsis)\n",
    "assert get_hash(type(q1_0)) != '14e736438b115821cbb9b7ac0ba79034', \"Make sure to test your function!\""
   ]
  },
  {
   "cell_type": "code",
   "execution_count": 187,
   "id": "996ab1ef",
   "metadata": {},
   "outputs": [],
   "source": [
    "# Check scalar inputs\n",
    "assert get_hash(np.round(mySin(np.pi/2, 1),12)) == '1a719dcf1663212100d2e67bde1bf011'\n",
    "assert get_hash(np.round(mySin(np.pi/2, 5),12)) == 'c33503c8532ac302a28dec7a8695083d'\n",
    "assert get_hash(np.round(mySin(10, 1),12)) == '43a1437f7f656cd8be7c996c58719e0a'\n",
    "assert get_hash(np.round(mySin(10, 5),12)) == '6b7a412ebdb1a3044003351946322472'"
   ]
  },
  {
   "cell_type": "code",
   "execution_count": 188,
   "id": "2f5bcdf0",
   "metadata": {},
   "outputs": [],
   "source": [
    "# Check array inputs\n",
    "assert get_hash(np.round(mySin(np.linspace(0,np.pi,3), 7),12)) == '70dcebc7523a6b7b23eb3f39d6da2d7b'\n",
    "assert get_hash(np.round(mySin(np.linspace(0,10), 3),12)) == 'dde806fe948e1110336086aea5ed0325'\n",
    "assert get_hash(np.round(mySin(np.array([[np.pi/6, np.pi/4],[np.pi/3, np.pi/2]]), 10),12)) == '70b814a20f1d02555f97445fc0ac07ca'\n",
    "assert get_hash(np.round(mySin(np.array([[1, 2],[3, 4]]), 5),12)) == 'd78aab5ce5a5d950b5426707fd4371c0'"
   ]
  },
  {
   "cell_type": "raw",
   "id": "dbaa0f65",
   "metadata": {},
   "source": [
    "# END TESTS"
   ]
  },
  {
   "cell_type": "raw",
   "id": "7c27597e",
   "metadata": {},
   "source": [
    "# END QUESTION"
   ]
  },
  {
   "cell_type": "raw",
   "id": "db7540f3",
   "metadata": {},
   "source": [
    "# BEGIN QUESTION\n",
    "name: q1_1\n",
    "points: 1"
   ]
  },
  {
   "cell_type": "markdown",
   "id": "3c5e4e0f",
   "metadata": {},
   "source": [
    "### Question 1.1: Convergence of Taylor series\n",
    "\n",
    "For a finite number of terms, the error of the Taylor series estimate for sine (expanded about the origin) increases away from the origin. This error is often approximated based on the next term of the Taylor series, since that term is the largest that is being neglected. For example, the 2nd Taylor approximation for sine would have an error on the order of $x^5/5!$ which is ususally expressed in Big-O notation as $\\mathcal{O}(x^5)$). For this problem, you will write a function that finds the error between your approximation for sine and the `numpy.sin` function. You will also compute the value of the next term in the Taylor series expansion for sine, so that we can compare the two and see if they actually produce similar results.\n",
    "\n",
    "Define a function named `CompareTaylorConvergence(X,N)` which computes the error in the $N^{th}$ Taylor approximation for sine, along with the absolute value of the $(N+1)^{th}$ term of the Taylor expansion for all values in `X`. Your function should return the error and next term (in this order), both of which should be of the same type and size as `X`\n",
    "\n",
    "Once you are done, test your function for the examples below. Assign the result to `q1_1`. Feel free to experiment with other inputs.\n",
    "\n",
    "```PYTHON\n",
    "Examples:\n",
    "    \n",
    "    >>> CompareTaylorConvergence(2*np.pi, 5)\n",
    "    (0.0010481827960599414, 0.0011309237482517954)\n",
    "    \n",
    "    >>> CompareTaylorConvergence(np.linspace(-np.pi, np.pi ,4), 2)\n",
    "    (array([2.02612013, 0.01022462, 0.01022462, 2.02612013]),\n",
    "     array([2.55016404, 0.0104945 , 0.0104945 , 2.55016404]))\n",
    "```"
   ]
  },
  {
   "cell_type": "raw",
   "id": "effd61d8",
   "metadata": {},
   "source": [
    "# BEGIN SOLUTION"
   ]
  },
  {
   "cell_type": "code",
   "execution_count": 189,
   "id": "7715263e",
   "metadata": {},
   "outputs": [],
   "source": [
    "# ANSWER CELL\n",
    "\n",
    "# BEGIN SOLUTION\n",
    "def CompareTaylorConvergence(X,N):\n",
    "    \"\"\"\n",
    "    Finds the error in the Nth Taylor approximation for sine, along with\n",
    "    absolute value of the (N+1)th term of the Taylor expansion\n",
    "\n",
    "    \"\"\"\n",
    "    error = np.abs(mySin(X, N)- np.sin(X))\n",
    "    next_term = np.abs((-1)**N*(X**(2*N+1))/math.factorial(2*N+1))\n",
    "    \n",
    "    return error, next_term\n",
    "# END SOLUTION"
   ]
  },
  {
   "cell_type": "code",
   "execution_count": 190,
   "id": "1bfc39ad",
   "metadata": {},
   "outputs": [
    {
     "data": {
      "text/plain": [
       "(array([2.02612013, 0.01022462, 0.01022462, 2.02612013]),\n",
       " array([2.55016404, 0.0104945 , 0.0104945 , 2.55016404]))"
      ]
     },
     "execution_count": 190,
     "metadata": {},
     "output_type": "execute_result"
    }
   ],
   "source": [
    "# TEST YOUR FUNCTION HERE\n",
    "N = 2 # SOLUTION\n",
    "X = np.linspace(-np.pi, np.pi, 4) # SOLUTION\n",
    "q1_1 = CompareTaylorConvergence(X,N) # SOLUTION\n",
    "q1_1"
   ]
  },
  {
   "cell_type": "raw",
   "id": "8adf02fa",
   "metadata": {},
   "source": [
    "# END SOLUTION"
   ]
  },
  {
   "cell_type": "raw",
   "id": "eee585b3",
   "metadata": {},
   "source": [
    "# BEGIN TESTS"
   ]
  },
  {
   "cell_type": "code",
   "execution_count": 191,
   "id": "cc34a610",
   "metadata": {},
   "outputs": [],
   "source": [
    "# Check students tested the function (type is not ellipsis)\n",
    "assert get_hash(type(q1_1)) != '14e736438b115821cbb9b7ac0ba79034', \"Make sure to test your function!\""
   ]
  },
  {
   "cell_type": "code",
   "execution_count": 192,
   "id": "dbb85733",
   "metadata": {},
   "outputs": [],
   "source": [
    "# Check scalar inputs\n",
    "error, next_term = CompareTaylorConvergence(2*np.pi,10)\n",
    "assert get_hash(np.round(np.sum(error),8)) == '1342c198f5fa4fbda5916561745c34a9', 'Check error.'\n",
    "assert get_hash(np.round(np.sum(next_term),8)) == '01ca83610c11fd5338f7e818ba84f1ca', 'Check next term.'\n",
    "error, next_term = CompareTaylorConvergence(2*np.pi,5)\n",
    "assert get_hash(np.round(np.sum(error),8)) == '4b9473aa3637ebc2d2f2f81f61faa399', 'Check error.'\n",
    "assert get_hash(np.round(np.sum(next_term),8)) == 'b6bf808b29bf005e1758841a65038ed8', 'Check next term.'"
   ]
  },
  {
   "cell_type": "code",
   "execution_count": 193,
   "id": "72f47b4d",
   "metadata": {},
   "outputs": [],
   "source": [
    "# Check array inputs\n",
    "error, next_term = CompareTaylorConvergence(np.linspace(-np.pi, np.pi, 4),10)\n",
    "assert get_hash(np.round(np.sum(error),8)) == '30565a8911a6bb487e3745c0ea3c8224', 'Check error.'\n",
    "assert get_hash(np.round(np.sum(next_term),8)) == '30565a8911a6bb487e3745c0ea3c8224', 'Check next term.'\n",
    "error, next_term = CompareTaylorConvergence(np.linspace(-np.pi, np.pi, 4),5)\n",
    "assert get_hash(np.round(np.sum(error),8)) == '3a27dec9b3b10fbcef90e55e1f2d4216', 'Check error.'\n",
    "assert get_hash(np.round(np.sum(next_term),8)) == 'a0baefa6c0d8c8ca7de6dca65419858e', 'Check next term.'"
   ]
  },
  {
   "cell_type": "raw",
   "id": "45c87477",
   "metadata": {},
   "source": [
    "# END TESTS"
   ]
  },
  {
   "cell_type": "raw",
   "id": "24d5215d",
   "metadata": {},
   "source": [
    "# END QUESTION"
   ]
  },
  {
   "cell_type": "raw",
   "id": "cce8d624",
   "metadata": {},
   "source": [
    "# BEGIN QUESTION\n",
    "name: q1_2\n",
    "points: 2"
   ]
  },
  {
   "cell_type": "markdown",
   "id": "41c350c0",
   "metadata": {},
   "source": [
    "### Question 1.2: Convergence of Taylor series\n",
    "\n",
    "Let us now plot the error and the next term in the Taylor series so that we can compare them visually.\n",
    "\n",
    "Define a function named `PlotTaylorConvergence(X,N)` which returns a `matplotlib.pyplot` figure of the error in the $N^{th}$ Taylor approximation for sine and the absolute value of the $(N+1)^{th}$ term of the Taylor expansion for all values in `X` as computed in the previous part.\n",
    "\n",
    "The function should create the figure as follows:\n",
    "* Plot (1) `X` vs. the absolute value of the error of your  `mySin` function compared to `numpy.sin`, computed on `X`\n",
    "* Plot (2) `X` vs. the absolute value of the next term in the Taylor expansion computed on `X` \n",
    "* A legend with labels 'Error' and 'Next term' for curves 1 and 2, respectively\n",
    "* X axis label which reads 'X'\n",
    "* Y axis label which reads 'Absolute value'\n",
    "* Title label which reads 'N = {N} Taylor expansion of sine', where {N} is replaced with `N`\n",
    "\n",
    "Once you are done, test your function for `N = 2` and `X = np.linspace(-N*np.pi/2., N*np.pi/2.)`. Assign the result to `q1_2`. Your output figure should look like Figure 1 shown below. Feel free to experiment with other inputs as well as any plotting options that are not explicitly specified.\n",
    "\n",
    "<img src=\"resources/taylor.png\" style=\"width: 500px;\"/>\n",
    "<figcaption style=\"text-align:center\"> Figure 1. Error and next term of N = 2 sine Taylor expansion. </figcaption>   "
   ]
  },
  {
   "cell_type": "raw",
   "id": "9070f507",
   "metadata": {},
   "source": [
    "# BEGIN SOLUTION"
   ]
  },
  {
   "cell_type": "code",
   "execution_count": 194,
   "id": "ddf135ba",
   "metadata": {},
   "outputs": [],
   "source": [
    "# ANSWER CELL\n",
    "\n",
    "# Do not modify this line\n",
    "import matplotlib.pyplot as plt\n",
    "\n",
    "# BEGIN SOLUTION\n",
    "\n",
    "def PlotTaylorConvergence(X,N):\n",
    "    \"\"\"\n",
    "    Plots the error in the Nth Taylor approximation for sine, along with\n",
    "    absolute value of the (N+1)th term of the Taylor expansion\n",
    "\n",
    "    \"\"\"\n",
    "    [error, next_term] = CompareTaylorConvergence(X, N) \n",
    "    \n",
    "    # Create figure\n",
    "    fig = plt.figure(figsize=(6,4))\n",
    "    plt.plot(X,error,label='Error') \n",
    "    plt.plot(X,next_term,label='Next term') \n",
    "    plt.xlim([np.min(X),np.max(X)]) \n",
    "    plt.xlabel('X') \n",
    "    plt.ylabel('Absolute value') \n",
    "    plt.title(f'N = {N} Taylor expansion of sine')\n",
    "    plt.grid() \n",
    "    plt.legend() \n",
    "    return fig\n",
    "\n",
    "# END SOLUTION"
   ]
  },
  {
   "cell_type": "code",
   "execution_count": 195,
   "id": "403436e2",
   "metadata": {},
   "outputs": [
    {
     "data": {
      "image/png": "[encoded data removed]",
      "text/plain": [
       "<Figure size 600x400 with 1 Axes>"
      ]
     },
     "metadata": {},
     "output_type": "display_data"
    }
   ],
   "source": [
    "# TEST YOUR FUNCTION HERE\n",
    "N = 2 # SOLUTION\n",
    "X = np.linspace(-N*np.pi/2., N*np.pi/2.) # SOLUTION\n",
    "q1_2 = PlotTaylorConvergence(X, N) # SOLUTION"
   ]
  },
  {
   "cell_type": "raw",
   "id": "542a67b3",
   "metadata": {},
   "source": [
    "# END SOLUTION"
   ]
  },
  {
   "cell_type": "raw",
   "id": "1dfa7852",
   "metadata": {},
   "source": [
    "# BEGIN TESTS"
   ]
  },
  {
   "cell_type": "code",
   "execution_count": 196,
   "id": "128360b7",
   "metadata": {},
   "outputs": [],
   "source": [
    "# Check students tested the function (type is not ellipsis)\n",
    "assert get_hash(type(q1_2)) != '14e736438b115821cbb9b7ac0ba79034', \"Make sure to test your function!\""
   ]
  },
  {
   "cell_type": "code",
   "execution_count": 197,
   "id": "0b8c42e2",
   "metadata": {},
   "outputs": [],
   "source": [
    "import matplotlib.pyplot as plt\n",
    "N = 5\n",
    "X = np.linspace(-N*np.pi/2., N*np.pi/2.)\n",
    "fig = PlotTaylorConvergence(X, N)\n",
    "plt.close()\n",
    "error,next_term = CompareTaylorConvergence(X, N);\n",
    "assert np.allclose(fig.axes[0].get_lines()[0].get_xdata(),X)\n",
    "assert np.allclose(fig.axes[0].get_lines()[0].get_ydata(),error)\n",
    "assert np.allclose(fig.axes[0].get_lines()[1].get_ydata(),next_term)\n",
    "# Check line labels\n",
    "assert fig.axes[0].get_lines()[0].get_label() == 'Error', 'Check the line labels.'\n",
    "assert fig.axes[0].get_lines()[1].get_label() == 'Next term', 'Check the line labels.'\n",
    "# Check xlabel and fontsize\n",
    "assert 'X' in fig.axes[0].get_xlabel().upper(), 'Check the x-axis label.'\n",
    "# Check ylabel and fontsize\n",
    "assert 'ABSOLUTE' in fig.axes[0].get_ylabel().upper(), 'Check the y-axis label.'\n",
    "assert 'VALUE' in fig.axes[0].get_ylabel().upper(), 'Check the y-axis label.'\n",
    "# Check title and fontsize\n",
    "assert  str(N) in fig.axes[0].get_title().upper(), 'Check the title label.'\n",
    "assert 'TAYLOR' in fig.axes[0].get_title().upper(), 'Check the title label.'\n",
    "assert 'EXPANSION' in fig.axes[0].get_title().upper(), 'Check the title label.'\n",
    "# Check legend is added\n",
    "assert type(fig.axes[0].get_legend()) != type(None), 'Make sure to add a legend.'\n",
    "# Check xlim and ylim\n",
    "assert fig.axes[0].get_xlim() == (np.min(X), np.max(X)), 'Check the x-axis limits.'"
   ]
  },
  {
   "cell_type": "raw",
   "id": "ba6f1d94",
   "metadata": {},
   "source": [
    "# END TESTS"
   ]
  },
  {
   "cell_type": "raw",
   "id": "e6fcd69c",
   "metadata": {},
   "source": [
    "# END QUESTION"
   ]
  },
  {
   "cell_type": "raw",
   "id": "2289c910",
   "metadata": {},
   "source": [
    "# BEGIN QUESTION\n",
    "name: q1_3\n",
    "points: 2"
   ]
  },
  {
   "cell_type": "markdown",
   "id": "f2e61541",
   "metadata": {},
   "source": [
    "### Question 1.3: Using the periodicity of sine\n",
    "\n",
    "The last problem demonstrates that, far enough from the origin, a finite Taylor expansion always diverges from the actual solution for sine. One way to improve the accuracy for such inputs is to utilize the periodicity of the sine function. i.e.\n",
    "\n",
    "$$\\sin(x \\pm 2\\pi) = \\sin(x)$$\n",
    "\n",
    "Write a function `mySinPeriodic(X,N)` which converts every radian value in `X` to the range $[-\\pi, \\pi)$ using the periodicity of sine and then calculates sine at each point using the Nth Taylor expansion for sine. The output should be the same type and size as the input `X`.\n",
    "\n",
    "`X` which may be a scalar float or a `np.ndarray` of floats using the $N^{th}$ Taylor expansion for sine. The input `N` is a scalar integer greater than 0. The output should be of the same type and size as `X`.\n",
    "\n",
    "Once you are done, try out your new `mySinPeriodic(X,N)` function for the examples below in the following cell. Assign the output to `q1_3`. Feel free to try it for other inputs.\n",
    "\n",
    "*Hint*: Be careful if you wish to use the Python function mod `%`. Applying `% (2*np.pi)` will map the values to the range $[0, 2\\pi)$. You'll then have to shift values in the range $[\\pi, 2\\pi)$ to the range $[-\\pi, 0)$. \n",
    "For example:\n",
    "* $\\sin(2.5\\pi) = \\sin(2.5\\pi\\,\\%\\,2\\pi) = \\sin(0.5\\pi)$ \n",
    "\n",
    "* $\\sin(-2.5\\pi) = \\sin(-2.5\\pi\\,\\%\\,2\\pi) = \\sin(1.5\\pi) = \\sin(1.5\\pi -2\\pi) = \\sin(-0.5\\pi)$\n",
    "\n",
    "Scalars and arrays may also need separate treatment depending on your implementation.\n",
    "\n",
    "```PYTHON\n",
    "    Examples:\n",
    "\n",
    "    >>> mySin(1, 10) # original\n",
    "    0.8414709848078965\n",
    "    \n",
    "    >>> mySinPeriodic(1, 10)  # periodic\n",
    "    0.8414709848078965\n",
    "    \n",
    "    >>> mySin(1+20*np.pi, 10)  # original\n",
    "    -1.4964419187562707e+17\n",
    "    \n",
    "    >>> mySinPeriodic(1+20*np.pi, 10) # periodic\n",
    "    0.8414709848078965\n",
    "    \n",
    "    >>> mySin(np.linspace(0,5*np.pi,6),10) # original\n",
    "    array([0.00000000e+00, -5.28919613e-10, -1.04818280e-03, -4.78057566e+00, -1.78979741e+03, -1.69520866e+05])\n",
    "    \n",
    "    >>> mySinPeriodic(np.linspace(0,5*np.pi,6),10) # periodic\n",
    "    array([0.0000000e+00, 5.2891828e-10, 0.0000000e+00, 5.2891828e-10, 0.0000000e+00, 5.2891828e-10])\n",
    "```"
   ]
  },
  {
   "cell_type": "code",
   "execution_count": 198,
   "id": "d95e12dc",
   "metadata": {},
   "outputs": [
    {
     "data": {
      "text/plain": [
       "array([ 0.00000000e+00, -5.28919613e-10, -1.04818280e-03, -4.78057566e+00,\n",
       "       -1.78979741e+03, -1.69520866e+05])"
      ]
     },
     "execution_count": 198,
     "metadata": {},
     "output_type": "execute_result"
    }
   ],
   "source": [
    "mySin(np.linspace(0,5*np.pi,6),10)"
   ]
  },
  {
   "cell_type": "raw",
   "id": "97cdc0aa",
   "metadata": {},
   "source": [
    "# BEGIN SOLUTION"
   ]
  },
  {
   "cell_type": "code",
   "execution_count": 199,
   "id": "ebeba1b2",
   "metadata": {},
   "outputs": [],
   "source": [
    "# ANSWER CELL\n",
    "# BEGIN SOLUTION\n",
    "def mySinPeriodic(X, N):\n",
    "    \"\"\"\n",
    "    Converts every radian value in X to the range [-pi,pi] using\n",
    "    the periodicity of sine and then calculates sine at each point using the\n",
    "    Nth Taylor expansion for sine\n",
    "    \"\"\"\n",
    "    X = X % (2*np.pi) \n",
    "    if isinstance(X, np.ndarray):\n",
    "        X[X>=np.pi] = X[X>=np.pi] - 2*np.pi\n",
    "    else:\n",
    "        if X >= np.pi:\n",
    "            X = X - 2*np.pi\n",
    "            \n",
    "    return mySin(X, N)\n",
    "# END SOLUTION"
   ]
  },
  {
   "cell_type": "code",
   "execution_count": 200,
   "id": "55b01303",
   "metadata": {},
   "outputs": [
    {
     "data": {
      "text/plain": [
       "4.71238898038469"
      ]
     },
     "execution_count": 200,
     "metadata": {},
     "output_type": "execute_result"
    }
   ],
   "source": [
    "(-2.5*np.pi)%(2*np.pi)"
   ]
  },
  {
   "cell_type": "code",
   "execution_count": 201,
   "id": "27219984",
   "metadata": {},
   "outputs": [
    {
     "data": {
      "text/plain": [
       "0.8414709848078965"
      ]
     },
     "execution_count": 201,
     "metadata": {},
     "output_type": "execute_result"
    }
   ],
   "source": [
    "# TEST YOUR FUNCTION HERE\n",
    "q1_3 = mySinPeriodic(1, 10)  # SOLUTION\n",
    "q1_3"
   ]
  },
  {
   "cell_type": "raw",
   "id": "bb605680",
   "metadata": {},
   "source": [
    "# END SOLUTION"
   ]
  },
  {
   "cell_type": "raw",
   "id": "6333a239",
   "metadata": {},
   "source": [
    "# BEGIN TESTS"
   ]
  },
  {
   "cell_type": "code",
   "execution_count": 202,
   "id": "56042795",
   "metadata": {},
   "outputs": [],
   "source": [
    "# Check students tested the function (type is not ellipsis)\n",
    "assert get_hash(type(q1_3)) != '14e736438b115821cbb9b7ac0ba79034', \"Make sure to test your function!\""
   ]
  },
  {
   "cell_type": "code",
   "execution_count": 203,
   "id": "6e92c3e7",
   "metadata": {},
   "outputs": [],
   "source": [
    "# Check scalar inputs\n",
    "assert get_hash(np.round(mySinPeriodic(1, 10),14)) == '099c6f8b0fd2375bd1f67fd0361b42d6'\n",
    "assert get_hash(np.round(mySinPeriodic(1+20*np.pi, 10),14)) == '099c6f8b0fd2375bd1f67fd0361b42d6'\n",
    "assert get_hash(np.round(mySinPeriodic(-1, 10),14)) == 'c1e44cffdfabeb1714daa8cbaec4abe8'\n",
    "assert get_hash(np.round(mySinPeriodic(-1-20*np.pi, 10),14)) == 'c1e44cffdfabeb1714daa8cbaec4abe8'\n",
    "\n",
    "assert get_hash(np.round(mySinPeriodic(2, 10),14)) == '3dcc92152b4197b5132931b66178541c'\n",
    "assert get_hash(np.round(mySinPeriodic(2+20*np.pi, 10),14)) == '3dcc92152b4197b5132931b66178541c'\n",
    "assert get_hash(np.round(mySinPeriodic(-2, 10),14)) == '6e5f88db7a4ea0b587bd9620e1056087'\n",
    "assert get_hash(np.round(mySinPeriodic(-2-20*np.pi, 10),14)) == '6e5f88db7a4ea0b587bd9620e1056087'"
   ]
  },
  {
   "cell_type": "code",
   "execution_count": 204,
   "id": "92dc7dbd",
   "metadata": {},
   "outputs": [],
   "source": [
    "# Check array inputs\n",
    "assert get_hash(np.round(np.sum(mySinPeriodic(np.linspace(0,5*np.pi,6), 10)),8)) == '30565a8911a6bb487e3745c0ea3c8224'\n",
    "assert get_hash(np.round(np.sum(mySinPeriodic(np.linspace(0,5*np.pi,20), 5)),8)) == '862314151b0333d3b2dfaaa23aca221a'\n",
    "assert get_hash(np.round(np.sum(mySinPeriodic(np.linspace(-10*np.pi,5*np.pi,20), 5)),8)) == 'b209fa8add1e3a19872f5411ef9b3d2f'\n",
    "assert get_hash(np.round(np.sum(mySinPeriodic(np.linspace(-10*np.pi,5*np.pi,15), 10)),8)) == '0df16f7567b8e2fbbaf8f129ef2e9480'"
   ]
  },
  {
   "cell_type": "raw",
   "id": "b91bfcaa",
   "metadata": {},
   "source": [
    "# END TESTS"
   ]
  },
  {
   "cell_type": "raw",
   "id": "23fad2c8",
   "metadata": {},
   "source": [
    "# END QUESTION"
   ]
  },
  {
   "cell_type": "raw",
   "id": "044e4d32",
   "metadata": {},
   "source": [
    "# BEGIN QUESTION\n",
    "name: q1_4\n",
    "points: 2"
   ]
  },
  {
   "cell_type": "markdown",
   "id": "d1797098",
   "metadata": {},
   "source": [
    "### Question 1.4: Accurate range of the Taylor series\n",
    "Now, we will examine how well our new and improved approximation for sine works by finding the range of values for which its accuracy is acceptable. Earlier we saw that the error in our Taylor series approximation is mostly contained in the leading term, i.e. the next term in the expansion after our cut-off. We can then determine the range of accuracy by checking where this next term exceeds some threshold value. We could also estimate it by monitoring the error relative to `numpy.sin`. However, note that `numpy.sin` is itself an approximation and also that in general we don't have access to such reference values.\n",
    "\n",
    "Write a function `TaylorAccRange(N, tol)` that finds the range of angles for which the (absolute) value of the next term in the $N^{th}$ Taylor expansion is less than the given tolerance, `tol`. The range should be returned as a 2-element list containing the minimum and maximum angle in radians for which every angle in between can be found to within the given tolerance. You should consider the periodicity of sine in the function, such that angles outside of the range $[-\\pi, \\pi)$ are taken as their corresponding angle within that range. If your Taylor approximation is within the tolerance for all angles, your function should return the list $\\{-\\infty, \\infty\\}$ (recall the built-in `numpy.inf`).\n",
    "\n",
    "Once you are done, try out your new `TaylorAccRange(N, tol)` function for the examples below in the following cell. Assign the output to `q1_4`. Feel free to try it for other inputs.\n",
    "\n",
    "*Hint*: You may wish to rewrite this problem as a root solving problem; you are free to use the built-in `scipy.optimize.fsolve` function.  Refer to the documentation [here](https://docs.scipy.org/doc/scipy/reference/generated/scipy.optimize.fsolve.html).\n",
    "\n",
    "\n",
    "```PYTHON\n",
    "    Examples:\n",
    "\n",
    "    >>> TaylorAccRange(5, 0.1)\n",
    "    [-inf, inf]\n",
    "    \n",
    "    >>> TaylorAccRange(5, 0.001)\n",
    "    [-2.6199130820816245, 2.6199130820816245]\n",
    "    \n",
    "    >>> TaylorAccRange(5, 1e-8) \n",
    "    [-0.9199017158167089, 0.9199017158167089]\n",
    "```"
   ]
  },
  {
   "cell_type": "raw",
   "id": "7a7b9ae8",
   "metadata": {},
   "source": [
    "# BEGIN SOLUTION"
   ]
  },
  {
   "cell_type": "code",
   "execution_count": 205,
   "id": "ee9ff1dd",
   "metadata": {},
   "outputs": [],
   "source": [
    "# ANSWER CELL\n",
    "# BEGIN SOLUTION\n",
    "def TaylorAccRange(N, tol):\n",
    "    \"\"\"\n",
    "    Finds the range of angles for which the error in the Nth taylor expansion is \n",
    "    less than the given tolerance, tol.\n",
    "    Outputs 2-element list containing minimum and maximum angle in radians for which \n",
    "    every angle in between can be found within the given tolerance\n",
    "    \"\"\"\n",
    "    f = lambda x: tol - np.abs(np.power(-1,N)*np.power(x,(2*N+1))/math.factorial(2*N+1))\n",
    "    angle = scipy.optimize.fsolve(f, x0 = np.pi)\n",
    "    ang_range = [-abs(angle[0]), abs(angle[0])]\n",
    "    \n",
    "    if abs(angle[0]) >= math.pi:\n",
    "        ang_range = [-np.inf, np.inf]\n",
    "        \n",
    "    return ang_range\n",
    "# END SOLUTION"
   ]
  },
  {
   "cell_type": "code",
   "execution_count": 206,
   "id": "3e1c2b56",
   "metadata": {},
   "outputs": [
    {
     "data": {
      "text/plain": [
       "[-0.9199017158167089, 0.9199017158167089]"
      ]
     },
     "execution_count": 206,
     "metadata": {},
     "output_type": "execute_result"
    }
   ],
   "source": [
    "# TEST YOUR FUNCTION HERE\n",
    "q1_4 = TaylorAccRange(5, 1e-8)  # SOLUTION\n",
    "q1_4"
   ]
  },
  {
   "cell_type": "raw",
   "id": "f34988ad",
   "metadata": {},
   "source": [
    "# END SOLUTION"
   ]
  },
  {
   "cell_type": "raw",
   "id": "cce32706",
   "metadata": {},
   "source": [
    "# BEGIN TESTS"
   ]
  },
  {
   "cell_type": "code",
   "execution_count": 207,
   "id": "99db637e",
   "metadata": {},
   "outputs": [],
   "source": [
    "# Check students tested the function (type is not ellipsis)\n",
    "assert get_hash(type(q1_4)) != '14e736438b115821cbb9b7ac0ba79034', \"Make sure to test your function!\""
   ]
  },
  {
   "cell_type": "code",
   "execution_count": 208,
   "id": "e41b532a",
   "metadata": {},
   "outputs": [],
   "source": [
    "assert get_hash(len(TaylorAccRange(5, 1e-8))) == 'c81e728d9d4c2f636f067f89cc14862c'\n",
    "assert get_hash(np.round(TaylorAccRange(5, 0.1)[0],8)) == '9c41dab8e025b5db402b00cface5d381'\n",
    "assert get_hash(np.round(TaylorAccRange(5, 0.1)[1],8)) == 'ee7b630995e7a36b6420696989441e2d'\n",
    "assert get_hash(np.round(TaylorAccRange(5, 0.001)[0],8)) == 'c917a9e190d0c94c49ff24bab517b799'\n",
    "assert get_hash(np.round(TaylorAccRange(5, 0.001)[1],8)) == '1089492f2ada616b051abde7ed35ebf2'\n",
    "assert get_hash(np.round(TaylorAccRange(5, 1e-8)[0],8)) == '0262452e00cc917efe9134ae8192100c'\n",
    "assert get_hash(np.round(TaylorAccRange(5, 1e-8)[1],8)) == '26cddfda7149a4fce6fa2a47f4c2af32'"
   ]
  },
  {
   "cell_type": "raw",
   "id": "3fe07bc1",
   "metadata": {},
   "source": [
    "# END TESTS"
   ]
  },
  {
   "cell_type": "raw",
   "id": "74424175",
   "metadata": {},
   "source": [
    "# END QUESTION"
   ]
  },
  {
   "cell_type": "raw",
   "id": "6e1698bf",
   "metadata": {},
   "source": [
    "# BEGIN QUESTION\n",
    "name: q2\n",
    "points: 3"
   ]
  },
  {
   "cell_type": "markdown",
   "id": "4a553dc3",
   "metadata": {},
   "source": [
    "## Quesion 2: $n^{th}$ root\n",
    "\n",
    "An $n^{th}$ root $r$ of a number $x$ satisfies the equation $$r = \\sqrt[n]{x},$$ which can also be stated as $$r^n = x$$\n",
    "\n",
    "We'll only consider real roots for this problem. Create a function named `my_nth_root(x,n,r0,tol)` which outputs an approximation of $r$, an $n^{th}$ root of x. This approximation should be computed by using the Newton-Raphson method to find the root of the function $f(r)=r^n−x$. The function inputs should be \n",
    "* `x`, a strictly positive float for which you want an approximate $n^{th}$ root\n",
    "* `n`, an integer specifying the root degree \n",
    "* `r0`, the initial guess for the Newton-Raphson method\n",
    "* `tol`, a strictly positive scalar specifying the tolerance for the Newton-Raphson method\n",
    "\n",
    "Your function should return once the error metric $|f(r)|$ is strictly less than the tolerance `tol` **or** the Newton-Raphson method has exceeded 50 iterations.\n",
    "\n",
    "Once you are done, try out your new `my_nth_root(x,n,r0,tol)` function for the examples below in the following cell. Assign the output to `q2`. Feel free to try it for other inputs.\n",
    "\n",
    "\n",
    "```PYTHON\n",
    "Examples:\n",
    "\n",
    ">>> my_nth_root(27,3,2,1e-16)\n",
    "3.0\n",
    "\n",
    ">>> my_nth_root(27,3,2,1e-3)\n",
    "3.0000022249817473\n",
    "\n",
    ">>> my_nth_root(256,4,3,1e-12)\n",
    "4.0\n",
    "\n",
    ">>> my_nth_root(256,4,-3,1e-12)\n",
    "-4.0\n",
    "\n",
    "# initial guess is too far away from solution and function exceeds iteration limit\n",
    ">>> my_nth_root(256,4,1e10,1e-16)\n",
    "5663.216564269596\n",
    "```\n"
   ]
  },
  {
   "cell_type": "raw",
   "id": "e2676209",
   "metadata": {},
   "source": [
    "# BEGIN SOLUTION"
   ]
  },
  {
   "cell_type": "code",
   "execution_count": 209,
   "id": "e55822b4",
   "metadata": {},
   "outputs": [],
   "source": [
    "# ANSWER CELL\n",
    "# BEGIN SOLUTION\n",
    "def my_nth_root(x,n,r0,tol):\n",
    "    \"\"\"\n",
    "    Computes the n-th root of x using the Newton-Raphson\n",
    "     method with initial guess r0 and tolerance tol\n",
    "\n",
    "    \"\"\"\n",
    "    f = lambda y: y**n - x\n",
    "    df = lambda y: n*y**(n-1)\n",
    "    r = r0\n",
    "    iteration = 0\n",
    "    while abs(f(r)) >= tol and iteration < 50:\n",
    "        r = r - f(r)/df(r)\n",
    "        iteration += 1    \n",
    "    return r    \n",
    "        \n",
    "# END SOLUTION"
   ]
  },
  {
   "cell_type": "code",
   "execution_count": 210,
   "id": "dcaa8054",
   "metadata": {},
   "outputs": [
    {
     "data": {
      "text/plain": [
       "3.0000022249817473"
      ]
     },
     "execution_count": 210,
     "metadata": {},
     "output_type": "execute_result"
    }
   ],
   "source": [
    "# TEST YOUR FUNCTION HERE\n",
    "q2 = my_nth_root(27,3,2,1e-3)  # SOLUTION\n",
    "q2"
   ]
  },
  {
   "cell_type": "raw",
   "id": "775ec5ea",
   "metadata": {},
   "source": [
    "# END SOLUTION"
   ]
  },
  {
   "cell_type": "raw",
   "id": "15081916",
   "metadata": {},
   "source": [
    "# BEGIN TESTS"
   ]
  },
  {
   "cell_type": "code",
   "execution_count": 211,
   "id": "64ca36bc",
   "metadata": {},
   "outputs": [],
   "source": [
    "# Check students tested the function (type is not ellipsis)\n",
    "assert get_hash(type(q2)) != '14e736438b115821cbb9b7ac0ba79034', \"Make sure to test your function!\""
   ]
  },
  {
   "cell_type": "code",
   "execution_count": 212,
   "id": "374a43e5",
   "metadata": {},
   "outputs": [],
   "source": [
    "# Check given examples\n",
    "assert get_hash(np.round(my_nth_root(27,3,2,1e-16),10)) == '55c82b601deae028c1c5e87fd820923d'\n",
    "assert get_hash(np.round(my_nth_root(27,3,2,1e-3),10)) == '371af88c7860edd26b2a4b7dc2fa6878'\n",
    "assert get_hash(np.round(my_nth_root(256,4,3,1e-12),10)) == '07078a97d66756f213dbca3e379bf084'\n",
    "assert get_hash(np.round(my_nth_root(256,4,-3,1e-12),10)) == '875e88e1e07100951fd600d433642d16'\n",
    "assert get_hash(np.round(my_nth_root(256,4,1e10,1e-16))) == '2fcafc04acd5bc8ee91a014813afcde8'"
   ]
  },
  {
   "cell_type": "code",
   "execution_count": 213,
   "id": "dfd3f8f1",
   "metadata": {},
   "outputs": [],
   "source": [
    "# Check new examples\n",
    "assert get_hash(np.round(my_nth_root(100,5,3,1e-2),10)) == '5faed5da378bd58e7ad9be229e823377'\n",
    "assert get_hash(np.round(my_nth_root(100,5,3,1e-8),10)) == 'b5f3a7bb40caeee1ae1bb6e8f3a5d142'\n",
    "assert get_hash(np.round(my_nth_root(20,7,3,1e-4),10))  == 'f526e5765889341889d0d7c672b8e14d'\n",
    "assert get_hash(np.round(my_nth_root(20,7,3,1e-8),10))  == '64561798514bfcde899c54914a90098c'"
   ]
  },
  {
   "cell_type": "raw",
   "id": "b98df12d",
   "metadata": {},
   "source": [
    "# END TESTS"
   ]
  },
  {
   "cell_type": "raw",
   "id": "4b7ba061",
   "metadata": {},
   "source": [
    "# END QUESTION"
   ]
  },
  {
   "cell_type": "markdown",
   "id": "b3b1d088",
   "metadata": {},
   "source": [
    "## Question 3: Root finding\n",
    "\n",
    "Let us now generalize the implementation of the Newton-Raphson method to any function as well as compare its performance to the bisection method."
   ]
  },
  {
   "cell_type": "raw",
   "id": "68c9ace6",
   "metadata": {},
   "source": [
    "# BEGIN QUESTION\n",
    "name: q3_0\n",
    "points: 3"
   ]
  },
  {
   "cell_type": "markdown",
   "id": "6d08e0aa",
   "metadata": {},
   "source": [
    "### Question 3.0: Newton's Method\n",
    "\n",
    "Define a function `myNewton(f, df, x0, maxiter, tol)` where\n",
    "* `f` is a function representing the function $f(x)$,\n",
    "* `df` is a function representing the derivative of $f$,\n",
    "* `x0` is an initial estimate of the root,\n",
    "* `maxiter` is the maximum number of iterations allowed, a positive integer \n",
    "* `tol` is the tolerance, a strictly positive scalar float.\n",
    "\n",
    "The function should return a list `R` containing the root approximations, i.e. `R[0]` is the initial estimate `x0`, and `R[k]` is the estimate of the root of `f` after $k$ iterations of the Newton-Raphson method.\n",
    "\n",
    "The function should also return the absolute error in a list `E` where, similarly, `E[k]` is the value of $\\lvert f(R(k)) \\rvert$ at iteration $k$. \n",
    "\n",
    "The function should terminate when $\\lvert f(R(k)) \\rvert$ < `tol` or after `maxiter` iterations have been performed. If $N$ iterations of Newton's method have been performed, the two output lists should each have $N +1$ elements. You may assume that the derivative of `f` will not be 0 during any iteration for any of the test cases given. \n",
    "\n",
    "Once you are done, try out your new `myNewton(f, df, x0, maxiter, tol)` function for the examples below in the following cell. Assign the output to `q3_0`. Feel free to try it for other inputs.\n",
    "\n",
    "```PYTHON\n",
    "Examples:\n",
    "\n",
    ">>> f = lambda x: x**2 - 2\n",
    ">>> df = lambda x: 2*x\n",
    ">>> myNewton(f, df, 1, 100, 1e-5)\n",
    "([1, 1.5, 1.4166666666666667, 1.4142156862745099], [1, 0.25, 0.006944444444444642, 6.007304882871267e-06])\n",
    "\n",
    ">>> f = lambda x: math.sin(x) - math.cos(x)\n",
    ">>> df = lambda x: math.cos(x) + math.sin(x)\n",
    ">>> myNewton(f, df, 1, 100, 1e-5)\n",
    "([1, 0.782041901539138, 0.7853981759997019], [0.30116867893975674, 0.004746462127804163, 1.7822277875723103e-08])\n",
    "\n",
    ">>> f = lambda x: math.sinh(x) - 1\n",
    ">>> df = lambda x: math.cosh(x)\n",
    ">>> myNewton(f, df, -1, 100, 1e-8)\n",
    "([-1, 0.4096484296196503, 0.9430603553462776, 0.8827364259018153, 0.8813742438952269, 0.8813735870196955], [2.1752011936438014, 0.578797742601695, 0.08919683435847481, 0.001928274492311477, 9.28962716750803e-07, 2.156053113822054e-13])\n",
    "```"
   ]
  },
  {
   "cell_type": "raw",
   "id": "a77cbc98",
   "metadata": {},
   "source": [
    "# BEGIN SOLUTION"
   ]
  },
  {
   "cell_type": "code",
   "execution_count": 214,
   "id": "46f8452a",
   "metadata": {},
   "outputs": [],
   "source": [
    "# ANSWER CELL\n",
    "# BEGIN SOLUTION\n",
    "def myNewton(f, df, x0, maxiter, tol):\n",
    "    \"\"\"\n",
    "    >>> f = lambda x: x**2 - 2\n",
    "    >>> df = lambda x: 2*x\n",
    "    >>> myNewton(f, df, 1, 100, 1e-5)\n",
    "    ([1, 1.5, 1.4166666666666667, 1.4142156862745099], [1, 0.25, 0.006944444444444642, 6.007304882871267e-06])\n",
    "\n",
    "    >>> f = lambda x: math.sin(x) - math.cos(x)\n",
    "    >>> df = lambda x: math.cos(x) + math.sin(x)\n",
    "    >>> myNewton(f, df, 1, 100, 1e-5)\n",
    "    ([1, 0.782041901539138, 0.7853981759997019], [0.30116867893975674, 0.004746462127804163, 1.7822277875723103e-08])\n",
    "\n",
    "    >>> f = lambda x: math.sinh(x) - 1\n",
    "    >>> df = lambda x: math.cosh(x)\n",
    "    >>> myNewton(f, df, -1, 100, 1e-8)\n",
    "    ([-1, 0.4096484296196503, 0.9430603553462776, 0.8827364259018153, 0.8813742438952269, 0.8813735870196955], [2.1752011936438014, 0.578797742601695, 0.08919683435847481, 0.001928274492311477, 9.28962716750803e-07, 2.156053113822054e-13])\n",
    "\n",
    "    \"\"\"\n",
    "    R = [x0]\n",
    "    E = [abs(f(x0))]\n",
    "    for _ in range(maxiter):\n",
    "        if E[-1] < tol:\n",
    "            break\n",
    "        x0 = x0 - f(x0)/df(x0)\n",
    "        R.append(x0)\n",
    "        E.append(abs(f(x0)))\n",
    "    return R, E\n",
    "# END SOLUTION"
   ]
  },
  {
   "cell_type": "code",
   "execution_count": 215,
   "id": "e9e2d538",
   "metadata": {},
   "outputs": [
    {
     "data": {
      "text/plain": [
       "([-1,\n",
       "  0.4096484296196503,\n",
       "  0.9430603553462776,\n",
       "  0.8827364259018153,\n",
       "  0.8813742438952269,\n",
       "  0.8813735870196957],\n",
       " [2.1752011936438014,\n",
       "  0.578797742601695,\n",
       "  0.08919683435847481,\n",
       "  0.001928274492311477,\n",
       "  9.289627165287584e-07,\n",
       "  2.1582735598713043e-13])"
      ]
     },
     "execution_count": 215,
     "metadata": {},
     "output_type": "execute_result"
    }
   ],
   "source": [
    "# TEST YOUR FUNCTION HERE\n",
    "f = lambda x: math.sinh(x) - 1\n",
    "df = lambda x: math.cosh(x)\n",
    "q3_0 = myNewton(f, df, -1, 100, 1e-8) # SOLUTION\n",
    "q3_0"
   ]
  },
  {
   "cell_type": "raw",
   "id": "635f6781",
   "metadata": {},
   "source": [
    "# END SOLUTION"
   ]
  },
  {
   "cell_type": "raw",
   "id": "0731eeb5",
   "metadata": {},
   "source": [
    "# BEGIN TESTS"
   ]
  },
  {
   "cell_type": "code",
   "execution_count": 216,
   "id": "caeb72f4",
   "metadata": {},
   "outputs": [],
   "source": [
    "# Check students tested the function (type is not ellipsis)\n",
    "assert get_hash(type(q3_0)) != '14e736438b115821cbb9b7ac0ba79034', \"Make sure to test your function!\""
   ]
  },
  {
   "cell_type": "code",
   "execution_count": 217,
   "id": "c951ca43",
   "metadata": {},
   "outputs": [],
   "source": [
    "# Check provided examples\n",
    "f = lambda x: x**2 - 2\n",
    "df = lambda x: 2*x\n",
    "R,E = myNewton(f, df, 1, 100, 1e-5)\n",
    "assert get_hash(np.round(np.sum(R),8)) == 'acb4ec85164cdf3ff00ff9bb66d306ab'\n",
    "assert get_hash(np.round(np.sum(E),8)) == '8a1f808dc3029154fe5d888b4e2b3c12'"
   ]
  },
  {
   "cell_type": "code",
   "execution_count": 218,
   "id": "592ab26f",
   "metadata": {},
   "outputs": [],
   "source": [
    "# Check provided examples\n",
    "f = lambda x: math.sin(x) - math.cos(x)\n",
    "df = lambda x: math.cos(x) + math.sin(x)\n",
    "R,E = myNewton(f, df, 1, 100, 1e-5)\n",
    "assert get_hash(np.round(np.sum(R),8)) == '2f94ba8fdcb66ba134272ab358e62b33'\n",
    "assert get_hash(np.round(np.sum(E),8)) == 'd405983d06354a4bfd0854e1a64fc265'"
   ]
  },
  {
   "cell_type": "code",
   "execution_count": 219,
   "id": "f61b47d8",
   "metadata": {},
   "outputs": [],
   "source": [
    "# Check provided examples\n",
    "f = lambda x: math.sinh(x) - 1\n",
    "df = lambda x: math.cosh(x)\n",
    "R,E = myNewton(f, df, -1, 100, 1e-8)\n",
    "assert get_hash(np.round(np.sum(R),8)) == '363746c32df8e909d1440930be67041d'\n",
    "assert get_hash(np.round(np.sum(E),8)) == '22a52549460efd036c408bf84a275a28'"
   ]
  },
  {
   "cell_type": "raw",
   "id": "2ebed282",
   "metadata": {},
   "source": [
    "# END TESTS"
   ]
  },
  {
   "cell_type": "raw",
   "id": "ff0ac7c2",
   "metadata": {},
   "source": [
    "# END QUESTION"
   ]
  },
  {
   "cell_type": "raw",
   "id": "d02cf9f2",
   "metadata": {},
   "source": [
    "# BEGIN QUESTION\n",
    "name: q3_1\n",
    "points: 3"
   ]
  },
  {
   "cell_type": "markdown",
   "id": "2f897e02",
   "metadata": {},
   "source": [
    "### Question 3.1: Bisection Method\n",
    "\n",
    "Define a function `myBisection(f, a, b, maxiter, tol)` where \n",
    "* `f` is a function,\n",
    "* `a` and `b` are scalars such that `a < b`,\n",
    "* `maxiter` is the maximum number of iterations allowed, a positive integer \n",
    "* `tol` is the tolerance, a strictly positive scalar float.\n",
    "\n",
    "The function should return a list `R` containing the root approximations, i.e. `R[k]` is the estimate of the root of `f` after $k$ iterations of the bisection method.\n",
    "\n",
    "The function should also return the absolute error in a list `E` where, similarly, `E[k]` is the value of $\\lvert f(R(k)) \\rvert$ at iteration $k$. \n",
    "\n",
    "The function should terminate when $\\lvert f(R(k)) \\rvert$ < `tol` or after `maxiter` iterations have been performed. If $N$ iterations of the bisection method have been performed, the two output lists should each have $N +1$ elements. You may assume that $sign(f(a)) \\neq sign(f(b))$ for the first guess. When you are testing your function, it will help to plot your function first, so you can pick appropriate values to bracket the root.\n",
    "\n",
    "**Note**: The inputs `a` and `b` constitute the first iteration of bisection, and therefore `R` and `E`\n",
    "should never be empty. \n",
    "\n",
    "Once you are done, try out your new `myBisection(f, a, b, maxiter, tol)` function for the examples below in the following cell. Assign the output to `q3_1`. Feel free to try it for other inputs.\n",
    "\n",
    "```PYTHON\n",
    "Examples:\n",
    "    \n",
    ">>> f = lambda x: x**2 - 2\n",
    ">>> myBisection(f, 0, 2, 100, 1e-1)\n",
    "([1.0, 1.5, 1.25, 1.375, 1.4375], [1.0, 0.25, 0.4375, 0.109375, 0.06640625])\n",
    "\n",
    ">>> f = lambda x: math.sin(x) - math.cos(x)\n",
    ">>> myBisection(f, 0, 2, 100, 1e-2)\n",
    "([1.0, 0.5, 0.75, 0.875, 0.8125, 0.78125], [0.30116867893975674, 0.39815702328616975, 0.050050108850486774, 0.12654664407270189, 0.038323093040207756, 0.005866372111545948])\n",
    "\n",
    ">>> f = lambda x: math.exp(-x) - x**2\n",
    ">>> myBisection(f, 0, 1, 100, 1e-2)\n",
    "([0.5, 0.75, 0.625, 0.6875, 0.71875, 0.703125], [0.3565306597126334, 0.09013344725898531, 0.14463642851899028, 0.030175327970940913, 0.029240485786380888, 0.0006511313011985931])\n",
    "    \n",
    "```"
   ]
  },
  {
   "cell_type": "raw",
   "id": "66053989",
   "metadata": {},
   "source": [
    "# BEGIN SOLUTION"
   ]
  },
  {
   "cell_type": "code",
   "execution_count": 220,
   "id": "dab412c5",
   "metadata": {},
   "outputs": [],
   "source": [
    "# ANSWER CELL\n",
    "# BEGIN SOLUTION\n",
    "def myBisection(f, a, b, maxiter, tol):\n",
    "    \"\"\"\n",
    "    >>> f = lambda x: x**2 - 2\n",
    "    >>> myBisection(f, 0, 2, 100, 1e-1)\n",
    "    ([1.0, 1.5, 1.25, 1.375, 1.4375], [1.0, 0.25, 0.4375, 0.109375, 0.06640625])\n",
    "\n",
    "    >>> f = lambda x: math.sin(x) - math.cos(x)\n",
    "    >>> myBisection(f, 0, 2, 100, 1e-2)\n",
    "    ([1.0, 0.5, 0.75, 0.875, 0.8125, 0.78125], [0.30116867893975674, 0.39815702328616975, 0.050050108850486774, 0.12654664407270189, 0.038323093040207756, 0.005866372111545948])\n",
    "\n",
    "    >>> f = lambda x: math.exp(-x) - x**2\n",
    "    >>> myBisection(f, 0, 1, 100, 1e-2)\n",
    "    ([0.5, 0.75, 0.625, 0.6875, 0.71875, 0.703125], [0.3565306597126334, 0.09013344725898531, 0.14463642851899028, 0.030175327970940913, 0.029240485786380888, 0.0006511313011985931])\n",
    "\n",
    "    \"\"\"\n",
    "    g = lambda a, b: (a+b)/2.\n",
    "\n",
    "    R = [g(a,b)]\n",
    "    E = [abs(f(R[0]))]\n",
    "\n",
    "    for i in range(maxiter):\n",
    "        if E[-1] < tol:\n",
    "            break\n",
    "        elif f(g(a,b)) * f(a) > 0.:\n",
    "            a = g(a,b)\n",
    "            R.append(g(a,b))\n",
    "            E.append(abs(f(g(a,b))))\n",
    "        else:\n",
    "            b = g(a,b)\n",
    "            R.append(g(a,b))\n",
    "            E.append(abs(f(g(a,b))))\n",
    "    return R, E\n",
    "# END SOLUTION"
   ]
  },
  {
   "cell_type": "code",
   "execution_count": 221,
   "id": "8ef6177c",
   "metadata": {},
   "outputs": [],
   "source": [
    "# TEST YOUR FUNCTION HERE\n",
    "f = lambda x: x**2 - 2\n",
    "q3_1 = myBisection(f, 0, 2, 100, 1e-1) # SOLUTION"
   ]
  },
  {
   "cell_type": "raw",
   "id": "646b4933",
   "metadata": {},
   "source": [
    "# END SOLUTION"
   ]
  },
  {
   "cell_type": "raw",
   "id": "153a9470",
   "metadata": {},
   "source": [
    "# BEGIN TESTS"
   ]
  },
  {
   "cell_type": "code",
   "execution_count": 222,
   "id": "746465e8",
   "metadata": {},
   "outputs": [],
   "source": [
    "# Check students tested the function (type is not ellipsis)\n",
    "assert get_hash(type(q3_1)) != '14e736438b115821cbb9b7ac0ba79034', \"Make sure to test your function!\""
   ]
  },
  {
   "cell_type": "code",
   "execution_count": 223,
   "id": "25941fd7",
   "metadata": {},
   "outputs": [],
   "source": [
    "# Check provided examples\n",
    "f = lambda x: x**2 - 2\n",
    "R,E = myBisection(f, 0, 2, 100, 1e-1)\n",
    "assert get_hash(np.round(np.sum(R),8)) == '50394ae342bd81e03fc7df6d588394fd'\n",
    "assert get_hash(np.round(np.sum(E),8)) == 'b795ad8086755bb5c29414e637bc617f'"
   ]
  },
  {
   "cell_type": "code",
   "execution_count": 224,
   "id": "b84e7668",
   "metadata": {},
   "outputs": [],
   "source": [
    "# Check provided examples\n",
    "f = lambda x: math.sin(x) - math.cos(x)\n",
    "R,E = myBisection(f, 0, 2, 100, 1e-2)\n",
    "assert get_hash(np.round(np.sum(R),8)) == '5ac0863af924d7974f9ae4f3e0e27f7b'\n",
    "assert get_hash(np.round(np.sum(E),8)) == '1c72cbd55836f1cf6e057fdb0f10d669'"
   ]
  },
  {
   "cell_type": "code",
   "execution_count": 225,
   "id": "ab820ef5",
   "metadata": {},
   "outputs": [],
   "source": [
    "# Check provided examples\n",
    "f = lambda x: math.exp(-x) - x**2\n",
    "R,E = myBisection(f, 0, 1, 100, 1e-2)\n",
    "assert get_hash(np.round(np.sum(R),8)) == '222c230773e77edf87d79d18efc7ed9d'\n",
    "assert get_hash(np.round(np.sum(E),8)) == 'b5365dfa25be69a3214e3b667b8ec092'"
   ]
  },
  {
   "cell_type": "raw",
   "id": "4eaec207",
   "metadata": {},
   "source": [
    "# END TESTS"
   ]
  },
  {
   "cell_type": "raw",
   "id": "15ae045a",
   "metadata": {},
   "source": [
    "# END QUESTION"
   ]
  },
  {
   "cell_type": "raw",
   "id": "41c79349",
   "metadata": {},
   "source": [
    "# BEGIN QUESTION\n",
    "name: q3_2\n",
    "points: 0"
   ]
  },
  {
   "cell_type": "markdown",
   "id": "81587408",
   "metadata": {},
   "source": [
    "### 3.2: Further Exploration (Optional)\n",
    "\n",
    "In this question you explored two iterative root finding methods. Each of these functions provides a series of $x$ values as the algorithm \"narrows down\" the root. Experiment with different types of functions as well as different initial intervals or estimates, and see how the different root finding methods behave. Do they always converge? How quickly do they converge?\n",
    "\n",
    "To get started, consider the following function:\n",
    "\n",
    "```PYTHON\n",
    "f = lambda x: x*x*x - 3*x - 5\n",
    "df = lambda x: 3*x*x - 3\n",
    "```\n",
    "\n",
    "Plot the error for the two methods against the number of iterations. You should see \"linear convergence\" for one method and \"quadratic convergence\" for the other (quadratic meaning that the number of correct decimal places approximately doubles with each iteration). You may want to use a log plot to see this result. \n",
    "\n",
    "This section will not be graded, but completing it and thinking about the concepts will help improve your understanding of root finding. \n",
    "\n",
    "Some other interesting questions to consider:\n",
    "* Find a function $f(x)$ and guess for the root, $x_0$, such that the Newton-Raphson method oscillates between $x_0$ and $−x_0$ indefinitely.\n",
    "* Why does the bisection method fail on $f(x) = 1/x$? "
   ]
  },
  {
   "cell_type": "raw",
   "id": "c1e0dc0c",
   "metadata": {},
   "source": [
    "# BEGIN SOLUTION"
   ]
  },
  {
   "cell_type": "code",
   "execution_count": 226,
   "id": "ac8666e2",
   "metadata": {},
   "outputs": [
    {
     "data": {
      "image/png": "[encoded data removed]",
      "text/plain": [
       "<Figure size 600x400 with 1 Axes>"
      ]
     },
     "metadata": {},
     "output_type": "display_data"
    }
   ],
   "source": [
    "# ANSWER CELL\n",
    "# BEGIN SOLUTION\n",
    "f = lambda x: x*x*x - 3*x - 5\n",
    "df = lambda x: 3*x*x - 3\n",
    "R_n,E_n = myNewton(f, df, 2, 100, 1e-8)\n",
    "R_b,E_b = myBisection(f, 0, 4, 100, 1e-8)\n",
    "\n",
    "# Plot\n",
    "plt.figure(figsize=(6,4))\n",
    "plt.semilogy(E_n,label = 'Newton-Raphson')\n",
    "plt.semilogy(E_b,label = 'Bisection')\n",
    "plt.xlabel('Iteration')\n",
    "plt.ylabel('Error')\n",
    "plt.grid()\n",
    "plt.legend();\n",
    "# END SOLUTION"
   ]
  },
  {
   "cell_type": "raw",
   "id": "63d027ea",
   "metadata": {},
   "source": [
    "# END SOLUTION"
   ]
  },
  {
   "cell_type": "raw",
   "id": "52db01f6",
   "metadata": {},
   "source": [
    "# END QUESTION"
   ]
  },
  {
   "cell_type": "raw",
   "id": "3e299531",
   "metadata": {},
   "source": [
    "# BEGIN QUESTION\n",
    "name: q4\n",
    "points: 4"
   ]
  },
  {
   "cell_type": "markdown",
   "id": "1a94b8ea",
   "metadata": {},
   "source": [
    "## Question 4: Springs\n",
    "\n",
    "The spring shock system in automobiles is an example of a real mechanical system which exhibits damped oscillation over time (see response in Figure 2). The resistance force of the spring $F$ (N), with respect to time $t$ (s), can be modeled with the following equation\n",
    "\n",
    "\\begin{equation*}\n",
    "F(t) = k_1  \\exp{\\left(-\\frac{t}{k_2\\pi}\\right)}\\cos{(\\pi t)} \n",
    "\\end{equation*}\n",
    "\n",
    "where $k_1$ and $k_2$ are known spring constants (N/s).\n",
    "\n",
    "<img src=\"resources/spring.png\" style=\"width: 500px;\"/>\n",
    "<figcaption style=\"text-align:center\"> Figure 2. Damping effect with spring constants $k_1 = 1000$ N/s and $k_2 = 0.6$. </figcaption>   \n",
    "\n",
    "We will use the above equation to describe the force on a car's shock system following a speed bump encountered at $t = 0$ seconds. We want to find a time instance near $t = 2.5$ seconds when the resistance force $F$ is equal to zero. In order to do that, we need to find the root values of $F(t)$.\n",
    "\n",
    "Write a function named `damping_root(k1,k2,t0,method)` where the inputs are:\n",
    "* `k1, k2`: the spring constants defined above.\n",
    "* `t0`: the time instance of interest around which we want to find a root value.\n",
    "* `method`: a string that \n",
    "\n",
    "The function should return the root of $F(t)$ as determined by the specified method. If `method` is specified as `newton`, use your `myNewton` function to solve the problem with the initial estimate `t0` along with `maxiter = 20` and `tol = 1e-8`. If `method` is specified as `fsolve`, use the built-in `scipy.optimize.fsolve` function. Use the initial estimate `t0` along with the default parameters. Refer to the documentation [here](https://docs.scipy.org/doc/scipy/reference/generated/scipy.optimize.fsolve.html).\n",
    "\n",
    "If `method` is neither `newton` nor `fsolve`, then return the output should be the error message 'Invalid method.' \n",
    "\n",
    "Once you are done, try out your new `damping_root(k1,k2,t0,method)` function for the examples below in the following cell. Assign the output to `q4`. Feel free to try it for other inputs.\n",
    "\n",
    "```PYTHON\n",
    "Examples:\n",
    "\n",
    ">>> k1,k2,t0 = 1000, 0.6, 5.1\n",
    ">>> damping_root(k1,k2,t0,method='newton')\n",
    "5.49999999999843  \n",
    "\n",
    ">>> k1,k2,t0 = 1000, 0.6, 5.1\n",
    ">>> damping_root(k1,k2,t0,method='fsolve')\n",
    "5.500000000000001\n",
    "\n",
    ">>> k1,k2,t0 = 1000, 0.6, 4.9\n",
    ">>> damping_root(k1,k2,t0,method='newton')\n",
    "1.499999999999827\n",
    "\n",
    ">>> k1,k2,t0 = 1000, 0.6, 4.9\n",
    ">>> damping_root(k1,k2,t0,method='fsolve')\n",
    "5.500000000000022\n",
    "\n",
    ">>> k1,k2,t0 = 1000, 0.6, 4.9\n",
    ">>> damping_root(k1,k2,t0,method='bisection')\n",
    "'Invalid method.'\n",
    "```"
   ]
  },
  {
   "cell_type": "raw",
   "id": "28fef01e",
   "metadata": {},
   "source": [
    "# BEGIN SOLUTION"
   ]
  },
  {
   "cell_type": "code",
   "execution_count": 227,
   "id": "cc084329",
   "metadata": {},
   "outputs": [],
   "source": [
    "# ANSWER CELL\n",
    "\n",
    "# BEGIN SOLUTION\n",
    "def damping_root(k1,k2,t0,method):\n",
    "    if method == 'newton':\n",
    "        f = lambda t: k1*np.exp(-t/np.pi/k2)*np.cos(np.pi*t)\n",
    "        df = lambda t: k1*np.exp(-t/np.pi/k2)*np.cos(np.pi*t)*(-1/np.pi/k2) - k1*np.exp(-t/np.pi/k2)*np.sin(np.pi*t)*np.pi\n",
    "        R,E = myNewton(f, df, t0, maxiter=100, tol=1e-8)\n",
    "        x = R[-1]\n",
    "    elif method == 'fsolve':\n",
    "        f = lambda t: k1*np.exp(-t/np.pi/k2)*np.cos(np.pi*t)\n",
    "        x = scipy.optimize.fsolve(f, t0)[0]\n",
    "    else:\n",
    "        x ='Invalid method.'\n",
    "    return x\n",
    "# END SOLUTION"
   ]
  },
  {
   "cell_type": "code",
   "execution_count": 228,
   "id": "4ca05912",
   "metadata": {},
   "outputs": [
    {
     "data": {
      "text/plain": [
       "5.500000000000022"
      ]
     },
     "execution_count": 228,
     "metadata": {},
     "output_type": "execute_result"
    }
   ],
   "source": [
    "# TEST YOUR FUNCTION HERE\n",
    "k1,k2,t0 = 1000, 0.6, 4.9\n",
    "q4 = damping_root(k1,k2,t0,method='fsolve') # SOLUTION\n",
    "q4"
   ]
  },
  {
   "cell_type": "raw",
   "id": "b980ea38",
   "metadata": {},
   "source": [
    "# END SOLUTION"
   ]
  },
  {
   "cell_type": "raw",
   "id": "87ab13b1",
   "metadata": {},
   "source": [
    "# BEGIN TESTS"
   ]
  },
  {
   "cell_type": "code",
   "execution_count": 229,
   "id": "242fefca",
   "metadata": {},
   "outputs": [],
   "source": [
    "# Check students tested the function (type is not ellipsis)\n",
    "assert get_hash(type(q4)) != '14e736438b115821cbb9b7ac0ba79034', \"Make sure to test your function!\""
   ]
  },
  {
   "cell_type": "raw",
   "id": "69cfd17f",
   "metadata": {},
   "source": [
    "# END TESTS"
   ]
  },
  {
   "cell_type": "raw",
   "id": "3f137aa3",
   "metadata": {},
   "source": [
    "# END QUESTION"
   ]
  },
  {
   "cell_type": "raw",
   "id": "0ca716d1",
   "metadata": {},
   "source": [
    "# BEGIN QUESTION\n",
    "name: q5\n",
    "points: 4"
   ]
  },
  {
   "cell_type": "markdown",
   "id": "cff932fc",
   "metadata": {},
   "source": [
    "## Question 5: Pipeline\n",
    "\n",
    "Consider the problem of building a pipeline from an offshore oil platform, a distance $H$ miles from the shoreline, to an oil refinery station on land, a distance $L$ miles along the shore. The cost of building the pipe is $C_{ocean}$ per mile while the pipe is under the ocean and $C_{land}$ per mile while the pipe is on land. The pipe will be built in a straight line toward the shore where it will make contact at some point, $x$, between $0$ and $L$. It will continue along the shore on land until it reaches the oil refinery. See Figure 3 for clarification.\n",
    "\n",
    "<img src=\"resources/oil_platform.png\" style=\"width: 400px;\"/>\n",
    "<figcaption style=\"text-align:center\"> Figure 3. Pipeline geometry. </figcaption>   \n",
    "\n",
    "Write a function `my_pipe_builder(C_ocean,C_land,L,H)` where the input arguments are as described above and the output is the x-value that minimizes the total cost of the pipeline. You should use your `myBisection` function to determine this value to within a tolerance of $1\\times10^{-6}$ starting at an initial bound of $a=0$ and $b=L$.\n",
    "\n",
    "Once you are done, try out your new `my_pipe_builder(C_ocean,C_land,L,H)` function for the examples below in the following cell. Assign the output to `q5`. Feel free to try it for other inputs.\n",
    "\n",
    "Do not use any built-in optimization or root-finding functions.\n",
    "```PYTHON\n",
    "Examples:\n",
    "   \n",
    ">>> my_pipe_builder(20, 10, 100, 50)\n",
    "28.867512941360474\n",
    "\n",
    ">>> my_pipe_builder(30, 10, 100, 50)\n",
    "17.677670717239380\n",
    "\n",
    ">>> my_pipe_builder(30, 10, 100, 20)\n",
    "7.071067392826080\n",
    "```\n",
    "\n",
    "*Hint:* Approach this problem by first formulating the total cost function and its derivative on paper. Then set the derivative to zero and find the root of the equation using the bisection method. This solution either minimizes or maximizes the cost. How can we be sure it's the former? How do we know it's unique?"
   ]
  },
  {
   "cell_type": "raw",
   "id": "f2bf1223",
   "metadata": {},
   "source": [
    "# BEGIN SOLUTION"
   ]
  },
  {
   "cell_type": "code",
   "execution_count": 230,
   "id": "589e1aaf",
   "metadata": {},
   "outputs": [],
   "source": [
    "# ANSWER CELL\n",
    "# BEGIN SOLUTION\n",
    "def my_pipe_builder(C_ocean,C_land,L,H):\n",
    "    \"\"\"\n",
    "    >>> my_pipe_builder(20, 10, 100, 50)\n",
    "    28.867512941360474\n",
    "\n",
    "    >>> my_pipe_builder(30, 10, 100, 50)\n",
    "    17.677670717239380\n",
    "\n",
    "    >>> my_pipe_builder(30, 10, 100, 20)\n",
    "    7.071067392826080\n",
    "    \"\"\"\n",
    "    # Derivative of the cost function\n",
    "    dcost = lambda x: C_ocean/np.sqrt(H**2+x**2)*x-C_land\n",
    "    # Bisection method\n",
    "    R,E = myBisection(dcost, 0, L, 100, 1e-6)\n",
    "    # Return solution for x\n",
    "    return R[-1]\n",
    "\n",
    "# END SOLUTION"
   ]
  },
  {
   "cell_type": "code",
   "execution_count": 231,
   "id": "c2da27b3",
   "metadata": {},
   "outputs": [
    {
     "data": {
      "text/plain": [
       "28.867512941360474"
      ]
     },
     "execution_count": 231,
     "metadata": {},
     "output_type": "execute_result"
    }
   ],
   "source": [
    "# TEST YOUR FUNCTION HERE\n",
    "q5 = my_pipe_builder(20, 10, 100, 50)\n",
    "q5"
   ]
  },
  {
   "cell_type": "raw",
   "id": "08058a57",
   "metadata": {},
   "source": [
    "# END SOLUTION"
   ]
  },
  {
   "cell_type": "raw",
   "id": "5952b72d",
   "metadata": {},
   "source": [
    "# BEGIN TESTS"
   ]
  },
  {
   "cell_type": "code",
   "execution_count": 232,
   "id": "3edfe3f5",
   "metadata": {},
   "outputs": [],
   "source": [
    "# Check students tested the function (type is not ellipsis)\n",
    "assert get_hash(type(q5)) != '14e736438b115821cbb9b7ac0ba79034', \"Make sure to test your function!\""
   ]
  },
  {
   "cell_type": "code",
   "execution_count": 233,
   "id": "8ea63907",
   "metadata": {},
   "outputs": [],
   "source": [
    "# Check provided examples\n",
    "assert get_hash(np.round(my_pipe_builder(20, 10, 100, 50),6)) == '91b09c4e521616d4fb9817f47252fda1'\n",
    "assert get_hash(np.round(my_pipe_builder(30, 10, 100, 50),6)) == '48123c95a6bf3a1e7ed7f415cf5fa340'\n",
    "assert get_hash(np.round(my_pipe_builder(30, 10, 100, 20),6)) == 'bc5c8ab317a330c74a461a94c12a185b'"
   ]
  },
  {
   "cell_type": "code",
   "execution_count": 234,
   "id": "a5aba081",
   "metadata": {},
   "outputs": [],
   "source": [
    "# Check new examples\n",
    "assert get_hash(np.round(my_pipe_builder(10, 0, 10, 10),6)) == '01c7119b2e63d1290944cc9d9e84ddb8'\n",
    "assert get_hash(np.round(my_pipe_builder(0, 10, 10, 10),6)) == '43a1437f7f656cd8be7c996c58719e0a'\n",
    "assert get_hash(np.round(my_pipe_builder(20, 15, 100, 50),6)) == '227c1fcd1a98427a7d7e594f17d8373e'\n",
    "assert get_hash(np.round(my_pipe_builder(20, 15, 100, 10),6)) == '651242fe3db66f792df05b1647a74fd8'"
   ]
  },
  {
   "cell_type": "raw",
   "id": "f6359cd4",
   "metadata": {},
   "source": [
    "# END TESTS"
   ]
  },
  {
   "cell_type": "raw",
   "id": "358ffb07",
   "metadata": {},
   "source": [
    "# END QUESTION"
   ]
  }
 ],
 "metadata": {
  "kernelspec": {
   "display_name": "Python 3 (ipykernel)",
   "language": "python",
   "name": "python3"
  },
  "language_info": {
   "codemirror_mode": {
    "name": "ipython",
    "version": 3
   },
   "file_extension": ".py",
   "mimetype": "text/x-python",
   "name": "python",
   "nbconvert_exporter": "python",
   "pygments_lexer": "ipython3",
   "version": "3.9.15"
  }
 },
 "nbformat": 4,
 "nbformat_minor": 5
}
